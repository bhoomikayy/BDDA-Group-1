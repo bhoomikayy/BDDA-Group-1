{
 "cells": [
  {
   "cell_type": "code",
   "execution_count": 20,
   "metadata": {},
   "outputs": [],
   "source": [
    "\n",
    "import numpy as np\n",
    "import pandas as pd\n",
    "\n",
    "from sklearn.impute import SimpleImputer\n",
    "\n",
    "from sklearn.preprocessing import OneHotEncoder as onehot\n",
    "\n",
    "from sklearn.preprocessing import StandardScaler\n",
    "\n",
    "from sklearn.preprocessing import LabelEncoder\n",
    "\n",
    "from sklearn.model_selection import train_test_split\n",
    "\n",
    "from IPython.core.interactiveshell import InteractiveShell\n",
    "InteractiveShell.ast_node_interactivity = \"all\"\n",
    "\n",
    "import warnings\n",
    "warnings.filterwarnings(\"ignore\")\n",
    "\n",
    "import matplotlib.pyplot as plt\n",
    "import seaborn as sns"
   ]
  },
  {
   "cell_type": "code",
   "execution_count": 21,
   "metadata": {},
   "outputs": [],
   "source": [
    "df_train = pd.read_csv(\"springleaf-marketing-response/test.csv.zip\").sample(frac=0.1).reset_index(drop=True)"
   ]
  },
  {
   "cell_type": "code",
   "execution_count": 17,
   "metadata": {},
   "outputs": [
    {
     "data": {
      "text/plain": [
       "(14523, 1933)"
      ]
     },
     "execution_count": 17,
     "metadata": {},
     "output_type": "execute_result"
    },
    {
     "name": "stdout",
     "output_type": "stream",
     "text": [
      "\n"
     ]
    },
    {
     "data": {
      "text/html": [
       "<div>\n",
       "<style scoped>\n",
       "    .dataframe tbody tr th:only-of-type {\n",
       "        vertical-align: middle;\n",
       "    }\n",
       "\n",
       "    .dataframe tbody tr th {\n",
       "        vertical-align: top;\n",
       "    }\n",
       "\n",
       "    .dataframe thead th {\n",
       "        text-align: right;\n",
       "    }\n",
       "</style>\n",
       "<table border=\"1\" class=\"dataframe\">\n",
       "  <thead>\n",
       "    <tr style=\"text-align: right;\">\n",
       "      <th></th>\n",
       "      <th>ID</th>\n",
       "      <th>VAR_0001</th>\n",
       "      <th>VAR_0002</th>\n",
       "      <th>VAR_0003</th>\n",
       "      <th>VAR_0004</th>\n",
       "      <th>VAR_0005</th>\n",
       "      <th>VAR_0006</th>\n",
       "      <th>VAR_0007</th>\n",
       "      <th>VAR_0008</th>\n",
       "      <th>VAR_0009</th>\n",
       "      <th>...</th>\n",
       "      <th>VAR_1925</th>\n",
       "      <th>VAR_1926</th>\n",
       "      <th>VAR_1927</th>\n",
       "      <th>VAR_1928</th>\n",
       "      <th>VAR_1929</th>\n",
       "      <th>VAR_1930</th>\n",
       "      <th>VAR_1931</th>\n",
       "      <th>VAR_1932</th>\n",
       "      <th>VAR_1933</th>\n",
       "      <th>VAR_1934</th>\n",
       "    </tr>\n",
       "  </thead>\n",
       "  <tbody>\n",
       "    <tr>\n",
       "      <th>0</th>\n",
       "      <td>228699</td>\n",
       "      <td>R</td>\n",
       "      <td>2</td>\n",
       "      <td>0</td>\n",
       "      <td>1137</td>\n",
       "      <td>N</td>\n",
       "      <td>0.0</td>\n",
       "      <td>0.0</td>\n",
       "      <td>False</td>\n",
       "      <td>False</td>\n",
       "      <td>...</td>\n",
       "      <td>4</td>\n",
       "      <td>0</td>\n",
       "      <td>1</td>\n",
       "      <td>0</td>\n",
       "      <td>999999996</td>\n",
       "      <td>400</td>\n",
       "      <td>400</td>\n",
       "      <td>9996</td>\n",
       "      <td>58</td>\n",
       "      <td>BRANCH</td>\n",
       "    </tr>\n",
       "    <tr>\n",
       "      <th>1</th>\n",
       "      <td>224813</td>\n",
       "      <td>R</td>\n",
       "      <td>163</td>\n",
       "      <td>91</td>\n",
       "      <td>1299</td>\n",
       "      <td>C</td>\n",
       "      <td>1.0</td>\n",
       "      <td>1.0</td>\n",
       "      <td>False</td>\n",
       "      <td>False</td>\n",
       "      <td>...</td>\n",
       "      <td>0</td>\n",
       "      <td>98</td>\n",
       "      <td>98</td>\n",
       "      <td>998</td>\n",
       "      <td>999999998</td>\n",
       "      <td>998</td>\n",
       "      <td>998</td>\n",
       "      <td>9998</td>\n",
       "      <td>9998</td>\n",
       "      <td>BRANCH</td>\n",
       "    </tr>\n",
       "    <tr>\n",
       "      <th>2</th>\n",
       "      <td>164133</td>\n",
       "      <td>R</td>\n",
       "      <td>45</td>\n",
       "      <td>177</td>\n",
       "      <td>3879</td>\n",
       "      <td>B</td>\n",
       "      <td>0.0</td>\n",
       "      <td>0.0</td>\n",
       "      <td>False</td>\n",
       "      <td>False</td>\n",
       "      <td>...</td>\n",
       "      <td>0</td>\n",
       "      <td>98</td>\n",
       "      <td>98</td>\n",
       "      <td>998</td>\n",
       "      <td>999999998</td>\n",
       "      <td>998</td>\n",
       "      <td>998</td>\n",
       "      <td>9998</td>\n",
       "      <td>9998</td>\n",
       "      <td>BRANCH</td>\n",
       "    </tr>\n",
       "    <tr>\n",
       "      <th>3</th>\n",
       "      <td>274299</td>\n",
       "      <td>R</td>\n",
       "      <td>26</td>\n",
       "      <td>86</td>\n",
       "      <td>1543</td>\n",
       "      <td>S</td>\n",
       "      <td>0.0</td>\n",
       "      <td>0.0</td>\n",
       "      <td>False</td>\n",
       "      <td>False</td>\n",
       "      <td>...</td>\n",
       "      <td>3</td>\n",
       "      <td>0</td>\n",
       "      <td>2</td>\n",
       "      <td>12</td>\n",
       "      <td>434</td>\n",
       "      <td>90</td>\n",
       "      <td>90</td>\n",
       "      <td>0</td>\n",
       "      <td>26</td>\n",
       "      <td>IAPS</td>\n",
       "    </tr>\n",
       "    <tr>\n",
       "      <th>4</th>\n",
       "      <td>28136</td>\n",
       "      <td>Q</td>\n",
       "      <td>8</td>\n",
       "      <td>0</td>\n",
       "      <td>0</td>\n",
       "      <td>N</td>\n",
       "      <td>0.0</td>\n",
       "      <td>0.0</td>\n",
       "      <td>False</td>\n",
       "      <td>False</td>\n",
       "      <td>...</td>\n",
       "      <td>0</td>\n",
       "      <td>98</td>\n",
       "      <td>98</td>\n",
       "      <td>998</td>\n",
       "      <td>999999998</td>\n",
       "      <td>998</td>\n",
       "      <td>998</td>\n",
       "      <td>9998</td>\n",
       "      <td>9998</td>\n",
       "      <td>BRANCH</td>\n",
       "    </tr>\n",
       "  </tbody>\n",
       "</table>\n",
       "<p>5 rows × 1933 columns</p>\n",
       "</div>"
      ],
      "text/plain": [
       "       ID VAR_0001  VAR_0002  VAR_0003  VAR_0004 VAR_0005  VAR_0006  VAR_0007  \\\n",
       "0  228699        R         2         0      1137        N       0.0       0.0   \n",
       "1  224813        R       163        91      1299        C       1.0       1.0   \n",
       "2  164133        R        45       177      3879        B       0.0       0.0   \n",
       "3  274299        R        26        86      1543        S       0.0       0.0   \n",
       "4   28136        Q         8         0         0        N       0.0       0.0   \n",
       "\n",
       "  VAR_0008 VAR_0009  ... VAR_1925 VAR_1926 VAR_1927  VAR_1928   VAR_1929  \\\n",
       "0    False    False  ...        4        0        1         0  999999996   \n",
       "1    False    False  ...        0       98       98       998  999999998   \n",
       "2    False    False  ...        0       98       98       998  999999998   \n",
       "3    False    False  ...        3        0        2        12        434   \n",
       "4    False    False  ...        0       98       98       998  999999998   \n",
       "\n",
       "   VAR_1930  VAR_1931  VAR_1932  VAR_1933  VAR_1934  \n",
       "0       400       400      9996        58    BRANCH  \n",
       "1       998       998      9998      9998    BRANCH  \n",
       "2       998       998      9998      9998    BRANCH  \n",
       "3        90        90         0        26      IAPS  \n",
       "4       998       998      9998      9998    BRANCH  \n",
       "\n",
       "[5 rows x 1933 columns]"
      ]
     },
     "execution_count": 17,
     "metadata": {},
     "output_type": "execute_result"
    },
    {
     "name": "stdout",
     "output_type": "stream",
     "text": [
      "\n"
     ]
    },
    {
     "data": {
      "text/plain": [
       "int64      1405\n",
       "float64     477\n",
       "object       51\n",
       "dtype: int64"
      ]
     },
     "execution_count": 17,
     "metadata": {},
     "output_type": "execute_result"
    },
    {
     "name": "stdout",
     "output_type": "stream",
     "text": [
      "\n"
     ]
    },
    {
     "data": {
      "text/html": [
       "<div>\n",
       "<style scoped>\n",
       "    .dataframe tbody tr th:only-of-type {\n",
       "        vertical-align: middle;\n",
       "    }\n",
       "\n",
       "    .dataframe tbody tr th {\n",
       "        vertical-align: top;\n",
       "    }\n",
       "\n",
       "    .dataframe thead th {\n",
       "        text-align: right;\n",
       "    }\n",
       "</style>\n",
       "<table border=\"1\" class=\"dataframe\">\n",
       "  <thead>\n",
       "    <tr style=\"text-align: right;\">\n",
       "      <th></th>\n",
       "      <th>ID</th>\n",
       "      <th>VAR_0002</th>\n",
       "      <th>VAR_0003</th>\n",
       "      <th>VAR_0004</th>\n",
       "      <th>VAR_0006</th>\n",
       "      <th>VAR_0007</th>\n",
       "      <th>VAR_0013</th>\n",
       "      <th>VAR_0014</th>\n",
       "      <th>VAR_0015</th>\n",
       "      <th>VAR_0016</th>\n",
       "      <th>...</th>\n",
       "      <th>VAR_1924</th>\n",
       "      <th>VAR_1925</th>\n",
       "      <th>VAR_1926</th>\n",
       "      <th>VAR_1927</th>\n",
       "      <th>VAR_1928</th>\n",
       "      <th>VAR_1929</th>\n",
       "      <th>VAR_1930</th>\n",
       "      <th>VAR_1931</th>\n",
       "      <th>VAR_1932</th>\n",
       "      <th>VAR_1933</th>\n",
       "    </tr>\n",
       "  </thead>\n",
       "  <tbody>\n",
       "    <tr>\n",
       "      <th>count</th>\n",
       "      <td>14523.000000</td>\n",
       "      <td>14523.000000</td>\n",
       "      <td>14523.000000</td>\n",
       "      <td>14523.000000</td>\n",
       "      <td>14519.000000</td>\n",
       "      <td>14519.000000</td>\n",
       "      <td>14519.000000</td>\n",
       "      <td>14519.000000</td>\n",
       "      <td>14519.000000</td>\n",
       "      <td>14519.000000</td>\n",
       "      <td>...</td>\n",
       "      <td>14523.000000</td>\n",
       "      <td>14523.000000</td>\n",
       "      <td>14523.000000</td>\n",
       "      <td>14523.000000</td>\n",
       "      <td>14523.000000</td>\n",
       "      <td>1.452300e+04</td>\n",
       "      <td>14523.000000</td>\n",
       "      <td>14523.000000</td>\n",
       "      <td>14523.000000</td>\n",
       "      <td>14523.000000</td>\n",
       "    </tr>\n",
       "    <tr>\n",
       "      <th>mean</th>\n",
       "      <td>145066.322041</td>\n",
       "      <td>104.492942</td>\n",
       "      <td>88.768781</td>\n",
       "      <td>3687.886249</td>\n",
       "      <td>0.688615</td>\n",
       "      <td>0.515187</td>\n",
       "      <td>0.688615</td>\n",
       "      <td>0.497486</td>\n",
       "      <td>0.475033</td>\n",
       "      <td>1.441353</td>\n",
       "      <td>...</td>\n",
       "      <td>7901.486883</td>\n",
       "      <td>0.604489</td>\n",
       "      <td>86.635750</td>\n",
       "      <td>89.647456</td>\n",
       "      <td>912.510087</td>\n",
       "      <td>9.905667e+08</td>\n",
       "      <td>923.010742</td>\n",
       "      <td>935.867727</td>\n",
       "      <td>9942.795910</td>\n",
       "      <td>8846.242168</td>\n",
       "    </tr>\n",
       "    <tr>\n",
       "      <th>std</th>\n",
       "      <td>84218.552243</td>\n",
       "      <td>139.777945</td>\n",
       "      <td>125.768280</td>\n",
       "      <td>8732.084199</td>\n",
       "      <td>1.599896</td>\n",
       "      <td>1.372350</td>\n",
       "      <td>1.599896</td>\n",
       "      <td>1.329036</td>\n",
       "      <td>1.022232</td>\n",
       "      <td>1.160665</td>\n",
       "      <td>...</td>\n",
       "      <td>4034.763872</td>\n",
       "      <td>6.763216</td>\n",
       "      <td>31.383989</td>\n",
       "      <td>27.199651</td>\n",
       "      <td>279.228850</td>\n",
       "      <td>9.666935e+07</td>\n",
       "      <td>211.419846</td>\n",
       "      <td>209.883720</td>\n",
       "      <td>738.849826</td>\n",
       "      <td>3180.371956</td>\n",
       "    </tr>\n",
       "    <tr>\n",
       "      <th>min</th>\n",
       "      <td>18.000000</td>\n",
       "      <td>0.000000</td>\n",
       "      <td>0.000000</td>\n",
       "      <td>0.000000</td>\n",
       "      <td>0.000000</td>\n",
       "      <td>0.000000</td>\n",
       "      <td>0.000000</td>\n",
       "      <td>0.000000</td>\n",
       "      <td>0.000000</td>\n",
       "      <td>0.000000</td>\n",
       "      <td>...</td>\n",
       "      <td>0.000000</td>\n",
       "      <td>0.000000</td>\n",
       "      <td>0.000000</td>\n",
       "      <td>0.000000</td>\n",
       "      <td>0.000000</td>\n",
       "      <td>0.000000e+00</td>\n",
       "      <td>1.000000</td>\n",
       "      <td>0.000000</td>\n",
       "      <td>0.000000</td>\n",
       "      <td>1.000000</td>\n",
       "    </tr>\n",
       "    <tr>\n",
       "      <th>25%</th>\n",
       "      <td>72330.500000</td>\n",
       "      <td>24.000000</td>\n",
       "      <td>13.000000</td>\n",
       "      <td>1790.000000</td>\n",
       "      <td>0.000000</td>\n",
       "      <td>0.000000</td>\n",
       "      <td>0.000000</td>\n",
       "      <td>0.000000</td>\n",
       "      <td>0.000000</td>\n",
       "      <td>1.000000</td>\n",
       "      <td>...</td>\n",
       "      <td>9998.000000</td>\n",
       "      <td>0.000000</td>\n",
       "      <td>98.000000</td>\n",
       "      <td>98.000000</td>\n",
       "      <td>998.000000</td>\n",
       "      <td>1.000000e+09</td>\n",
       "      <td>998.000000</td>\n",
       "      <td>998.000000</td>\n",
       "      <td>9998.000000</td>\n",
       "      <td>9998.000000</td>\n",
       "    </tr>\n",
       "    <tr>\n",
       "      <th>50%</th>\n",
       "      <td>143772.000000</td>\n",
       "      <td>60.000000</td>\n",
       "      <td>56.000000</td>\n",
       "      <td>2500.000000</td>\n",
       "      <td>0.000000</td>\n",
       "      <td>0.000000</td>\n",
       "      <td>0.000000</td>\n",
       "      <td>0.000000</td>\n",
       "      <td>0.000000</td>\n",
       "      <td>1.000000</td>\n",
       "      <td>...</td>\n",
       "      <td>9998.000000</td>\n",
       "      <td>0.000000</td>\n",
       "      <td>98.000000</td>\n",
       "      <td>98.000000</td>\n",
       "      <td>998.000000</td>\n",
       "      <td>1.000000e+09</td>\n",
       "      <td>998.000000</td>\n",
       "      <td>998.000000</td>\n",
       "      <td>9998.000000</td>\n",
       "      <td>9998.000000</td>\n",
       "    </tr>\n",
       "    <tr>\n",
       "      <th>75%</th>\n",
       "      <td>217943.500000</td>\n",
       "      <td>132.000000</td>\n",
       "      <td>120.000000</td>\n",
       "      <td>3587.000000</td>\n",
       "      <td>1.000000</td>\n",
       "      <td>1.000000</td>\n",
       "      <td>1.000000</td>\n",
       "      <td>1.000000</td>\n",
       "      <td>1.000000</td>\n",
       "      <td>1.000000</td>\n",
       "      <td>...</td>\n",
       "      <td>9998.000000</td>\n",
       "      <td>0.000000</td>\n",
       "      <td>98.000000</td>\n",
       "      <td>98.000000</td>\n",
       "      <td>998.000000</td>\n",
       "      <td>1.000000e+09</td>\n",
       "      <td>998.000000</td>\n",
       "      <td>998.000000</td>\n",
       "      <td>9998.000000</td>\n",
       "      <td>9998.000000</td>\n",
       "    </tr>\n",
       "    <tr>\n",
       "      <th>max</th>\n",
       "      <td>290455.000000</td>\n",
       "      <td>999.000000</td>\n",
       "      <td>999.000000</td>\n",
       "      <td>464666.000000</td>\n",
       "      <td>27.000000</td>\n",
       "      <td>66.000000</td>\n",
       "      <td>27.000000</td>\n",
       "      <td>69.000000</td>\n",
       "      <td>25.000000</td>\n",
       "      <td>38.000000</td>\n",
       "      <td>...</td>\n",
       "      <td>9999.000000</td>\n",
       "      <td>99.000000</td>\n",
       "      <td>99.000000</td>\n",
       "      <td>99.000000</td>\n",
       "      <td>999.000000</td>\n",
       "      <td>1.000000e+09</td>\n",
       "      <td>999.000000</td>\n",
       "      <td>999.000000</td>\n",
       "      <td>9999.000000</td>\n",
       "      <td>9999.000000</td>\n",
       "    </tr>\n",
       "  </tbody>\n",
       "</table>\n",
       "<p>8 rows × 1882 columns</p>\n",
       "</div>"
      ],
      "text/plain": [
       "                  ID      VAR_0002      VAR_0003       VAR_0004      VAR_0006  \\\n",
       "count   14523.000000  14523.000000  14523.000000   14523.000000  14519.000000   \n",
       "mean   145066.322041    104.492942     88.768781    3687.886249      0.688615   \n",
       "std     84218.552243    139.777945    125.768280    8732.084199      1.599896   \n",
       "min        18.000000      0.000000      0.000000       0.000000      0.000000   \n",
       "25%     72330.500000     24.000000     13.000000    1790.000000      0.000000   \n",
       "50%    143772.000000     60.000000     56.000000    2500.000000      0.000000   \n",
       "75%    217943.500000    132.000000    120.000000    3587.000000      1.000000   \n",
       "max    290455.000000    999.000000    999.000000  464666.000000     27.000000   \n",
       "\n",
       "           VAR_0007      VAR_0013      VAR_0014      VAR_0015      VAR_0016  \\\n",
       "count  14519.000000  14519.000000  14519.000000  14519.000000  14519.000000   \n",
       "mean       0.515187      0.688615      0.497486      0.475033      1.441353   \n",
       "std        1.372350      1.599896      1.329036      1.022232      1.160665   \n",
       "min        0.000000      0.000000      0.000000      0.000000      0.000000   \n",
       "25%        0.000000      0.000000      0.000000      0.000000      1.000000   \n",
       "50%        0.000000      0.000000      0.000000      0.000000      1.000000   \n",
       "75%        1.000000      1.000000      1.000000      1.000000      1.000000   \n",
       "max       66.000000     27.000000     69.000000     25.000000     38.000000   \n",
       "\n",
       "       ...      VAR_1924      VAR_1925      VAR_1926      VAR_1927  \\\n",
       "count  ...  14523.000000  14523.000000  14523.000000  14523.000000   \n",
       "mean   ...   7901.486883      0.604489     86.635750     89.647456   \n",
       "std    ...   4034.763872      6.763216     31.383989     27.199651   \n",
       "min    ...      0.000000      0.000000      0.000000      0.000000   \n",
       "25%    ...   9998.000000      0.000000     98.000000     98.000000   \n",
       "50%    ...   9998.000000      0.000000     98.000000     98.000000   \n",
       "75%    ...   9998.000000      0.000000     98.000000     98.000000   \n",
       "max    ...   9999.000000     99.000000     99.000000     99.000000   \n",
       "\n",
       "           VAR_1928      VAR_1929      VAR_1930      VAR_1931      VAR_1932  \\\n",
       "count  14523.000000  1.452300e+04  14523.000000  14523.000000  14523.000000   \n",
       "mean     912.510087  9.905667e+08    923.010742    935.867727   9942.795910   \n",
       "std      279.228850  9.666935e+07    211.419846    209.883720    738.849826   \n",
       "min        0.000000  0.000000e+00      1.000000      0.000000      0.000000   \n",
       "25%      998.000000  1.000000e+09    998.000000    998.000000   9998.000000   \n",
       "50%      998.000000  1.000000e+09    998.000000    998.000000   9998.000000   \n",
       "75%      998.000000  1.000000e+09    998.000000    998.000000   9998.000000   \n",
       "max      999.000000  1.000000e+09    999.000000    999.000000   9999.000000   \n",
       "\n",
       "           VAR_1933  \n",
       "count  14523.000000  \n",
       "mean    8846.242168  \n",
       "std     3180.371956  \n",
       "min        1.000000  \n",
       "25%     9998.000000  \n",
       "50%     9998.000000  \n",
       "75%     9998.000000  \n",
       "max     9999.000000  \n",
       "\n",
       "[8 rows x 1882 columns]"
      ]
     },
     "execution_count": 17,
     "metadata": {},
     "output_type": "execute_result"
    },
    {
     "name": "stdout",
     "output_type": "stream",
     "text": [
      "\n",
      "<class 'pandas.core.frame.DataFrame'>\n",
      "RangeIndex: 14523 entries, 0 to 14522\n",
      "Columns: 1933 entries, ID to VAR_1934\n",
      "dtypes: float64(477), int64(1405), object(51)\n",
      "memory usage: 214.2+ MB\n"
     ]
    }
   ],
   "source": [
    "df_traincp = df_train.copy()\n",
    "df_traincp.shape\n",
    "print()\n",
    "df_traincp.head()\n",
    "print()\n",
    "df_traincp.dtypes.value_counts()\n",
    "print()\n",
    "df_traincp.describe()\n",
    "print()\n",
    "df_traincp.info()"
   ]
  },
  {
   "cell_type": "code",
   "execution_count": 14,
   "metadata": {},
   "outputs": [
    {
     "ename": "KeyError",
     "evalue": "\"['ID'] not found in axis\"",
     "output_type": "error",
     "traceback": [
      "\u001b[1;31m---------------------------------------------------------------------------\u001b[0m",
      "\u001b[1;31mKeyError\u001b[0m                                  Traceback (most recent call last)",
      "\u001b[1;32m<ipython-input-14-2d9aa82cc58f>\u001b[0m in \u001b[0;36m<module>\u001b[1;34m\u001b[0m\n\u001b[1;32m----> 1\u001b[1;33m \u001b[0mdf_traincp\u001b[0m\u001b[1;33m.\u001b[0m\u001b[0mdrop\u001b[0m\u001b[1;33m(\u001b[0m\u001b[1;34m'ID'\u001b[0m\u001b[1;33m,\u001b[0m \u001b[0maxis\u001b[0m \u001b[1;33m=\u001b[0m \u001b[1;34m'columns'\u001b[0m\u001b[1;33m,\u001b[0m \u001b[0minplace\u001b[0m\u001b[1;33m=\u001b[0m\u001b[1;32mTrue\u001b[0m\u001b[1;33m)\u001b[0m\u001b[1;33m\u001b[0m\u001b[1;33m\u001b[0m\u001b[0m\n\u001b[0m",
      "\u001b[1;32m~\\anaconda3\\lib\\site-packages\\pandas\\util\\_decorators.py\u001b[0m in \u001b[0;36mwrapper\u001b[1;34m(*args, **kwargs)\u001b[0m\n\u001b[0;32m    309\u001b[0m                     \u001b[0mstacklevel\u001b[0m\u001b[1;33m=\u001b[0m\u001b[0mstacklevel\u001b[0m\u001b[1;33m,\u001b[0m\u001b[1;33m\u001b[0m\u001b[1;33m\u001b[0m\u001b[0m\n\u001b[0;32m    310\u001b[0m                 )\n\u001b[1;32m--> 311\u001b[1;33m             \u001b[1;32mreturn\u001b[0m \u001b[0mfunc\u001b[0m\u001b[1;33m(\u001b[0m\u001b[1;33m*\u001b[0m\u001b[0margs\u001b[0m\u001b[1;33m,\u001b[0m \u001b[1;33m**\u001b[0m\u001b[0mkwargs\u001b[0m\u001b[1;33m)\u001b[0m\u001b[1;33m\u001b[0m\u001b[1;33m\u001b[0m\u001b[0m\n\u001b[0m\u001b[0;32m    312\u001b[0m \u001b[1;33m\u001b[0m\u001b[0m\n\u001b[0;32m    313\u001b[0m         \u001b[1;32mreturn\u001b[0m \u001b[0mwrapper\u001b[0m\u001b[1;33m\u001b[0m\u001b[1;33m\u001b[0m\u001b[0m\n",
      "\u001b[1;32m~\\anaconda3\\lib\\site-packages\\pandas\\core\\frame.py\u001b[0m in \u001b[0;36mdrop\u001b[1;34m(self, labels, axis, index, columns, level, inplace, errors)\u001b[0m\n\u001b[0;32m   4899\u001b[0m                 \u001b[0mweight\u001b[0m  \u001b[1;36m1.0\u001b[0m     \u001b[1;36m0.8\u001b[0m\u001b[1;33m\u001b[0m\u001b[1;33m\u001b[0m\u001b[0m\n\u001b[0;32m   4900\u001b[0m         \"\"\"\n\u001b[1;32m-> 4901\u001b[1;33m         return super().drop(\n\u001b[0m\u001b[0;32m   4902\u001b[0m             \u001b[0mlabels\u001b[0m\u001b[1;33m=\u001b[0m\u001b[0mlabels\u001b[0m\u001b[1;33m,\u001b[0m\u001b[1;33m\u001b[0m\u001b[1;33m\u001b[0m\u001b[0m\n\u001b[0;32m   4903\u001b[0m             \u001b[0maxis\u001b[0m\u001b[1;33m=\u001b[0m\u001b[0maxis\u001b[0m\u001b[1;33m,\u001b[0m\u001b[1;33m\u001b[0m\u001b[1;33m\u001b[0m\u001b[0m\n",
      "\u001b[1;32m~\\anaconda3\\lib\\site-packages\\pandas\\core\\generic.py\u001b[0m in \u001b[0;36mdrop\u001b[1;34m(self, labels, axis, index, columns, level, inplace, errors)\u001b[0m\n\u001b[0;32m   4148\u001b[0m         \u001b[1;32mfor\u001b[0m \u001b[0maxis\u001b[0m\u001b[1;33m,\u001b[0m \u001b[0mlabels\u001b[0m \u001b[1;32min\u001b[0m \u001b[0maxes\u001b[0m\u001b[1;33m.\u001b[0m\u001b[0mitems\u001b[0m\u001b[1;33m(\u001b[0m\u001b[1;33m)\u001b[0m\u001b[1;33m:\u001b[0m\u001b[1;33m\u001b[0m\u001b[1;33m\u001b[0m\u001b[0m\n\u001b[0;32m   4149\u001b[0m             \u001b[1;32mif\u001b[0m \u001b[0mlabels\u001b[0m \u001b[1;32mis\u001b[0m \u001b[1;32mnot\u001b[0m \u001b[1;32mNone\u001b[0m\u001b[1;33m:\u001b[0m\u001b[1;33m\u001b[0m\u001b[1;33m\u001b[0m\u001b[0m\n\u001b[1;32m-> 4150\u001b[1;33m                 \u001b[0mobj\u001b[0m \u001b[1;33m=\u001b[0m \u001b[0mobj\u001b[0m\u001b[1;33m.\u001b[0m\u001b[0m_drop_axis\u001b[0m\u001b[1;33m(\u001b[0m\u001b[0mlabels\u001b[0m\u001b[1;33m,\u001b[0m \u001b[0maxis\u001b[0m\u001b[1;33m,\u001b[0m \u001b[0mlevel\u001b[0m\u001b[1;33m=\u001b[0m\u001b[0mlevel\u001b[0m\u001b[1;33m,\u001b[0m \u001b[0merrors\u001b[0m\u001b[1;33m=\u001b[0m\u001b[0merrors\u001b[0m\u001b[1;33m)\u001b[0m\u001b[1;33m\u001b[0m\u001b[1;33m\u001b[0m\u001b[0m\n\u001b[0m\u001b[0;32m   4151\u001b[0m \u001b[1;33m\u001b[0m\u001b[0m\n\u001b[0;32m   4152\u001b[0m         \u001b[1;32mif\u001b[0m \u001b[0minplace\u001b[0m\u001b[1;33m:\u001b[0m\u001b[1;33m\u001b[0m\u001b[1;33m\u001b[0m\u001b[0m\n",
      "\u001b[1;32m~\\anaconda3\\lib\\site-packages\\pandas\\core\\generic.py\u001b[0m in \u001b[0;36m_drop_axis\u001b[1;34m(self, labels, axis, level, errors)\u001b[0m\n\u001b[0;32m   4183\u001b[0m                 \u001b[0mnew_axis\u001b[0m \u001b[1;33m=\u001b[0m \u001b[0maxis\u001b[0m\u001b[1;33m.\u001b[0m\u001b[0mdrop\u001b[0m\u001b[1;33m(\u001b[0m\u001b[0mlabels\u001b[0m\u001b[1;33m,\u001b[0m \u001b[0mlevel\u001b[0m\u001b[1;33m=\u001b[0m\u001b[0mlevel\u001b[0m\u001b[1;33m,\u001b[0m \u001b[0merrors\u001b[0m\u001b[1;33m=\u001b[0m\u001b[0merrors\u001b[0m\u001b[1;33m)\u001b[0m\u001b[1;33m\u001b[0m\u001b[1;33m\u001b[0m\u001b[0m\n\u001b[0;32m   4184\u001b[0m             \u001b[1;32melse\u001b[0m\u001b[1;33m:\u001b[0m\u001b[1;33m\u001b[0m\u001b[1;33m\u001b[0m\u001b[0m\n\u001b[1;32m-> 4185\u001b[1;33m                 \u001b[0mnew_axis\u001b[0m \u001b[1;33m=\u001b[0m \u001b[0maxis\u001b[0m\u001b[1;33m.\u001b[0m\u001b[0mdrop\u001b[0m\u001b[1;33m(\u001b[0m\u001b[0mlabels\u001b[0m\u001b[1;33m,\u001b[0m \u001b[0merrors\u001b[0m\u001b[1;33m=\u001b[0m\u001b[0merrors\u001b[0m\u001b[1;33m)\u001b[0m\u001b[1;33m\u001b[0m\u001b[1;33m\u001b[0m\u001b[0m\n\u001b[0m\u001b[0;32m   4186\u001b[0m             \u001b[0mresult\u001b[0m \u001b[1;33m=\u001b[0m \u001b[0mself\u001b[0m\u001b[1;33m.\u001b[0m\u001b[0mreindex\u001b[0m\u001b[1;33m(\u001b[0m\u001b[1;33m**\u001b[0m\u001b[1;33m{\u001b[0m\u001b[0maxis_name\u001b[0m\u001b[1;33m:\u001b[0m \u001b[0mnew_axis\u001b[0m\u001b[1;33m}\u001b[0m\u001b[1;33m)\u001b[0m\u001b[1;33m\u001b[0m\u001b[1;33m\u001b[0m\u001b[0m\n\u001b[0;32m   4187\u001b[0m \u001b[1;33m\u001b[0m\u001b[0m\n",
      "\u001b[1;32m~\\anaconda3\\lib\\site-packages\\pandas\\core\\indexes\\base.py\u001b[0m in \u001b[0;36mdrop\u001b[1;34m(self, labels, errors)\u001b[0m\n\u001b[0;32m   6016\u001b[0m         \u001b[1;32mif\u001b[0m \u001b[0mmask\u001b[0m\u001b[1;33m.\u001b[0m\u001b[0many\u001b[0m\u001b[1;33m(\u001b[0m\u001b[1;33m)\u001b[0m\u001b[1;33m:\u001b[0m\u001b[1;33m\u001b[0m\u001b[1;33m\u001b[0m\u001b[0m\n\u001b[0;32m   6017\u001b[0m             \u001b[1;32mif\u001b[0m \u001b[0merrors\u001b[0m \u001b[1;33m!=\u001b[0m \u001b[1;34m\"ignore\"\u001b[0m\u001b[1;33m:\u001b[0m\u001b[1;33m\u001b[0m\u001b[1;33m\u001b[0m\u001b[0m\n\u001b[1;32m-> 6018\u001b[1;33m                 \u001b[1;32mraise\u001b[0m \u001b[0mKeyError\u001b[0m\u001b[1;33m(\u001b[0m\u001b[1;34mf\"{labels[mask]} not found in axis\"\u001b[0m\u001b[1;33m)\u001b[0m\u001b[1;33m\u001b[0m\u001b[1;33m\u001b[0m\u001b[0m\n\u001b[0m\u001b[0;32m   6019\u001b[0m             \u001b[0mindexer\u001b[0m \u001b[1;33m=\u001b[0m \u001b[0mindexer\u001b[0m\u001b[1;33m[\u001b[0m\u001b[1;33m~\u001b[0m\u001b[0mmask\u001b[0m\u001b[1;33m]\u001b[0m\u001b[1;33m\u001b[0m\u001b[1;33m\u001b[0m\u001b[0m\n\u001b[0;32m   6020\u001b[0m         \u001b[1;32mreturn\u001b[0m \u001b[0mself\u001b[0m\u001b[1;33m.\u001b[0m\u001b[0mdelete\u001b[0m\u001b[1;33m(\u001b[0m\u001b[0mindexer\u001b[0m\u001b[1;33m)\u001b[0m\u001b[1;33m\u001b[0m\u001b[1;33m\u001b[0m\u001b[0m\n",
      "\u001b[1;31mKeyError\u001b[0m: \"['ID'] not found in axis\""
     ]
    }
   ],
   "source": [
    "df_traincp.drop('ID', axis = 'columns', inplace=True)"
   ]
  },
  {
   "cell_type": "code",
   "execution_count": 5,
   "metadata": {},
   "outputs": [],
   "source": [
    "#cln = []\n",
    "#for i in range (1,len(df_train.columns)+1):\n",
    "#    cln.append(\"Var_\"+str(i))\n",
    "\n",
    "#print(cln)"
   ]
  },
  {
   "cell_type": "code",
   "execution_count": 6,
   "metadata": {},
   "outputs": [],
   "source": [
    "#df_train.columns=cln\n",
    "#df_train=df_train.rename(columns={df_train.columns[-1]: 'Target'})"
   ]
  },
  {
   "cell_type": "code",
   "execution_count": 7,
   "metadata": {},
   "outputs": [],
   "source": [
    "#df_train"
   ]
  },
  {
   "cell_type": "code",
   "execution_count": 8,
   "metadata": {},
   "outputs": [
    {
     "name": "stdout",
     "output_type": "stream",
     "text": [
      "--Current memory usage (MB) --\n",
      "\n"
     ]
    },
    {
     "data": {
      "text/plain": [
       "224.467616"
      ]
     },
     "execution_count": 8,
     "metadata": {},
     "output_type": "execute_result"
    }
   ],
   "source": [
    "print(\"--Current memory usage (MB) --\\n\")\n",
    "df_traincp.memory_usage().sum()/1000000"
   ]
  },
  {
   "cell_type": "code",
   "execution_count": 9,
   "metadata": {},
   "outputs": [
    {
     "name": "stdout",
     "output_type": "stream",
     "text": [
      "int: VAR_0002\n",
      "int: VAR_0003\n",
      "int: VAR_0004\n",
      "float: VAR_0006\n",
      "float: VAR_0007\n",
      "float: VAR_0013\n",
      "float: VAR_0014\n",
      "float: VAR_0015\n",
      "float: VAR_0016\n",
      "float: VAR_0017\n",
      "float: VAR_0018\n",
      "float: VAR_0019\n",
      "float: VAR_0020\n",
      "float: VAR_0021\n",
      "float: VAR_0022\n",
      "float: VAR_0023\n",
      "float: VAR_0024\n",
      "float: VAR_0025\n",
      "float: VAR_0026\n",
      "float: VAR_0027\n",
      "float: VAR_0028\n",
      "float: VAR_0029\n",
      "float: VAR_0030\n",
      "float: VAR_0031\n",
      "float: VAR_0032\n",
      "float: VAR_0033\n",
      "float: VAR_0034\n",
      "float: VAR_0035\n",
      "float: VAR_0036\n",
      "float: VAR_0037\n",
      "float: VAR_0038\n",
      "float: VAR_0039\n",
      "float: VAR_0040\n",
      "float: VAR_0041\n",
      "float: VAR_0042\n",
      "float: VAR_0045\n",
      "float: VAR_0046\n",
      "float: VAR_0047\n",
      "float: VAR_0048\n",
      "float: VAR_0049\n",
      "float: VAR_0050\n",
      "float: VAR_0051\n",
      "float: VAR_0052\n",
      "float: VAR_0053\n",
      "float: VAR_0054\n",
      "float: VAR_0055\n",
      "float: VAR_0056\n",
      "float: VAR_0057\n",
      "float: VAR_0058\n",
      "float: VAR_0059\n",
      "float: VAR_0060\n",
      "float: VAR_0061\n",
      "float: VAR_0062\n",
      "float: VAR_0063\n",
      "float: VAR_0064\n",
      "float: VAR_0065\n",
      "float: VAR_0066\n",
      "float: VAR_0067\n",
      "float: VAR_0068\n",
      "float: VAR_0069\n",
      "float: VAR_0070\n",
      "float: VAR_0071\n",
      "float: VAR_0072\n",
      "float: VAR_0074\n",
      "float: VAR_0076\n",
      "float: VAR_0077\n",
      "float: VAR_0078\n",
      "float: VAR_0079\n",
      "float: VAR_0080\n",
      "float: VAR_0081\n",
      "float: VAR_0082\n",
      "float: VAR_0083\n",
      "float: VAR_0084\n",
      "float: VAR_0085\n",
      "float: VAR_0086\n",
      "float: VAR_0087\n",
      "float: VAR_0088\n",
      "float: VAR_0089\n",
      "float: VAR_0090\n",
      "float: VAR_0091\n",
      "float: VAR_0092\n",
      "float: VAR_0093\n",
      "float: VAR_0094\n",
      "float: VAR_0095\n",
      "float: VAR_0096\n",
      "float: VAR_0097\n",
      "float: VAR_0098\n",
      "float: VAR_0099\n",
      "float: VAR_0100\n",
      "float: VAR_0101\n",
      "float: VAR_0102\n",
      "float: VAR_0103\n",
      "float: VAR_0104\n",
      "float: VAR_0105\n",
      "float: VAR_0106\n",
      "float: VAR_0107\n",
      "float: VAR_0108\n",
      "float: VAR_0109\n",
      "float: VAR_0110\n",
      "float: VAR_0111\n",
      "float: VAR_0112\n",
      "float: VAR_0113\n",
      "float: VAR_0114\n",
      "float: VAR_0115\n",
      "float: VAR_0116\n",
      "float: VAR_0117\n",
      "float: VAR_0118\n",
      "float: VAR_0119\n",
      "float: VAR_0120\n",
      "float: VAR_0121\n",
      "float: VAR_0122\n",
      "float: VAR_0123\n",
      "float: VAR_0124\n",
      "float: VAR_0125\n",
      "float: VAR_0126\n",
      "float: VAR_0127\n",
      "float: VAR_0128\n",
      "float: VAR_0129\n",
      "float: VAR_0130\n",
      "float: VAR_0131\n",
      "float: VAR_0132\n",
      "float: VAR_0133\n",
      "float: VAR_0134\n",
      "float: VAR_0135\n",
      "float: VAR_0136\n",
      "float: VAR_0137\n",
      "float: VAR_0138\n",
      "float: VAR_0139\n",
      "float: VAR_0140\n",
      "float: VAR_0141\n",
      "float: VAR_0142\n",
      "float: VAR_0143\n",
      "float: VAR_0144\n",
      "float: VAR_0145\n",
      "float: VAR_0146\n",
      "float: VAR_0147\n",
      "float: VAR_0148\n",
      "float: VAR_0149\n",
      "float: VAR_0150\n",
      "float: VAR_0151\n",
      "float: VAR_0152\n",
      "float: VAR_0153\n",
      "float: VAR_0154\n",
      "float: VAR_0155\n",
      "float: VAR_0160\n",
      "float: VAR_0161\n",
      "float: VAR_0162\n",
      "float: VAR_0163\n",
      "float: VAR_0164\n",
      "float: VAR_0165\n",
      "float: VAR_0170\n",
      "float: VAR_0171\n",
      "float: VAR_0172\n",
      "float: VAR_0173\n",
      "float: VAR_0174\n",
      "float: VAR_0175\n",
      "float: VAR_0180\n",
      "float: VAR_0181\n",
      "float: VAR_0182\n",
      "float: VAR_0183\n",
      "float: VAR_0184\n",
      "float: VAR_0185\n",
      "float: VAR_0186\n",
      "float: VAR_0187\n",
      "float: VAR_0188\n",
      "float: VAR_0189\n",
      "float: VAR_0190\n",
      "float: VAR_0191\n",
      "float: VAR_0192\n",
      "float: VAR_0193\n",
      "float: VAR_0194\n",
      "float: VAR_0195\n",
      "float: VAR_0197\n",
      "float: VAR_0198\n",
      "float: VAR_0199\n",
      "float: VAR_0201\n",
      "float: VAR_0203\n",
      "float: VAR_0205\n",
      "float: VAR_0206\n",
      "float: VAR_0207\n",
      "float: VAR_0208\n",
      "float: VAR_0209\n",
      "float: VAR_0210\n",
      "float: VAR_0211\n",
      "float: VAR_0212\n",
      "float: VAR_0213\n",
      "float: VAR_0215\n",
      "float: VAR_0219\n",
      "float: VAR_0220\n",
      "float: VAR_0221\n",
      "float: VAR_0223\n",
      "float: VAR_0224\n",
      "float: VAR_0225\n",
      "float: VAR_0227\n",
      "float: VAR_0228\n",
      "float: VAR_0231\n",
      "float: VAR_0233\n",
      "float: VAR_0234\n",
      "float: VAR_0235\n",
      "float: VAR_0238\n",
      "float: VAR_0241\n",
      "float: VAR_0242\n",
      "float: VAR_0243\n",
      "float: VAR_0244\n",
      "float: VAR_0245\n",
      "float: VAR_0246\n",
      "float: VAR_0247\n",
      "float: VAR_0248\n",
      "float: VAR_0249\n",
      "float: VAR_0250\n",
      "float: VAR_0251\n",
      "float: VAR_0252\n",
      "float: VAR_0253\n",
      "float: VAR_0254\n",
      "float: VAR_0255\n",
      "float: VAR_0256\n",
      "float: VAR_0257\n",
      "float: VAR_0258\n",
      "float: VAR_0259\n",
      "float: VAR_0260\n",
      "float: VAR_0261\n",
      "float: VAR_0262\n",
      "float: VAR_0263\n",
      "float: VAR_0264\n",
      "float: VAR_0265\n",
      "float: VAR_0266\n",
      "float: VAR_0267\n",
      "float: VAR_0268\n",
      "float: VAR_0269\n",
      "float: VAR_0270\n",
      "float: VAR_0271\n",
      "float: VAR_0272\n",
      "float: VAR_0273\n",
      "float: VAR_0275\n",
      "float: VAR_0276\n",
      "float: VAR_0277\n",
      "float: VAR_0278\n",
      "float: VAR_0279\n",
      "float: VAR_0280\n",
      "float: VAR_0281\n",
      "float: VAR_0282\n",
      "float: VAR_0284\n",
      "float: VAR_0285\n",
      "float: VAR_0286\n",
      "float: VAR_0287\n",
      "float: VAR_0288\n",
      "float: VAR_0289\n",
      "float: VAR_0290\n",
      "float: VAR_0291\n",
      "float: VAR_0292\n",
      "float: VAR_0293\n",
      "float: VAR_0294\n",
      "float: VAR_0295\n",
      "float: VAR_0296\n",
      "float: VAR_0297\n",
      "float: VAR_0298\n",
      "float: VAR_0299\n",
      "float: VAR_0300\n",
      "float: VAR_0301\n",
      "float: VAR_0302\n",
      "float: VAR_0303\n",
      "float: VAR_0304\n",
      "float: VAR_0306\n",
      "float: VAR_0307\n",
      "float: VAR_0308\n",
      "float: VAR_0309\n",
      "float: VAR_0310\n",
      "float: VAR_0311\n",
      "float: VAR_0312\n",
      "float: VAR_0313\n",
      "float: VAR_0314\n",
      "float: VAR_0315\n",
      "float: VAR_0316\n",
      "float: VAR_0317\n",
      "float: VAR_0318\n",
      "float: VAR_0319\n",
      "float: VAR_0320\n",
      "float: VAR_0321\n",
      "float: VAR_0322\n",
      "float: VAR_0323\n",
      "float: VAR_0324\n",
      "float: VAR_0326\n",
      "float: VAR_0327\n",
      "float: VAR_0328\n",
      "float: VAR_0329\n",
      "float: VAR_0330\n",
      "float: VAR_0331\n",
      "float: VAR_0332\n",
      "float: VAR_0333\n",
      "float: VAR_0334\n",
      "float: VAR_0335\n",
      "float: VAR_0336\n",
      "float: VAR_0337\n",
      "float: VAR_0338\n",
      "float: VAR_0339\n",
      "float: VAR_0340\n",
      "float: VAR_0341\n",
      "float: VAR_0343\n",
      "float: VAR_0344\n",
      "float: VAR_0345\n",
      "float: VAR_0346\n",
      "float: VAR_0347\n",
      "float: VAR_0348\n",
      "float: VAR_0349\n",
      "float: VAR_0350\n",
      "float: VAR_0351\n",
      "float: VAR_0355\n",
      "float: VAR_0356\n",
      "float: VAR_0357\n",
      "float: VAR_0358\n",
      "float: VAR_0359\n",
      "float: VAR_0360\n",
      "float: VAR_0361\n",
      "float: VAR_0362\n",
      "float: VAR_0363\n",
      "float: VAR_0364\n",
      "float: VAR_0365\n",
      "float: VAR_0366\n",
      "float: VAR_0367\n",
      "float: VAR_0368\n",
      "float: VAR_0369\n",
      "float: VAR_0370\n",
      "float: VAR_0371\n",
      "float: VAR_0372\n",
      "float: VAR_0373\n",
      "float: VAR_0374\n",
      "float: VAR_0375\n",
      "float: VAR_0376\n",
      "float: VAR_0377\n",
      "float: VAR_0378\n",
      "float: VAR_0379\n",
      "float: VAR_0380\n",
      "float: VAR_0381\n",
      "float: VAR_0382\n",
      "float: VAR_0383\n",
      "float: VAR_0384\n",
      "float: VAR_0385\n",
      "float: VAR_0386\n",
      "float: VAR_0387\n",
      "float: VAR_0388\n",
      "float: VAR_0389\n",
      "float: VAR_0390\n",
      "float: VAR_0391\n",
      "float: VAR_0392\n",
      "float: VAR_0393\n",
      "float: VAR_0394\n",
      "float: VAR_0395\n",
      "float: VAR_0396\n",
      "float: VAR_0397\n",
      "float: VAR_0398\n",
      "float: VAR_0399\n",
      "float: VAR_0400\n",
      "float: VAR_0401\n",
      "float: VAR_0402\n",
      "float: VAR_0403\n",
      "float: VAR_0405\n",
      "float: VAR_0406\n",
      "float: VAR_0407\n",
      "float: VAR_0408\n",
      "float: VAR_0409\n",
      "float: VAR_0410\n",
      "float: VAR_0411\n",
      "float: VAR_0412\n",
      "float: VAR_0413\n",
      "float: VAR_0414\n",
      "float: VAR_0415\n",
      "float: VAR_0416\n",
      "float: VAR_0417\n",
      "float: VAR_0418\n",
      "float: VAR_0419\n",
      "float: VAR_0420\n",
      "float: VAR_0421\n",
      "float: VAR_0422\n",
      "float: VAR_0423\n",
      "float: VAR_0424\n",
      "float: VAR_0425\n",
      "float: VAR_0426\n",
      "float: VAR_0427\n",
      "float: VAR_0428\n",
      "float: VAR_0429\n",
      "float: VAR_0430\n",
      "float: VAR_0431\n",
      "float: VAR_0432\n",
      "float: VAR_0433\n",
      "float: VAR_0434\n",
      "float: VAR_0435\n",
      "float: VAR_0436\n",
      "float: VAR_0437\n",
      "float: VAR_0438\n",
      "float: VAR_0439\n",
      "float: VAR_0440\n",
      "float: VAR_0441\n",
      "float: VAR_0442\n",
      "float: VAR_0443\n",
      "float: VAR_0444\n",
      "float: VAR_0445\n",
      "float: VAR_0446\n",
      "float: VAR_0447\n",
      "float: VAR_0448\n",
      "float: VAR_0449\n",
      "float: VAR_0450\n",
      "float: VAR_0451\n",
      "float: VAR_0452\n",
      "float: VAR_0453\n",
      "float: VAR_0454\n",
      "float: VAR_0455\n",
      "float: VAR_0456\n",
      "float: VAR_0457\n",
      "float: VAR_0458\n",
      "float: VAR_0459\n",
      "float: VAR_0460\n",
      "float: VAR_0461\n",
      "float: VAR_0462\n",
      "float: VAR_0463\n",
      "float: VAR_0464\n",
      "float: VAR_0465\n",
      "float: VAR_0468\n",
      "float: VAR_0469\n",
      "float: VAR_0470\n",
      "float: VAR_0471\n",
      "float: VAR_0472\n",
      "float: VAR_0473\n",
      "float: VAR_0474\n",
      "float: VAR_0475\n",
      "float: VAR_0476\n",
      "float: VAR_0477\n",
      "float: VAR_0478\n",
      "float: VAR_0479\n",
      "float: VAR_0480\n",
      "float: VAR_0481\n",
      "float: VAR_0482\n",
      "float: VAR_0483\n",
      "float: VAR_0484\n",
      "float: VAR_0485\n",
      "float: VAR_0486\n",
      "float: VAR_0487\n",
      "float: VAR_0488\n",
      "float: VAR_0489\n",
      "float: VAR_0490\n",
      "float: VAR_0491\n",
      "float: VAR_0492\n",
      "float: VAR_0494\n",
      "float: VAR_0495\n",
      "float: VAR_0496\n",
      "float: VAR_0497\n",
      "float: VAR_0498\n",
      "float: VAR_0499\n",
      "float: VAR_0500\n",
      "float: VAR_0501\n",
      "float: VAR_0502\n",
      "float: VAR_0503\n",
      "float: VAR_0504\n",
      "float: VAR_0505\n",
      "float: VAR_0506\n",
      "float: VAR_0507\n",
      "float: VAR_0508\n",
      "float: VAR_0509\n",
      "float: VAR_0510\n",
      "float: VAR_0511\n",
      "float: VAR_0512\n",
      "float: VAR_0513\n",
      "float: VAR_0514\n",
      "float: VAR_0515\n",
      "float: VAR_0516\n",
      "float: VAR_0517\n",
      "float: VAR_0518\n",
      "float: VAR_0519\n",
      "float: VAR_0520\n",
      "float: VAR_0521\n",
      "float: VAR_0522\n",
      "float: VAR_0523\n",
      "float: VAR_0524\n",
      "float: VAR_0525\n",
      "float: VAR_0526\n",
      "float: VAR_0527\n",
      "float: VAR_0528\n",
      "float: VAR_0529\n",
      "float: VAR_0530\n",
      "float: VAR_0531\n",
      "int: VAR_0532\n",
      "int: VAR_0533\n",
      "int: VAR_0534\n",
      "int: VAR_0535\n",
      "int: VAR_0536\n",
      "int: VAR_0537\n",
      "int: VAR_0538\n",
      "int: VAR_0539\n",
      "int: VAR_0540\n",
      "int: VAR_0541\n",
      "int: VAR_0542\n",
      "int: VAR_0543\n",
      "int: VAR_0544\n",
      "int: VAR_0545\n",
      "int: VAR_0546\n",
      "int: VAR_0547\n",
      "int: VAR_0548\n",
      "int: VAR_0549\n",
      "int: VAR_0550\n",
      "int: VAR_0551\n",
      "int: VAR_0552\n",
      "int: VAR_0553\n",
      "int: VAR_0554\n",
      "int: VAR_0555\n",
      "int: VAR_0556\n",
      "int: VAR_0557\n",
      "int: VAR_0558\n",
      "int: VAR_0559\n",
      "int: VAR_0560\n",
      "int: VAR_0561\n",
      "int: VAR_0562\n",
      "int: VAR_0563\n",
      "int: VAR_0564\n",
      "int: VAR_0565\n",
      "int: VAR_0566\n",
      "int: VAR_0567\n",
      "int: VAR_0568\n",
      "int: VAR_0569\n",
      "int: VAR_0570\n",
      "int: VAR_0571\n"
     ]
    },
    {
     "name": "stdout",
     "output_type": "stream",
     "text": [
      "int: VAR_0572\n",
      "int: VAR_0573\n",
      "int: VAR_0574\n",
      "int: VAR_0575\n",
      "int: VAR_0576\n",
      "int: VAR_0577\n",
      "int: VAR_0578\n",
      "int: VAR_0579\n",
      "int: VAR_0580\n",
      "int: VAR_0581\n",
      "int: VAR_0582\n",
      "int: VAR_0583\n",
      "int: VAR_0584\n",
      "int: VAR_0585\n",
      "int: VAR_0586\n",
      "int: VAR_0587\n",
      "int: VAR_0588\n",
      "int: VAR_0589\n",
      "int: VAR_0590\n",
      "int: VAR_0591\n",
      "int: VAR_0592\n",
      "int: VAR_0593\n",
      "int: VAR_0594\n",
      "int: VAR_0595\n",
      "int: VAR_0596\n",
      "int: VAR_0597\n",
      "int: VAR_0598\n",
      "int: VAR_0599\n",
      "int: VAR_0600\n",
      "int: VAR_0601\n",
      "int: VAR_0602\n",
      "int: VAR_0603\n",
      "int: VAR_0604\n",
      "int: VAR_0605\n",
      "int: VAR_0606\n",
      "int: VAR_0607\n",
      "int: VAR_0608\n",
      "int: VAR_0609\n",
      "int: VAR_0610\n",
      "int: VAR_0611\n",
      "int: VAR_0612\n",
      "int: VAR_0613\n",
      "int: VAR_0614\n",
      "int: VAR_0615\n",
      "int: VAR_0616\n",
      "int: VAR_0617\n",
      "int: VAR_0618\n",
      "int: VAR_0619\n",
      "int: VAR_0620\n",
      "int: VAR_0621\n",
      "int: VAR_0622\n",
      "int: VAR_0623\n",
      "int: VAR_0624\n",
      "int: VAR_0625\n",
      "int: VAR_0626\n",
      "int: VAR_0627\n",
      "int: VAR_0628\n",
      "int: VAR_0629\n",
      "int: VAR_0630\n",
      "int: VAR_0631\n",
      "int: VAR_0632\n",
      "int: VAR_0633\n",
      "int: VAR_0634\n",
      "int: VAR_0635\n",
      "int: VAR_0636\n",
      "int: VAR_0637\n",
      "int: VAR_0638\n",
      "int: VAR_0639\n",
      "int: VAR_0640\n",
      "int: VAR_0641\n",
      "int: VAR_0642\n",
      "int: VAR_0643\n",
      "int: VAR_0644\n",
      "int: VAR_0645\n",
      "int: VAR_0646\n",
      "int: VAR_0647\n",
      "int: VAR_0648\n",
      "int: VAR_0649\n",
      "int: VAR_0650\n",
      "int: VAR_0651\n",
      "int: VAR_0652\n",
      "int: VAR_0653\n",
      "int: VAR_0654\n",
      "int: VAR_0655\n",
      "int: VAR_0656\n",
      "int: VAR_0657\n",
      "int: VAR_0658\n",
      "int: VAR_0659\n",
      "int: VAR_0660\n",
      "int: VAR_0661\n",
      "int: VAR_0662\n",
      "int: VAR_0663\n",
      "int: VAR_0664\n",
      "int: VAR_0665\n",
      "int: VAR_0666\n",
      "int: VAR_0667\n",
      "int: VAR_0668\n",
      "int: VAR_0669\n",
      "int: VAR_0670\n",
      "int: VAR_0671\n",
      "int: VAR_0672\n",
      "int: VAR_0673\n",
      "int: VAR_0674\n",
      "int: VAR_0675\n",
      "int: VAR_0676\n",
      "int: VAR_0677\n",
      "int: VAR_0678\n",
      "int: VAR_0679\n",
      "int: VAR_0680\n",
      "int: VAR_0681\n",
      "int: VAR_0682\n",
      "int: VAR_0683\n",
      "int: VAR_0684\n",
      "int: VAR_0685\n",
      "int: VAR_0686\n",
      "int: VAR_0687\n",
      "int: VAR_0688\n",
      "int: VAR_0689\n",
      "int: VAR_0690\n",
      "int: VAR_0691\n",
      "int: VAR_0692\n",
      "int: VAR_0693\n",
      "int: VAR_0694\n",
      "int: VAR_0695\n",
      "int: VAR_0696\n",
      "int: VAR_0697\n",
      "int: VAR_0698\n",
      "int: VAR_0699\n",
      "int: VAR_0700\n",
      "int: VAR_0701\n",
      "int: VAR_0702\n",
      "int: VAR_0703\n",
      "int: VAR_0704\n",
      "int: VAR_0705\n",
      "int: VAR_0706\n",
      "int: VAR_0707\n",
      "int: VAR_0708\n",
      "int: VAR_0709\n",
      "int: VAR_0710\n",
      "int: VAR_0711\n",
      "int: VAR_0712\n",
      "int: VAR_0713\n",
      "int: VAR_0714\n",
      "int: VAR_0715\n",
      "int: VAR_0716\n",
      "int: VAR_0717\n",
      "int: VAR_0718\n",
      "int: VAR_0719\n",
      "int: VAR_0720\n",
      "int: VAR_0721\n",
      "int: VAR_0722\n",
      "int: VAR_0723\n",
      "int: VAR_0724\n",
      "int: VAR_0725\n",
      "int: VAR_0726\n",
      "int: VAR_0727\n",
      "int: VAR_0728\n",
      "int: VAR_0729\n",
      "int: VAR_0730\n",
      "int: VAR_0731\n",
      "int: VAR_0732\n",
      "int: VAR_0733\n",
      "int: VAR_0734\n",
      "int: VAR_0735\n",
      "int: VAR_0736\n",
      "int: VAR_0737\n",
      "int: VAR_0738\n",
      "int: VAR_0739\n",
      "int: VAR_0740\n",
      "int: VAR_0741\n",
      "int: VAR_0742\n",
      "int: VAR_0743\n",
      "int: VAR_0744\n",
      "int: VAR_0745\n",
      "int: VAR_0746\n",
      "int: VAR_0747\n",
      "int: VAR_0748\n",
      "int: VAR_0749\n",
      "int: VAR_0750\n",
      "int: VAR_0751\n",
      "int: VAR_0752\n",
      "int: VAR_0753\n",
      "int: VAR_0754\n",
      "int: VAR_0755\n",
      "int: VAR_0756\n",
      "int: VAR_0757\n",
      "int: VAR_0758\n",
      "int: VAR_0759\n",
      "int: VAR_0760\n",
      "int: VAR_0761\n",
      "int: VAR_0762\n",
      "int: VAR_0763\n",
      "int: VAR_0764\n",
      "int: VAR_0765\n",
      "int: VAR_0766\n",
      "int: VAR_0767\n",
      "int: VAR_0768\n",
      "int: VAR_0769\n",
      "int: VAR_0770\n",
      "int: VAR_0771\n",
      "int: VAR_0772\n",
      "int: VAR_0773\n",
      "int: VAR_0774\n",
      "int: VAR_0775\n",
      "int: VAR_0776\n",
      "int: VAR_0777\n",
      "int: VAR_0778\n",
      "int: VAR_0779\n",
      "int: VAR_0780\n",
      "int: VAR_0781\n",
      "int: VAR_0782\n",
      "int: VAR_0783\n",
      "int: VAR_0784\n",
      "int: VAR_0785\n",
      "int: VAR_0786\n",
      "int: VAR_0787\n",
      "int: VAR_0788\n",
      "int: VAR_0789\n",
      "int: VAR_0790\n",
      "int: VAR_0791\n",
      "int: VAR_0792\n",
      "int: VAR_0793\n",
      "int: VAR_0794\n",
      "int: VAR_0795\n",
      "int: VAR_0796\n",
      "int: VAR_0797\n",
      "int: VAR_0798\n",
      "int: VAR_0799\n",
      "int: VAR_0800\n",
      "int: VAR_0801\n",
      "int: VAR_0802\n",
      "int: VAR_0803\n",
      "int: VAR_0804\n",
      "int: VAR_0805\n",
      "int: VAR_0806\n",
      "int: VAR_0807\n",
      "int: VAR_0808\n",
      "int: VAR_0809\n",
      "int: VAR_0810\n",
      "int: VAR_0811\n",
      "int: VAR_0812\n",
      "int: VAR_0813\n",
      "int: VAR_0814\n",
      "int: VAR_0815\n",
      "int: VAR_0816\n",
      "int: VAR_0817\n",
      "int: VAR_0818\n",
      "int: VAR_0819\n",
      "int: VAR_0820\n",
      "int: VAR_0821\n",
      "int: VAR_0822\n",
      "int: VAR_0823\n",
      "int: VAR_0824\n",
      "int: VAR_0825\n",
      "int: VAR_0826\n",
      "int: VAR_0827\n",
      "int: VAR_0828\n",
      "int: VAR_0829\n",
      "int: VAR_0830\n",
      "int: VAR_0831\n",
      "int: VAR_0832\n",
      "int: VAR_0833\n",
      "int: VAR_0834\n",
      "int: VAR_0835\n",
      "int: VAR_0836\n",
      "int: VAR_0837\n",
      "int: VAR_0838\n",
      "int: VAR_0839\n",
      "float: VAR_0840\n",
      "int: VAR_0841\n",
      "int: VAR_0842\n",
      "int: VAR_0843\n",
      "int: VAR_0844\n",
      "int: VAR_0845\n",
      "int: VAR_0846\n",
      "int: VAR_0847\n",
      "int: VAR_0848\n",
      "int: VAR_0849\n",
      "int: VAR_0850\n",
      "int: VAR_0851\n",
      "int: VAR_0852\n",
      "int: VAR_0853\n",
      "int: VAR_0854\n",
      "int: VAR_0855\n",
      "int: VAR_0856\n",
      "int: VAR_0857\n",
      "int: VAR_0858\n",
      "int: VAR_0859\n",
      "int: VAR_0860\n",
      "int: VAR_0861\n",
      "int: VAR_0862\n",
      "int: VAR_0863\n",
      "int: VAR_0864\n",
      "int: VAR_0865\n",
      "int: VAR_0866\n",
      "int: VAR_0867\n",
      "int: VAR_0868\n",
      "int: VAR_0869\n",
      "int: VAR_0870\n",
      "int: VAR_0871\n",
      "int: VAR_0872\n",
      "int: VAR_0873\n",
      "int: VAR_0874\n",
      "int: VAR_0875\n",
      "int: VAR_0876\n",
      "int: VAR_0877\n",
      "int: VAR_0878\n",
      "int: VAR_0879\n",
      "int: VAR_0880\n",
      "int: VAR_0881\n",
      "int: VAR_0882\n",
      "int: VAR_0883\n",
      "int: VAR_0884\n",
      "int: VAR_0885\n",
      "int: VAR_0886\n",
      "int: VAR_0887\n",
      "int: VAR_0888\n",
      "int: VAR_0889\n",
      "int: VAR_0890\n",
      "int: VAR_0891\n",
      "int: VAR_0892\n",
      "int: VAR_0893\n",
      "int: VAR_0894\n",
      "int: VAR_0895\n",
      "int: VAR_0896\n",
      "int: VAR_0897\n",
      "int: VAR_0898\n",
      "int: VAR_0899\n",
      "int: VAR_0900\n",
      "int: VAR_0901\n",
      "int: VAR_0902\n",
      "int: VAR_0903\n",
      "int: VAR_0904\n",
      "int: VAR_0905\n",
      "int: VAR_0906\n",
      "int: VAR_0907\n",
      "int: VAR_0908\n",
      "int: VAR_0909\n",
      "int: VAR_0910\n",
      "int: VAR_0911\n",
      "int: VAR_0912\n",
      "int: VAR_0913\n",
      "int: VAR_0914\n",
      "int: VAR_0915\n",
      "int: VAR_0916\n",
      "int: VAR_0917\n",
      "int: VAR_0918\n",
      "int: VAR_0919\n",
      "int: VAR_0920\n",
      "int: VAR_0921\n",
      "int: VAR_0922\n",
      "int: VAR_0923\n",
      "int: VAR_0924\n",
      "int: VAR_0925\n",
      "int: VAR_0926\n",
      "int: VAR_0927\n",
      "int: VAR_0928\n",
      "int: VAR_0929\n",
      "int: VAR_0930\n",
      "int: VAR_0931\n",
      "int: VAR_0932\n",
      "int: VAR_0933\n",
      "int: VAR_0934\n",
      "int: VAR_0935\n",
      "int: VAR_0936\n",
      "int: VAR_0937\n",
      "int: VAR_0938\n",
      "int: VAR_0939\n",
      "int: VAR_0940\n",
      "int: VAR_0941\n",
      "int: VAR_0942\n",
      "int: VAR_0943\n",
      "int: VAR_0944\n",
      "int: VAR_0945\n",
      "int: VAR_0946\n",
      "int: VAR_0947\n",
      "int: VAR_0948\n",
      "int: VAR_0949\n",
      "int: VAR_0950\n",
      "int: VAR_0951\n",
      "int: VAR_0952\n",
      "int: VAR_0953\n",
      "int: VAR_0954\n",
      "int: VAR_0955\n",
      "int: VAR_0956\n",
      "int: VAR_0957\n",
      "int: VAR_0958\n",
      "int: VAR_0959\n",
      "int: VAR_0960\n",
      "int: VAR_0961\n",
      "int: VAR_0962\n",
      "int: VAR_0963\n",
      "int: VAR_0964\n",
      "int: VAR_0965\n",
      "int: VAR_0966\n",
      "int: VAR_0967\n",
      "int: VAR_0968\n",
      "int: VAR_0969\n",
      "int: VAR_0970\n",
      "int: VAR_0971\n",
      "int: VAR_0972\n",
      "int: VAR_0973\n",
      "int: VAR_0974\n",
      "int: VAR_0975\n",
      "int: VAR_0976\n",
      "int: VAR_0977\n",
      "int: VAR_0978\n",
      "int: VAR_0979\n",
      "int: VAR_0980\n",
      "int: VAR_0981\n",
      "int: VAR_0982\n",
      "int: VAR_0983\n",
      "int: VAR_0984\n",
      "int: VAR_0985\n",
      "int: VAR_0986\n",
      "int: VAR_0987\n",
      "int: VAR_0988\n",
      "int: VAR_0989\n",
      "int: VAR_0990\n",
      "int: VAR_0991\n",
      "int: VAR_0992\n",
      "int: VAR_0993\n",
      "int: VAR_0994\n",
      "int: VAR_0995\n",
      "int: VAR_0996\n",
      "int: VAR_0997\n",
      "int: VAR_0998\n",
      "int: VAR_0999\n",
      "int: VAR_1000\n",
      "int: VAR_1001\n",
      "int: VAR_1002\n",
      "int: VAR_1003\n",
      "int: VAR_1004\n",
      "int: VAR_1005\n",
      "int: VAR_1006\n",
      "int: VAR_1007\n",
      "int: VAR_1008\n",
      "int: VAR_1009\n",
      "int: VAR_1010\n",
      "int: VAR_1011\n",
      "int: VAR_1012\n",
      "int: VAR_1013\n",
      "int: VAR_1014\n",
      "int: VAR_1015\n",
      "int: VAR_1016\n",
      "int: VAR_1017\n",
      "int: VAR_1018\n",
      "int: VAR_1019\n",
      "int: VAR_1020\n",
      "int: VAR_1021\n",
      "int: VAR_1022\n",
      "int: VAR_1023\n",
      "int: VAR_1024\n",
      "int: VAR_1025\n",
      "int: VAR_1026\n",
      "int: VAR_1027\n",
      "int: VAR_1028\n",
      "int: VAR_1029\n",
      "int: VAR_1030\n",
      "int: VAR_1031\n",
      "int: VAR_1032\n",
      "int: VAR_1033\n",
      "int: VAR_1034\n",
      "int: VAR_1035\n",
      "int: VAR_1036\n",
      "int: VAR_1037\n",
      "int: VAR_1038\n",
      "int: VAR_1039\n",
      "int: VAR_1040\n",
      "int: VAR_1041\n",
      "int: VAR_1042\n",
      "int: VAR_1043\n",
      "int: VAR_1044\n",
      "int: VAR_1045\n",
      "int: VAR_1046\n",
      "int: VAR_1047\n",
      "int: VAR_1048\n",
      "int: VAR_1049\n",
      "int: VAR_1050\n",
      "int: VAR_1051\n",
      "int: VAR_1052\n",
      "int: VAR_1053\n",
      "int: VAR_1054\n",
      "int: VAR_1055\n",
      "int: VAR_1056\n",
      "int: VAR_1057\n",
      "int: VAR_1058\n",
      "int: VAR_1059\n",
      "int: VAR_1060\n",
      "int: VAR_1061\n",
      "int: VAR_1062\n",
      "int: VAR_1063\n",
      "int: VAR_1064\n",
      "int: VAR_1065\n",
      "int: VAR_1066\n",
      "int: VAR_1067\n",
      "int: VAR_1068\n",
      "int: VAR_1069\n",
      "int: VAR_1070\n",
      "int: VAR_1071\n",
      "int: VAR_1072\n",
      "int: VAR_1073\n",
      "int: VAR_1074\n",
      "int: VAR_1075\n",
      "int: VAR_1076\n",
      "int: VAR_1077\n",
      "int: VAR_1078\n",
      "int: VAR_1079\n",
      "int: VAR_1080\n",
      "int: VAR_1081\n",
      "int: VAR_1082\n",
      "int: VAR_1083\n",
      "int: VAR_1084\n",
      "int: VAR_1085\n",
      "int: VAR_1086\n",
      "int: VAR_1087\n",
      "int: VAR_1088\n",
      "int: VAR_1089\n",
      "int: VAR_1090\n",
      "int: VAR_1091\n",
      "int: VAR_1092\n",
      "int: VAR_1093\n",
      "int: VAR_1094\n",
      "int: VAR_1095\n",
      "int: VAR_1096\n",
      "int: VAR_1097\n",
      "int: VAR_1098\n",
      "int: VAR_1099\n",
      "int: VAR_1100\n",
      "int: VAR_1101\n",
      "int: VAR_1102\n",
      "int: VAR_1103\n",
      "int: VAR_1104\n",
      "int: VAR_1105\n",
      "int: VAR_1106\n",
      "int: VAR_1107\n",
      "int: VAR_1108\n",
      "int: VAR_1109\n",
      "int: VAR_1110\n",
      "int: VAR_1111\n",
      "int: VAR_1112\n",
      "int: VAR_1113\n",
      "int: VAR_1114\n",
      "int: VAR_1115\n",
      "int: VAR_1116\n",
      "int: VAR_1117\n",
      "int: VAR_1118\n",
      "int: VAR_1119\n",
      "int: VAR_1120\n",
      "int: VAR_1121\n",
      "int: VAR_1122\n",
      "int: VAR_1123\n",
      "int: VAR_1124\n",
      "int: VAR_1125\n",
      "int: VAR_1126\n",
      "int: VAR_1127\n",
      "int: VAR_1128\n",
      "int: VAR_1129\n",
      "int: VAR_1130\n",
      "int: VAR_1131\n",
      "int: VAR_1132\n",
      "int: VAR_1133\n",
      "int: VAR_1134\n",
      "int: VAR_1135\n",
      "int: VAR_1136\n",
      "int: VAR_1137\n",
      "int: VAR_1138\n",
      "int: VAR_1139\n",
      "int: VAR_1140\n",
      "int: VAR_1141\n",
      "int: VAR_1142\n",
      "int: VAR_1143\n",
      "int: VAR_1144\n",
      "int: VAR_1145\n",
      "int: VAR_1146\n",
      "int: VAR_1147\n",
      "int: VAR_1148\n",
      "int: VAR_1149\n",
      "int: VAR_1150\n",
      "int: VAR_1151\n",
      "int: VAR_1152\n",
      "int: VAR_1153\n",
      "int: VAR_1154\n",
      "int: VAR_1155\n",
      "int: VAR_1156\n",
      "int: VAR_1157\n",
      "int: VAR_1158\n",
      "int: VAR_1159\n",
      "int: VAR_1160\n",
      "int: VAR_1161\n"
     ]
    },
    {
     "name": "stdout",
     "output_type": "stream",
     "text": [
      "int: VAR_1162\n",
      "int: VAR_1163\n",
      "int: VAR_1164\n",
      "int: VAR_1165\n",
      "int: VAR_1166\n",
      "int: VAR_1167\n",
      "int: VAR_1168\n",
      "int: VAR_1169\n",
      "int: VAR_1170\n",
      "int: VAR_1171\n",
      "int: VAR_1172\n",
      "int: VAR_1173\n",
      "int: VAR_1174\n",
      "int: VAR_1175\n",
      "int: VAR_1176\n",
      "int: VAR_1177\n",
      "int: VAR_1178\n",
      "int: VAR_1179\n",
      "int: VAR_1180\n",
      "int: VAR_1181\n",
      "int: VAR_1182\n",
      "int: VAR_1183\n",
      "int: VAR_1184\n",
      "int: VAR_1185\n",
      "int: VAR_1186\n",
      "int: VAR_1187\n",
      "int: VAR_1188\n",
      "int: VAR_1189\n",
      "int: VAR_1190\n",
      "int: VAR_1191\n",
      "int: VAR_1192\n",
      "int: VAR_1193\n",
      "int: VAR_1194\n",
      "int: VAR_1195\n",
      "int: VAR_1196\n",
      "int: VAR_1197\n",
      "int: VAR_1198\n",
      "int: VAR_1199\n",
      "int: VAR_1200\n",
      "int: VAR_1201\n",
      "int: VAR_1202\n",
      "int: VAR_1203\n",
      "int: VAR_1204\n",
      "int: VAR_1205\n",
      "int: VAR_1206\n",
      "int: VAR_1207\n",
      "int: VAR_1208\n",
      "int: VAR_1209\n",
      "int: VAR_1210\n",
      "int: VAR_1211\n",
      "int: VAR_1212\n",
      "int: VAR_1213\n",
      "int: VAR_1214\n",
      "int: VAR_1215\n",
      "int: VAR_1216\n",
      "int: VAR_1217\n",
      "int: VAR_1218\n",
      "int: VAR_1219\n",
      "int: VAR_1220\n",
      "int: VAR_1221\n",
      "int: VAR_1222\n",
      "int: VAR_1223\n",
      "int: VAR_1224\n",
      "int: VAR_1225\n",
      "int: VAR_1226\n",
      "int: VAR_1227\n",
      "int: VAR_1228\n",
      "int: VAR_1229\n",
      "int: VAR_1230\n",
      "int: VAR_1231\n",
      "int: VAR_1232\n",
      "int: VAR_1233\n",
      "int: VAR_1234\n",
      "int: VAR_1235\n",
      "int: VAR_1236\n",
      "int: VAR_1237\n",
      "int: VAR_1238\n",
      "int: VAR_1239\n",
      "int: VAR_1240\n",
      "int: VAR_1241\n",
      "int: VAR_1242\n",
      "int: VAR_1243\n",
      "int: VAR_1244\n",
      "int: VAR_1245\n",
      "int: VAR_1246\n",
      "int: VAR_1247\n",
      "int: VAR_1248\n",
      "int: VAR_1249\n",
      "int: VAR_1250\n",
      "int: VAR_1251\n",
      "int: VAR_1252\n",
      "int: VAR_1253\n",
      "int: VAR_1254\n",
      "int: VAR_1255\n",
      "int: VAR_1256\n",
      "int: VAR_1257\n",
      "int: VAR_1258\n",
      "int: VAR_1259\n",
      "int: VAR_1260\n",
      "int: VAR_1261\n",
      "int: VAR_1262\n",
      "int: VAR_1263\n",
      "int: VAR_1264\n",
      "int: VAR_1265\n",
      "int: VAR_1266\n",
      "int: VAR_1267\n",
      "int: VAR_1268\n",
      "int: VAR_1269\n",
      "int: VAR_1270\n",
      "int: VAR_1271\n",
      "int: VAR_1272\n",
      "int: VAR_1273\n",
      "int: VAR_1274\n",
      "int: VAR_1275\n",
      "int: VAR_1276\n",
      "int: VAR_1277\n",
      "int: VAR_1278\n",
      "int: VAR_1279\n",
      "int: VAR_1280\n",
      "int: VAR_1281\n",
      "int: VAR_1282\n",
      "int: VAR_1283\n",
      "int: VAR_1284\n",
      "int: VAR_1285\n",
      "int: VAR_1286\n",
      "int: VAR_1287\n",
      "int: VAR_1288\n",
      "int: VAR_1289\n",
      "int: VAR_1290\n",
      "int: VAR_1291\n",
      "int: VAR_1292\n",
      "int: VAR_1293\n",
      "int: VAR_1294\n",
      "int: VAR_1295\n",
      "int: VAR_1296\n",
      "int: VAR_1297\n",
      "int: VAR_1298\n",
      "int: VAR_1299\n",
      "int: VAR_1300\n",
      "int: VAR_1301\n",
      "int: VAR_1302\n",
      "int: VAR_1303\n",
      "int: VAR_1304\n",
      "int: VAR_1305\n",
      "int: VAR_1306\n",
      "int: VAR_1307\n",
      "int: VAR_1308\n",
      "int: VAR_1309\n",
      "int: VAR_1310\n",
      "int: VAR_1311\n",
      "int: VAR_1312\n",
      "int: VAR_1313\n",
      "int: VAR_1314\n",
      "int: VAR_1315\n",
      "int: VAR_1316\n",
      "int: VAR_1317\n",
      "int: VAR_1318\n",
      "int: VAR_1319\n",
      "int: VAR_1320\n",
      "int: VAR_1321\n",
      "int: VAR_1322\n",
      "int: VAR_1323\n",
      "int: VAR_1324\n",
      "int: VAR_1325\n",
      "int: VAR_1326\n",
      "int: VAR_1327\n",
      "int: VAR_1328\n",
      "int: VAR_1329\n",
      "int: VAR_1330\n",
      "int: VAR_1331\n",
      "int: VAR_1332\n",
      "int: VAR_1333\n",
      "int: VAR_1334\n",
      "int: VAR_1335\n",
      "int: VAR_1336\n",
      "int: VAR_1337\n",
      "int: VAR_1338\n",
      "int: VAR_1339\n",
      "int: VAR_1340\n",
      "int: VAR_1341\n",
      "int: VAR_1342\n",
      "int: VAR_1343\n",
      "int: VAR_1344\n",
      "int: VAR_1345\n",
      "int: VAR_1346\n",
      "int: VAR_1347\n",
      "int: VAR_1348\n",
      "int: VAR_1349\n",
      "int: VAR_1350\n",
      "int: VAR_1351\n",
      "int: VAR_1352\n",
      "int: VAR_1353\n",
      "int: VAR_1354\n",
      "int: VAR_1355\n",
      "int: VAR_1356\n",
      "int: VAR_1357\n",
      "int: VAR_1358\n",
      "int: VAR_1359\n",
      "int: VAR_1360\n",
      "int: VAR_1361\n",
      "int: VAR_1362\n",
      "int: VAR_1363\n",
      "int: VAR_1364\n",
      "int: VAR_1365\n",
      "int: VAR_1366\n",
      "int: VAR_1367\n",
      "int: VAR_1368\n",
      "int: VAR_1369\n",
      "int: VAR_1370\n",
      "int: VAR_1371\n",
      "int: VAR_1372\n",
      "int: VAR_1373\n",
      "int: VAR_1374\n",
      "int: VAR_1375\n",
      "int: VAR_1376\n",
      "int: VAR_1377\n",
      "int: VAR_1378\n",
      "int: VAR_1379\n",
      "int: VAR_1380\n",
      "int: VAR_1381\n",
      "int: VAR_1382\n",
      "int: VAR_1383\n",
      "int: VAR_1384\n",
      "int: VAR_1385\n",
      "int: VAR_1386\n",
      "int: VAR_1387\n",
      "int: VAR_1388\n",
      "int: VAR_1389\n",
      "int: VAR_1390\n",
      "int: VAR_1391\n",
      "int: VAR_1392\n",
      "int: VAR_1393\n",
      "int: VAR_1394\n",
      "int: VAR_1395\n",
      "int: VAR_1396\n",
      "int: VAR_1397\n",
      "int: VAR_1398\n",
      "int: VAR_1399\n",
      "int: VAR_1400\n",
      "int: VAR_1401\n",
      "int: VAR_1402\n",
      "int: VAR_1403\n",
      "int: VAR_1404\n",
      "int: VAR_1405\n",
      "int: VAR_1406\n",
      "int: VAR_1407\n",
      "int: VAR_1408\n",
      "int: VAR_1409\n",
      "int: VAR_1410\n",
      "int: VAR_1411\n",
      "int: VAR_1412\n",
      "int: VAR_1413\n",
      "int: VAR_1414\n",
      "int: VAR_1415\n",
      "int: VAR_1416\n",
      "int: VAR_1417\n",
      "int: VAR_1418\n",
      "int: VAR_1419\n",
      "int: VAR_1420\n",
      "int: VAR_1421\n",
      "int: VAR_1422\n",
      "int: VAR_1423\n",
      "int: VAR_1424\n",
      "int: VAR_1425\n",
      "int: VAR_1426\n",
      "int: VAR_1427\n",
      "int: VAR_1428\n",
      "int: VAR_1429\n",
      "int: VAR_1430\n",
      "int: VAR_1431\n",
      "int: VAR_1432\n",
      "int: VAR_1433\n",
      "int: VAR_1434\n",
      "int: VAR_1435\n",
      "int: VAR_1436\n",
      "int: VAR_1437\n",
      "int: VAR_1438\n",
      "int: VAR_1439\n",
      "int: VAR_1440\n",
      "int: VAR_1441\n",
      "int: VAR_1442\n",
      "int: VAR_1443\n",
      "int: VAR_1444\n",
      "int: VAR_1445\n",
      "int: VAR_1446\n",
      "int: VAR_1447\n",
      "int: VAR_1448\n",
      "int: VAR_1449\n",
      "int: VAR_1450\n",
      "int: VAR_1451\n",
      "int: VAR_1452\n",
      "int: VAR_1453\n",
      "int: VAR_1454\n",
      "int: VAR_1455\n",
      "int: VAR_1456\n",
      "int: VAR_1457\n",
      "int: VAR_1458\n",
      "int: VAR_1459\n",
      "int: VAR_1460\n",
      "int: VAR_1461\n",
      "int: VAR_1462\n",
      "int: VAR_1463\n",
      "int: VAR_1464\n",
      "int: VAR_1465\n",
      "int: VAR_1466\n",
      "int: VAR_1467\n",
      "int: VAR_1468\n",
      "int: VAR_1469\n",
      "int: VAR_1470\n",
      "int: VAR_1471\n",
      "int: VAR_1472\n",
      "int: VAR_1473\n",
      "int: VAR_1474\n",
      "int: VAR_1475\n",
      "int: VAR_1476\n",
      "int: VAR_1477\n",
      "int: VAR_1478\n",
      "int: VAR_1479\n",
      "int: VAR_1480\n",
      "int: VAR_1481\n",
      "int: VAR_1482\n",
      "int: VAR_1483\n",
      "int: VAR_1484\n",
      "int: VAR_1485\n",
      "int: VAR_1486\n",
      "int: VAR_1487\n",
      "int: VAR_1488\n",
      "int: VAR_1489\n",
      "int: VAR_1490\n",
      "int: VAR_1491\n",
      "int: VAR_1492\n",
      "int: VAR_1493\n",
      "int: VAR_1494\n",
      "int: VAR_1495\n",
      "int: VAR_1496\n",
      "int: VAR_1497\n",
      "int: VAR_1498\n",
      "int: VAR_1499\n",
      "int: VAR_1500\n",
      "int: VAR_1501\n",
      "int: VAR_1502\n",
      "int: VAR_1503\n",
      "int: VAR_1504\n",
      "int: VAR_1505\n",
      "int: VAR_1506\n",
      "int: VAR_1507\n",
      "int: VAR_1508\n",
      "int: VAR_1509\n",
      "int: VAR_1510\n",
      "int: VAR_1511\n",
      "int: VAR_1512\n",
      "int: VAR_1513\n",
      "int: VAR_1514\n",
      "int: VAR_1515\n",
      "int: VAR_1516\n",
      "int: VAR_1517\n",
      "int: VAR_1518\n",
      "int: VAR_1519\n",
      "int: VAR_1520\n",
      "int: VAR_1521\n",
      "int: VAR_1522\n",
      "int: VAR_1523\n",
      "int: VAR_1524\n",
      "int: VAR_1525\n",
      "int: VAR_1526\n",
      "int: VAR_1527\n",
      "int: VAR_1528\n",
      "int: VAR_1529\n",
      "int: VAR_1530\n",
      "int: VAR_1531\n",
      "int: VAR_1532\n",
      "int: VAR_1533\n",
      "int: VAR_1534\n",
      "int: VAR_1535\n",
      "int: VAR_1536\n",
      "int: VAR_1537\n",
      "int: VAR_1538\n",
      "int: VAR_1539\n",
      "int: VAR_1540\n",
      "int: VAR_1541\n",
      "int: VAR_1542\n",
      "int: VAR_1543\n",
      "int: VAR_1544\n",
      "int: VAR_1545\n",
      "int: VAR_1546\n",
      "int: VAR_1547\n",
      "int: VAR_1548\n",
      "int: VAR_1549\n",
      "int: VAR_1550\n",
      "int: VAR_1551\n",
      "int: VAR_1552\n",
      "int: VAR_1553\n",
      "int: VAR_1554\n",
      "int: VAR_1555\n",
      "int: VAR_1556\n",
      "int: VAR_1557\n",
      "int: VAR_1558\n",
      "int: VAR_1559\n",
      "int: VAR_1560\n",
      "int: VAR_1561\n",
      "int: VAR_1562\n",
      "int: VAR_1563\n",
      "int: VAR_1564\n",
      "int: VAR_1565\n",
      "int: VAR_1566\n",
      "int: VAR_1567\n",
      "int: VAR_1568\n",
      "int: VAR_1569\n",
      "int: VAR_1570\n",
      "int: VAR_1571\n",
      "int: VAR_1572\n",
      "int: VAR_1573\n",
      "int: VAR_1574\n",
      "int: VAR_1575\n",
      "int: VAR_1576\n",
      "int: VAR_1577\n",
      "int: VAR_1578\n",
      "int: VAR_1579\n",
      "int: VAR_1580\n",
      "int: VAR_1581\n",
      "int: VAR_1582\n",
      "int: VAR_1583\n",
      "int: VAR_1584\n",
      "int: VAR_1585\n",
      "int: VAR_1586\n",
      "int: VAR_1587\n",
      "int: VAR_1588\n",
      "int: VAR_1589\n",
      "int: VAR_1590\n",
      "int: VAR_1591\n",
      "int: VAR_1592\n",
      "int: VAR_1593\n",
      "int: VAR_1594\n",
      "int: VAR_1595\n",
      "int: VAR_1596\n",
      "int: VAR_1597\n",
      "int: VAR_1598\n",
      "int: VAR_1599\n",
      "int: VAR_1600\n",
      "int: VAR_1601\n",
      "int: VAR_1602\n",
      "int: VAR_1603\n",
      "int: VAR_1604\n",
      "int: VAR_1605\n",
      "int: VAR_1606\n",
      "int: VAR_1607\n",
      "int: VAR_1608\n",
      "int: VAR_1609\n",
      "int: VAR_1610\n",
      "int: VAR_1611\n",
      "int: VAR_1612\n",
      "int: VAR_1613\n",
      "int: VAR_1614\n",
      "int: VAR_1615\n",
      "int: VAR_1616\n",
      "int: VAR_1617\n",
      "int: VAR_1618\n",
      "int: VAR_1619\n",
      "int: VAR_1620\n",
      "int: VAR_1621\n",
      "int: VAR_1622\n",
      "int: VAR_1623\n",
      "int: VAR_1624\n",
      "int: VAR_1625\n",
      "int: VAR_1626\n",
      "int: VAR_1627\n",
      "int: VAR_1628\n",
      "int: VAR_1629\n",
      "int: VAR_1630\n",
      "int: VAR_1631\n",
      "int: VAR_1632\n",
      "int: VAR_1633\n",
      "int: VAR_1634\n",
      "int: VAR_1635\n",
      "int: VAR_1636\n",
      "int: VAR_1637\n",
      "int: VAR_1638\n",
      "int: VAR_1639\n",
      "int: VAR_1640\n",
      "int: VAR_1641\n",
      "int: VAR_1642\n",
      "int: VAR_1643\n",
      "int: VAR_1644\n",
      "int: VAR_1645\n",
      "int: VAR_1646\n",
      "int: VAR_1647\n",
      "int: VAR_1648\n",
      "int: VAR_1649\n",
      "int: VAR_1650\n",
      "int: VAR_1651\n",
      "int: VAR_1652\n",
      "int: VAR_1653\n",
      "int: VAR_1654\n",
      "int: VAR_1655\n",
      "int: VAR_1656\n",
      "int: VAR_1657\n",
      "int: VAR_1658\n",
      "int: VAR_1659\n",
      "int: VAR_1660\n",
      "int: VAR_1661\n",
      "int: VAR_1662\n",
      "int: VAR_1663\n",
      "int: VAR_1664\n",
      "int: VAR_1665\n",
      "int: VAR_1666\n",
      "int: VAR_1667\n",
      "int: VAR_1668\n",
      "int: VAR_1669\n",
      "int: VAR_1670\n",
      "int: VAR_1671\n",
      "int: VAR_1672\n",
      "int: VAR_1673\n",
      "int: VAR_1674\n",
      "int: VAR_1675\n",
      "int: VAR_1676\n",
      "int: VAR_1677\n",
      "int: VAR_1678\n",
      "int: VAR_1679\n",
      "int: VAR_1680\n",
      "int: VAR_1681\n",
      "int: VAR_1682\n",
      "int: VAR_1683\n",
      "int: VAR_1684\n",
      "int: VAR_1685\n",
      "int: VAR_1686\n",
      "int: VAR_1687\n",
      "int: VAR_1688\n",
      "int: VAR_1689\n",
      "int: VAR_1690\n",
      "int: VAR_1691\n",
      "int: VAR_1692\n",
      "int: VAR_1693\n",
      "int: VAR_1694\n",
      "int: VAR_1695\n",
      "int: VAR_1696\n",
      "int: VAR_1697\n",
      "int: VAR_1698\n",
      "int: VAR_1699\n",
      "int: VAR_1700\n",
      "int: VAR_1701\n",
      "int: VAR_1702\n",
      "int: VAR_1703\n",
      "int: VAR_1704\n",
      "int: VAR_1705\n",
      "int: VAR_1706\n",
      "int: VAR_1707\n",
      "int: VAR_1708\n",
      "int: VAR_1709\n",
      "int: VAR_1710\n",
      "int: VAR_1711\n",
      "int: VAR_1712\n",
      "int: VAR_1713\n",
      "int: VAR_1714\n",
      "int: VAR_1715\n",
      "int: VAR_1716\n",
      "int: VAR_1717\n",
      "int: VAR_1718\n",
      "int: VAR_1719\n",
      "int: VAR_1720\n",
      "int: VAR_1721\n",
      "int: VAR_1722\n",
      "int: VAR_1723\n",
      "int: VAR_1724\n",
      "int: VAR_1725\n",
      "int: VAR_1726\n",
      "int: VAR_1727\n",
      "int: VAR_1728\n",
      "int: VAR_1729\n",
      "int: VAR_1730\n",
      "int: VAR_1731\n",
      "int: VAR_1732\n",
      "int: VAR_1733\n",
      "int: VAR_1734\n",
      "int: VAR_1735\n",
      "int: VAR_1736\n",
      "int: VAR_1737\n",
      "int: VAR_1738\n",
      "int: VAR_1739\n",
      "int: VAR_1740\n",
      "int: VAR_1741\n",
      "int: VAR_1742\n",
      "int: VAR_1743\n",
      "int: VAR_1744\n",
      "int: VAR_1745\n",
      "int: VAR_1746\n",
      "int: VAR_1747\n",
      "int: VAR_1748\n",
      "int: VAR_1749\n"
     ]
    },
    {
     "name": "stdout",
     "output_type": "stream",
     "text": [
      "int: VAR_1750\n",
      "int: VAR_1751\n",
      "int: VAR_1752\n",
      "int: VAR_1753\n",
      "int: VAR_1754\n",
      "int: VAR_1755\n",
      "int: VAR_1756\n",
      "int: VAR_1757\n",
      "int: VAR_1758\n",
      "int: VAR_1759\n",
      "int: VAR_1760\n",
      "int: VAR_1761\n",
      "int: VAR_1762\n",
      "int: VAR_1763\n",
      "int: VAR_1764\n",
      "int: VAR_1765\n",
      "int: VAR_1766\n",
      "int: VAR_1767\n",
      "int: VAR_1768\n",
      "int: VAR_1769\n",
      "int: VAR_1770\n",
      "int: VAR_1771\n",
      "int: VAR_1772\n",
      "int: VAR_1773\n",
      "int: VAR_1774\n",
      "int: VAR_1775\n",
      "int: VAR_1776\n",
      "int: VAR_1777\n",
      "int: VAR_1778\n",
      "int: VAR_1779\n",
      "int: VAR_1780\n",
      "int: VAR_1781\n",
      "int: VAR_1782\n",
      "int: VAR_1783\n",
      "int: VAR_1784\n",
      "int: VAR_1785\n",
      "int: VAR_1786\n",
      "int: VAR_1787\n",
      "int: VAR_1788\n",
      "int: VAR_1789\n",
      "int: VAR_1790\n",
      "int: VAR_1791\n",
      "int: VAR_1792\n",
      "int: VAR_1793\n",
      "int: VAR_1794\n",
      "int: VAR_1795\n",
      "int: VAR_1796\n",
      "int: VAR_1797\n",
      "int: VAR_1798\n",
      "int: VAR_1799\n",
      "int: VAR_1800\n",
      "int: VAR_1801\n",
      "int: VAR_1802\n",
      "int: VAR_1803\n",
      "int: VAR_1804\n",
      "int: VAR_1805\n",
      "int: VAR_1806\n",
      "int: VAR_1807\n",
      "int: VAR_1808\n",
      "int: VAR_1809\n",
      "int: VAR_1810\n",
      "int: VAR_1811\n",
      "int: VAR_1812\n",
      "int: VAR_1813\n",
      "int: VAR_1814\n",
      "int: VAR_1815\n",
      "int: VAR_1816\n",
      "int: VAR_1817\n",
      "int: VAR_1818\n",
      "int: VAR_1819\n",
      "int: VAR_1820\n",
      "int: VAR_1821\n",
      "int: VAR_1822\n",
      "int: VAR_1823\n",
      "int: VAR_1824\n",
      "int: VAR_1825\n",
      "int: VAR_1826\n",
      "int: VAR_1827\n",
      "int: VAR_1828\n",
      "int: VAR_1829\n",
      "int: VAR_1830\n",
      "int: VAR_1831\n",
      "int: VAR_1832\n",
      "int: VAR_1833\n",
      "int: VAR_1834\n",
      "int: VAR_1835\n",
      "int: VAR_1836\n",
      "int: VAR_1837\n",
      "int: VAR_1838\n",
      "int: VAR_1839\n",
      "int: VAR_1840\n",
      "int: VAR_1841\n",
      "int: VAR_1842\n",
      "int: VAR_1843\n",
      "int: VAR_1844\n",
      "int: VAR_1845\n",
      "int: VAR_1846\n",
      "int: VAR_1847\n",
      "int: VAR_1848\n",
      "int: VAR_1849\n",
      "int: VAR_1850\n",
      "int: VAR_1851\n",
      "int: VAR_1852\n",
      "int: VAR_1853\n",
      "int: VAR_1854\n",
      "int: VAR_1855\n",
      "int: VAR_1856\n",
      "int: VAR_1857\n",
      "int: VAR_1858\n",
      "int: VAR_1859\n",
      "int: VAR_1860\n",
      "int: VAR_1861\n",
      "int: VAR_1862\n",
      "int: VAR_1863\n",
      "int: VAR_1864\n",
      "int: VAR_1865\n",
      "int: VAR_1866\n",
      "int: VAR_1867\n",
      "int: VAR_1868\n",
      "int: VAR_1869\n",
      "int: VAR_1870\n",
      "int: VAR_1871\n",
      "int: VAR_1872\n",
      "int: VAR_1873\n",
      "int: VAR_1874\n",
      "int: VAR_1875\n",
      "int: VAR_1876\n",
      "int: VAR_1877\n",
      "int: VAR_1878\n",
      "int: VAR_1879\n",
      "int: VAR_1880\n",
      "int: VAR_1881\n",
      "int: VAR_1882\n",
      "int: VAR_1883\n",
      "int: VAR_1884\n",
      "int: VAR_1885\n",
      "int: VAR_1886\n",
      "int: VAR_1887\n",
      "int: VAR_1888\n",
      "int: VAR_1889\n",
      "int: VAR_1890\n",
      "int: VAR_1891\n",
      "int: VAR_1892\n",
      "int: VAR_1893\n",
      "int: VAR_1894\n",
      "int: VAR_1895\n",
      "int: VAR_1896\n",
      "int: VAR_1897\n",
      "int: VAR_1898\n",
      "int: VAR_1899\n",
      "int: VAR_1900\n",
      "int: VAR_1901\n",
      "int: VAR_1902\n",
      "int: VAR_1903\n",
      "int: VAR_1904\n",
      "int: VAR_1905\n",
      "int: VAR_1906\n",
      "int: VAR_1907\n",
      "int: VAR_1908\n",
      "int: VAR_1909\n",
      "int: VAR_1910\n",
      "int: VAR_1911\n",
      "int: VAR_1912\n",
      "int: VAR_1913\n",
      "int: VAR_1914\n",
      "int: VAR_1915\n",
      "int: VAR_1916\n",
      "int: VAR_1917\n",
      "int: VAR_1918\n",
      "int: VAR_1919\n",
      "int: VAR_1920\n",
      "int: VAR_1921\n",
      "int: VAR_1922\n",
      "int: VAR_1923\n",
      "int: VAR_1924\n",
      "int: VAR_1925\n",
      "int: VAR_1926\n",
      "int: VAR_1927\n",
      "int: VAR_1928\n",
      "int: VAR_1929\n",
      "int: VAR_1930\n",
      "int: VAR_1931\n",
      "int: VAR_1932\n",
      "int: VAR_1933\n"
     ]
    },
    {
     "data": {
      "text/plain": [
       "uint16     1404\n",
       "float16     477\n",
       "object       51\n",
       "dtype: int64"
      ]
     },
     "execution_count": 9,
     "metadata": {},
     "output_type": "execute_result"
    }
   ],
   "source": [
    "for column in df_traincp:\n",
    "    if df_traincp[column].dtypes == 'int64':\n",
    "        print(\"int:\", column)\n",
    "        df_traincp[column]=df_traincp[column].astype('uint16')\n",
    "    elif df_traincp[column].dtypes == 'float64':\n",
    "        print(\"float:\", column)\n",
    "        df_traincp[column]=df_traincp[column].astype('float16')\n",
    "df_traincp.dtypes.value_counts()"
   ]
  },
  {
   "cell_type": "code",
   "execution_count": 11,
   "metadata": {},
   "outputs": [
    {
     "name": "stdout",
     "output_type": "stream",
     "text": [
      "--Revised memory usage (MB) --\n",
      "\n"
     ]
    },
    {
     "data": {
      "text/plain": [
       "60.561038"
      ]
     },
     "execution_count": 11,
     "metadata": {},
     "output_type": "execute_result"
    }
   ],
   "source": [
    "print(\"--Revised memory usage (MB) --\\n\")\n",
    "df_traincp.memory_usage().sum()/1000000"
   ]
  },
  {
   "cell_type": "code",
   "execution_count": 12,
   "metadata": {},
   "outputs": [],
   "source": [
    "#df1_train=df_train\n",
    "#df1_train"
   ]
  },
  {
   "cell_type": "code",
   "execution_count": 13,
   "metadata": {},
   "outputs": [
    {
     "data": {
      "text/plain": [
       "'VAR_0001'"
      ]
     },
     "execution_count": 13,
     "metadata": {},
     "output_type": "execute_result"
    },
    {
     "name": "stdout",
     "output_type": "stream",
     "text": [
      "No. of unique values: 3\n",
      "No.of Null Values: 0\n"
     ]
    },
    {
     "data": {
      "text/plain": [
       "'VAR_0002'"
      ]
     },
     "execution_count": 13,
     "metadata": {},
     "output_type": "execute_result"
    },
    {
     "name": "stdout",
     "output_type": "stream",
     "text": [
      "No. of unique values: 600\n",
      "No.of Null Values: 0\n"
     ]
    },
    {
     "data": {
      "text/plain": [
       "'VAR_0003'"
      ]
     },
     "execution_count": 13,
     "metadata": {},
     "output_type": "execute_result"
    },
    {
     "name": "stdout",
     "output_type": "stream",
     "text": [
      "No. of unique values: 459\n",
      "No.of Null Values: 0\n"
     ]
    },
    {
     "data": {
      "text/plain": [
       "'VAR_0004'"
      ]
     },
     "execution_count": 13,
     "metadata": {},
     "output_type": "execute_result"
    },
    {
     "name": "stdout",
     "output_type": "stream",
     "text": [
      "No. of unique values: 3634\n",
      "No.of Null Values: 0\n"
     ]
    },
    {
     "data": {
      "text/plain": [
       "'VAR_0005'"
      ]
     },
     "execution_count": 13,
     "metadata": {},
     "output_type": "execute_result"
    },
    {
     "name": "stdout",
     "output_type": "stream",
     "text": [
      "No. of unique values: 4\n",
      "No.of Null Values: 0\n"
     ]
    },
    {
     "data": {
      "text/plain": [
       "'VAR_0006'"
      ]
     },
     "execution_count": 13,
     "metadata": {},
     "output_type": "execute_result"
    },
    {
     "name": "stdout",
     "output_type": "stream",
     "text": [
      "No. of unique values: 24\n",
      "No.of Null Values: 11\n"
     ]
    },
    {
     "data": {
      "text/plain": [
       "'VAR_0007'"
      ]
     },
     "execution_count": 13,
     "metadata": {},
     "output_type": "execute_result"
    },
    {
     "name": "stdout",
     "output_type": "stream",
     "text": [
      "No. of unique values: 25\n",
      "No.of Null Values: 11\n"
     ]
    },
    {
     "data": {
      "text/plain": [
       "'VAR_0008'"
      ]
     },
     "execution_count": 13,
     "metadata": {},
     "output_type": "execute_result"
    },
    {
     "name": "stdout",
     "output_type": "stream",
     "text": [
      "No. of unique values: 1\n",
      "No.of Null Values: 11\n"
     ]
    },
    {
     "data": {
      "text/plain": [
       "'VAR_0009'"
      ]
     },
     "execution_count": 13,
     "metadata": {},
     "output_type": "execute_result"
    },
    {
     "name": "stdout",
     "output_type": "stream",
     "text": [
      "No. of unique values: 1\n",
      "No.of Null Values: 11\n"
     ]
    },
    {
     "data": {
      "text/plain": [
       "'VAR_0010'"
      ]
     },
     "execution_count": 13,
     "metadata": {},
     "output_type": "execute_result"
    },
    {
     "name": "stdout",
     "output_type": "stream",
     "text": [
      "No. of unique values: 1\n",
      "No.of Null Values: 11\n"
     ]
    },
    {
     "data": {
      "text/plain": [
       "'VAR_0011'"
      ]
     },
     "execution_count": 13,
     "metadata": {},
     "output_type": "execute_result"
    },
    {
     "name": "stdout",
     "output_type": "stream",
     "text": [
      "No. of unique values: 1\n",
      "No.of Null Values: 11\n"
     ]
    },
    {
     "data": {
      "text/plain": [
       "'VAR_0012'"
      ]
     },
     "execution_count": 13,
     "metadata": {},
     "output_type": "execute_result"
    },
    {
     "name": "stdout",
     "output_type": "stream",
     "text": [
      "No. of unique values: 1\n",
      "No.of Null Values: 11\n"
     ]
    },
    {
     "data": {
      "text/plain": [
       "'VAR_0013'"
      ]
     },
     "execution_count": 13,
     "metadata": {},
     "output_type": "execute_result"
    },
    {
     "name": "stdout",
     "output_type": "stream",
     "text": [
      "No. of unique values: 24\n",
      "No.of Null Values: 11\n"
     ]
    },
    {
     "data": {
      "text/plain": [
       "'VAR_0014'"
      ]
     },
     "execution_count": 13,
     "metadata": {},
     "output_type": "execute_result"
    },
    {
     "name": "stdout",
     "output_type": "stream",
     "text": [
      "No. of unique values: 24\n",
      "No.of Null Values: 11\n"
     ]
    },
    {
     "data": {
      "text/plain": [
       "'VAR_0015'"
      ]
     },
     "execution_count": 13,
     "metadata": {},
     "output_type": "execute_result"
    },
    {
     "name": "stdout",
     "output_type": "stream",
     "text": [
      "No. of unique values: 16\n",
      "No.of Null Values: 11\n"
     ]
    },
    {
     "data": {
      "text/plain": [
       "'VAR_0016'"
      ]
     },
     "execution_count": 13,
     "metadata": {},
     "output_type": "execute_result"
    },
    {
     "name": "stdout",
     "output_type": "stream",
     "text": [
      "No. of unique values: 22\n",
      "No.of Null Values: 11\n"
     ]
    },
    {
     "data": {
      "text/plain": [
       "'VAR_0017'"
      ]
     },
     "execution_count": 13,
     "metadata": {},
     "output_type": "execute_result"
    },
    {
     "name": "stdout",
     "output_type": "stream",
     "text": [
      "No. of unique values: 18\n",
      "No.of Null Values: 11\n"
     ]
    },
    {
     "data": {
      "text/plain": [
       "'VAR_0018'"
      ]
     },
     "execution_count": 13,
     "metadata": {},
     "output_type": "execute_result"
    },
    {
     "name": "stdout",
     "output_type": "stream",
     "text": [
      "No. of unique values: 1\n",
      "No.of Null Values: 11\n"
     ]
    },
    {
     "data": {
      "text/plain": [
       "'VAR_0019'"
      ]
     },
     "execution_count": 13,
     "metadata": {},
     "output_type": "execute_result"
    },
    {
     "name": "stdout",
     "output_type": "stream",
     "text": [
      "No. of unique values: 1\n",
      "No.of Null Values: 11\n"
     ]
    },
    {
     "data": {
      "text/plain": [
       "'VAR_0020'"
      ]
     },
     "execution_count": 13,
     "metadata": {},
     "output_type": "execute_result"
    },
    {
     "name": "stdout",
     "output_type": "stream",
     "text": [
      "No. of unique values: 1\n",
      "No.of Null Values: 11\n"
     ]
    },
    {
     "data": {
      "text/plain": [
       "'VAR_0021'"
      ]
     },
     "execution_count": 13,
     "metadata": {},
     "output_type": "execute_result"
    },
    {
     "name": "stdout",
     "output_type": "stream",
     "text": [
      "No. of unique values: 1\n",
      "No.of Null Values: 11\n"
     ]
    },
    {
     "data": {
      "text/plain": [
       "'VAR_0022'"
      ]
     },
     "execution_count": 13,
     "metadata": {},
     "output_type": "execute_result"
    },
    {
     "name": "stdout",
     "output_type": "stream",
     "text": [
      "No. of unique values: 1\n",
      "No.of Null Values: 11\n"
     ]
    },
    {
     "data": {
      "text/plain": [
       "'VAR_0023'"
      ]
     },
     "execution_count": 13,
     "metadata": {},
     "output_type": "execute_result"
    },
    {
     "name": "stdout",
     "output_type": "stream",
     "text": [
      "No. of unique values: 1\n",
      "No.of Null Values: 11\n"
     ]
    },
    {
     "data": {
      "text/plain": [
       "'VAR_0024'"
      ]
     },
     "execution_count": 13,
     "metadata": {},
     "output_type": "execute_result"
    },
    {
     "name": "stdout",
     "output_type": "stream",
     "text": [
      "No. of unique values: 1\n",
      "No.of Null Values: 11\n"
     ]
    },
    {
     "data": {
      "text/plain": [
       "'VAR_0025'"
      ]
     },
     "execution_count": 13,
     "metadata": {},
     "output_type": "execute_result"
    },
    {
     "name": "stdout",
     "output_type": "stream",
     "text": [
      "No. of unique values: 1\n",
      "No.of Null Values: 11\n"
     ]
    },
    {
     "data": {
      "text/plain": [
       "'VAR_0026'"
      ]
     },
     "execution_count": 13,
     "metadata": {},
     "output_type": "execute_result"
    },
    {
     "name": "stdout",
     "output_type": "stream",
     "text": [
      "No. of unique values: 1\n",
      "No.of Null Values: 11\n"
     ]
    },
    {
     "data": {
      "text/plain": [
       "'VAR_0027'"
      ]
     },
     "execution_count": 13,
     "metadata": {},
     "output_type": "execute_result"
    },
    {
     "name": "stdout",
     "output_type": "stream",
     "text": [
      "No. of unique values: 1\n",
      "No.of Null Values: 11\n"
     ]
    },
    {
     "data": {
      "text/plain": [
       "'VAR_0028'"
      ]
     },
     "execution_count": 13,
     "metadata": {},
     "output_type": "execute_result"
    },
    {
     "name": "stdout",
     "output_type": "stream",
     "text": [
      "No. of unique values: 1\n",
      "No.of Null Values: 11\n"
     ]
    },
    {
     "data": {
      "text/plain": [
       "'VAR_0029'"
      ]
     },
     "execution_count": 13,
     "metadata": {},
     "output_type": "execute_result"
    },
    {
     "name": "stdout",
     "output_type": "stream",
     "text": [
      "No. of unique values: 1\n",
      "No.of Null Values: 11\n"
     ]
    },
    {
     "data": {
      "text/plain": [
       "'VAR_0030'"
      ]
     },
     "execution_count": 13,
     "metadata": {},
     "output_type": "execute_result"
    },
    {
     "name": "stdout",
     "output_type": "stream",
     "text": [
      "No. of unique values: 1\n",
      "No.of Null Values: 11\n"
     ]
    },
    {
     "data": {
      "text/plain": [
       "'VAR_0031'"
      ]
     },
     "execution_count": 13,
     "metadata": {},
     "output_type": "execute_result"
    },
    {
     "name": "stdout",
     "output_type": "stream",
     "text": [
      "No. of unique values: 1\n",
      "No.of Null Values: 11\n"
     ]
    },
    {
     "data": {
      "text/plain": [
       "'VAR_0032'"
      ]
     },
     "execution_count": 13,
     "metadata": {},
     "output_type": "execute_result"
    },
    {
     "name": "stdout",
     "output_type": "stream",
     "text": [
      "No. of unique values: 1\n",
      "No.of Null Values: 11\n"
     ]
    },
    {
     "data": {
      "text/plain": [
       "'VAR_0033'"
      ]
     },
     "execution_count": 13,
     "metadata": {},
     "output_type": "execute_result"
    },
    {
     "name": "stdout",
     "output_type": "stream",
     "text": [
      "No. of unique values: 12\n",
      "No.of Null Values: 11\n"
     ]
    },
    {
     "data": {
      "text/plain": [
       "'VAR_0034'"
      ]
     },
     "execution_count": 13,
     "metadata": {},
     "output_type": "execute_result"
    },
    {
     "name": "stdout",
     "output_type": "stream",
     "text": [
      "No. of unique values: 18\n",
      "No.of Null Values: 11\n"
     ]
    },
    {
     "data": {
      "text/plain": [
       "'VAR_0035'"
      ]
     },
     "execution_count": 13,
     "metadata": {},
     "output_type": "execute_result"
    },
    {
     "name": "stdout",
     "output_type": "stream",
     "text": [
      "No. of unique values: 19\n",
      "No.of Null Values: 11\n"
     ]
    },
    {
     "data": {
      "text/plain": [
       "'VAR_0036'"
      ]
     },
     "execution_count": 13,
     "metadata": {},
     "output_type": "execute_result"
    },
    {
     "name": "stdout",
     "output_type": "stream",
     "text": [
      "No. of unique values: 11\n",
      "No.of Null Values: 11\n"
     ]
    },
    {
     "data": {
      "text/plain": [
       "'VAR_0037'"
      ]
     },
     "execution_count": 13,
     "metadata": {},
     "output_type": "execute_result"
    },
    {
     "name": "stdout",
     "output_type": "stream",
     "text": [
      "No. of unique values: 12\n",
      "No.of Null Values: 11\n"
     ]
    },
    {
     "data": {
      "text/plain": [
       "'VAR_0038'"
      ]
     },
     "execution_count": 13,
     "metadata": {},
     "output_type": "execute_result"
    },
    {
     "name": "stdout",
     "output_type": "stream",
     "text": [
      "No. of unique values: 1\n",
      "No.of Null Values: 11\n"
     ]
    },
    {
     "data": {
      "text/plain": [
       "'VAR_0039'"
      ]
     },
     "execution_count": 13,
     "metadata": {},
     "output_type": "execute_result"
    },
    {
     "name": "stdout",
     "output_type": "stream",
     "text": [
      "No. of unique values: 1\n",
      "No.of Null Values: 11\n"
     ]
    },
    {
     "data": {
      "text/plain": [
       "'VAR_0040'"
      ]
     },
     "execution_count": 13,
     "metadata": {},
     "output_type": "execute_result"
    },
    {
     "name": "stdout",
     "output_type": "stream",
     "text": [
      "No. of unique values: 1\n",
      "No.of Null Values: 11\n"
     ]
    },
    {
     "data": {
      "text/plain": [
       "'VAR_0041'"
      ]
     },
     "execution_count": 13,
     "metadata": {},
     "output_type": "execute_result"
    },
    {
     "name": "stdout",
     "output_type": "stream",
     "text": [
      "No. of unique values: 1\n",
      "No.of Null Values: 11\n"
     ]
    },
    {
     "data": {
      "text/plain": [
       "'VAR_0042'"
      ]
     },
     "execution_count": 13,
     "metadata": {},
     "output_type": "execute_result"
    },
    {
     "name": "stdout",
     "output_type": "stream",
     "text": [
      "No. of unique values: 1\n",
      "No.of Null Values: 11\n"
     ]
    },
    {
     "data": {
      "text/plain": [
       "'VAR_0043'"
      ]
     },
     "execution_count": 13,
     "metadata": {},
     "output_type": "execute_result"
    },
    {
     "name": "stdout",
     "output_type": "stream",
     "text": [
      "No. of unique values: 1\n",
      "No.of Null Values: 11\n"
     ]
    },
    {
     "data": {
      "text/plain": [
       "'VAR_0044'"
      ]
     },
     "execution_count": 13,
     "metadata": {},
     "output_type": "execute_result"
    },
    {
     "name": "stdout",
     "output_type": "stream",
     "text": [
      "No. of unique values: 1\n",
      "No.of Null Values: 11\n"
     ]
    },
    {
     "data": {
      "text/plain": [
       "'VAR_0045'"
      ]
     },
     "execution_count": 13,
     "metadata": {},
     "output_type": "execute_result"
    },
    {
     "name": "stdout",
     "output_type": "stream",
     "text": [
      "No. of unique values: 3\n",
      "No.of Null Values: 11\n"
     ]
    },
    {
     "data": {
      "text/plain": [
       "'VAR_0046'"
      ]
     },
     "execution_count": 13,
     "metadata": {},
     "output_type": "execute_result"
    },
    {
     "name": "stdout",
     "output_type": "stream",
     "text": [
      "No. of unique values: 5\n",
      "No.of Null Values: 11\n"
     ]
    },
    {
     "data": {
      "text/plain": [
       "'VAR_0047'"
      ]
     },
     "execution_count": 13,
     "metadata": {},
     "output_type": "execute_result"
    },
    {
     "name": "stdout",
     "output_type": "stream",
     "text": [
      "No. of unique values: 8\n",
      "No.of Null Values: 11\n"
     ]
    },
    {
     "data": {
      "text/plain": [
       "'VAR_0048'"
      ]
     },
     "execution_count": 13,
     "metadata": {},
     "output_type": "execute_result"
    },
    {
     "name": "stdout",
     "output_type": "stream",
     "text": [
      "No. of unique values: 9\n",
      "No.of Null Values: 11\n"
     ]
    },
    {
     "data": {
      "text/plain": [
       "'VAR_0049'"
      ]
     },
     "execution_count": 13,
     "metadata": {},
     "output_type": "execute_result"
    },
    {
     "name": "stdout",
     "output_type": "stream",
     "text": [
      "No. of unique values: 18\n",
      "No.of Null Values: 11\n"
     ]
    },
    {
     "data": {
      "text/plain": [
       "'VAR_0050'"
      ]
     },
     "execution_count": 13,
     "metadata": {},
     "output_type": "execute_result"
    },
    {
     "name": "stdout",
     "output_type": "stream",
     "text": [
      "No. of unique values: 22\n",
      "No.of Null Values: 11\n"
     ]
    },
    {
     "data": {
      "text/plain": [
       "'VAR_0051'"
      ]
     },
     "execution_count": 13,
     "metadata": {},
     "output_type": "execute_result"
    },
    {
     "name": "stdout",
     "output_type": "stream",
     "text": [
      "No. of unique values: 22\n",
      "No.of Null Values: 11\n"
     ]
    },
    {
     "data": {
      "text/plain": [
       "'VAR_0052'"
      ]
     },
     "execution_count": 13,
     "metadata": {},
     "output_type": "execute_result"
    },
    {
     "name": "stdout",
     "output_type": "stream",
     "text": [
      "No. of unique values: 6\n",
      "No.of Null Values: 11\n"
     ]
    },
    {
     "data": {
      "text/plain": [
       "'VAR_0053'"
      ]
     },
     "execution_count": 13,
     "metadata": {},
     "output_type": "execute_result"
    },
    {
     "name": "stdout",
     "output_type": "stream",
     "text": [
      "No. of unique values: 9\n",
      "No.of Null Values: 11\n"
     ]
    },
    {
     "data": {
      "text/plain": [
       "'VAR_0054'"
      ]
     },
     "execution_count": 13,
     "metadata": {},
     "output_type": "execute_result"
    },
    {
     "name": "stdout",
     "output_type": "stream",
     "text": [
      "No. of unique values: 10\n",
      "No.of Null Values: 11\n"
     ]
    },
    {
     "data": {
      "text/plain": [
       "'VAR_0055'"
      ]
     },
     "execution_count": 13,
     "metadata": {},
     "output_type": "execute_result"
    },
    {
     "name": "stdout",
     "output_type": "stream",
     "text": [
      "No. of unique values: 10\n",
      "No.of Null Values: 11\n"
     ]
    },
    {
     "data": {
      "text/plain": [
       "'VAR_0056'"
      ]
     },
     "execution_count": 13,
     "metadata": {},
     "output_type": "execute_result"
    },
    {
     "name": "stdout",
     "output_type": "stream",
     "text": [
      "No. of unique values: 14\n",
      "No.of Null Values: 11\n"
     ]
    },
    {
     "data": {
      "text/plain": [
       "'VAR_0057'"
      ]
     },
     "execution_count": 13,
     "metadata": {},
     "output_type": "execute_result"
    },
    {
     "name": "stdout",
     "output_type": "stream",
     "text": [
      "No. of unique values: 16\n",
      "No.of Null Values: 11\n"
     ]
    },
    {
     "data": {
      "text/plain": [
       "'VAR_0058'"
      ]
     },
     "execution_count": 13,
     "metadata": {},
     "output_type": "execute_result"
    },
    {
     "name": "stdout",
     "output_type": "stream",
     "text": [
      "No. of unique values: 16\n",
      "No.of Null Values: 11\n"
     ]
    },
    {
     "data": {
      "text/plain": [
       "'VAR_0059'"
      ]
     },
     "execution_count": 13,
     "metadata": {},
     "output_type": "execute_result"
    },
    {
     "name": "stdout",
     "output_type": "stream",
     "text": [
      "No. of unique values: 28\n",
      "No.of Null Values: 11\n"
     ]
    },
    {
     "data": {
      "text/plain": [
       "'VAR_0060'"
      ]
     },
     "execution_count": 13,
     "metadata": {},
     "output_type": "execute_result"
    },
    {
     "name": "stdout",
     "output_type": "stream",
     "text": [
      "No. of unique values: 42\n",
      "No.of Null Values: 11\n"
     ]
    },
    {
     "data": {
      "text/plain": [
       "'VAR_0061'"
      ]
     },
     "execution_count": 13,
     "metadata": {},
     "output_type": "execute_result"
    },
    {
     "name": "stdout",
     "output_type": "stream",
     "text": [
      "No. of unique values: 57\n",
      "No.of Null Values: 11\n"
     ]
    },
    {
     "data": {
      "text/plain": [
       "'VAR_0062'"
      ]
     },
     "execution_count": 13,
     "metadata": {},
     "output_type": "execute_result"
    },
    {
     "name": "stdout",
     "output_type": "stream",
     "text": [
      "No. of unique values: 63\n",
      "No.of Null Values: 11\n"
     ]
    },
    {
     "data": {
      "text/plain": [
       "'VAR_0063'"
      ]
     },
     "execution_count": 13,
     "metadata": {},
     "output_type": "execute_result"
    },
    {
     "name": "stdout",
     "output_type": "stream",
     "text": [
      "No. of unique values: 93\n",
      "No.of Null Values: 11\n"
     ]
    },
    {
     "data": {
      "text/plain": [
       "'VAR_0064'"
      ]
     },
     "execution_count": 13,
     "metadata": {},
     "output_type": "execute_result"
    },
    {
     "name": "stdout",
     "output_type": "stream",
     "text": [
      "No. of unique values: 110\n",
      "No.of Null Values: 11\n"
     ]
    },
    {
     "data": {
      "text/plain": [
       "'VAR_0065'"
      ]
     },
     "execution_count": 13,
     "metadata": {},
     "output_type": "execute_result"
    },
    {
     "name": "stdout",
     "output_type": "stream",
     "text": [
      "No. of unique values: 116\n",
      "No.of Null Values: 11\n"
     ]
    },
    {
     "data": {
      "text/plain": [
       "'VAR_0066'"
      ]
     },
     "execution_count": 13,
     "metadata": {},
     "output_type": "execute_result"
    },
    {
     "name": "stdout",
     "output_type": "stream",
     "text": [
      "No. of unique values: 63\n",
      "No.of Null Values: 11\n"
     ]
    },
    {
     "data": {
      "text/plain": [
       "'VAR_0067'"
      ]
     },
     "execution_count": 13,
     "metadata": {},
     "output_type": "execute_result"
    },
    {
     "name": "stdout",
     "output_type": "stream",
     "text": [
      "No. of unique values: 100\n",
      "No.of Null Values: 11\n"
     ]
    },
    {
     "data": {
      "text/plain": [
       "'VAR_0068'"
      ]
     },
     "execution_count": 13,
     "metadata": {},
     "output_type": "execute_result"
    },
    {
     "name": "stdout",
     "output_type": "stream",
     "text": [
      "No. of unique values: 123\n",
      "No.of Null Values: 11\n"
     ]
    },
    {
     "data": {
      "text/plain": [
       "'VAR_0069'"
      ]
     },
     "execution_count": 13,
     "metadata": {},
     "output_type": "execute_result"
    },
    {
     "name": "stdout",
     "output_type": "stream",
     "text": [
      "No. of unique values: 138\n",
      "No.of Null Values: 11\n"
     ]
    },
    {
     "data": {
      "text/plain": [
       "'VAR_0070'"
      ]
     },
     "execution_count": 13,
     "metadata": {},
     "output_type": "execute_result"
    },
    {
     "name": "stdout",
     "output_type": "stream",
     "text": [
      "No. of unique values: 194\n",
      "No.of Null Values: 11\n"
     ]
    },
    {
     "data": {
      "text/plain": [
       "'VAR_0071'"
      ]
     },
     "execution_count": 13,
     "metadata": {},
     "output_type": "execute_result"
    },
    {
     "name": "stdout",
     "output_type": "stream",
     "text": [
      "No. of unique values: 252\n",
      "No.of Null Values: 11\n"
     ]
    },
    {
     "data": {
      "text/plain": [
       "'VAR_0072'"
      ]
     },
     "execution_count": 13,
     "metadata": {},
     "output_type": "execute_result"
    },
    {
     "name": "stdout",
     "output_type": "stream",
     "text": [
      "No. of unique values: 269\n",
      "No.of Null Values: 11\n"
     ]
    },
    {
     "data": {
      "text/plain": [
       "'VAR_0073'"
      ]
     },
     "execution_count": 13,
     "metadata": {},
     "output_type": "execute_result"
    },
    {
     "name": "stdout",
     "output_type": "stream",
     "text": [
      "No. of unique values: 987\n",
      "No.of Null Values: 10082\n"
     ]
    },
    {
     "data": {
      "text/plain": [
       "'VAR_0074'"
      ]
     },
     "execution_count": 13,
     "metadata": {},
     "output_type": "execute_result"
    },
    {
     "name": "stdout",
     "output_type": "stream",
     "text": [
      "No. of unique values: 1091\n",
      "No.of Null Values: 10082\n"
     ]
    },
    {
     "data": {
      "text/plain": [
       "'VAR_0075'"
      ]
     },
     "execution_count": 13,
     "metadata": {},
     "output_type": "execute_result"
    },
    {
     "name": "stdout",
     "output_type": "stream",
     "text": [
      "No. of unique values: 1630\n",
      "No.of Null Values: 11\n"
     ]
    },
    {
     "data": {
      "text/plain": [
       "'VAR_0076'"
      ]
     },
     "execution_count": 13,
     "metadata": {},
     "output_type": "execute_result"
    },
    {
     "name": "stdout",
     "output_type": "stream",
     "text": [
      "No. of unique values: 62\n",
      "No.of Null Values: 11\n"
     ]
    },
    {
     "data": {
      "text/plain": [
       "'VAR_0077'"
      ]
     },
     "execution_count": 13,
     "metadata": {},
     "output_type": "execute_result"
    },
    {
     "name": "stdout",
     "output_type": "stream",
     "text": [
      "No. of unique values: 103\n",
      "No.of Null Values: 11\n"
     ]
    },
    {
     "data": {
      "text/plain": [
       "'VAR_0078'"
      ]
     },
     "execution_count": 13,
     "metadata": {},
     "output_type": "execute_result"
    },
    {
     "name": "stdout",
     "output_type": "stream",
     "text": [
      "No. of unique values: 124\n",
      "No.of Null Values: 11\n"
     ]
    },
    {
     "data": {
      "text/plain": [
       "'VAR_0079'"
      ]
     },
     "execution_count": 13,
     "metadata": {},
     "output_type": "execute_result"
    },
    {
     "name": "stdout",
     "output_type": "stream",
     "text": [
      "No. of unique values: 135\n",
      "No.of Null Values: 11\n"
     ]
    },
    {
     "data": {
      "text/plain": [
       "'VAR_0080'"
      ]
     },
     "execution_count": 13,
     "metadata": {},
     "output_type": "execute_result"
    },
    {
     "name": "stdout",
     "output_type": "stream",
     "text": [
      "No. of unique values: 200\n",
      "No.of Null Values: 11\n"
     ]
    },
    {
     "data": {
      "text/plain": [
       "'VAR_0081'"
      ]
     },
     "execution_count": 13,
     "metadata": {},
     "output_type": "execute_result"
    },
    {
     "name": "stdout",
     "output_type": "stream",
     "text": [
      "No. of unique values: 251\n",
      "No.of Null Values: 11\n"
     ]
    },
    {
     "data": {
      "text/plain": [
       "'VAR_0082'"
      ]
     },
     "execution_count": 13,
     "metadata": {},
     "output_type": "execute_result"
    },
    {
     "name": "stdout",
     "output_type": "stream",
     "text": [
      "No. of unique values: 273\n",
      "No.of Null Values: 11\n"
     ]
    },
    {
     "data": {
      "text/plain": [
       "'VAR_0083'"
      ]
     },
     "execution_count": 13,
     "metadata": {},
     "output_type": "execute_result"
    },
    {
     "name": "stdout",
     "output_type": "stream",
     "text": [
      "No. of unique values: 63\n",
      "No.of Null Values: 11\n"
     ]
    },
    {
     "data": {
      "text/plain": [
       "'VAR_0084'"
      ]
     },
     "execution_count": 13,
     "metadata": {},
     "output_type": "execute_result"
    },
    {
     "name": "stdout",
     "output_type": "stream",
     "text": [
      "No. of unique values: 103\n",
      "No.of Null Values: 11\n"
     ]
    },
    {
     "data": {
      "text/plain": [
       "'VAR_0085'"
      ]
     },
     "execution_count": 13,
     "metadata": {},
     "output_type": "execute_result"
    },
    {
     "name": "stdout",
     "output_type": "stream",
     "text": [
      "No. of unique values: 126\n",
      "No.of Null Values: 11\n"
     ]
    },
    {
     "data": {
      "text/plain": [
       "'VAR_0086'"
      ]
     },
     "execution_count": 13,
     "metadata": {},
     "output_type": "execute_result"
    },
    {
     "name": "stdout",
     "output_type": "stream",
     "text": [
      "No. of unique values: 135\n",
      "No.of Null Values: 11\n"
     ]
    },
    {
     "data": {
      "text/plain": [
       "'VAR_0087'"
      ]
     },
     "execution_count": 13,
     "metadata": {},
     "output_type": "execute_result"
    },
    {
     "name": "stdout",
     "output_type": "stream",
     "text": [
      "No. of unique values: 196\n",
      "No.of Null Values: 11\n"
     ]
    },
    {
     "data": {
      "text/plain": [
       "'VAR_0088'"
      ]
     },
     "execution_count": 13,
     "metadata": {},
     "output_type": "execute_result"
    },
    {
     "name": "stdout",
     "output_type": "stream",
     "text": [
      "No. of unique values: 256\n",
      "No.of Null Values: 11\n"
     ]
    },
    {
     "data": {
      "text/plain": [
       "'VAR_0089'"
      ]
     },
     "execution_count": 13,
     "metadata": {},
     "output_type": "execute_result"
    },
    {
     "name": "stdout",
     "output_type": "stream",
     "text": [
      "No. of unique values: 272\n",
      "No.of Null Values: 11\n"
     ]
    },
    {
     "data": {
      "text/plain": [
       "'VAR_0090'"
      ]
     },
     "execution_count": 13,
     "metadata": {},
     "output_type": "execute_result"
    },
    {
     "name": "stdout",
     "output_type": "stream",
     "text": [
      "No. of unique values: 3\n",
      "No.of Null Values: 14\n"
     ]
    },
    {
     "data": {
      "text/plain": [
       "'VAR_0091'"
      ]
     },
     "execution_count": 13,
     "metadata": {},
     "output_type": "execute_result"
    },
    {
     "name": "stdout",
     "output_type": "stream",
     "text": [
      "No. of unique values: 3\n",
      "No.of Null Values: 14\n"
     ]
    },
    {
     "data": {
      "text/plain": [
       "'VAR_0092'"
      ]
     },
     "execution_count": 13,
     "metadata": {},
     "output_type": "execute_result"
    },
    {
     "name": "stdout",
     "output_type": "stream",
     "text": [
      "No. of unique values: 3\n",
      "No.of Null Values: 14\n"
     ]
    },
    {
     "data": {
      "text/plain": [
       "'VAR_0093'"
      ]
     },
     "execution_count": 13,
     "metadata": {},
     "output_type": "execute_result"
    },
    {
     "name": "stdout",
     "output_type": "stream",
     "text": [
      "No. of unique values: 5\n",
      "No.of Null Values: 14\n"
     ]
    },
    {
     "data": {
      "text/plain": [
       "'VAR_0094'"
      ]
     },
     "execution_count": 13,
     "metadata": {},
     "output_type": "execute_result"
    },
    {
     "name": "stdout",
     "output_type": "stream",
     "text": [
      "No. of unique values: 5\n",
      "No.of Null Values: 14\n"
     ]
    },
    {
     "data": {
      "text/plain": [
       "'VAR_0095'"
      ]
     },
     "execution_count": 13,
     "metadata": {},
     "output_type": "execute_result"
    },
    {
     "name": "stdout",
     "output_type": "stream",
     "text": [
      "No. of unique values: 5\n",
      "No.of Null Values: 14\n"
     ]
    },
    {
     "data": {
      "text/plain": [
       "'VAR_0096'"
      ]
     },
     "execution_count": 13,
     "metadata": {},
     "output_type": "execute_result"
    },
    {
     "name": "stdout",
     "output_type": "stream",
     "text": [
      "No. of unique values: 6\n",
      "No.of Null Values: 14\n"
     ]
    },
    {
     "data": {
      "text/plain": [
       "'VAR_0097'"
      ]
     },
     "execution_count": 13,
     "metadata": {},
     "output_type": "execute_result"
    },
    {
     "name": "stdout",
     "output_type": "stream",
     "text": [
      "No. of unique values: 7\n",
      "No.of Null Values: 14\n"
     ]
    },
    {
     "data": {
      "text/plain": [
       "'VAR_0098'"
      ]
     },
     "execution_count": 13,
     "metadata": {},
     "output_type": "execute_result"
    },
    {
     "name": "stdout",
     "output_type": "stream",
     "text": [
      "No. of unique values: 2\n",
      "No.of Null Values: 14\n"
     ]
    },
    {
     "data": {
      "text/plain": [
       "'VAR_0099'"
      ]
     },
     "execution_count": 13,
     "metadata": {},
     "output_type": "execute_result"
    },
    {
     "name": "stdout",
     "output_type": "stream",
     "text": [
      "No. of unique values: 2\n",
      "No.of Null Values: 14\n"
     ]
    },
    {
     "data": {
      "text/plain": [
       "'VAR_0100'"
      ]
     },
     "execution_count": 13,
     "metadata": {},
     "output_type": "execute_result"
    },
    {
     "name": "stdout",
     "output_type": "stream",
     "text": [
      "No. of unique values: 3\n",
      "No.of Null Values: 14\n"
     ]
    },
    {
     "data": {
      "text/plain": [
       "'VAR_0101'"
      ]
     },
     "execution_count": 13,
     "metadata": {},
     "output_type": "execute_result"
    },
    {
     "name": "stdout",
     "output_type": "stream",
     "text": [
      "No. of unique values: 5\n",
      "No.of Null Values: 14\n"
     ]
    },
    {
     "data": {
      "text/plain": [
       "'VAR_0102'"
      ]
     },
     "execution_count": 13,
     "metadata": {},
     "output_type": "execute_result"
    },
    {
     "name": "stdout",
     "output_type": "stream",
     "text": [
      "No. of unique values: 7\n",
      "No.of Null Values: 14\n"
     ]
    },
    {
     "data": {
      "text/plain": [
       "'VAR_0103'"
      ]
     },
     "execution_count": 13,
     "metadata": {},
     "output_type": "execute_result"
    },
    {
     "name": "stdout",
     "output_type": "stream",
     "text": [
      "No. of unique values: 8\n",
      "No.of Null Values: 14\n"
     ]
    },
    {
     "data": {
      "text/plain": [
       "'VAR_0104'"
      ]
     },
     "execution_count": 13,
     "metadata": {},
     "output_type": "execute_result"
    },
    {
     "name": "stdout",
     "output_type": "stream",
     "text": [
      "No. of unique values: 10\n",
      "No.of Null Values: 14\n"
     ]
    },
    {
     "data": {
      "text/plain": [
       "'VAR_0105'"
      ]
     },
     "execution_count": 13,
     "metadata": {},
     "output_type": "execute_result"
    },
    {
     "name": "stdout",
     "output_type": "stream",
     "text": [
      "No. of unique values: 11\n",
      "No.of Null Values: 14\n"
     ]
    },
    {
     "data": {
      "text/plain": [
       "'VAR_0106'"
      ]
     },
     "execution_count": 13,
     "metadata": {},
     "output_type": "execute_result"
    },
    {
     "name": "stdout",
     "output_type": "stream",
     "text": [
      "No. of unique values: 2\n",
      "No.of Null Values: 14\n"
     ]
    },
    {
     "data": {
      "text/plain": [
       "'VAR_0107'"
      ]
     },
     "execution_count": 13,
     "metadata": {},
     "output_type": "execute_result"
    },
    {
     "name": "stdout",
     "output_type": "stream",
     "text": [
      "No. of unique values: 2\n",
      "No.of Null Values: 14\n"
     ]
    },
    {
     "data": {
      "text/plain": [
       "'VAR_0108'"
      ]
     },
     "execution_count": 13,
     "metadata": {},
     "output_type": "execute_result"
    },
    {
     "name": "stdout",
     "output_type": "stream",
     "text": [
      "No. of unique values: 3\n",
      "No.of Null Values: 14\n"
     ]
    },
    {
     "data": {
      "text/plain": [
       "'VAR_0109'"
      ]
     },
     "execution_count": 13,
     "metadata": {},
     "output_type": "execute_result"
    },
    {
     "name": "stdout",
     "output_type": "stream",
     "text": [
      "No. of unique values: 4\n",
      "No.of Null Values: 14\n"
     ]
    },
    {
     "data": {
      "text/plain": [
       "'VAR_0110'"
      ]
     },
     "execution_count": 13,
     "metadata": {},
     "output_type": "execute_result"
    },
    {
     "name": "stdout",
     "output_type": "stream",
     "text": [
      "No. of unique values: 6\n",
      "No.of Null Values: 14\n"
     ]
    },
    {
     "data": {
      "text/plain": [
       "'VAR_0111'"
      ]
     },
     "execution_count": 13,
     "metadata": {},
     "output_type": "execute_result"
    },
    {
     "name": "stdout",
     "output_type": "stream",
     "text": [
      "No. of unique values: 6\n",
      "No.of Null Values: 14\n"
     ]
    },
    {
     "data": {
      "text/plain": [
       "'VAR_0112'"
      ]
     },
     "execution_count": 13,
     "metadata": {},
     "output_type": "execute_result"
    },
    {
     "name": "stdout",
     "output_type": "stream",
     "text": [
      "No. of unique values: 8\n",
      "No.of Null Values: 14\n"
     ]
    },
    {
     "data": {
      "text/plain": [
       "'VAR_0113'"
      ]
     },
     "execution_count": 13,
     "metadata": {},
     "output_type": "execute_result"
    },
    {
     "name": "stdout",
     "output_type": "stream",
     "text": [
      "No. of unique values: 9\n",
      "No.of Null Values: 14\n"
     ]
    },
    {
     "data": {
      "text/plain": [
       "'VAR_0114'"
      ]
     },
     "execution_count": 13,
     "metadata": {},
     "output_type": "execute_result"
    },
    {
     "name": "stdout",
     "output_type": "stream",
     "text": [
      "No. of unique values: 2\n",
      "No.of Null Values: 14\n"
     ]
    },
    {
     "data": {
      "text/plain": [
       "'VAR_0115'"
      ]
     },
     "execution_count": 13,
     "metadata": {},
     "output_type": "execute_result"
    },
    {
     "name": "stdout",
     "output_type": "stream",
     "text": [
      "No. of unique values: 2\n",
      "No.of Null Values: 14\n"
     ]
    },
    {
     "data": {
      "text/plain": [
       "'VAR_0116'"
      ]
     },
     "execution_count": 13,
     "metadata": {},
     "output_type": "execute_result"
    },
    {
     "name": "stdout",
     "output_type": "stream",
     "text": [
      "No. of unique values: 3\n",
      "No.of Null Values: 14\n"
     ]
    },
    {
     "data": {
      "text/plain": [
       "'VAR_0117'"
      ]
     },
     "execution_count": 13,
     "metadata": {},
     "output_type": "execute_result"
    },
    {
     "name": "stdout",
     "output_type": "stream",
     "text": [
      "No. of unique values: 5\n",
      "No.of Null Values: 14\n"
     ]
    },
    {
     "data": {
      "text/plain": [
       "'VAR_0118'"
      ]
     },
     "execution_count": 13,
     "metadata": {},
     "output_type": "execute_result"
    },
    {
     "name": "stdout",
     "output_type": "stream",
     "text": [
      "No. of unique values: 8\n",
      "No.of Null Values: 14\n"
     ]
    },
    {
     "data": {
      "text/plain": [
       "'VAR_0119'"
      ]
     },
     "execution_count": 13,
     "metadata": {},
     "output_type": "execute_result"
    },
    {
     "name": "stdout",
     "output_type": "stream",
     "text": [
      "No. of unique values: 8\n",
      "No.of Null Values: 14\n"
     ]
    },
    {
     "data": {
      "text/plain": [
       "'VAR_0120'"
      ]
     },
     "execution_count": 13,
     "metadata": {},
     "output_type": "execute_result"
    },
    {
     "name": "stdout",
     "output_type": "stream",
     "text": [
      "No. of unique values: 9\n",
      "No.of Null Values: 14\n"
     ]
    },
    {
     "data": {
      "text/plain": [
       "'VAR_0121'"
      ]
     },
     "execution_count": 13,
     "metadata": {},
     "output_type": "execute_result"
    },
    {
     "name": "stdout",
     "output_type": "stream",
     "text": [
      "No. of unique values: 13\n",
      "No.of Null Values: 14\n"
     ]
    },
    {
     "data": {
      "text/plain": [
       "'VAR_0122'"
      ]
     },
     "execution_count": 13,
     "metadata": {},
     "output_type": "execute_result"
    },
    {
     "name": "stdout",
     "output_type": "stream",
     "text": [
      "No. of unique values: 3\n",
      "No.of Null Values: 14\n"
     ]
    },
    {
     "data": {
      "text/plain": [
       "'VAR_0123'"
      ]
     },
     "execution_count": 13,
     "metadata": {},
     "output_type": "execute_result"
    },
    {
     "name": "stdout",
     "output_type": "stream",
     "text": [
      "No. of unique values: 3\n",
      "No.of Null Values: 14\n"
     ]
    },
    {
     "data": {
      "text/plain": [
       "'VAR_0124'"
      ]
     },
     "execution_count": 13,
     "metadata": {},
     "output_type": "execute_result"
    },
    {
     "name": "stdout",
     "output_type": "stream",
     "text": [
      "No. of unique values: 3\n",
      "No.of Null Values: 14\n"
     ]
    },
    {
     "data": {
      "text/plain": [
       "'VAR_0125'"
      ]
     },
     "execution_count": 13,
     "metadata": {},
     "output_type": "execute_result"
    },
    {
     "name": "stdout",
     "output_type": "stream",
     "text": [
      "No. of unique values: 6\n",
      "No.of Null Values: 14\n"
     ]
    },
    {
     "data": {
      "text/plain": [
       "'VAR_0126'"
      ]
     },
     "execution_count": 13,
     "metadata": {},
     "output_type": "execute_result"
    },
    {
     "name": "stdout",
     "output_type": "stream",
     "text": [
      "No. of unique values: 7\n",
      "No.of Null Values: 14\n"
     ]
    },
    {
     "data": {
      "text/plain": [
       "'VAR_0127'"
      ]
     },
     "execution_count": 13,
     "metadata": {},
     "output_type": "execute_result"
    },
    {
     "name": "stdout",
     "output_type": "stream",
     "text": [
      "No. of unique values: 7\n",
      "No.of Null Values: 14\n"
     ]
    },
    {
     "data": {
      "text/plain": [
       "'VAR_0128'"
      ]
     },
     "execution_count": 13,
     "metadata": {},
     "output_type": "execute_result"
    },
    {
     "name": "stdout",
     "output_type": "stream",
     "text": [
      "No. of unique values: 9\n",
      "No.of Null Values: 14\n"
     ]
    },
    {
     "data": {
      "text/plain": [
       "'VAR_0129'"
      ]
     },
     "execution_count": 13,
     "metadata": {},
     "output_type": "execute_result"
    },
    {
     "name": "stdout",
     "output_type": "stream",
     "text": [
      "No. of unique values: 10\n",
      "No.of Null Values: 14\n"
     ]
    },
    {
     "data": {
      "text/plain": [
       "'VAR_0130'"
      ]
     },
     "execution_count": 13,
     "metadata": {},
     "output_type": "execute_result"
    },
    {
     "name": "stdout",
     "output_type": "stream",
     "text": [
      "No. of unique values: 2\n",
      "No.of Null Values: 14\n"
     ]
    },
    {
     "data": {
      "text/plain": [
       "'VAR_0131'"
      ]
     },
     "execution_count": 13,
     "metadata": {},
     "output_type": "execute_result"
    },
    {
     "name": "stdout",
     "output_type": "stream",
     "text": [
      "No. of unique values: 3\n",
      "No.of Null Values: 14\n"
     ]
    },
    {
     "data": {
      "text/plain": [
       "'VAR_0132'"
      ]
     },
     "execution_count": 13,
     "metadata": {},
     "output_type": "execute_result"
    },
    {
     "name": "stdout",
     "output_type": "stream",
     "text": [
      "No. of unique values: 4\n",
      "No.of Null Values: 14\n"
     ]
    },
    {
     "data": {
      "text/plain": [
       "'VAR_0133'"
      ]
     },
     "execution_count": 13,
     "metadata": {},
     "output_type": "execute_result"
    },
    {
     "name": "stdout",
     "output_type": "stream",
     "text": [
      "No. of unique values: 14\n",
      "No.of Null Values: 14\n"
     ]
    },
    {
     "data": {
      "text/plain": [
       "'VAR_0134'"
      ]
     },
     "execution_count": 13,
     "metadata": {},
     "output_type": "execute_result"
    },
    {
     "name": "stdout",
     "output_type": "stream",
     "text": [
      "No. of unique values: 20\n",
      "No.of Null Values: 14\n"
     ]
    },
    {
     "data": {
      "text/plain": [
       "'VAR_0135'"
      ]
     },
     "execution_count": 13,
     "metadata": {},
     "output_type": "execute_result"
    },
    {
     "name": "stdout",
     "output_type": "stream",
     "text": [
      "No. of unique values: 22\n",
      "No.of Null Values: 14\n"
     ]
    },
    {
     "data": {
      "text/plain": [
       "'VAR_0136'"
      ]
     },
     "execution_count": 13,
     "metadata": {},
     "output_type": "execute_result"
    },
    {
     "name": "stdout",
     "output_type": "stream",
     "text": [
      "No. of unique values: 28\n",
      "No.of Null Values: 14\n"
     ]
    },
    {
     "data": {
      "text/plain": [
       "'VAR_0137'"
      ]
     },
     "execution_count": 13,
     "metadata": {},
     "output_type": "execute_result"
    },
    {
     "name": "stdout",
     "output_type": "stream",
     "text": [
      "No. of unique values: 42\n",
      "No.of Null Values: 14\n"
     ]
    },
    {
     "data": {
      "text/plain": [
       "'VAR_0138'"
      ]
     },
     "execution_count": 13,
     "metadata": {},
     "output_type": "execute_result"
    },
    {
     "name": "stdout",
     "output_type": "stream",
     "text": [
      "No. of unique values: 2\n",
      "No.of Null Values: 14\n"
     ]
    },
    {
     "data": {
      "text/plain": [
       "'VAR_0139'"
      ]
     },
     "execution_count": 13,
     "metadata": {},
     "output_type": "execute_result"
    },
    {
     "name": "stdout",
     "output_type": "stream",
     "text": [
      "No. of unique values: 2\n",
      "No.of Null Values: 14\n"
     ]
    },
    {
     "data": {
      "text/plain": [
       "'VAR_0140'"
      ]
     },
     "execution_count": 13,
     "metadata": {},
     "output_type": "execute_result"
    },
    {
     "name": "stdout",
     "output_type": "stream",
     "text": [
      "No. of unique values: 4\n",
      "No.of Null Values: 14\n"
     ]
    },
    {
     "data": {
      "text/plain": [
       "'VAR_0141'"
      ]
     },
     "execution_count": 13,
     "metadata": {},
     "output_type": "execute_result"
    },
    {
     "name": "stdout",
     "output_type": "stream",
     "text": [
      "No. of unique values: 6\n",
      "No.of Null Values: 14\n"
     ]
    },
    {
     "data": {
      "text/plain": [
       "'VAR_0142'"
      ]
     },
     "execution_count": 13,
     "metadata": {},
     "output_type": "execute_result"
    },
    {
     "name": "stdout",
     "output_type": "stream",
     "text": [
      "No. of unique values: 11\n",
      "No.of Null Values: 14\n"
     ]
    },
    {
     "data": {
      "text/plain": [
       "'VAR_0143'"
      ]
     },
     "execution_count": 13,
     "metadata": {},
     "output_type": "execute_result"
    },
    {
     "name": "stdout",
     "output_type": "stream",
     "text": [
      "No. of unique values: 13\n",
      "No.of Null Values: 14\n"
     ]
    },
    {
     "data": {
      "text/plain": [
       "'VAR_0144'"
      ]
     },
     "execution_count": 13,
     "metadata": {},
     "output_type": "execute_result"
    },
    {
     "name": "stdout",
     "output_type": "stream",
     "text": [
      "No. of unique values: 16\n",
      "No.of Null Values: 14\n"
     ]
    },
    {
     "data": {
      "text/plain": [
       "'VAR_0145'"
      ]
     },
     "execution_count": 13,
     "metadata": {},
     "output_type": "execute_result"
    },
    {
     "name": "stdout",
     "output_type": "stream",
     "text": [
      "No. of unique values: 18\n",
      "No.of Null Values: 14\n"
     ]
    },
    {
     "data": {
      "text/plain": [
       "'VAR_0146'"
      ]
     },
     "execution_count": 13,
     "metadata": {},
     "output_type": "execute_result"
    },
    {
     "name": "stdout",
     "output_type": "stream",
     "text": [
      "No. of unique values: 4\n",
      "No.of Null Values: 14\n"
     ]
    },
    {
     "data": {
      "text/plain": [
       "'VAR_0147'"
      ]
     },
     "execution_count": 13,
     "metadata": {},
     "output_type": "execute_result"
    },
    {
     "name": "stdout",
     "output_type": "stream",
     "text": [
      "No. of unique values: 100\n",
      "No.of Null Values: 14\n"
     ]
    },
    {
     "data": {
      "text/plain": [
       "'VAR_0148'"
      ]
     },
     "execution_count": 13,
     "metadata": {},
     "output_type": "execute_result"
    },
    {
     "name": "stdout",
     "output_type": "stream",
     "text": [
      "No. of unique values: 5\n",
      "No.of Null Values: 14\n"
     ]
    },
    {
     "data": {
      "text/plain": [
       "'VAR_0149'"
      ]
     },
     "execution_count": 13,
     "metadata": {},
     "output_type": "execute_result"
    },
    {
     "name": "stdout",
     "output_type": "stream",
     "text": [
      "No. of unique values: 77\n",
      "No.of Null Values: 14\n"
     ]
    },
    {
     "data": {
      "text/plain": [
       "'VAR_0150'"
      ]
     },
     "execution_count": 13,
     "metadata": {},
     "output_type": "execute_result"
    },
    {
     "name": "stdout",
     "output_type": "stream",
     "text": [
      "No. of unique values: 3\n",
      "No.of Null Values: 14\n"
     ]
    },
    {
     "data": {
      "text/plain": [
       "'VAR_0151'"
      ]
     },
     "execution_count": 13,
     "metadata": {},
     "output_type": "execute_result"
    },
    {
     "name": "stdout",
     "output_type": "stream",
     "text": [
      "No. of unique values: 8\n",
      "No.of Null Values: 14\n"
     ]
    },
    {
     "data": {
      "text/plain": [
       "'VAR_0152'"
      ]
     },
     "execution_count": 13,
     "metadata": {},
     "output_type": "execute_result"
    },
    {
     "name": "stdout",
     "output_type": "stream",
     "text": [
      "No. of unique values: 9\n",
      "No.of Null Values: 14\n"
     ]
    },
    {
     "data": {
      "text/plain": [
       "'VAR_0153'"
      ]
     },
     "execution_count": 13,
     "metadata": {},
     "output_type": "execute_result"
    },
    {
     "name": "stdout",
     "output_type": "stream",
     "text": [
      "No. of unique values: 3\n",
      "No.of Null Values: 14\n"
     ]
    },
    {
     "data": {
      "text/plain": [
       "'VAR_0154'"
      ]
     },
     "execution_count": 13,
     "metadata": {},
     "output_type": "execute_result"
    },
    {
     "name": "stdout",
     "output_type": "stream",
     "text": [
      "No. of unique values: 396\n",
      "No.of Null Values: 14\n"
     ]
    },
    {
     "data": {
      "text/plain": [
       "'VAR_0155'"
      ]
     },
     "execution_count": 13,
     "metadata": {},
     "output_type": "execute_result"
    },
    {
     "name": "stdout",
     "output_type": "stream",
     "text": [
      "No. of unique values: 75\n",
      "No.of Null Values: 14\n"
     ]
    },
    {
     "data": {
      "text/plain": [
       "'VAR_0156'"
      ]
     },
     "execution_count": 13,
     "metadata": {},
     "output_type": "execute_result"
    },
    {
     "name": "stdout",
     "output_type": "stream",
     "text": [
      "No. of unique values: 351\n",
      "No.of Null Values: 13949\n"
     ]
    },
    {
     "data": {
      "text/plain": [
       "'VAR_0157'"
      ]
     },
     "execution_count": 13,
     "metadata": {},
     "output_type": "execute_result"
    },
    {
     "name": "stdout",
     "output_type": "stream",
     "text": [
      "No. of unique values: 71\n",
      "No.of Null Values: 14446\n"
     ]
    },
    {
     "data": {
      "text/plain": [
       "'VAR_0158'"
      ]
     },
     "execution_count": 13,
     "metadata": {},
     "output_type": "execute_result"
    },
    {
     "name": "stdout",
     "output_type": "stream",
     "text": [
      "No. of unique values: 153\n",
      "No.of Null Values: 14302\n"
     ]
    },
    {
     "data": {
      "text/plain": [
       "'VAR_0159'"
      ]
     },
     "execution_count": 13,
     "metadata": {},
     "output_type": "execute_result"
    },
    {
     "name": "stdout",
     "output_type": "stream",
     "text": [
      "No. of unique values: 332\n",
      "No.of Null Values: 13949\n"
     ]
    },
    {
     "data": {
      "text/plain": [
       "'VAR_0160'"
      ]
     },
     "execution_count": 13,
     "metadata": {},
     "output_type": "execute_result"
    },
    {
     "name": "stdout",
     "output_type": "stream",
     "text": [
      "No. of unique values: 5\n",
      "No.of Null Values: 14\n"
     ]
    },
    {
     "data": {
      "text/plain": [
       "'VAR_0161'"
      ]
     },
     "execution_count": 13,
     "metadata": {},
     "output_type": "execute_result"
    },
    {
     "name": "stdout",
     "output_type": "stream",
     "text": [
      "No. of unique values: 39\n",
      "No.of Null Values: 14\n"
     ]
    },
    {
     "data": {
      "text/plain": [
       "'VAR_0162'"
      ]
     },
     "execution_count": 13,
     "metadata": {},
     "output_type": "execute_result"
    },
    {
     "name": "stdout",
     "output_type": "stream",
     "text": [
      "No. of unique values: 7\n",
      "No.of Null Values: 14\n"
     ]
    },
    {
     "data": {
      "text/plain": [
       "'VAR_0163'"
      ]
     },
     "execution_count": 13,
     "metadata": {},
     "output_type": "execute_result"
    },
    {
     "name": "stdout",
     "output_type": "stream",
     "text": [
      "No. of unique values: 4\n",
      "No.of Null Values: 14\n"
     ]
    },
    {
     "data": {
      "text/plain": [
       "'VAR_0164'"
      ]
     },
     "execution_count": 13,
     "metadata": {},
     "output_type": "execute_result"
    },
    {
     "name": "stdout",
     "output_type": "stream",
     "text": [
      "No. of unique values: 430\n",
      "No.of Null Values: 14\n"
     ]
    },
    {
     "data": {
      "text/plain": [
       "'VAR_0165'"
      ]
     },
     "execution_count": 13,
     "metadata": {},
     "output_type": "execute_result"
    },
    {
     "name": "stdout",
     "output_type": "stream",
     "text": [
      "No. of unique values: 107\n",
      "No.of Null Values: 14\n"
     ]
    },
    {
     "data": {
      "text/plain": [
       "'VAR_0166'"
      ]
     },
     "execution_count": 13,
     "metadata": {},
     "output_type": "execute_result"
    },
    {
     "name": "stdout",
     "output_type": "stream",
     "text": [
      "No. of unique values: 904\n",
      "No.of Null Values: 13115\n"
     ]
    },
    {
     "data": {
      "text/plain": [
       "'VAR_0167'"
      ]
     },
     "execution_count": 13,
     "metadata": {},
     "output_type": "execute_result"
    },
    {
     "name": "stdout",
     "output_type": "stream",
     "text": [
      "No. of unique values: 211\n",
      "No.of Null Values: 14277\n"
     ]
    },
    {
     "data": {
      "text/plain": [
       "'VAR_0168'"
      ]
     },
     "execution_count": 13,
     "metadata": {},
     "output_type": "execute_result"
    },
    {
     "name": "stdout",
     "output_type": "stream",
     "text": [
      "No. of unique values: 605\n",
      "No.of Null Values: 13459\n"
     ]
    },
    {
     "data": {
      "text/plain": [
       "'VAR_0169'"
      ]
     },
     "execution_count": 13,
     "metadata": {},
     "output_type": "execute_result"
    },
    {
     "name": "stdout",
     "output_type": "stream",
     "text": [
      "No. of unique values: 812\n",
      "No.of Null Values: 13115\n"
     ]
    },
    {
     "data": {
      "text/plain": [
       "'VAR_0170'"
      ]
     },
     "execution_count": 13,
     "metadata": {},
     "output_type": "execute_result"
    },
    {
     "name": "stdout",
     "output_type": "stream",
     "text": [
      "No. of unique values: 6\n",
      "No.of Null Values: 14\n"
     ]
    },
    {
     "data": {
      "text/plain": [
       "'VAR_0171'"
      ]
     },
     "execution_count": 13,
     "metadata": {},
     "output_type": "execute_result"
    },
    {
     "name": "stdout",
     "output_type": "stream",
     "text": [
      "No. of unique values: 38\n",
      "No.of Null Values: 14\n"
     ]
    },
    {
     "data": {
      "text/plain": [
       "'VAR_0172'"
      ]
     },
     "execution_count": 13,
     "metadata": {},
     "output_type": "execute_result"
    },
    {
     "name": "stdout",
     "output_type": "stream",
     "text": [
      "No. of unique values: 9\n",
      "No.of Null Values: 14\n"
     ]
    },
    {
     "data": {
      "text/plain": [
       "'VAR_0173'"
      ]
     },
     "execution_count": 13,
     "metadata": {},
     "output_type": "execute_result"
    },
    {
     "name": "stdout",
     "output_type": "stream",
     "text": [
      "No. of unique values: 4\n",
      "No.of Null Values: 14\n"
     ]
    },
    {
     "data": {
      "text/plain": [
       "'VAR_0174'"
      ]
     },
     "execution_count": 13,
     "metadata": {},
     "output_type": "execute_result"
    },
    {
     "name": "stdout",
     "output_type": "stream",
     "text": [
      "No. of unique values: 704\n",
      "No.of Null Values: 14\n"
     ]
    },
    {
     "data": {
      "text/plain": [
       "'VAR_0175'"
      ]
     },
     "execution_count": 13,
     "metadata": {},
     "output_type": "execute_result"
    },
    {
     "name": "stdout",
     "output_type": "stream",
     "text": [
      "No. of unique values: 173\n",
      "No.of Null Values: 14\n"
     ]
    },
    {
     "data": {
      "text/plain": [
       "'VAR_0176'"
      ]
     },
     "execution_count": 13,
     "metadata": {},
     "output_type": "execute_result"
    },
    {
     "name": "stdout",
     "output_type": "stream",
     "text": [
      "No. of unique values: 989\n",
      "No.of Null Values: 12793\n"
     ]
    },
    {
     "data": {
      "text/plain": [
       "'VAR_0177'"
      ]
     },
     "execution_count": 13,
     "metadata": {},
     "output_type": "execute_result"
    },
    {
     "name": "stdout",
     "output_type": "stream",
     "text": [
      "No. of unique values: 260\n",
      "No.of Null Values: 14209\n"
     ]
    },
    {
     "data": {
      "text/plain": [
       "'VAR_0178'"
      ]
     },
     "execution_count": 13,
     "metadata": {},
     "output_type": "execute_result"
    },
    {
     "name": "stdout",
     "output_type": "stream",
     "text": [
      "No. of unique values: 633\n",
      "No.of Null Values: 13318\n"
     ]
    },
    {
     "data": {
      "text/plain": [
       "'VAR_0179'"
      ]
     },
     "execution_count": 13,
     "metadata": {},
     "output_type": "execute_result"
    },
    {
     "name": "stdout",
     "output_type": "stream",
     "text": [
      "No. of unique values: 820\n",
      "No.of Null Values: 12793\n"
     ]
    },
    {
     "data": {
      "text/plain": [
       "'VAR_0180'"
      ]
     },
     "execution_count": 13,
     "metadata": {},
     "output_type": "execute_result"
    },
    {
     "name": "stdout",
     "output_type": "stream",
     "text": [
      "No. of unique values: 2\n",
      "No.of Null Values: 14\n"
     ]
    },
    {
     "data": {
      "text/plain": [
       "'VAR_0181'"
      ]
     },
     "execution_count": 13,
     "metadata": {},
     "output_type": "execute_result"
    },
    {
     "name": "stdout",
     "output_type": "stream",
     "text": [
      "No. of unique values: 2\n",
      "No.of Null Values: 14\n"
     ]
    },
    {
     "data": {
      "text/plain": [
       "'VAR_0182'"
      ]
     },
     "execution_count": 13,
     "metadata": {},
     "output_type": "execute_result"
    },
    {
     "name": "stdout",
     "output_type": "stream",
     "text": [
      "No. of unique values: 2\n",
      "No.of Null Values: 14\n"
     ]
    },
    {
     "data": {
      "text/plain": [
       "'VAR_0183'"
      ]
     },
     "execution_count": 13,
     "metadata": {},
     "output_type": "execute_result"
    },
    {
     "name": "stdout",
     "output_type": "stream",
     "text": [
      "No. of unique values: 3\n",
      "No.of Null Values: 14\n"
     ]
    },
    {
     "data": {
      "text/plain": [
       "'VAR_0184'"
      ]
     },
     "execution_count": 13,
     "metadata": {},
     "output_type": "execute_result"
    },
    {
     "name": "stdout",
     "output_type": "stream",
     "text": [
      "No. of unique values: 3\n",
      "No.of Null Values: 14\n"
     ]
    },
    {
     "data": {
      "text/plain": [
       "'VAR_0185'"
      ]
     },
     "execution_count": 13,
     "metadata": {},
     "output_type": "execute_result"
    },
    {
     "name": "stdout",
     "output_type": "stream",
     "text": [
      "No. of unique values: 4\n",
      "No.of Null Values: 14\n"
     ]
    },
    {
     "data": {
      "text/plain": [
       "'VAR_0186'"
      ]
     },
     "execution_count": 13,
     "metadata": {},
     "output_type": "execute_result"
    },
    {
     "name": "stdout",
     "output_type": "stream",
     "text": [
      "No. of unique values: 5\n",
      "No.of Null Values: 14\n"
     ]
    },
    {
     "data": {
      "text/plain": [
       "'VAR_0187'"
      ]
     },
     "execution_count": 13,
     "metadata": {},
     "output_type": "execute_result"
    },
    {
     "name": "stdout",
     "output_type": "stream",
     "text": [
      "No. of unique values: 5\n",
      "No.of Null Values: 14\n"
     ]
    },
    {
     "data": {
      "text/plain": [
       "'VAR_0188'"
      ]
     },
     "execution_count": 13,
     "metadata": {},
     "output_type": "execute_result"
    },
    {
     "name": "stdout",
     "output_type": "stream",
     "text": [
      "No. of unique values: 1\n",
      "No.of Null Values: 14\n"
     ]
    },
    {
     "data": {
      "text/plain": [
       "'VAR_0189'"
      ]
     },
     "execution_count": 13,
     "metadata": {},
     "output_type": "execute_result"
    },
    {
     "name": "stdout",
     "output_type": "stream",
     "text": [
      "No. of unique values: 1\n",
      "No.of Null Values: 14\n"
     ]
    },
    {
     "data": {
      "text/plain": [
       "'VAR_0190'"
      ]
     },
     "execution_count": 13,
     "metadata": {},
     "output_type": "execute_result"
    },
    {
     "name": "stdout",
     "output_type": "stream",
     "text": [
      "No. of unique values: 1\n",
      "No.of Null Values: 14\n"
     ]
    },
    {
     "data": {
      "text/plain": [
       "'VAR_0191'"
      ]
     },
     "execution_count": 13,
     "metadata": {},
     "output_type": "execute_result"
    },
    {
     "name": "stdout",
     "output_type": "stream",
     "text": [
      "No. of unique values: 1\n",
      "No.of Null Values: 14\n"
     ]
    },
    {
     "data": {
      "text/plain": [
       "'VAR_0192'"
      ]
     },
     "execution_count": 13,
     "metadata": {},
     "output_type": "execute_result"
    },
    {
     "name": "stdout",
     "output_type": "stream",
     "text": [
      "No. of unique values: 1\n",
      "No.of Null Values: 14\n"
     ]
    },
    {
     "data": {
      "text/plain": [
       "'VAR_0193'"
      ]
     },
     "execution_count": 13,
     "metadata": {},
     "output_type": "execute_result"
    },
    {
     "name": "stdout",
     "output_type": "stream",
     "text": [
      "No. of unique values: 2\n",
      "No.of Null Values: 14\n"
     ]
    },
    {
     "data": {
      "text/plain": [
       "'VAR_0194'"
      ]
     },
     "execution_count": 13,
     "metadata": {},
     "output_type": "execute_result"
    },
    {
     "name": "stdout",
     "output_type": "stream",
     "text": [
      "No. of unique values: 2\n",
      "No.of Null Values: 14\n"
     ]
    },
    {
     "data": {
      "text/plain": [
       "'VAR_0195'"
      ]
     },
     "execution_count": 13,
     "metadata": {},
     "output_type": "execute_result"
    },
    {
     "name": "stdout",
     "output_type": "stream",
     "text": [
      "No. of unique values: 2\n",
      "No.of Null Values: 14\n"
     ]
    },
    {
     "data": {
      "text/plain": [
       "'VAR_0196'"
      ]
     },
     "execution_count": 13,
     "metadata": {},
     "output_type": "execute_result"
    },
    {
     "name": "stdout",
     "output_type": "stream",
     "text": [
      "No. of unique values: 1\n",
      "No.of Null Values: 11\n"
     ]
    },
    {
     "data": {
      "text/plain": [
       "'VAR_0197'"
      ]
     },
     "execution_count": 13,
     "metadata": {},
     "output_type": "execute_result"
    },
    {
     "name": "stdout",
     "output_type": "stream",
     "text": [
      "No. of unique values: 1\n",
      "No.of Null Values: 11\n"
     ]
    },
    {
     "data": {
      "text/plain": [
       "'VAR_0198'"
      ]
     },
     "execution_count": 13,
     "metadata": {},
     "output_type": "execute_result"
    },
    {
     "name": "stdout",
     "output_type": "stream",
     "text": [
      "No. of unique values: 77\n",
      "No.of Null Values: 11\n"
     ]
    },
    {
     "data": {
      "text/plain": [
       "'VAR_0199'"
      ]
     },
     "execution_count": 13,
     "metadata": {},
     "output_type": "execute_result"
    },
    {
     "name": "stdout",
     "output_type": "stream",
     "text": [
      "No. of unique values: 1\n",
      "No.of Null Values: 11\n"
     ]
    },
    {
     "data": {
      "text/plain": [
       "'VAR_0200'"
      ]
     },
     "execution_count": 13,
     "metadata": {},
     "output_type": "execute_result"
    },
    {
     "name": "stdout",
     "output_type": "stream",
     "text": [
      "No. of unique values: 4313\n",
      "No.of Null Values: 12\n"
     ]
    },
    {
     "data": {
      "text/plain": [
       "'VAR_0201'"
      ]
     },
     "execution_count": 13,
     "metadata": {},
     "output_type": "execute_result"
    },
    {
     "name": "stdout",
     "output_type": "stream",
     "text": [
      "No. of unique values: 22\n",
      "No.of Null Values: 11\n"
     ]
    },
    {
     "data": {
      "text/plain": [
       "'VAR_0202'"
      ]
     },
     "execution_count": 13,
     "metadata": {},
     "output_type": "execute_result"
    },
    {
     "name": "stdout",
     "output_type": "stream",
     "text": [
      "No. of unique values: 1\n",
      "No.of Null Values: 11\n"
     ]
    },
    {
     "data": {
      "text/plain": [
       "'VAR_0203'"
      ]
     },
     "execution_count": 13,
     "metadata": {},
     "output_type": "execute_result"
    },
    {
     "name": "stdout",
     "output_type": "stream",
     "text": [
      "No. of unique values: 1\n",
      "No.of Null Values: 11\n"
     ]
    },
    {
     "data": {
      "text/plain": [
       "'VAR_0204'"
      ]
     },
     "execution_count": 13,
     "metadata": {},
     "output_type": "execute_result"
    },
    {
     "name": "stdout",
     "output_type": "stream",
     "text": [
      "No. of unique values: 1187\n",
      "No.of Null Values: 11\n"
     ]
    },
    {
     "data": {
      "text/plain": [
       "'VAR_0205'"
      ]
     },
     "execution_count": 13,
     "metadata": {},
     "output_type": "execute_result"
    },
    {
     "name": "stdout",
     "output_type": "stream",
     "text": [
      "No. of unique values: 181\n",
      "No.of Null Values: 14315\n"
     ]
    },
    {
     "data": {
      "text/plain": [
       "'VAR_0206'"
      ]
     },
     "execution_count": 13,
     "metadata": {},
     "output_type": "execute_result"
    },
    {
     "name": "stdout",
     "output_type": "stream",
     "text": [
      "No. of unique values: 169\n",
      "No.of Null Values: 14310\n"
     ]
    },
    {
     "data": {
      "text/plain": [
       "'VAR_0207'"
      ]
     },
     "execution_count": 13,
     "metadata": {},
     "output_type": "execute_result"
    },
    {
     "name": "stdout",
     "output_type": "stream",
     "text": [
      "No. of unique values: 0\n",
      "No.of Null Values: 14523\n"
     ]
    },
    {
     "data": {
      "text/plain": [
       "'VAR_0208'"
      ]
     },
     "execution_count": 13,
     "metadata": {},
     "output_type": "execute_result"
    },
    {
     "name": "stdout",
     "output_type": "stream",
     "text": [
      "No. of unique values: 342\n",
      "No.of Null Values: 12586\n"
     ]
    },
    {
     "data": {
      "text/plain": [
       "'VAR_0209'"
      ]
     },
     "execution_count": 13,
     "metadata": {},
     "output_type": "execute_result"
    },
    {
     "name": "stdout",
     "output_type": "stream",
     "text": [
      "No. of unique values: 588\n",
      "No.of Null Values: 13600\n"
     ]
    },
    {
     "data": {
      "text/plain": [
       "'VAR_0210'"
      ]
     },
     "execution_count": 13,
     "metadata": {},
     "output_type": "execute_result"
    },
    {
     "name": "stdout",
     "output_type": "stream",
     "text": [
      "No. of unique values: 342\n",
      "No.of Null Values: 12586\n"
     ]
    },
    {
     "data": {
      "text/plain": [
       "'VAR_0211'"
      ]
     },
     "execution_count": 13,
     "metadata": {},
     "output_type": "execute_result"
    },
    {
     "name": "stdout",
     "output_type": "stream",
     "text": [
      "No. of unique values: 342\n",
      "No.of Null Values: 12586\n"
     ]
    },
    {
     "data": {
      "text/plain": [
       "'VAR_0212'"
      ]
     },
     "execution_count": 13,
     "metadata": {},
     "output_type": "execute_result"
    },
    {
     "name": "stdout",
     "output_type": "stream",
     "text": [
      "No. of unique values: 1\n",
      "No.of Null Values: 1261\n"
     ]
    },
    {
     "data": {
      "text/plain": [
       "'VAR_0213'"
      ]
     },
     "execution_count": 13,
     "metadata": {},
     "output_type": "execute_result"
    },
    {
     "name": "stdout",
     "output_type": "stream",
     "text": [
      "No. of unique values: 0\n",
      "No.of Null Values: 14523\n"
     ]
    },
    {
     "data": {
      "text/plain": [
       "'VAR_0214'"
      ]
     },
     "execution_count": 13,
     "metadata": {},
     "output_type": "execute_result"
    },
    {
     "name": "stdout",
     "output_type": "stream",
     "text": [
      "No. of unique values: 3\n",
      "No.of Null Values: 14520\n"
     ]
    },
    {
     "data": {
      "text/plain": [
       "'VAR_0215'"
      ]
     },
     "execution_count": 13,
     "metadata": {},
     "output_type": "execute_result"
    },
    {
     "name": "stdout",
     "output_type": "stream",
     "text": [
      "No. of unique values: 1\n",
      "No.of Null Values: 11\n"
     ]
    },
    {
     "data": {
      "text/plain": [
       "'VAR_0216'"
      ]
     },
     "execution_count": 13,
     "metadata": {},
     "output_type": "execute_result"
    },
    {
     "name": "stdout",
     "output_type": "stream",
     "text": [
      "No. of unique values: 1\n",
      "No.of Null Values: 11\n"
     ]
    },
    {
     "data": {
      "text/plain": [
       "'VAR_0217'"
      ]
     },
     "execution_count": 13,
     "metadata": {},
     "output_type": "execute_result"
    },
    {
     "name": "stdout",
     "output_type": "stream",
     "text": [
      "No. of unique values: 397\n",
      "No.of Null Values: 11\n"
     ]
    },
    {
     "data": {
      "text/plain": [
       "'VAR_0219'"
      ]
     },
     "execution_count": 13,
     "metadata": {},
     "output_type": "execute_result"
    },
    {
     "name": "stdout",
     "output_type": "stream",
     "text": [
      "No. of unique values: 5\n",
      "No.of Null Values: 11\n"
     ]
    },
    {
     "data": {
      "text/plain": [
       "'VAR_0220'"
      ]
     },
     "execution_count": 13,
     "metadata": {},
     "output_type": "execute_result"
    },
    {
     "name": "stdout",
     "output_type": "stream",
     "text": [
      "No. of unique values: 6\n",
      "No.of Null Values: 11\n"
     ]
    },
    {
     "data": {
      "text/plain": [
       "'VAR_0221'"
      ]
     },
     "execution_count": 13,
     "metadata": {},
     "output_type": "execute_result"
    },
    {
     "name": "stdout",
     "output_type": "stream",
     "text": [
      "No. of unique values: 1\n",
      "No.of Null Values: 11\n"
     ]
    },
    {
     "data": {
      "text/plain": [
       "'VAR_0222'"
      ]
     },
     "execution_count": 13,
     "metadata": {},
     "output_type": "execute_result"
    },
    {
     "name": "stdout",
     "output_type": "stream",
     "text": [
      "No. of unique values: 1\n",
      "No.of Null Values: 11\n"
     ]
    },
    {
     "data": {
      "text/plain": [
       "'VAR_0223'"
      ]
     },
     "execution_count": 13,
     "metadata": {},
     "output_type": "execute_result"
    },
    {
     "name": "stdout",
     "output_type": "stream",
     "text": [
      "No. of unique values: 1\n",
      "No.of Null Values: 11\n"
     ]
    },
    {
     "data": {
      "text/plain": [
       "'VAR_0224'"
      ]
     },
     "execution_count": 13,
     "metadata": {},
     "output_type": "execute_result"
    },
    {
     "name": "stdout",
     "output_type": "stream",
     "text": [
      "No. of unique values: 104\n",
      "No.of Null Values: 11\n"
     ]
    },
    {
     "data": {
      "text/plain": [
       "'VAR_0225'"
      ]
     },
     "execution_count": 13,
     "metadata": {},
     "output_type": "execute_result"
    },
    {
     "name": "stdout",
     "output_type": "stream",
     "text": [
      "No. of unique values: 125\n",
      "No.of Null Values: 11\n"
     ]
    },
    {
     "data": {
      "text/plain": [
       "'VAR_0226'"
      ]
     },
     "execution_count": 13,
     "metadata": {},
     "output_type": "execute_result"
    },
    {
     "name": "stdout",
     "output_type": "stream",
     "text": [
      "No. of unique values: 2\n",
      "No.of Null Values: 11\n"
     ]
    },
    {
     "data": {
      "text/plain": [
       "'VAR_0227'"
      ]
     },
     "execution_count": 13,
     "metadata": {},
     "output_type": "execute_result"
    },
    {
     "name": "stdout",
     "output_type": "stream",
     "text": [
      "No. of unique values: 324\n",
      "No.of Null Values: 11\n"
     ]
    },
    {
     "data": {
      "text/plain": [
       "'VAR_0228'"
      ]
     },
     "execution_count": 13,
     "metadata": {},
     "output_type": "execute_result"
    },
    {
     "name": "stdout",
     "output_type": "stream",
     "text": [
      "No. of unique values: 324\n",
      "No.of Null Values: 11\n"
     ]
    },
    {
     "data": {
      "text/plain": [
       "'VAR_0229'"
      ]
     },
     "execution_count": 13,
     "metadata": {},
     "output_type": "execute_result"
    },
    {
     "name": "stdout",
     "output_type": "stream",
     "text": [
      "No. of unique values: 1\n",
      "No.of Null Values: 11\n"
     ]
    },
    {
     "data": {
      "text/plain": [
       "'VAR_0230'"
      ]
     },
     "execution_count": 13,
     "metadata": {},
     "output_type": "execute_result"
    },
    {
     "name": "stdout",
     "output_type": "stream",
     "text": [
      "No. of unique values: 2\n",
      "No.of Null Values: 11\n"
     ]
    },
    {
     "data": {
      "text/plain": [
       "'VAR_0231'"
      ]
     },
     "execution_count": 13,
     "metadata": {},
     "output_type": "execute_result"
    },
    {
     "name": "stdout",
     "output_type": "stream",
     "text": [
      "No. of unique values: 12\n",
      "No.of Null Values: 11\n"
     ]
    },
    {
     "data": {
      "text/plain": [
       "'VAR_0232'"
      ]
     },
     "execution_count": 13,
     "metadata": {},
     "output_type": "execute_result"
    },
    {
     "name": "stdout",
     "output_type": "stream",
     "text": [
      "No. of unique values: 2\n",
      "No.of Null Values: 11\n"
     ]
    },
    {
     "data": {
      "text/plain": [
       "'VAR_0233'"
      ]
     },
     "execution_count": 13,
     "metadata": {},
     "output_type": "execute_result"
    },
    {
     "name": "stdout",
     "output_type": "stream",
     "text": [
      "No. of unique values: 259\n",
      "No.of Null Values: 11\n"
     ]
    },
    {
     "data": {
      "text/plain": [
       "'VAR_0234'"
      ]
     },
     "execution_count": 13,
     "metadata": {},
     "output_type": "execute_result"
    },
    {
     "name": "stdout",
     "output_type": "stream",
     "text": [
      "No. of unique values: 266\n",
      "No.of Null Values: 11\n"
     ]
    },
    {
     "data": {
      "text/plain": [
       "'VAR_0235'"
      ]
     },
     "execution_count": 13,
     "metadata": {},
     "output_type": "execute_result"
    },
    {
     "name": "stdout",
     "output_type": "stream",
     "text": [
      "No. of unique values: 271\n",
      "No.of Null Values: 11\n"
     ]
    },
    {
     "data": {
      "text/plain": [
       "'VAR_0236'"
      ]
     },
     "execution_count": 13,
     "metadata": {},
     "output_type": "execute_result"
    },
    {
     "name": "stdout",
     "output_type": "stream",
     "text": [
      "No. of unique values: 2\n",
      "No.of Null Values: 11\n"
     ]
    },
    {
     "data": {
      "text/plain": [
       "'VAR_0237'"
      ]
     },
     "execution_count": 13,
     "metadata": {},
     "output_type": "execute_result"
    },
    {
     "name": "stdout",
     "output_type": "stream",
     "text": [
      "No. of unique values: 42\n",
      "No.of Null Values: 11\n"
     ]
    },
    {
     "data": {
      "text/plain": [
       "'VAR_0238'"
      ]
     },
     "execution_count": 13,
     "metadata": {},
     "output_type": "execute_result"
    },
    {
     "name": "stdout",
     "output_type": "stream",
     "text": [
      "No. of unique values: 272\n",
      "No.of Null Values: 11\n"
     ]
    },
    {
     "data": {
      "text/plain": [
       "'VAR_0239'"
      ]
     },
     "execution_count": 13,
     "metadata": {},
     "output_type": "execute_result"
    },
    {
     "name": "stdout",
     "output_type": "stream",
     "text": [
      "No. of unique values: 1\n",
      "No.of Null Values: 11\n"
     ]
    },
    {
     "data": {
      "text/plain": [
       "'VAR_0241'"
      ]
     },
     "execution_count": 13,
     "metadata": {},
     "output_type": "execute_result"
    },
    {
     "name": "stdout",
     "output_type": "stream",
     "text": [
      "No. of unique values: 1408\n",
      "No.of Null Values: 11\n"
     ]
    },
    {
     "data": {
      "text/plain": [
       "'VAR_0242'"
      ]
     },
     "execution_count": 13,
     "metadata": {},
     "output_type": "execute_result"
    },
    {
     "name": "stdout",
     "output_type": "stream",
     "text": [
      "No. of unique values: 528\n",
      "No.of Null Values: 90\n"
     ]
    },
    {
     "data": {
      "text/plain": [
       "'VAR_0243'"
      ]
     },
     "execution_count": 13,
     "metadata": {},
     "output_type": "execute_result"
    },
    {
     "name": "stdout",
     "output_type": "stream",
     "text": [
      "No. of unique values: 40\n",
      "No.of Null Values: 90\n"
     ]
    },
    {
     "data": {
      "text/plain": [
       "'VAR_0244'"
      ]
     },
     "execution_count": 13,
     "metadata": {},
     "output_type": "execute_result"
    },
    {
     "name": "stdout",
     "output_type": "stream",
     "text": [
      "No. of unique values: 2\n",
      "No.of Null Values: 90\n"
     ]
    },
    {
     "data": {
      "text/plain": [
       "'VAR_0245'"
      ]
     },
     "execution_count": 13,
     "metadata": {},
     "output_type": "execute_result"
    },
    {
     "name": "stdout",
     "output_type": "stream",
     "text": [
      "No. of unique values: 11\n",
      "No.of Null Values: 90\n"
     ]
    },
    {
     "data": {
      "text/plain": [
       "'VAR_0246'"
      ]
     },
     "execution_count": 13,
     "metadata": {},
     "output_type": "execute_result"
    },
    {
     "name": "stdout",
     "output_type": "stream",
     "text": [
      "No. of unique values: 1\n",
      "No.of Null Values: 90\n"
     ]
    },
    {
     "data": {
      "text/plain": [
       "'VAR_0247'"
      ]
     },
     "execution_count": 13,
     "metadata": {},
     "output_type": "execute_result"
    },
    {
     "name": "stdout",
     "output_type": "stream",
     "text": [
      "No. of unique values: 2\n",
      "No.of Null Values: 90\n"
     ]
    },
    {
     "data": {
      "text/plain": [
       "'VAR_0248'"
      ]
     },
     "execution_count": 13,
     "metadata": {},
     "output_type": "execute_result"
    },
    {
     "name": "stdout",
     "output_type": "stream",
     "text": [
      "No. of unique values: 2\n",
      "No.of Null Values: 90\n"
     ]
    },
    {
     "data": {
      "text/plain": [
       "'VAR_0249'"
      ]
     },
     "execution_count": 13,
     "metadata": {},
     "output_type": "execute_result"
    },
    {
     "name": "stdout",
     "output_type": "stream",
     "text": [
      "No. of unique values: 4\n",
      "No.of Null Values: 90\n"
     ]
    },
    {
     "data": {
      "text/plain": [
       "'VAR_0250'"
      ]
     },
     "execution_count": 13,
     "metadata": {},
     "output_type": "execute_result"
    },
    {
     "name": "stdout",
     "output_type": "stream",
     "text": [
      "No. of unique values: 4\n",
      "No.of Null Values: 90\n"
     ]
    },
    {
     "data": {
      "text/plain": [
       "'VAR_0251'"
      ]
     },
     "execution_count": 13,
     "metadata": {},
     "output_type": "execute_result"
    },
    {
     "name": "stdout",
     "output_type": "stream",
     "text": [
      "No. of unique values: 4\n",
      "No.of Null Values: 90\n"
     ]
    },
    {
     "data": {
      "text/plain": [
       "'VAR_0252'"
      ]
     },
     "execution_count": 13,
     "metadata": {},
     "output_type": "execute_result"
    },
    {
     "name": "stdout",
     "output_type": "stream",
     "text": [
      "No. of unique values: 2\n",
      "No.of Null Values: 90\n"
     ]
    },
    {
     "data": {
      "text/plain": [
       "'VAR_0253'"
      ]
     },
     "execution_count": 13,
     "metadata": {},
     "output_type": "execute_result"
    },
    {
     "name": "stdout",
     "output_type": "stream",
     "text": [
      "No. of unique values: 8\n",
      "No.of Null Values: 90\n"
     ]
    },
    {
     "data": {
      "text/plain": [
       "'VAR_0254'"
      ]
     },
     "execution_count": 13,
     "metadata": {},
     "output_type": "execute_result"
    },
    {
     "name": "stdout",
     "output_type": "stream",
     "text": [
      "No. of unique values: 81\n",
      "No.of Null Values: 90\n"
     ]
    },
    {
     "data": {
      "text/plain": [
       "'VAR_0255'"
      ]
     },
     "execution_count": 13,
     "metadata": {},
     "output_type": "execute_result"
    },
    {
     "name": "stdout",
     "output_type": "stream",
     "text": [
      "No. of unique values: 78\n",
      "No.of Null Values: 90\n"
     ]
    },
    {
     "data": {
      "text/plain": [
       "'VAR_0256'"
      ]
     },
     "execution_count": 13,
     "metadata": {},
     "output_type": "execute_result"
    },
    {
     "name": "stdout",
     "output_type": "stream",
     "text": [
      "No. of unique values: 14\n",
      "No.of Null Values: 90\n"
     ]
    },
    {
     "data": {
      "text/plain": [
       "'VAR_0257'"
      ]
     },
     "execution_count": 13,
     "metadata": {},
     "output_type": "execute_result"
    },
    {
     "name": "stdout",
     "output_type": "stream",
     "text": [
      "No. of unique values: 43\n",
      "No.of Null Values: 90\n"
     ]
    },
    {
     "data": {
      "text/plain": [
       "'VAR_0258'"
      ]
     },
     "execution_count": 13,
     "metadata": {},
     "output_type": "execute_result"
    },
    {
     "name": "stdout",
     "output_type": "stream",
     "text": [
      "No. of unique values: 7\n",
      "No.of Null Values: 90\n"
     ]
    },
    {
     "data": {
      "text/plain": [
       "'VAR_0259'"
      ]
     },
     "execution_count": 13,
     "metadata": {},
     "output_type": "execute_result"
    },
    {
     "name": "stdout",
     "output_type": "stream",
     "text": [
      "No. of unique values: 3\n",
      "No.of Null Values: 90\n"
     ]
    },
    {
     "data": {
      "text/plain": [
       "'VAR_0260'"
      ]
     },
     "execution_count": 13,
     "metadata": {},
     "output_type": "execute_result"
    },
    {
     "name": "stdout",
     "output_type": "stream",
     "text": [
      "No. of unique values: 7\n",
      "No.of Null Values: 90\n"
     ]
    },
    {
     "data": {
      "text/plain": [
       "'VAR_0261'"
      ]
     },
     "execution_count": 13,
     "metadata": {},
     "output_type": "execute_result"
    },
    {
     "name": "stdout",
     "output_type": "stream",
     "text": [
      "No. of unique values: 5\n",
      "No.of Null Values: 90\n"
     ]
    },
    {
     "data": {
      "text/plain": [
       "'VAR_0262'"
      ]
     },
     "execution_count": 13,
     "metadata": {},
     "output_type": "execute_result"
    },
    {
     "name": "stdout",
     "output_type": "stream",
     "text": [
      "No. of unique values: 14\n",
      "No.of Null Values: 90\n"
     ]
    },
    {
     "data": {
      "text/plain": [
       "'VAR_0263'"
      ]
     },
     "execution_count": 13,
     "metadata": {},
     "output_type": "execute_result"
    },
    {
     "name": "stdout",
     "output_type": "stream",
     "text": [
      "No. of unique values: 40\n",
      "No.of Null Values: 90\n"
     ]
    },
    {
     "data": {
      "text/plain": [
       "'VAR_0264'"
      ]
     },
     "execution_count": 13,
     "metadata": {},
     "output_type": "execute_result"
    },
    {
     "name": "stdout",
     "output_type": "stream",
     "text": [
      "No. of unique values: 3\n",
      "No.of Null Values: 90\n"
     ]
    },
    {
     "data": {
      "text/plain": [
       "'VAR_0265'"
      ]
     },
     "execution_count": 13,
     "metadata": {},
     "output_type": "execute_result"
    },
    {
     "name": "stdout",
     "output_type": "stream",
     "text": [
      "No. of unique values: 3\n",
      "No.of Null Values: 90\n"
     ]
    },
    {
     "data": {
      "text/plain": [
       "'VAR_0266'"
      ]
     },
     "execution_count": 13,
     "metadata": {},
     "output_type": "execute_result"
    },
    {
     "name": "stdout",
     "output_type": "stream",
     "text": [
      "No. of unique values: 46\n",
      "No.of Null Values: 90\n"
     ]
    },
    {
     "data": {
      "text/plain": [
       "'VAR_0267'"
      ]
     },
     "execution_count": 13,
     "metadata": {},
     "output_type": "execute_result"
    },
    {
     "name": "stdout",
     "output_type": "stream",
     "text": [
      "No. of unique values: 30\n",
      "No.of Null Values: 90\n"
     ]
    },
    {
     "data": {
      "text/plain": [
       "'VAR_0268'"
      ]
     },
     "execution_count": 13,
     "metadata": {},
     "output_type": "execute_result"
    },
    {
     "name": "stdout",
     "output_type": "stream",
     "text": [
      "No. of unique values: 6\n",
      "No.of Null Values: 90\n"
     ]
    },
    {
     "data": {
      "text/plain": [
       "'VAR_0269'"
      ]
     },
     "execution_count": 13,
     "metadata": {},
     "output_type": "execute_result"
    },
    {
     "name": "stdout",
     "output_type": "stream",
     "text": [
      "No. of unique values: 4\n",
      "No.of Null Values: 90\n"
     ]
    },
    {
     "data": {
      "text/plain": [
       "'VAR_0270'"
      ]
     },
     "execution_count": 13,
     "metadata": {},
     "output_type": "execute_result"
    },
    {
     "name": "stdout",
     "output_type": "stream",
     "text": [
      "No. of unique values: 20\n",
      "No.of Null Values: 90\n"
     ]
    },
    {
     "data": {
      "text/plain": [
       "'VAR_0271'"
      ]
     },
     "execution_count": 13,
     "metadata": {},
     "output_type": "execute_result"
    },
    {
     "name": "stdout",
     "output_type": "stream",
     "text": [
      "No. of unique values: 2\n",
      "No.of Null Values: 90\n"
     ]
    },
    {
     "data": {
      "text/plain": [
       "'VAR_0272'"
      ]
     },
     "execution_count": 13,
     "metadata": {},
     "output_type": "execute_result"
    },
    {
     "name": "stdout",
     "output_type": "stream",
     "text": [
      "No. of unique values: 723\n",
      "No.of Null Values: 90\n"
     ]
    },
    {
     "data": {
      "text/plain": [
       "'VAR_0273'"
      ]
     },
     "execution_count": 13,
     "metadata": {},
     "output_type": "execute_result"
    },
    {
     "name": "stdout",
     "output_type": "stream",
     "text": [
      "No. of unique values: 702\n",
      "No.of Null Values: 90\n"
     ]
    },
    {
     "data": {
      "text/plain": [
       "'VAR_0274'"
      ]
     },
     "execution_count": 13,
     "metadata": {},
     "output_type": "execute_result"
    },
    {
     "name": "stdout",
     "output_type": "stream",
     "text": [
      "No. of unique values: 56\n",
      "No.of Null Values: 90\n"
     ]
    },
    {
     "data": {
      "text/plain": [
       "'VAR_0275'"
      ]
     },
     "execution_count": 13,
     "metadata": {},
     "output_type": "execute_result"
    },
    {
     "name": "stdout",
     "output_type": "stream",
     "text": [
      "No. of unique values: 2\n",
      "No.of Null Values: 90\n"
     ]
    },
    {
     "data": {
      "text/plain": [
       "'VAR_0276'"
      ]
     },
     "execution_count": 13,
     "metadata": {},
     "output_type": "execute_result"
    },
    {
     "name": "stdout",
     "output_type": "stream",
     "text": [
      "No. of unique values: 2\n",
      "No.of Null Values: 90\n"
     ]
    },
    {
     "data": {
      "text/plain": [
       "'VAR_0277'"
      ]
     },
     "execution_count": 13,
     "metadata": {},
     "output_type": "execute_result"
    },
    {
     "name": "stdout",
     "output_type": "stream",
     "text": [
      "No. of unique values: 2\n",
      "No.of Null Values: 90\n"
     ]
    },
    {
     "data": {
      "text/plain": [
       "'VAR_0278'"
      ]
     },
     "execution_count": 13,
     "metadata": {},
     "output_type": "execute_result"
    },
    {
     "name": "stdout",
     "output_type": "stream",
     "text": [
      "No. of unique values: 6\n",
      "No.of Null Values: 90\n"
     ]
    },
    {
     "data": {
      "text/plain": [
       "'VAR_0279'"
      ]
     },
     "execution_count": 13,
     "metadata": {},
     "output_type": "execute_result"
    },
    {
     "name": "stdout",
     "output_type": "stream",
     "text": [
      "No. of unique values: 460\n",
      "No.of Null Values: 90\n"
     ]
    },
    {
     "data": {
      "text/plain": [
       "'VAR_0280'"
      ]
     },
     "execution_count": 13,
     "metadata": {},
     "output_type": "execute_result"
    },
    {
     "name": "stdout",
     "output_type": "stream",
     "text": [
      "No. of unique values: 89\n",
      "No.of Null Values: 90\n"
     ]
    },
    {
     "data": {
      "text/plain": [
       "'VAR_0281'"
      ]
     },
     "execution_count": 13,
     "metadata": {},
     "output_type": "execute_result"
    },
    {
     "name": "stdout",
     "output_type": "stream",
     "text": [
      "No. of unique values: 3\n",
      "No.of Null Values: 90\n"
     ]
    },
    {
     "data": {
      "text/plain": [
       "'VAR_0282'"
      ]
     },
     "execution_count": 13,
     "metadata": {},
     "output_type": "execute_result"
    },
    {
     "name": "stdout",
     "output_type": "stream",
     "text": [
      "No. of unique values: 462\n",
      "No.of Null Values: 90\n"
     ]
    },
    {
     "data": {
      "text/plain": [
       "'VAR_0283'"
      ]
     },
     "execution_count": 13,
     "metadata": {},
     "output_type": "execute_result"
    },
    {
     "name": "stdout",
     "output_type": "stream",
     "text": [
      "No. of unique values: 8\n",
      "No.of Null Values: 90\n"
     ]
    },
    {
     "data": {
      "text/plain": [
       "'VAR_0284'"
      ]
     },
     "execution_count": 13,
     "metadata": {},
     "output_type": "execute_result"
    },
    {
     "name": "stdout",
     "output_type": "stream",
     "text": [
      "No. of unique values: 4\n",
      "No.of Null Values: 90\n"
     ]
    },
    {
     "data": {
      "text/plain": [
       "'VAR_0285'"
      ]
     },
     "execution_count": 13,
     "metadata": {},
     "output_type": "execute_result"
    },
    {
     "name": "stdout",
     "output_type": "stream",
     "text": [
      "No. of unique values: 3\n",
      "No.of Null Values: 90\n"
     ]
    },
    {
     "data": {
      "text/plain": [
       "'VAR_0286'"
      ]
     },
     "execution_count": 13,
     "metadata": {},
     "output_type": "execute_result"
    },
    {
     "name": "stdout",
     "output_type": "stream",
     "text": [
      "No. of unique values: 3\n",
      "No.of Null Values: 90\n"
     ]
    },
    {
     "data": {
      "text/plain": [
       "'VAR_0287'"
      ]
     },
     "execution_count": 13,
     "metadata": {},
     "output_type": "execute_result"
    },
    {
     "name": "stdout",
     "output_type": "stream",
     "text": [
      "No. of unique values: 3\n",
      "No.of Null Values: 90\n"
     ]
    },
    {
     "data": {
      "text/plain": [
       "'VAR_0288'"
      ]
     },
     "execution_count": 13,
     "metadata": {},
     "output_type": "execute_result"
    },
    {
     "name": "stdout",
     "output_type": "stream",
     "text": [
      "No. of unique values: 457\n",
      "No.of Null Values: 90\n"
     ]
    },
    {
     "data": {
      "text/plain": [
       "'VAR_0289'"
      ]
     },
     "execution_count": 13,
     "metadata": {},
     "output_type": "execute_result"
    },
    {
     "name": "stdout",
     "output_type": "stream",
     "text": [
      "No. of unique values: 281\n",
      "No.of Null Values: 90\n"
     ]
    },
    {
     "data": {
      "text/plain": [
       "'VAR_0290'"
      ]
     },
     "execution_count": 13,
     "metadata": {},
     "output_type": "execute_result"
    },
    {
     "name": "stdout",
     "output_type": "stream",
     "text": [
      "No. of unique values: 4\n",
      "No.of Null Values: 90\n"
     ]
    },
    {
     "data": {
      "text/plain": [
       "'VAR_0291'"
      ]
     },
     "execution_count": 13,
     "metadata": {},
     "output_type": "execute_result"
    },
    {
     "name": "stdout",
     "output_type": "stream",
     "text": [
      "No. of unique values: 3\n",
      "No.of Null Values: 90\n"
     ]
    },
    {
     "data": {
      "text/plain": [
       "'VAR_0292'"
      ]
     },
     "execution_count": 13,
     "metadata": {},
     "output_type": "execute_result"
    },
    {
     "name": "stdout",
     "output_type": "stream",
     "text": [
      "No. of unique values: 2\n",
      "No.of Null Values: 90\n"
     ]
    },
    {
     "data": {
      "text/plain": [
       "'VAR_0293'"
      ]
     },
     "execution_count": 13,
     "metadata": {},
     "output_type": "execute_result"
    },
    {
     "name": "stdout",
     "output_type": "stream",
     "text": [
      "No. of unique values: 2496\n",
      "No.of Null Values: 90\n"
     ]
    },
    {
     "data": {
      "text/plain": [
       "'VAR_0294'"
      ]
     },
     "execution_count": 13,
     "metadata": {},
     "output_type": "execute_result"
    },
    {
     "name": "stdout",
     "output_type": "stream",
     "text": [
      "No. of unique values: 16\n",
      "No.of Null Values: 90\n"
     ]
    },
    {
     "data": {
      "text/plain": [
       "'VAR_0295'"
      ]
     },
     "execution_count": 13,
     "metadata": {},
     "output_type": "execute_result"
    },
    {
     "name": "stdout",
     "output_type": "stream",
     "text": [
      "No. of unique values: 1068\n",
      "No.of Null Values: 90\n"
     ]
    },
    {
     "data": {
      "text/plain": [
       "'VAR_0296'"
      ]
     },
     "execution_count": 13,
     "metadata": {},
     "output_type": "execute_result"
    },
    {
     "name": "stdout",
     "output_type": "stream",
     "text": [
      "No. of unique values: 774\n",
      "No.of Null Values: 90\n"
     ]
    },
    {
     "data": {
      "text/plain": [
       "'VAR_0297'"
      ]
     },
     "execution_count": 13,
     "metadata": {},
     "output_type": "execute_result"
    },
    {
     "name": "stdout",
     "output_type": "stream",
     "text": [
      "No. of unique values: 641\n",
      "No.of Null Values: 90\n"
     ]
    },
    {
     "data": {
      "text/plain": [
       "'VAR_0298'"
      ]
     },
     "execution_count": 13,
     "metadata": {},
     "output_type": "execute_result"
    },
    {
     "name": "stdout",
     "output_type": "stream",
     "text": [
      "No. of unique values: 366\n",
      "No.of Null Values: 90\n"
     ]
    },
    {
     "data": {
      "text/plain": [
       "'VAR_0299'"
      ]
     },
     "execution_count": 13,
     "metadata": {},
     "output_type": "execute_result"
    },
    {
     "name": "stdout",
     "output_type": "stream",
     "text": [
      "No. of unique values: 330\n",
      "No.of Null Values: 90\n"
     ]
    },
    {
     "data": {
      "text/plain": [
       "'VAR_0300'"
      ]
     },
     "execution_count": 13,
     "metadata": {},
     "output_type": "execute_result"
    },
    {
     "name": "stdout",
     "output_type": "stream",
     "text": [
      "No. of unique values: 341\n",
      "No.of Null Values: 90\n"
     ]
    },
    {
     "data": {
      "text/plain": [
       "'VAR_0301'"
      ]
     },
     "execution_count": 13,
     "metadata": {},
     "output_type": "execute_result"
    },
    {
     "name": "stdout",
     "output_type": "stream",
     "text": [
      "No. of unique values: 346\n",
      "No.of Null Values: 90\n"
     ]
    },
    {
     "data": {
      "text/plain": [
       "'VAR_0302'"
      ]
     },
     "execution_count": 13,
     "metadata": {},
     "output_type": "execute_result"
    },
    {
     "name": "stdout",
     "output_type": "stream",
     "text": [
      "No. of unique values: 458\n",
      "No.of Null Values: 90\n"
     ]
    },
    {
     "data": {
      "text/plain": [
       "'VAR_0303'"
      ]
     },
     "execution_count": 13,
     "metadata": {},
     "output_type": "execute_result"
    },
    {
     "name": "stdout",
     "output_type": "stream",
     "text": [
      "No. of unique values: 86\n",
      "No.of Null Values: 90\n"
     ]
    },
    {
     "data": {
      "text/plain": [
       "'VAR_0304'"
      ]
     },
     "execution_count": 13,
     "metadata": {},
     "output_type": "execute_result"
    },
    {
     "name": "stdout",
     "output_type": "stream",
     "text": [
      "No. of unique values: 458\n",
      "No.of Null Values: 90\n"
     ]
    },
    {
     "data": {
      "text/plain": [
       "'VAR_0305'"
      ]
     },
     "execution_count": 13,
     "metadata": {},
     "output_type": "execute_result"
    },
    {
     "name": "stdout",
     "output_type": "stream",
     "text": [
      "No. of unique values: 7\n",
      "No.of Null Values: 90\n"
     ]
    },
    {
     "data": {
      "text/plain": [
       "'VAR_0306'"
      ]
     },
     "execution_count": 13,
     "metadata": {},
     "output_type": "execute_result"
    },
    {
     "name": "stdout",
     "output_type": "stream",
     "text": [
      "No. of unique values: 3\n",
      "No.of Null Values: 90\n"
     ]
    },
    {
     "data": {
      "text/plain": [
       "'VAR_0307'"
      ]
     },
     "execution_count": 13,
     "metadata": {},
     "output_type": "execute_result"
    },
    {
     "name": "stdout",
     "output_type": "stream",
     "text": [
      "No. of unique values: 3\n",
      "No.of Null Values: 90\n"
     ]
    },
    {
     "data": {
      "text/plain": [
       "'VAR_0308'"
      ]
     },
     "execution_count": 13,
     "metadata": {},
     "output_type": "execute_result"
    },
    {
     "name": "stdout",
     "output_type": "stream",
     "text": [
      "No. of unique values: 3\n",
      "No.of Null Values: 90\n"
     ]
    },
    {
     "data": {
      "text/plain": [
       "'VAR_0309'"
      ]
     },
     "execution_count": 13,
     "metadata": {},
     "output_type": "execute_result"
    },
    {
     "name": "stdout",
     "output_type": "stream",
     "text": [
      "No. of unique values: 452\n",
      "No.of Null Values: 90\n"
     ]
    },
    {
     "data": {
      "text/plain": [
       "'VAR_0310'"
      ]
     },
     "execution_count": 13,
     "metadata": {},
     "output_type": "execute_result"
    },
    {
     "name": "stdout",
     "output_type": "stream",
     "text": [
      "No. of unique values: 273\n",
      "No.of Null Values: 90\n"
     ]
    },
    {
     "data": {
      "text/plain": [
       "'VAR_0311'"
      ]
     },
     "execution_count": 13,
     "metadata": {},
     "output_type": "execute_result"
    },
    {
     "name": "stdout",
     "output_type": "stream",
     "text": [
      "No. of unique values: 4\n",
      "No.of Null Values: 90\n"
     ]
    },
    {
     "data": {
      "text/plain": [
       "'VAR_0312'"
      ]
     },
     "execution_count": 13,
     "metadata": {},
     "output_type": "execute_result"
    },
    {
     "name": "stdout",
     "output_type": "stream",
     "text": [
      "No. of unique values: 3\n",
      "No.of Null Values: 90\n"
     ]
    },
    {
     "data": {
      "text/plain": [
       "'VAR_0313'"
      ]
     },
     "execution_count": 13,
     "metadata": {},
     "output_type": "execute_result"
    },
    {
     "name": "stdout",
     "output_type": "stream",
     "text": [
      "No. of unique values: 2454\n",
      "No.of Null Values: 90\n"
     ]
    },
    {
     "data": {
      "text/plain": [
       "'VAR_0314'"
      ]
     },
     "execution_count": 13,
     "metadata": {},
     "output_type": "execute_result"
    },
    {
     "name": "stdout",
     "output_type": "stream",
     "text": [
      "No. of unique values: 15\n",
      "No.of Null Values: 90\n"
     ]
    },
    {
     "data": {
      "text/plain": [
       "'VAR_0315'"
      ]
     },
     "execution_count": 13,
     "metadata": {},
     "output_type": "execute_result"
    },
    {
     "name": "stdout",
     "output_type": "stream",
     "text": [
      "No. of unique values: 1052\n",
      "No.of Null Values: 90\n"
     ]
    },
    {
     "data": {
      "text/plain": [
       "'VAR_0316'"
      ]
     },
     "execution_count": 13,
     "metadata": {},
     "output_type": "execute_result"
    },
    {
     "name": "stdout",
     "output_type": "stream",
     "text": [
      "No. of unique values: 743\n",
      "No.of Null Values: 90\n"
     ]
    },
    {
     "data": {
      "text/plain": [
       "'VAR_0317'"
      ]
     },
     "execution_count": 13,
     "metadata": {},
     "output_type": "execute_result"
    },
    {
     "name": "stdout",
     "output_type": "stream",
     "text": [
      "No. of unique values: 663\n",
      "No.of Null Values: 90\n"
     ]
    },
    {
     "data": {
      "text/plain": [
       "'VAR_0318'"
      ]
     },
     "execution_count": 13,
     "metadata": {},
     "output_type": "execute_result"
    },
    {
     "name": "stdout",
     "output_type": "stream",
     "text": [
      "No. of unique values: 366\n",
      "No.of Null Values: 90\n"
     ]
    },
    {
     "data": {
      "text/plain": [
       "'VAR_0319'"
      ]
     },
     "execution_count": 13,
     "metadata": {},
     "output_type": "execute_result"
    },
    {
     "name": "stdout",
     "output_type": "stream",
     "text": [
      "No. of unique values: 331\n",
      "No.of Null Values: 90\n"
     ]
    },
    {
     "data": {
      "text/plain": [
       "'VAR_0320'"
      ]
     },
     "execution_count": 13,
     "metadata": {},
     "output_type": "execute_result"
    },
    {
     "name": "stdout",
     "output_type": "stream",
     "text": [
      "No. of unique values: 331\n",
      "No.of Null Values: 90\n"
     ]
    },
    {
     "data": {
      "text/plain": [
       "'VAR_0321'"
      ]
     },
     "execution_count": 13,
     "metadata": {},
     "output_type": "execute_result"
    },
    {
     "name": "stdout",
     "output_type": "stream",
     "text": [
      "No. of unique values: 331\n",
      "No.of Null Values: 90\n"
     ]
    },
    {
     "data": {
      "text/plain": [
       "'VAR_0322'"
      ]
     },
     "execution_count": 13,
     "metadata": {},
     "output_type": "execute_result"
    },
    {
     "name": "stdout",
     "output_type": "stream",
     "text": [
      "No. of unique values: 416\n",
      "No.of Null Values: 90\n"
     ]
    },
    {
     "data": {
      "text/plain": [
       "'VAR_0323'"
      ]
     },
     "execution_count": 13,
     "metadata": {},
     "output_type": "execute_result"
    },
    {
     "name": "stdout",
     "output_type": "stream",
     "text": [
      "No. of unique values: 289\n",
      "No.of Null Values: 90\n"
     ]
    },
    {
     "data": {
      "text/plain": [
       "'VAR_0324'"
      ]
     },
     "execution_count": 13,
     "metadata": {},
     "output_type": "execute_result"
    },
    {
     "name": "stdout",
     "output_type": "stream",
     "text": [
      "No. of unique values: 410\n",
      "No.of Null Values: 90\n"
     ]
    },
    {
     "data": {
      "text/plain": [
       "'VAR_0325'"
      ]
     },
     "execution_count": 13,
     "metadata": {},
     "output_type": "execute_result"
    },
    {
     "name": "stdout",
     "output_type": "stream",
     "text": [
      "No. of unique values: 9\n",
      "No.of Null Values: 90\n"
     ]
    },
    {
     "data": {
      "text/plain": [
       "'VAR_0326'"
      ]
     },
     "execution_count": 13,
     "metadata": {},
     "output_type": "execute_result"
    },
    {
     "name": "stdout",
     "output_type": "stream",
     "text": [
      "No. of unique values: 3\n",
      "No.of Null Values: 90\n"
     ]
    },
    {
     "data": {
      "text/plain": [
       "'VAR_0327'"
      ]
     },
     "execution_count": 13,
     "metadata": {},
     "output_type": "execute_result"
    },
    {
     "name": "stdout",
     "output_type": "stream",
     "text": [
      "No. of unique values: 3\n",
      "No.of Null Values: 90\n"
     ]
    },
    {
     "data": {
      "text/plain": [
       "'VAR_0328'"
      ]
     },
     "execution_count": 13,
     "metadata": {},
     "output_type": "execute_result"
    },
    {
     "name": "stdout",
     "output_type": "stream",
     "text": [
      "No. of unique values: 3\n",
      "No.of Null Values: 90\n"
     ]
    },
    {
     "data": {
      "text/plain": [
       "'VAR_0329'"
      ]
     },
     "execution_count": 13,
     "metadata": {},
     "output_type": "execute_result"
    },
    {
     "name": "stdout",
     "output_type": "stream",
     "text": [
      "No. of unique values: 456\n",
      "No.of Null Values: 90\n"
     ]
    },
    {
     "data": {
      "text/plain": [
       "'VAR_0330'"
      ]
     },
     "execution_count": 13,
     "metadata": {},
     "output_type": "execute_result"
    },
    {
     "name": "stdout",
     "output_type": "stream",
     "text": [
      "No. of unique values: 263\n",
      "No.of Null Values: 90\n"
     ]
    },
    {
     "data": {
      "text/plain": [
       "'VAR_0331'"
      ]
     },
     "execution_count": 13,
     "metadata": {},
     "output_type": "execute_result"
    },
    {
     "name": "stdout",
     "output_type": "stream",
     "text": [
      "No. of unique values: 2118\n",
      "No.of Null Values: 90\n"
     ]
    },
    {
     "data": {
      "text/plain": [
       "'VAR_0332'"
      ]
     },
     "execution_count": 13,
     "metadata": {},
     "output_type": "execute_result"
    },
    {
     "name": "stdout",
     "output_type": "stream",
     "text": [
      "No. of unique values: 16\n",
      "No.of Null Values: 90\n"
     ]
    },
    {
     "data": {
      "text/plain": [
       "'VAR_0333'"
      ]
     },
     "execution_count": 13,
     "metadata": {},
     "output_type": "execute_result"
    },
    {
     "name": "stdout",
     "output_type": "stream",
     "text": [
      "No. of unique values: 916\n",
      "No.of Null Values: 90\n"
     ]
    },
    {
     "data": {
      "text/plain": [
       "'VAR_0334'"
      ]
     },
     "execution_count": 13,
     "metadata": {},
     "output_type": "execute_result"
    },
    {
     "name": "stdout",
     "output_type": "stream",
     "text": [
      "No. of unique values: 658\n",
      "No.of Null Values: 90\n"
     ]
    },
    {
     "data": {
      "text/plain": [
       "'VAR_0335'"
      ]
     },
     "execution_count": 13,
     "metadata": {},
     "output_type": "execute_result"
    },
    {
     "name": "stdout",
     "output_type": "stream",
     "text": [
      "No. of unique values: 326\n",
      "No.of Null Values: 90\n"
     ]
    },
    {
     "data": {
      "text/plain": [
       "'VAR_0336'"
      ]
     },
     "execution_count": 13,
     "metadata": {},
     "output_type": "execute_result"
    },
    {
     "name": "stdout",
     "output_type": "stream",
     "text": [
      "No. of unique values: 312\n",
      "No.of Null Values: 90\n"
     ]
    },
    {
     "data": {
      "text/plain": [
       "'VAR_0337'"
      ]
     },
     "execution_count": 13,
     "metadata": {},
     "output_type": "execute_result"
    },
    {
     "name": "stdout",
     "output_type": "stream",
     "text": [
      "No. of unique values: 328\n",
      "No.of Null Values: 90\n"
     ]
    },
    {
     "data": {
      "text/plain": [
       "'VAR_0338'"
      ]
     },
     "execution_count": 13,
     "metadata": {},
     "output_type": "execute_result"
    },
    {
     "name": "stdout",
     "output_type": "stream",
     "text": [
      "No. of unique values: 1113\n",
      "No.of Null Values: 90\n"
     ]
    },
    {
     "data": {
      "text/plain": [
       "'VAR_0339'"
      ]
     },
     "execution_count": 13,
     "metadata": {},
     "output_type": "execute_result"
    },
    {
     "name": "stdout",
     "output_type": "stream",
     "text": [
      "No. of unique values: 3\n",
      "No.of Null Values: 90\n"
     ]
    },
    {
     "data": {
      "text/plain": [
       "'VAR_0340'"
      ]
     },
     "execution_count": 13,
     "metadata": {},
     "output_type": "execute_result"
    },
    {
     "name": "stdout",
     "output_type": "stream",
     "text": [
      "No. of unique values: 1910\n",
      "No.of Null Values: 90\n"
     ]
    },
    {
     "data": {
      "text/plain": [
       "'VAR_0341'"
      ]
     },
     "execution_count": 13,
     "metadata": {},
     "output_type": "execute_result"
    },
    {
     "name": "stdout",
     "output_type": "stream",
     "text": [
      "No. of unique values: 406\n",
      "No.of Null Values: 90\n"
     ]
    },
    {
     "data": {
      "text/plain": [
       "'VAR_0342'"
      ]
     },
     "execution_count": 13,
     "metadata": {},
     "output_type": "execute_result"
    },
    {
     "name": "stdout",
     "output_type": "stream",
     "text": [
      "No. of unique values: 49\n",
      "No.of Null Values: 90\n"
     ]
    },
    {
     "data": {
      "text/plain": [
       "'VAR_0343'"
      ]
     },
     "execution_count": 13,
     "metadata": {},
     "output_type": "execute_result"
    },
    {
     "name": "stdout",
     "output_type": "stream",
     "text": [
      "No. of unique values: 7\n",
      "No.of Null Values: 90\n"
     ]
    },
    {
     "data": {
      "text/plain": [
       "'VAR_0344'"
      ]
     },
     "execution_count": 13,
     "metadata": {},
     "output_type": "execute_result"
    },
    {
     "name": "stdout",
     "output_type": "stream",
     "text": [
      "No. of unique values: 2\n",
      "No.of Null Values: 90\n"
     ]
    },
    {
     "data": {
      "text/plain": [
       "'VAR_0345'"
      ]
     },
     "execution_count": 13,
     "metadata": {},
     "output_type": "execute_result"
    },
    {
     "name": "stdout",
     "output_type": "stream",
     "text": [
      "No. of unique values: 3\n",
      "No.of Null Values: 90\n"
     ]
    },
    {
     "data": {
      "text/plain": [
       "'VAR_0346'"
      ]
     },
     "execution_count": 13,
     "metadata": {},
     "output_type": "execute_result"
    },
    {
     "name": "stdout",
     "output_type": "stream",
     "text": [
      "No. of unique values: 3\n",
      "No.of Null Values: 90\n"
     ]
    },
    {
     "data": {
      "text/plain": [
       "'VAR_0347'"
      ]
     },
     "execution_count": 13,
     "metadata": {},
     "output_type": "execute_result"
    },
    {
     "name": "stdout",
     "output_type": "stream",
     "text": [
      "No. of unique values: 3\n",
      "No.of Null Values: 90\n"
     ]
    },
    {
     "data": {
      "text/plain": [
       "'VAR_0348'"
      ]
     },
     "execution_count": 13,
     "metadata": {},
     "output_type": "execute_result"
    },
    {
     "name": "stdout",
     "output_type": "stream",
     "text": [
      "No. of unique values: 3\n",
      "No.of Null Values: 90\n"
     ]
    },
    {
     "data": {
      "text/plain": [
       "'VAR_0349'"
      ]
     },
     "execution_count": 13,
     "metadata": {},
     "output_type": "execute_result"
    },
    {
     "name": "stdout",
     "output_type": "stream",
     "text": [
      "No. of unique values: 9\n",
      "No.of Null Values: 90\n"
     ]
    },
    {
     "data": {
      "text/plain": [
       "'VAR_0350'"
      ]
     },
     "execution_count": 13,
     "metadata": {},
     "output_type": "execute_result"
    },
    {
     "name": "stdout",
     "output_type": "stream",
     "text": [
      "No. of unique values: 8\n",
      "No.of Null Values: 90\n"
     ]
    },
    {
     "data": {
      "text/plain": [
       "'VAR_0351'"
      ]
     },
     "execution_count": 13,
     "metadata": {},
     "output_type": "execute_result"
    },
    {
     "name": "stdout",
     "output_type": "stream",
     "text": [
      "No. of unique values: 7\n",
      "No.of Null Values: 90\n"
     ]
    },
    {
     "data": {
      "text/plain": [
       "'VAR_0352'"
      ]
     },
     "execution_count": 13,
     "metadata": {},
     "output_type": "execute_result"
    },
    {
     "name": "stdout",
     "output_type": "stream",
     "text": [
      "No. of unique values: 4\n",
      "No.of Null Values: 90\n"
     ]
    },
    {
     "data": {
      "text/plain": [
       "'VAR_0353'"
      ]
     },
     "execution_count": 13,
     "metadata": {},
     "output_type": "execute_result"
    },
    {
     "name": "stdout",
     "output_type": "stream",
     "text": [
      "No. of unique values: 4\n",
      "No.of Null Values: 90\n"
     ]
    },
    {
     "data": {
      "text/plain": [
       "'VAR_0354'"
      ]
     },
     "execution_count": 13,
     "metadata": {},
     "output_type": "execute_result"
    },
    {
     "name": "stdout",
     "output_type": "stream",
     "text": [
      "No. of unique values: 4\n",
      "No.of Null Values: 90\n"
     ]
    },
    {
     "data": {
      "text/plain": [
       "'VAR_0355'"
      ]
     },
     "execution_count": 13,
     "metadata": {},
     "output_type": "execute_result"
    },
    {
     "name": "stdout",
     "output_type": "stream",
     "text": [
      "No. of unique values: 5\n",
      "No.of Null Values: 90\n"
     ]
    },
    {
     "data": {
      "text/plain": [
       "'VAR_0356'"
      ]
     },
     "execution_count": 13,
     "metadata": {},
     "output_type": "execute_result"
    },
    {
     "name": "stdout",
     "output_type": "stream",
     "text": [
      "No. of unique values: 6\n",
      "No.of Null Values: 90\n"
     ]
    },
    {
     "data": {
      "text/plain": [
       "'VAR_0357'"
      ]
     },
     "execution_count": 13,
     "metadata": {},
     "output_type": "execute_result"
    },
    {
     "name": "stdout",
     "output_type": "stream",
     "text": [
      "No. of unique values: 7\n",
      "No.of Null Values: 90\n"
     ]
    },
    {
     "data": {
      "text/plain": [
       "'VAR_0358'"
      ]
     },
     "execution_count": 13,
     "metadata": {},
     "output_type": "execute_result"
    },
    {
     "name": "stdout",
     "output_type": "stream",
     "text": [
      "No. of unique values: 8\n",
      "No.of Null Values: 90\n"
     ]
    },
    {
     "data": {
      "text/plain": [
       "'VAR_0359'"
      ]
     },
     "execution_count": 13,
     "metadata": {},
     "output_type": "execute_result"
    },
    {
     "name": "stdout",
     "output_type": "stream",
     "text": [
      "No. of unique values: 11\n",
      "No.of Null Values: 90\n"
     ]
    },
    {
     "data": {
      "text/plain": [
       "'VAR_0360'"
      ]
     },
     "execution_count": 13,
     "metadata": {},
     "output_type": "execute_result"
    },
    {
     "name": "stdout",
     "output_type": "stream",
     "text": [
      "No. of unique values: 18\n",
      "No.of Null Values: 90\n"
     ]
    },
    {
     "data": {
      "text/plain": [
       "'VAR_0361'"
      ]
     },
     "execution_count": 13,
     "metadata": {},
     "output_type": "execute_result"
    },
    {
     "name": "stdout",
     "output_type": "stream",
     "text": [
      "No. of unique values: 47\n",
      "No.of Null Values: 90\n"
     ]
    },
    {
     "data": {
      "text/plain": [
       "'VAR_0362'"
      ]
     },
     "execution_count": 13,
     "metadata": {},
     "output_type": "execute_result"
    },
    {
     "name": "stdout",
     "output_type": "stream",
     "text": [
      "No. of unique values: 2\n",
      "No.of Null Values: 90\n"
     ]
    },
    {
     "data": {
      "text/plain": [
       "'VAR_0363'"
      ]
     },
     "execution_count": 13,
     "metadata": {},
     "output_type": "execute_result"
    },
    {
     "name": "stdout",
     "output_type": "stream",
     "text": [
      "No. of unique values: 13\n",
      "No.of Null Values: 90\n"
     ]
    },
    {
     "data": {
      "text/plain": [
       "'VAR_0364'"
      ]
     },
     "execution_count": 13,
     "metadata": {},
     "output_type": "execute_result"
    },
    {
     "name": "stdout",
     "output_type": "stream",
     "text": [
      "No. of unique values: 747\n",
      "No.of Null Values: 90\n"
     ]
    },
    {
     "data": {
      "text/plain": [
       "'VAR_0365'"
      ]
     },
     "execution_count": 13,
     "metadata": {},
     "output_type": "execute_result"
    },
    {
     "name": "stdout",
     "output_type": "stream",
     "text": [
      "No. of unique values: 15\n",
      "No.of Null Values: 90\n"
     ]
    },
    {
     "data": {
      "text/plain": [
       "'VAR_0366'"
      ]
     },
     "execution_count": 13,
     "metadata": {},
     "output_type": "execute_result"
    },
    {
     "name": "stdout",
     "output_type": "stream",
     "text": [
      "No. of unique values: 457\n",
      "No.of Null Values: 90\n"
     ]
    },
    {
     "data": {
      "text/plain": [
       "'VAR_0367'"
      ]
     },
     "execution_count": 13,
     "metadata": {},
     "output_type": "execute_result"
    },
    {
     "name": "stdout",
     "output_type": "stream",
     "text": [
      "No. of unique values: 422\n",
      "No.of Null Values: 90\n"
     ]
    },
    {
     "data": {
      "text/plain": [
       "'VAR_0368'"
      ]
     },
     "execution_count": 13,
     "metadata": {},
     "output_type": "execute_result"
    },
    {
     "name": "stdout",
     "output_type": "stream",
     "text": [
      "No. of unique values: 219\n",
      "No.of Null Values: 90\n"
     ]
    },
    {
     "data": {
      "text/plain": [
       "'VAR_0369'"
      ]
     },
     "execution_count": 13,
     "metadata": {},
     "output_type": "execute_result"
    },
    {
     "name": "stdout",
     "output_type": "stream",
     "text": [
      "No. of unique values: 111\n",
      "No.of Null Values: 90\n"
     ]
    },
    {
     "data": {
      "text/plain": [
       "'VAR_0370'"
      ]
     },
     "execution_count": 13,
     "metadata": {},
     "output_type": "execute_result"
    },
    {
     "name": "stdout",
     "output_type": "stream",
     "text": [
      "No. of unique values: 195\n",
      "No.of Null Values: 90\n"
     ]
    },
    {
     "data": {
      "text/plain": [
       "'VAR_0371'"
      ]
     },
     "execution_count": 13,
     "metadata": {},
     "output_type": "execute_result"
    },
    {
     "name": "stdout",
     "output_type": "stream",
     "text": [
      "No. of unique values: 2\n",
      "No.of Null Values: 90\n"
     ]
    },
    {
     "data": {
      "text/plain": [
       "'VAR_0372'"
      ]
     },
     "execution_count": 13,
     "metadata": {},
     "output_type": "execute_result"
    },
    {
     "name": "stdout",
     "output_type": "stream",
     "text": [
      "No. of unique values: 3\n",
      "No.of Null Values: 90\n"
     ]
    },
    {
     "data": {
      "text/plain": [
       "'VAR_0373'"
      ]
     },
     "execution_count": 13,
     "metadata": {},
     "output_type": "execute_result"
    },
    {
     "name": "stdout",
     "output_type": "stream",
     "text": [
      "No. of unique values: 3\n",
      "No.of Null Values: 90\n"
     ]
    },
    {
     "data": {
      "text/plain": [
       "'VAR_0374'"
      ]
     },
     "execution_count": 13,
     "metadata": {},
     "output_type": "execute_result"
    },
    {
     "name": "stdout",
     "output_type": "stream",
     "text": [
      "No. of unique values: 4\n",
      "No.of Null Values: 90\n"
     ]
    },
    {
     "data": {
      "text/plain": [
       "'VAR_0375'"
      ]
     },
     "execution_count": 13,
     "metadata": {},
     "output_type": "execute_result"
    },
    {
     "name": "stdout",
     "output_type": "stream",
     "text": [
      "No. of unique values: 4\n",
      "No.of Null Values: 90\n"
     ]
    },
    {
     "data": {
      "text/plain": [
       "'VAR_0376'"
      ]
     },
     "execution_count": 13,
     "metadata": {},
     "output_type": "execute_result"
    },
    {
     "name": "stdout",
     "output_type": "stream",
     "text": [
      "No. of unique values: 8\n",
      "No.of Null Values: 90\n"
     ]
    },
    {
     "data": {
      "text/plain": [
       "'VAR_0377'"
      ]
     },
     "execution_count": 13,
     "metadata": {},
     "output_type": "execute_result"
    },
    {
     "name": "stdout",
     "output_type": "stream",
     "text": [
      "No. of unique values: 2\n",
      "No.of Null Values: 90\n"
     ]
    },
    {
     "data": {
      "text/plain": [
       "'VAR_0378'"
      ]
     },
     "execution_count": 13,
     "metadata": {},
     "output_type": "execute_result"
    },
    {
     "name": "stdout",
     "output_type": "stream",
     "text": [
      "No. of unique values: 2\n",
      "No.of Null Values: 90\n"
     ]
    },
    {
     "data": {
      "text/plain": [
       "'VAR_0379'"
      ]
     },
     "execution_count": 13,
     "metadata": {},
     "output_type": "execute_result"
    },
    {
     "name": "stdout",
     "output_type": "stream",
     "text": [
      "No. of unique values: 3\n",
      "No.of Null Values: 90\n"
     ]
    },
    {
     "data": {
      "text/plain": [
       "'VAR_0380'"
      ]
     },
     "execution_count": 13,
     "metadata": {},
     "output_type": "execute_result"
    },
    {
     "name": "stdout",
     "output_type": "stream",
     "text": [
      "No. of unique values: 4\n",
      "No.of Null Values: 90\n"
     ]
    },
    {
     "data": {
      "text/plain": [
       "'VAR_0381'"
      ]
     },
     "execution_count": 13,
     "metadata": {},
     "output_type": "execute_result"
    },
    {
     "name": "stdout",
     "output_type": "stream",
     "text": [
      "No. of unique values: 5\n",
      "No.of Null Values: 90\n"
     ]
    },
    {
     "data": {
      "text/plain": [
       "'VAR_0382'"
      ]
     },
     "execution_count": 13,
     "metadata": {},
     "output_type": "execute_result"
    },
    {
     "name": "stdout",
     "output_type": "stream",
     "text": [
      "No. of unique values: 6\n",
      "No.of Null Values: 90\n"
     ]
    },
    {
     "data": {
      "text/plain": [
       "'VAR_0383'"
      ]
     },
     "execution_count": 13,
     "metadata": {},
     "output_type": "execute_result"
    },
    {
     "name": "stdout",
     "output_type": "stream",
     "text": [
      "No. of unique values: 2\n",
      "No.of Null Values: 90\n"
     ]
    },
    {
     "data": {
      "text/plain": [
       "'VAR_0384'"
      ]
     },
     "execution_count": 13,
     "metadata": {},
     "output_type": "execute_result"
    },
    {
     "name": "stdout",
     "output_type": "stream",
     "text": [
      "No. of unique values: 2\n",
      "No.of Null Values: 90\n"
     ]
    },
    {
     "data": {
      "text/plain": [
       "'VAR_0385'"
      ]
     },
     "execution_count": 13,
     "metadata": {},
     "output_type": "execute_result"
    },
    {
     "name": "stdout",
     "output_type": "stream",
     "text": [
      "No. of unique values: 11\n",
      "No.of Null Values: 90\n"
     ]
    },
    {
     "data": {
      "text/plain": [
       "'VAR_0386'"
      ]
     },
     "execution_count": 13,
     "metadata": {},
     "output_type": "execute_result"
    },
    {
     "name": "stdout",
     "output_type": "stream",
     "text": [
      "No. of unique values: 2\n",
      "No.of Null Values: 90\n"
     ]
    },
    {
     "data": {
      "text/plain": [
       "'VAR_0387'"
      ]
     },
     "execution_count": 13,
     "metadata": {},
     "output_type": "execute_result"
    },
    {
     "name": "stdout",
     "output_type": "stream",
     "text": [
      "No. of unique values: 4\n",
      "No.of Null Values: 90\n"
     ]
    },
    {
     "data": {
      "text/plain": [
       "'VAR_0388'"
      ]
     },
     "execution_count": 13,
     "metadata": {},
     "output_type": "execute_result"
    },
    {
     "name": "stdout",
     "output_type": "stream",
     "text": [
      "No. of unique values: 5\n",
      "No.of Null Values: 90\n"
     ]
    },
    {
     "data": {
      "text/plain": [
       "'VAR_0389'"
      ]
     },
     "execution_count": 13,
     "metadata": {},
     "output_type": "execute_result"
    },
    {
     "name": "stdout",
     "output_type": "stream",
     "text": [
      "No. of unique values: 5\n",
      "No.of Null Values: 90\n"
     ]
    },
    {
     "data": {
      "text/plain": [
       "'VAR_0390'"
      ]
     },
     "execution_count": 13,
     "metadata": {},
     "output_type": "execute_result"
    },
    {
     "name": "stdout",
     "output_type": "stream",
     "text": [
      "No. of unique values: 5\n",
      "No.of Null Values: 90\n"
     ]
    },
    {
     "data": {
      "text/plain": [
       "'VAR_0391'"
      ]
     },
     "execution_count": 13,
     "metadata": {},
     "output_type": "execute_result"
    },
    {
     "name": "stdout",
     "output_type": "stream",
     "text": [
      "No. of unique values: 8\n",
      "No.of Null Values: 90\n"
     ]
    },
    {
     "data": {
      "text/plain": [
       "'VAR_0392'"
      ]
     },
     "execution_count": 13,
     "metadata": {},
     "output_type": "execute_result"
    },
    {
     "name": "stdout",
     "output_type": "stream",
     "text": [
      "No. of unique values: 2\n",
      "No.of Null Values: 90\n"
     ]
    },
    {
     "data": {
      "text/plain": [
       "'VAR_0393'"
      ]
     },
     "execution_count": 13,
     "metadata": {},
     "output_type": "execute_result"
    },
    {
     "name": "stdout",
     "output_type": "stream",
     "text": [
      "No. of unique values: 3\n",
      "No.of Null Values: 90\n"
     ]
    },
    {
     "data": {
      "text/plain": [
       "'VAR_0394'"
      ]
     },
     "execution_count": 13,
     "metadata": {},
     "output_type": "execute_result"
    },
    {
     "name": "stdout",
     "output_type": "stream",
     "text": [
      "No. of unique values: 1\n",
      "No.of Null Values: 90\n"
     ]
    },
    {
     "data": {
      "text/plain": [
       "'VAR_0395'"
      ]
     },
     "execution_count": 13,
     "metadata": {},
     "output_type": "execute_result"
    },
    {
     "name": "stdout",
     "output_type": "stream",
     "text": [
      "No. of unique values: 1\n",
      "No.of Null Values: 90\n"
     ]
    },
    {
     "data": {
      "text/plain": [
       "'VAR_0396'"
      ]
     },
     "execution_count": 13,
     "metadata": {},
     "output_type": "execute_result"
    },
    {
     "name": "stdout",
     "output_type": "stream",
     "text": [
      "No. of unique values: 1\n",
      "No.of Null Values: 90\n"
     ]
    },
    {
     "data": {
      "text/plain": [
       "'VAR_0397'"
      ]
     },
     "execution_count": 13,
     "metadata": {},
     "output_type": "execute_result"
    },
    {
     "name": "stdout",
     "output_type": "stream",
     "text": [
      "No. of unique values: 2\n",
      "No.of Null Values: 90\n"
     ]
    },
    {
     "data": {
      "text/plain": [
       "'VAR_0398'"
      ]
     },
     "execution_count": 13,
     "metadata": {},
     "output_type": "execute_result"
    },
    {
     "name": "stdout",
     "output_type": "stream",
     "text": [
      "No. of unique values: 2\n",
      "No.of Null Values: 90\n"
     ]
    },
    {
     "data": {
      "text/plain": [
       "'VAR_0399'"
      ]
     },
     "execution_count": 13,
     "metadata": {},
     "output_type": "execute_result"
    },
    {
     "name": "stdout",
     "output_type": "stream",
     "text": [
      "No. of unique values: 2\n",
      "No.of Null Values: 90\n"
     ]
    },
    {
     "data": {
      "text/plain": [
       "'VAR_0400'"
      ]
     },
     "execution_count": 13,
     "metadata": {},
     "output_type": "execute_result"
    },
    {
     "name": "stdout",
     "output_type": "stream",
     "text": [
      "No. of unique values: 7\n",
      "No.of Null Values: 90\n"
     ]
    },
    {
     "data": {
      "text/plain": [
       "'VAR_0401'"
      ]
     },
     "execution_count": 13,
     "metadata": {},
     "output_type": "execute_result"
    },
    {
     "name": "stdout",
     "output_type": "stream",
     "text": [
      "No. of unique values: 3\n",
      "No.of Null Values: 90\n"
     ]
    },
    {
     "data": {
      "text/plain": [
       "'VAR_0402'"
      ]
     },
     "execution_count": 13,
     "metadata": {},
     "output_type": "execute_result"
    },
    {
     "name": "stdout",
     "output_type": "stream",
     "text": [
      "No. of unique values: 3\n",
      "No.of Null Values: 90\n"
     ]
    },
    {
     "data": {
      "text/plain": [
       "'VAR_0403'"
      ]
     },
     "execution_count": 13,
     "metadata": {},
     "output_type": "execute_result"
    },
    {
     "name": "stdout",
     "output_type": "stream",
     "text": [
      "No. of unique values: 195\n",
      "No.of Null Values: 90\n"
     ]
    },
    {
     "data": {
      "text/plain": [
       "'VAR_0404'"
      ]
     },
     "execution_count": 13,
     "metadata": {},
     "output_type": "execute_result"
    },
    {
     "name": "stdout",
     "output_type": "stream",
     "text": [
      "No. of unique values: 319\n",
      "No.of Null Values: 90\n"
     ]
    },
    {
     "data": {
      "text/plain": [
       "'VAR_0405'"
      ]
     },
     "execution_count": 13,
     "metadata": {},
     "output_type": "execute_result"
    },
    {
     "name": "stdout",
     "output_type": "stream",
     "text": [
      "No. of unique values: 6\n",
      "No.of Null Values: 90\n"
     ]
    },
    {
     "data": {
      "text/plain": [
       "'VAR_0406'"
      ]
     },
     "execution_count": 13,
     "metadata": {},
     "output_type": "execute_result"
    },
    {
     "name": "stdout",
     "output_type": "stream",
     "text": [
      "No. of unique values: 34\n",
      "No.of Null Values: 90\n"
     ]
    },
    {
     "data": {
      "text/plain": [
       "'VAR_0407'"
      ]
     },
     "execution_count": 13,
     "metadata": {},
     "output_type": "execute_result"
    },
    {
     "name": "stdout",
     "output_type": "stream",
     "text": [
      "No. of unique values: 15\n",
      "No.of Null Values: 90\n"
     ]
    },
    {
     "data": {
      "text/plain": [
       "'VAR_0408'"
      ]
     },
     "execution_count": 13,
     "metadata": {},
     "output_type": "execute_result"
    },
    {
     "name": "stdout",
     "output_type": "stream",
     "text": [
      "No. of unique values: 103\n",
      "No.of Null Values: 90\n"
     ]
    },
    {
     "data": {
      "text/plain": [
       "'VAR_0409'"
      ]
     },
     "execution_count": 13,
     "metadata": {},
     "output_type": "execute_result"
    },
    {
     "name": "stdout",
     "output_type": "stream",
     "text": [
      "No. of unique values: 7\n",
      "No.of Null Values: 90\n"
     ]
    },
    {
     "data": {
      "text/plain": [
       "'VAR_0410'"
      ]
     },
     "execution_count": 13,
     "metadata": {},
     "output_type": "execute_result"
    },
    {
     "name": "stdout",
     "output_type": "stream",
     "text": [
      "No. of unique values: 46\n",
      "No.of Null Values: 90\n"
     ]
    },
    {
     "data": {
      "text/plain": [
       "'VAR_0411'"
      ]
     },
     "execution_count": 13,
     "metadata": {},
     "output_type": "execute_result"
    },
    {
     "name": "stdout",
     "output_type": "stream",
     "text": [
      "No. of unique values: 2\n",
      "No.of Null Values: 90\n"
     ]
    },
    {
     "data": {
      "text/plain": [
       "'VAR_0412'"
      ]
     },
     "execution_count": 13,
     "metadata": {},
     "output_type": "execute_result"
    },
    {
     "name": "stdout",
     "output_type": "stream",
     "text": [
      "No. of unique values: 2\n",
      "No.of Null Values: 90\n"
     ]
    },
    {
     "data": {
      "text/plain": [
       "'VAR_0413'"
      ]
     },
     "execution_count": 13,
     "metadata": {},
     "output_type": "execute_result"
    },
    {
     "name": "stdout",
     "output_type": "stream",
     "text": [
      "No. of unique values: 2\n",
      "No.of Null Values: 90\n"
     ]
    },
    {
     "data": {
      "text/plain": [
       "'VAR_0414'"
      ]
     },
     "execution_count": 13,
     "metadata": {},
     "output_type": "execute_result"
    },
    {
     "name": "stdout",
     "output_type": "stream",
     "text": [
      "No. of unique values: 2\n",
      "No.of Null Values: 90\n"
     ]
    },
    {
     "data": {
      "text/plain": [
       "'VAR_0415'"
      ]
     },
     "execution_count": 13,
     "metadata": {},
     "output_type": "execute_result"
    },
    {
     "name": "stdout",
     "output_type": "stream",
     "text": [
      "No. of unique values: 4\n",
      "No.of Null Values: 90\n"
     ]
    },
    {
     "data": {
      "text/plain": [
       "'VAR_0416'"
      ]
     },
     "execution_count": 13,
     "metadata": {},
     "output_type": "execute_result"
    },
    {
     "name": "stdout",
     "output_type": "stream",
     "text": [
      "No. of unique values: 6\n",
      "No.of Null Values: 90\n"
     ]
    },
    {
     "data": {
      "text/plain": [
       "'VAR_0417'"
      ]
     },
     "execution_count": 13,
     "metadata": {},
     "output_type": "execute_result"
    },
    {
     "name": "stdout",
     "output_type": "stream",
     "text": [
      "No. of unique values: 27\n",
      "No.of Null Values: 90\n"
     ]
    },
    {
     "data": {
      "text/plain": [
       "'VAR_0418'"
      ]
     },
     "execution_count": 13,
     "metadata": {},
     "output_type": "execute_result"
    },
    {
     "name": "stdout",
     "output_type": "stream",
     "text": [
      "No. of unique values: 22\n",
      "No.of Null Values: 90\n"
     ]
    },
    {
     "data": {
      "text/plain": [
       "'VAR_0419'"
      ]
     },
     "execution_count": 13,
     "metadata": {},
     "output_type": "execute_result"
    },
    {
     "name": "stdout",
     "output_type": "stream",
     "text": [
      "No. of unique values: 86\n",
      "No.of Null Values: 90\n"
     ]
    },
    {
     "data": {
      "text/plain": [
       "'VAR_0420'"
      ]
     },
     "execution_count": 13,
     "metadata": {},
     "output_type": "execute_result"
    },
    {
     "name": "stdout",
     "output_type": "stream",
     "text": [
      "No. of unique values: 5\n",
      "No.of Null Values: 90\n"
     ]
    },
    {
     "data": {
      "text/plain": [
       "'VAR_0421'"
      ]
     },
     "execution_count": 13,
     "metadata": {},
     "output_type": "execute_result"
    },
    {
     "name": "stdout",
     "output_type": "stream",
     "text": [
      "No. of unique values: 5\n",
      "No.of Null Values: 90\n"
     ]
    },
    {
     "data": {
      "text/plain": [
       "'VAR_0422'"
      ]
     },
     "execution_count": 13,
     "metadata": {},
     "output_type": "execute_result"
    },
    {
     "name": "stdout",
     "output_type": "stream",
     "text": [
      "No. of unique values: 6\n",
      "No.of Null Values: 90\n"
     ]
    },
    {
     "data": {
      "text/plain": [
       "'VAR_0423'"
      ]
     },
     "execution_count": 13,
     "metadata": {},
     "output_type": "execute_result"
    },
    {
     "name": "stdout",
     "output_type": "stream",
     "text": [
      "No. of unique values: 9\n",
      "No.of Null Values: 90\n"
     ]
    },
    {
     "data": {
      "text/plain": [
       "'VAR_0424'"
      ]
     },
     "execution_count": 13,
     "metadata": {},
     "output_type": "execute_result"
    },
    {
     "name": "stdout",
     "output_type": "stream",
     "text": [
      "No. of unique values: 13\n",
      "No.of Null Values: 90\n"
     ]
    },
    {
     "data": {
      "text/plain": [
       "'VAR_0425'"
      ]
     },
     "execution_count": 13,
     "metadata": {},
     "output_type": "execute_result"
    },
    {
     "name": "stdout",
     "output_type": "stream",
     "text": [
      "No. of unique values: 20\n",
      "No.of Null Values: 90\n"
     ]
    },
    {
     "data": {
      "text/plain": [
       "'VAR_0426'"
      ]
     },
     "execution_count": 13,
     "metadata": {},
     "output_type": "execute_result"
    },
    {
     "name": "stdout",
     "output_type": "stream",
     "text": [
      "No. of unique values: 11\n",
      "No.of Null Values: 90\n"
     ]
    },
    {
     "data": {
      "text/plain": [
       "'VAR_0427'"
      ]
     },
     "execution_count": 13,
     "metadata": {},
     "output_type": "execute_result"
    },
    {
     "name": "stdout",
     "output_type": "stream",
     "text": [
      "No. of unique values: 86\n",
      "No.of Null Values: 90\n"
     ]
    },
    {
     "data": {
      "text/plain": [
       "'VAR_0428'"
      ]
     },
     "execution_count": 13,
     "metadata": {},
     "output_type": "execute_result"
    },
    {
     "name": "stdout",
     "output_type": "stream",
     "text": [
      "No. of unique values: 3\n",
      "No.of Null Values: 90\n"
     ]
    },
    {
     "data": {
      "text/plain": [
       "'VAR_0429'"
      ]
     },
     "execution_count": 13,
     "metadata": {},
     "output_type": "execute_result"
    },
    {
     "name": "stdout",
     "output_type": "stream",
     "text": [
      "No. of unique values: 4\n",
      "No.of Null Values: 90\n"
     ]
    },
    {
     "data": {
      "text/plain": [
       "'VAR_0430'"
      ]
     },
     "execution_count": 13,
     "metadata": {},
     "output_type": "execute_result"
    },
    {
     "name": "stdout",
     "output_type": "stream",
     "text": [
      "No. of unique values: 4\n",
      "No.of Null Values: 90\n"
     ]
    },
    {
     "data": {
      "text/plain": [
       "'VAR_0431'"
      ]
     },
     "execution_count": 13,
     "metadata": {},
     "output_type": "execute_result"
    },
    {
     "name": "stdout",
     "output_type": "stream",
     "text": [
      "No. of unique values: 5\n",
      "No.of Null Values: 90\n"
     ]
    },
    {
     "data": {
      "text/plain": [
       "'VAR_0432'"
      ]
     },
     "execution_count": 13,
     "metadata": {},
     "output_type": "execute_result"
    },
    {
     "name": "stdout",
     "output_type": "stream",
     "text": [
      "No. of unique values: 7\n",
      "No.of Null Values: 90\n"
     ]
    },
    {
     "data": {
      "text/plain": [
       "'VAR_0433'"
      ]
     },
     "execution_count": 13,
     "metadata": {},
     "output_type": "execute_result"
    },
    {
     "name": "stdout",
     "output_type": "stream",
     "text": [
      "No. of unique values: 10\n",
      "No.of Null Values: 90\n"
     ]
    },
    {
     "data": {
      "text/plain": [
       "'VAR_0434'"
      ]
     },
     "execution_count": 13,
     "metadata": {},
     "output_type": "execute_result"
    },
    {
     "name": "stdout",
     "output_type": "stream",
     "text": [
      "No. of unique values: 2134\n",
      "No.of Null Values: 90\n"
     ]
    },
    {
     "data": {
      "text/plain": [
       "'VAR_0435'"
      ]
     },
     "execution_count": 13,
     "metadata": {},
     "output_type": "execute_result"
    },
    {
     "name": "stdout",
     "output_type": "stream",
     "text": [
      "No. of unique values: 188\n",
      "No.of Null Values: 90\n"
     ]
    },
    {
     "data": {
      "text/plain": [
       "'VAR_0436'"
      ]
     },
     "execution_count": 13,
     "metadata": {},
     "output_type": "execute_result"
    },
    {
     "name": "stdout",
     "output_type": "stream",
     "text": [
      "No. of unique values: 635\n",
      "No.of Null Values: 90\n"
     ]
    },
    {
     "data": {
      "text/plain": [
       "'VAR_0437'"
      ]
     },
     "execution_count": 13,
     "metadata": {},
     "output_type": "execute_result"
    },
    {
     "name": "stdout",
     "output_type": "stream",
     "text": [
      "No. of unique values: 3\n",
      "No.of Null Values: 90\n"
     ]
    },
    {
     "data": {
      "text/plain": [
       "'VAR_0438'"
      ]
     },
     "execution_count": 13,
     "metadata": {},
     "output_type": "execute_result"
    },
    {
     "name": "stdout",
     "output_type": "stream",
     "text": [
      "No. of unique values: 1\n",
      "No.of Null Values: 90\n"
     ]
    },
    {
     "data": {
      "text/plain": [
       "'VAR_0439'"
      ]
     },
     "execution_count": 13,
     "metadata": {},
     "output_type": "execute_result"
    },
    {
     "name": "stdout",
     "output_type": "stream",
     "text": [
      "No. of unique values: 1256\n",
      "No.of Null Values: 90\n"
     ]
    },
    {
     "data": {
      "text/plain": [
       "'VAR_0440'"
      ]
     },
     "execution_count": 13,
     "metadata": {},
     "output_type": "execute_result"
    },
    {
     "name": "stdout",
     "output_type": "stream",
     "text": [
      "No. of unique values: 741\n",
      "No.of Null Values: 90\n"
     ]
    },
    {
     "data": {
      "text/plain": [
       "'VAR_0441'"
      ]
     },
     "execution_count": 13,
     "metadata": {},
     "output_type": "execute_result"
    },
    {
     "name": "stdout",
     "output_type": "stream",
     "text": [
      "No. of unique values: 46\n",
      "No.of Null Values: 90\n"
     ]
    },
    {
     "data": {
      "text/plain": [
       "'VAR_0442'"
      ]
     },
     "execution_count": 13,
     "metadata": {},
     "output_type": "execute_result"
    },
    {
     "name": "stdout",
     "output_type": "stream",
     "text": [
      "No. of unique values: 1132\n",
      "No.of Null Values: 90\n"
     ]
    },
    {
     "data": {
      "text/plain": [
       "'VAR_0443'"
      ]
     },
     "execution_count": 13,
     "metadata": {},
     "output_type": "execute_result"
    },
    {
     "name": "stdout",
     "output_type": "stream",
     "text": [
      "No. of unique values: 93\n",
      "No.of Null Values: 90\n"
     ]
    },
    {
     "data": {
      "text/plain": [
       "'VAR_0444'"
      ]
     },
     "execution_count": 13,
     "metadata": {},
     "output_type": "execute_result"
    },
    {
     "name": "stdout",
     "output_type": "stream",
     "text": [
      "No. of unique values: 477\n",
      "No.of Null Values: 90\n"
     ]
    },
    {
     "data": {
      "text/plain": [
       "'VAR_0445'"
      ]
     },
     "execution_count": 13,
     "metadata": {},
     "output_type": "execute_result"
    },
    {
     "name": "stdout",
     "output_type": "stream",
     "text": [
      "No. of unique values: 3\n",
      "No.of Null Values: 90\n"
     ]
    },
    {
     "data": {
      "text/plain": [
       "'VAR_0446'"
      ]
     },
     "execution_count": 13,
     "metadata": {},
     "output_type": "execute_result"
    },
    {
     "name": "stdout",
     "output_type": "stream",
     "text": [
      "No. of unique values: 1\n",
      "No.of Null Values: 90\n"
     ]
    },
    {
     "data": {
      "text/plain": [
       "'VAR_0447'"
      ]
     },
     "execution_count": 13,
     "metadata": {},
     "output_type": "execute_result"
    },
    {
     "name": "stdout",
     "output_type": "stream",
     "text": [
      "No. of unique values: 541\n",
      "No.of Null Values: 90\n"
     ]
    },
    {
     "data": {
      "text/plain": [
       "'VAR_0448'"
      ]
     },
     "execution_count": 13,
     "metadata": {},
     "output_type": "execute_result"
    },
    {
     "name": "stdout",
     "output_type": "stream",
     "text": [
      "No. of unique values: 246\n",
      "No.of Null Values: 90\n"
     ]
    },
    {
     "data": {
      "text/plain": [
       "'VAR_0449'"
      ]
     },
     "execution_count": 13,
     "metadata": {},
     "output_type": "execute_result"
    },
    {
     "name": "stdout",
     "output_type": "stream",
     "text": [
      "No. of unique values: 3\n",
      "No.of Null Values: 90\n"
     ]
    },
    {
     "data": {
      "text/plain": [
       "'VAR_0450'"
      ]
     },
     "execution_count": 13,
     "metadata": {},
     "output_type": "execute_result"
    },
    {
     "name": "stdout",
     "output_type": "stream",
     "text": [
      "No. of unique values: 7\n",
      "No.of Null Values: 90\n"
     ]
    },
    {
     "data": {
      "text/plain": [
       "'VAR_0451'"
      ]
     },
     "execution_count": 13,
     "metadata": {},
     "output_type": "execute_result"
    },
    {
     "name": "stdout",
     "output_type": "stream",
     "text": [
      "No. of unique values: 12\n",
      "No.of Null Values: 90\n"
     ]
    },
    {
     "data": {
      "text/plain": [
       "'VAR_0452'"
      ]
     },
     "execution_count": 13,
     "metadata": {},
     "output_type": "execute_result"
    },
    {
     "name": "stdout",
     "output_type": "stream",
     "text": [
      "No. of unique values: 5\n",
      "No.of Null Values: 90\n"
     ]
    },
    {
     "data": {
      "text/plain": [
       "'VAR_0453'"
      ]
     },
     "execution_count": 13,
     "metadata": {},
     "output_type": "execute_result"
    },
    {
     "name": "stdout",
     "output_type": "stream",
     "text": [
      "No. of unique values: 10\n",
      "No.of Null Values: 90\n"
     ]
    },
    {
     "data": {
      "text/plain": [
       "'VAR_0454'"
      ]
     },
     "execution_count": 13,
     "metadata": {},
     "output_type": "execute_result"
    },
    {
     "name": "stdout",
     "output_type": "stream",
     "text": [
      "No. of unique values: 17\n",
      "No.of Null Values: 90\n"
     ]
    },
    {
     "data": {
      "text/plain": [
       "'VAR_0455'"
      ]
     },
     "execution_count": 13,
     "metadata": {},
     "output_type": "execute_result"
    },
    {
     "name": "stdout",
     "output_type": "stream",
     "text": [
      "No. of unique values: 10\n",
      "No.of Null Values: 90\n"
     ]
    },
    {
     "data": {
      "text/plain": [
       "'VAR_0456'"
      ]
     },
     "execution_count": 13,
     "metadata": {},
     "output_type": "execute_result"
    },
    {
     "name": "stdout",
     "output_type": "stream",
     "text": [
      "No. of unique values: 5\n",
      "No.of Null Values: 90\n"
     ]
    },
    {
     "data": {
      "text/plain": [
       "'VAR_0457'"
      ]
     },
     "execution_count": 13,
     "metadata": {},
     "output_type": "execute_result"
    },
    {
     "name": "stdout",
     "output_type": "stream",
     "text": [
      "No. of unique values: 6\n",
      "No.of Null Values: 90\n"
     ]
    },
    {
     "data": {
      "text/plain": [
       "'VAR_0458'"
      ]
     },
     "execution_count": 13,
     "metadata": {},
     "output_type": "execute_result"
    },
    {
     "name": "stdout",
     "output_type": "stream",
     "text": [
      "No. of unique values: 9\n",
      "No.of Null Values: 90\n"
     ]
    },
    {
     "data": {
      "text/plain": [
       "'VAR_0459'"
      ]
     },
     "execution_count": 13,
     "metadata": {},
     "output_type": "execute_result"
    },
    {
     "name": "stdout",
     "output_type": "stream",
     "text": [
      "No. of unique values: 2\n",
      "No.of Null Values: 90\n"
     ]
    },
    {
     "data": {
      "text/plain": [
       "'VAR_0460'"
      ]
     },
     "execution_count": 13,
     "metadata": {},
     "output_type": "execute_result"
    },
    {
     "name": "stdout",
     "output_type": "stream",
     "text": [
      "No. of unique values: 4\n",
      "No.of Null Values: 90\n"
     ]
    },
    {
     "data": {
      "text/plain": [
       "'VAR_0461'"
      ]
     },
     "execution_count": 13,
     "metadata": {},
     "output_type": "execute_result"
    },
    {
     "name": "stdout",
     "output_type": "stream",
     "text": [
      "No. of unique values: 9\n",
      "No.of Null Values: 90\n"
     ]
    },
    {
     "data": {
      "text/plain": [
       "'VAR_0462'"
      ]
     },
     "execution_count": 13,
     "metadata": {},
     "output_type": "execute_result"
    },
    {
     "name": "stdout",
     "output_type": "stream",
     "text": [
      "No. of unique values: 8\n",
      "No.of Null Values: 90\n"
     ]
    },
    {
     "data": {
      "text/plain": [
       "'VAR_0463'"
      ]
     },
     "execution_count": 13,
     "metadata": {},
     "output_type": "execute_result"
    },
    {
     "name": "stdout",
     "output_type": "stream",
     "text": [
      "No. of unique values: 2\n",
      "No.of Null Values: 90\n"
     ]
    },
    {
     "data": {
      "text/plain": [
       "'VAR_0464'"
      ]
     },
     "execution_count": 13,
     "metadata": {},
     "output_type": "execute_result"
    },
    {
     "name": "stdout",
     "output_type": "stream",
     "text": [
      "No. of unique values: 4\n",
      "No.of Null Values: 90\n"
     ]
    },
    {
     "data": {
      "text/plain": [
       "'VAR_0465'"
      ]
     },
     "execution_count": 13,
     "metadata": {},
     "output_type": "execute_result"
    },
    {
     "name": "stdout",
     "output_type": "stream",
     "text": [
      "No. of unique values: 103\n",
      "No.of Null Values: 90\n"
     ]
    },
    {
     "data": {
      "text/plain": [
       "'VAR_0466'"
      ]
     },
     "execution_count": 13,
     "metadata": {},
     "output_type": "execute_result"
    },
    {
     "name": "stdout",
     "output_type": "stream",
     "text": [
      "No. of unique values: 2\n",
      "No.of Null Values: 90\n"
     ]
    },
    {
     "data": {
      "text/plain": [
       "'VAR_0467'"
      ]
     },
     "execution_count": 13,
     "metadata": {},
     "output_type": "execute_result"
    },
    {
     "name": "stdout",
     "output_type": "stream",
     "text": [
      "No. of unique values: 4\n",
      "No.of Null Values: 90\n"
     ]
    },
    {
     "data": {
      "text/plain": [
       "'VAR_0468'"
      ]
     },
     "execution_count": 13,
     "metadata": {},
     "output_type": "execute_result"
    },
    {
     "name": "stdout",
     "output_type": "stream",
     "text": [
      "No. of unique values: 2\n",
      "No.of Null Values: 90\n"
     ]
    },
    {
     "data": {
      "text/plain": [
       "'VAR_0469'"
      ]
     },
     "execution_count": 13,
     "metadata": {},
     "output_type": "execute_result"
    },
    {
     "name": "stdout",
     "output_type": "stream",
     "text": [
      "No. of unique values: 2\n",
      "No.of Null Values: 90\n"
     ]
    },
    {
     "data": {
      "text/plain": [
       "'VAR_0470'"
      ]
     },
     "execution_count": 13,
     "metadata": {},
     "output_type": "execute_result"
    },
    {
     "name": "stdout",
     "output_type": "stream",
     "text": [
      "No. of unique values: 2\n",
      "No.of Null Values: 90\n"
     ]
    },
    {
     "data": {
      "text/plain": [
       "'VAR_0471'"
      ]
     },
     "execution_count": 13,
     "metadata": {},
     "output_type": "execute_result"
    },
    {
     "name": "stdout",
     "output_type": "stream",
     "text": [
      "No. of unique values: 2\n",
      "No.of Null Values: 90\n"
     ]
    },
    {
     "data": {
      "text/plain": [
       "'VAR_0472'"
      ]
     },
     "execution_count": 13,
     "metadata": {},
     "output_type": "execute_result"
    },
    {
     "name": "stdout",
     "output_type": "stream",
     "text": [
      "No. of unique values: 3\n",
      "No.of Null Values: 90\n"
     ]
    },
    {
     "data": {
      "text/plain": [
       "'VAR_0473'"
      ]
     },
     "execution_count": 13,
     "metadata": {},
     "output_type": "execute_result"
    },
    {
     "name": "stdout",
     "output_type": "stream",
     "text": [
      "No. of unique values: 4\n",
      "No.of Null Values: 90\n"
     ]
    },
    {
     "data": {
      "text/plain": [
       "'VAR_0474'"
      ]
     },
     "execution_count": 13,
     "metadata": {},
     "output_type": "execute_result"
    },
    {
     "name": "stdout",
     "output_type": "stream",
     "text": [
      "No. of unique values: 21\n",
      "No.of Null Values: 90\n"
     ]
    },
    {
     "data": {
      "text/plain": [
       "'VAR_0475'"
      ]
     },
     "execution_count": 13,
     "metadata": {},
     "output_type": "execute_result"
    },
    {
     "name": "stdout",
     "output_type": "stream",
     "text": [
      "No. of unique values: 86\n",
      "No.of Null Values: 90\n"
     ]
    },
    {
     "data": {
      "text/plain": [
       "'VAR_0476'"
      ]
     },
     "execution_count": 13,
     "metadata": {},
     "output_type": "execute_result"
    },
    {
     "name": "stdout",
     "output_type": "stream",
     "text": [
      "No. of unique values: 4\n",
      "No.of Null Values: 90\n"
     ]
    },
    {
     "data": {
      "text/plain": [
       "'VAR_0477'"
      ]
     },
     "execution_count": 13,
     "metadata": {},
     "output_type": "execute_result"
    },
    {
     "name": "stdout",
     "output_type": "stream",
     "text": [
      "No. of unique values: 4\n",
      "No.of Null Values: 90\n"
     ]
    },
    {
     "data": {
      "text/plain": [
       "'VAR_0478'"
      ]
     },
     "execution_count": 13,
     "metadata": {},
     "output_type": "execute_result"
    },
    {
     "name": "stdout",
     "output_type": "stream",
     "text": [
      "No. of unique values: 6\n",
      "No.of Null Values: 90\n"
     ]
    },
    {
     "data": {
      "text/plain": [
       "'VAR_0479'"
      ]
     },
     "execution_count": 13,
     "metadata": {},
     "output_type": "execute_result"
    },
    {
     "name": "stdout",
     "output_type": "stream",
     "text": [
      "No. of unique values: 9\n",
      "No.of Null Values: 90\n"
     ]
    },
    {
     "data": {
      "text/plain": [
       "'VAR_0480'"
      ]
     },
     "execution_count": 13,
     "metadata": {},
     "output_type": "execute_result"
    },
    {
     "name": "stdout",
     "output_type": "stream",
     "text": [
      "No. of unique values: 13\n",
      "No.of Null Values: 90\n"
     ]
    },
    {
     "data": {
      "text/plain": [
       "'VAR_0481'"
      ]
     },
     "execution_count": 13,
     "metadata": {},
     "output_type": "execute_result"
    },
    {
     "name": "stdout",
     "output_type": "stream",
     "text": [
      "No. of unique values: 15\n",
      "No.of Null Values: 90\n"
     ]
    },
    {
     "data": {
      "text/plain": [
       "'VAR_0482'"
      ]
     },
     "execution_count": 13,
     "metadata": {},
     "output_type": "execute_result"
    },
    {
     "name": "stdout",
     "output_type": "stream",
     "text": [
      "No. of unique values: 8\n",
      "No.of Null Values: 90\n"
     ]
    },
    {
     "data": {
      "text/plain": [
       "'VAR_0483'"
      ]
     },
     "execution_count": 13,
     "metadata": {},
     "output_type": "execute_result"
    },
    {
     "name": "stdout",
     "output_type": "stream",
     "text": [
      "No. of unique values: 9\n",
      "No.of Null Values: 90\n"
     ]
    },
    {
     "data": {
      "text/plain": [
       "'VAR_0484'"
      ]
     },
     "execution_count": 13,
     "metadata": {},
     "output_type": "execute_result"
    },
    {
     "name": "stdout",
     "output_type": "stream",
     "text": [
      "No. of unique values: 6\n",
      "No.of Null Values: 90\n"
     ]
    },
    {
     "data": {
      "text/plain": [
       "'VAR_0485'"
      ]
     },
     "execution_count": 13,
     "metadata": {},
     "output_type": "execute_result"
    },
    {
     "name": "stdout",
     "output_type": "stream",
     "text": [
      "No. of unique values: 6\n",
      "No.of Null Values: 90\n"
     ]
    },
    {
     "data": {
      "text/plain": [
       "'VAR_0486'"
      ]
     },
     "execution_count": 13,
     "metadata": {},
     "output_type": "execute_result"
    },
    {
     "name": "stdout",
     "output_type": "stream",
     "text": [
      "No. of unique values: 6\n",
      "No.of Null Values: 90\n"
     ]
    },
    {
     "data": {
      "text/plain": [
       "'VAR_0487'"
      ]
     },
     "execution_count": 13,
     "metadata": {},
     "output_type": "execute_result"
    },
    {
     "name": "stdout",
     "output_type": "stream",
     "text": [
      "No. of unique values: 6\n",
      "No.of Null Values: 90\n"
     ]
    },
    {
     "data": {
      "text/plain": [
       "'VAR_0488'"
      ]
     },
     "execution_count": 13,
     "metadata": {},
     "output_type": "execute_result"
    },
    {
     "name": "stdout",
     "output_type": "stream",
     "text": [
      "No. of unique values: 6\n",
      "No.of Null Values: 90\n"
     ]
    },
    {
     "data": {
      "text/plain": [
       "'VAR_0489'"
      ]
     },
     "execution_count": 13,
     "metadata": {},
     "output_type": "execute_result"
    },
    {
     "name": "stdout",
     "output_type": "stream",
     "text": [
      "No. of unique values: 8\n",
      "No.of Null Values: 90\n"
     ]
    },
    {
     "data": {
      "text/plain": [
       "'VAR_0490'"
      ]
     },
     "execution_count": 13,
     "metadata": {},
     "output_type": "execute_result"
    },
    {
     "name": "stdout",
     "output_type": "stream",
     "text": [
      "No. of unique values: 2\n",
      "No.of Null Values: 90\n"
     ]
    },
    {
     "data": {
      "text/plain": [
       "'VAR_0491'"
      ]
     },
     "execution_count": 13,
     "metadata": {},
     "output_type": "execute_result"
    },
    {
     "name": "stdout",
     "output_type": "stream",
     "text": [
      "No. of unique values: 6\n",
      "No.of Null Values: 90\n"
     ]
    },
    {
     "data": {
      "text/plain": [
       "'VAR_0492'"
      ]
     },
     "execution_count": 13,
     "metadata": {},
     "output_type": "execute_result"
    },
    {
     "name": "stdout",
     "output_type": "stream",
     "text": [
      "No. of unique values: 115\n",
      "No.of Null Values: 90\n"
     ]
    },
    {
     "data": {
      "text/plain": [
       "'VAR_0493'"
      ]
     },
     "execution_count": 13,
     "metadata": {},
     "output_type": "execute_result"
    },
    {
     "name": "stdout",
     "output_type": "stream",
     "text": [
      "No. of unique values: 206\n",
      "No.of Null Values: 90\n"
     ]
    },
    {
     "data": {
      "text/plain": [
       "'VAR_0494'"
      ]
     },
     "execution_count": 13,
     "metadata": {},
     "output_type": "execute_result"
    },
    {
     "name": "stdout",
     "output_type": "stream",
     "text": [
      "No. of unique values: 7\n",
      "No.of Null Values: 90\n"
     ]
    },
    {
     "data": {
      "text/plain": [
       "'VAR_0495'"
      ]
     },
     "execution_count": 13,
     "metadata": {},
     "output_type": "execute_result"
    },
    {
     "name": "stdout",
     "output_type": "stream",
     "text": [
      "No. of unique values: 3\n",
      "No.of Null Values: 90\n"
     ]
    },
    {
     "data": {
      "text/plain": [
       "'VAR_0496'"
      ]
     },
     "execution_count": 13,
     "metadata": {},
     "output_type": "execute_result"
    },
    {
     "name": "stdout",
     "output_type": "stream",
     "text": [
      "No. of unique values: 2\n",
      "No.of Null Values: 90\n"
     ]
    },
    {
     "data": {
      "text/plain": [
       "'VAR_0497'"
      ]
     },
     "execution_count": 13,
     "metadata": {},
     "output_type": "execute_result"
    },
    {
     "name": "stdout",
     "output_type": "stream",
     "text": [
      "No. of unique values: 3\n",
      "No.of Null Values: 90\n"
     ]
    },
    {
     "data": {
      "text/plain": [
       "'VAR_0498'"
      ]
     },
     "execution_count": 13,
     "metadata": {},
     "output_type": "execute_result"
    },
    {
     "name": "stdout",
     "output_type": "stream",
     "text": [
      "No. of unique values: 3\n",
      "No.of Null Values: 90\n"
     ]
    },
    {
     "data": {
      "text/plain": [
       "'VAR_0499'"
      ]
     },
     "execution_count": 13,
     "metadata": {},
     "output_type": "execute_result"
    },
    {
     "name": "stdout",
     "output_type": "stream",
     "text": [
      "No. of unique values: 4\n",
      "No.of Null Values: 90\n"
     ]
    },
    {
     "data": {
      "text/plain": [
       "'VAR_0500'"
      ]
     },
     "execution_count": 13,
     "metadata": {},
     "output_type": "execute_result"
    },
    {
     "name": "stdout",
     "output_type": "stream",
     "text": [
      "No. of unique values: 5\n",
      "No.of Null Values: 90\n"
     ]
    },
    {
     "data": {
      "text/plain": [
       "'VAR_0501'"
      ]
     },
     "execution_count": 13,
     "metadata": {},
     "output_type": "execute_result"
    },
    {
     "name": "stdout",
     "output_type": "stream",
     "text": [
      "No. of unique values: 9\n",
      "No.of Null Values: 90\n"
     ]
    },
    {
     "data": {
      "text/plain": [
       "'VAR_0502'"
      ]
     },
     "execution_count": 13,
     "metadata": {},
     "output_type": "execute_result"
    },
    {
     "name": "stdout",
     "output_type": "stream",
     "text": [
      "No. of unique values: 2\n",
      "No.of Null Values: 90\n"
     ]
    },
    {
     "data": {
      "text/plain": [
       "'VAR_0503'"
      ]
     },
     "execution_count": 13,
     "metadata": {},
     "output_type": "execute_result"
    },
    {
     "name": "stdout",
     "output_type": "stream",
     "text": [
      "No. of unique values: 2\n",
      "No.of Null Values: 90\n"
     ]
    },
    {
     "data": {
      "text/plain": [
       "'VAR_0504'"
      ]
     },
     "execution_count": 13,
     "metadata": {},
     "output_type": "execute_result"
    },
    {
     "name": "stdout",
     "output_type": "stream",
     "text": [
      "No. of unique values: 2\n",
      "No.of Null Values: 90\n"
     ]
    },
    {
     "data": {
      "text/plain": [
       "'VAR_0505'"
      ]
     },
     "execution_count": 13,
     "metadata": {},
     "output_type": "execute_result"
    },
    {
     "name": "stdout",
     "output_type": "stream",
     "text": [
      "No. of unique values: 2\n",
      "No.of Null Values: 90\n"
     ]
    },
    {
     "data": {
      "text/plain": [
       "'VAR_0506'"
      ]
     },
     "execution_count": 13,
     "metadata": {},
     "output_type": "execute_result"
    },
    {
     "name": "stdout",
     "output_type": "stream",
     "text": [
      "No. of unique values: 15\n",
      "No.of Null Values: 90\n"
     ]
    },
    {
     "data": {
      "text/plain": [
       "'VAR_0507'"
      ]
     },
     "execution_count": 13,
     "metadata": {},
     "output_type": "execute_result"
    },
    {
     "name": "stdout",
     "output_type": "stream",
     "text": [
      "No. of unique values: 2\n",
      "No.of Null Values: 90\n"
     ]
    },
    {
     "data": {
      "text/plain": [
       "'VAR_0508'"
      ]
     },
     "execution_count": 13,
     "metadata": {},
     "output_type": "execute_result"
    },
    {
     "name": "stdout",
     "output_type": "stream",
     "text": [
      "No. of unique values: 3\n",
      "No.of Null Values: 90\n"
     ]
    },
    {
     "data": {
      "text/plain": [
       "'VAR_0509'"
      ]
     },
     "execution_count": 13,
     "metadata": {},
     "output_type": "execute_result"
    },
    {
     "name": "stdout",
     "output_type": "stream",
     "text": [
      "No. of unique values: 8\n",
      "No.of Null Values: 90\n"
     ]
    },
    {
     "data": {
      "text/plain": [
       "'VAR_0510'"
      ]
     },
     "execution_count": 13,
     "metadata": {},
     "output_type": "execute_result"
    },
    {
     "name": "stdout",
     "output_type": "stream",
     "text": [
      "No. of unique values: 11\n",
      "No.of Null Values: 90\n"
     ]
    },
    {
     "data": {
      "text/plain": [
       "'VAR_0511'"
      ]
     },
     "execution_count": 13,
     "metadata": {},
     "output_type": "execute_result"
    },
    {
     "name": "stdout",
     "output_type": "stream",
     "text": [
      "No. of unique values: 12\n",
      "No.of Null Values: 90\n"
     ]
    },
    {
     "data": {
      "text/plain": [
       "'VAR_0512'"
      ]
     },
     "execution_count": 13,
     "metadata": {},
     "output_type": "execute_result"
    },
    {
     "name": "stdout",
     "output_type": "stream",
     "text": [
      "No. of unique values: 15\n",
      "No.of Null Values: 90\n"
     ]
    },
    {
     "data": {
      "text/plain": [
       "'VAR_0513'"
      ]
     },
     "execution_count": 13,
     "metadata": {},
     "output_type": "execute_result"
    },
    {
     "name": "stdout",
     "output_type": "stream",
     "text": [
      "No. of unique values: 3\n",
      "No.of Null Values: 90\n"
     ]
    },
    {
     "data": {
      "text/plain": [
       "'VAR_0514'"
      ]
     },
     "execution_count": 13,
     "metadata": {},
     "output_type": "execute_result"
    },
    {
     "name": "stdout",
     "output_type": "stream",
     "text": [
      "No. of unique values: 155\n",
      "No.of Null Values: 90\n"
     ]
    },
    {
     "data": {
      "text/plain": [
       "'VAR_0515'"
      ]
     },
     "execution_count": 13,
     "metadata": {},
     "output_type": "execute_result"
    },
    {
     "name": "stdout",
     "output_type": "stream",
     "text": [
      "No. of unique values: 97\n",
      "No.of Null Values: 90\n"
     ]
    },
    {
     "data": {
      "text/plain": [
       "'VAR_0516'"
      ]
     },
     "execution_count": 13,
     "metadata": {},
     "output_type": "execute_result"
    },
    {
     "name": "stdout",
     "output_type": "stream",
     "text": [
      "No. of unique values: 204\n",
      "No.of Null Values: 90\n"
     ]
    },
    {
     "data": {
      "text/plain": [
       "'VAR_0517'"
      ]
     },
     "execution_count": 13,
     "metadata": {},
     "output_type": "execute_result"
    },
    {
     "name": "stdout",
     "output_type": "stream",
     "text": [
      "No. of unique values: 140\n",
      "No.of Null Values: 90\n"
     ]
    },
    {
     "data": {
      "text/plain": [
       "'VAR_0518'"
      ]
     },
     "execution_count": 13,
     "metadata": {},
     "output_type": "execute_result"
    },
    {
     "name": "stdout",
     "output_type": "stream",
     "text": [
      "No. of unique values: 2\n",
      "No.of Null Values: 90\n"
     ]
    },
    {
     "data": {
      "text/plain": [
       "'VAR_0519'"
      ]
     },
     "execution_count": 13,
     "metadata": {},
     "output_type": "execute_result"
    },
    {
     "name": "stdout",
     "output_type": "stream",
     "text": [
      "No. of unique values: 7\n",
      "No.of Null Values: 90\n"
     ]
    },
    {
     "data": {
      "text/plain": [
       "'VAR_0520'"
      ]
     },
     "execution_count": 13,
     "metadata": {},
     "output_type": "execute_result"
    },
    {
     "name": "stdout",
     "output_type": "stream",
     "text": [
      "No. of unique values: 3\n",
      "No.of Null Values: 90\n"
     ]
    },
    {
     "data": {
      "text/plain": [
       "'VAR_0521'"
      ]
     },
     "execution_count": 13,
     "metadata": {},
     "output_type": "execute_result"
    },
    {
     "name": "stdout",
     "output_type": "stream",
     "text": [
      "No. of unique values: 2\n",
      "No.of Null Values: 90\n"
     ]
    },
    {
     "data": {
      "text/plain": [
       "'VAR_0522'"
      ]
     },
     "execution_count": 13,
     "metadata": {},
     "output_type": "execute_result"
    },
    {
     "name": "stdout",
     "output_type": "stream",
     "text": [
      "No. of unique values: 2\n",
      "No.of Null Values: 90\n"
     ]
    },
    {
     "data": {
      "text/plain": [
       "'VAR_0523'"
      ]
     },
     "execution_count": 13,
     "metadata": {},
     "output_type": "execute_result"
    },
    {
     "name": "stdout",
     "output_type": "stream",
     "text": [
      "No. of unique values: 3\n",
      "No.of Null Values: 90\n"
     ]
    },
    {
     "data": {
      "text/plain": [
       "'VAR_0524'"
      ]
     },
     "execution_count": 13,
     "metadata": {},
     "output_type": "execute_result"
    },
    {
     "name": "stdout",
     "output_type": "stream",
     "text": [
      "No. of unique values: 3\n",
      "No.of Null Values: 90\n"
     ]
    },
    {
     "data": {
      "text/plain": [
       "'VAR_0525'"
      ]
     },
     "execution_count": 13,
     "metadata": {},
     "output_type": "execute_result"
    },
    {
     "name": "stdout",
     "output_type": "stream",
     "text": [
      "No. of unique values: 4\n",
      "No.of Null Values: 90\n"
     ]
    },
    {
     "data": {
      "text/plain": [
       "'VAR_0526'"
      ]
     },
     "execution_count": 13,
     "metadata": {},
     "output_type": "execute_result"
    },
    {
     "name": "stdout",
     "output_type": "stream",
     "text": [
      "No. of unique values: 1\n",
      "No.of Null Values: 90\n"
     ]
    },
    {
     "data": {
      "text/plain": [
       "'VAR_0527'"
      ]
     },
     "execution_count": 13,
     "metadata": {},
     "output_type": "execute_result"
    },
    {
     "name": "stdout",
     "output_type": "stream",
     "text": [
      "No. of unique values: 1\n",
      "No.of Null Values: 90\n"
     ]
    },
    {
     "data": {
      "text/plain": [
       "'VAR_0528'"
      ]
     },
     "execution_count": 13,
     "metadata": {},
     "output_type": "execute_result"
    },
    {
     "name": "stdout",
     "output_type": "stream",
     "text": [
      "No. of unique values: 1\n",
      "No.of Null Values: 90\n"
     ]
    },
    {
     "data": {
      "text/plain": [
       "'VAR_0529'"
      ]
     },
     "execution_count": 13,
     "metadata": {},
     "output_type": "execute_result"
    },
    {
     "name": "stdout",
     "output_type": "stream",
     "text": [
      "No. of unique values: 1\n",
      "No.of Null Values: 90\n"
     ]
    },
    {
     "data": {
      "text/plain": [
       "'VAR_0530'"
      ]
     },
     "execution_count": 13,
     "metadata": {},
     "output_type": "execute_result"
    },
    {
     "name": "stdout",
     "output_type": "stream",
     "text": [
      "No. of unique values: 1\n",
      "No.of Null Values: 90\n"
     ]
    },
    {
     "data": {
      "text/plain": [
       "'VAR_0531'"
      ]
     },
     "execution_count": 13,
     "metadata": {},
     "output_type": "execute_result"
    },
    {
     "name": "stdout",
     "output_type": "stream",
     "text": [
      "No. of unique values: 1\n",
      "No.of Null Values: 90\n"
     ]
    },
    {
     "data": {
      "text/plain": [
       "'VAR_0532'"
      ]
     },
     "execution_count": 13,
     "metadata": {},
     "output_type": "execute_result"
    },
    {
     "name": "stdout",
     "output_type": "stream",
     "text": [
      "No. of unique values: 9\n",
      "No.of Null Values: 0\n"
     ]
    },
    {
     "data": {
      "text/plain": [
       "'VAR_0533'"
      ]
     },
     "execution_count": 13,
     "metadata": {},
     "output_type": "execute_result"
    },
    {
     "name": "stdout",
     "output_type": "stream",
     "text": [
      "No. of unique values: 8\n",
      "No.of Null Values: 0\n"
     ]
    },
    {
     "data": {
      "text/plain": [
       "'VAR_0534'"
      ]
     },
     "execution_count": 13,
     "metadata": {},
     "output_type": "execute_result"
    },
    {
     "name": "stdout",
     "output_type": "stream",
     "text": [
      "No. of unique values: 14\n",
      "No.of Null Values: 0\n"
     ]
    },
    {
     "data": {
      "text/plain": [
       "'VAR_0535'"
      ]
     },
     "execution_count": 13,
     "metadata": {},
     "output_type": "execute_result"
    },
    {
     "name": "stdout",
     "output_type": "stream",
     "text": [
      "No. of unique values: 24\n",
      "No.of Null Values: 0\n"
     ]
    },
    {
     "data": {
      "text/plain": [
       "'VAR_0536'"
      ]
     },
     "execution_count": 13,
     "metadata": {},
     "output_type": "execute_result"
    },
    {
     "name": "stdout",
     "output_type": "stream",
     "text": [
      "No. of unique values: 32\n",
      "No.of Null Values: 0\n"
     ]
    },
    {
     "data": {
      "text/plain": [
       "'VAR_0537'"
      ]
     },
     "execution_count": 13,
     "metadata": {},
     "output_type": "execute_result"
    },
    {
     "name": "stdout",
     "output_type": "stream",
     "text": [
      "No. of unique values: 17\n",
      "No.of Null Values: 0\n"
     ]
    },
    {
     "data": {
      "text/plain": [
       "'VAR_0538'"
      ]
     },
     "execution_count": 13,
     "metadata": {},
     "output_type": "execute_result"
    },
    {
     "name": "stdout",
     "output_type": "stream",
     "text": [
      "No. of unique values: 8\n",
      "No.of Null Values: 0\n"
     ]
    },
    {
     "data": {
      "text/plain": [
       "'VAR_0539'"
      ]
     },
     "execution_count": 13,
     "metadata": {},
     "output_type": "execute_result"
    },
    {
     "name": "stdout",
     "output_type": "stream",
     "text": [
      "No. of unique values: 18\n",
      "No.of Null Values: 0\n"
     ]
    },
    {
     "data": {
      "text/plain": [
       "'VAR_0540'"
      ]
     },
     "execution_count": 13,
     "metadata": {},
     "output_type": "execute_result"
    },
    {
     "name": "stdout",
     "output_type": "stream",
     "text": [
      "No. of unique values: 86\n",
      "No.of Null Values: 0\n"
     ]
    },
    {
     "data": {
      "text/plain": [
       "'VAR_0541'"
      ]
     },
     "execution_count": 13,
     "metadata": {},
     "output_type": "execute_result"
    },
    {
     "name": "stdout",
     "output_type": "stream",
     "text": [
      "No. of unique values: 11294\n",
      "No.of Null Values: 0\n"
     ]
    },
    {
     "data": {
      "text/plain": [
       "'VAR_0542'"
      ]
     },
     "execution_count": 13,
     "metadata": {},
     "output_type": "execute_result"
    },
    {
     "name": "stdout",
     "output_type": "stream",
     "text": [
      "No. of unique values: 3106\n",
      "No.of Null Values: 0\n"
     ]
    },
    {
     "data": {
      "text/plain": [
       "'VAR_0543'"
      ]
     },
     "execution_count": 13,
     "metadata": {},
     "output_type": "execute_result"
    },
    {
     "name": "stdout",
     "output_type": "stream",
     "text": [
      "No. of unique values: 11325\n",
      "No.of Null Values: 0\n"
     ]
    },
    {
     "data": {
      "text/plain": [
       "'VAR_0544'"
      ]
     },
     "execution_count": 13,
     "metadata": {},
     "output_type": "execute_result"
    },
    {
     "name": "stdout",
     "output_type": "stream",
     "text": [
      "No. of unique values: 2920\n",
      "No.of Null Values: 0\n"
     ]
    },
    {
     "data": {
      "text/plain": [
       "'VAR_0545'"
      ]
     },
     "execution_count": 13,
     "metadata": {},
     "output_type": "execute_result"
    },
    {
     "name": "stdout",
     "output_type": "stream",
     "text": [
      "No. of unique values: 7\n",
      "No.of Null Values: 0\n"
     ]
    },
    {
     "data": {
      "text/plain": [
       "'VAR_0546'"
      ]
     },
     "execution_count": 13,
     "metadata": {},
     "output_type": "execute_result"
    },
    {
     "name": "stdout",
     "output_type": "stream",
     "text": [
      "No. of unique values: 8\n",
      "No.of Null Values: 0\n"
     ]
    },
    {
     "data": {
      "text/plain": [
       "'VAR_0547'"
      ]
     },
     "execution_count": 13,
     "metadata": {},
     "output_type": "execute_result"
    },
    {
     "name": "stdout",
     "output_type": "stream",
     "text": [
      "No. of unique values: 8\n",
      "No.of Null Values: 0\n"
     ]
    },
    {
     "data": {
      "text/plain": [
       "'VAR_0548'"
      ]
     },
     "execution_count": 13,
     "metadata": {},
     "output_type": "execute_result"
    },
    {
     "name": "stdout",
     "output_type": "stream",
     "text": [
      "No. of unique values: 8\n",
      "No.of Null Values: 0\n"
     ]
    },
    {
     "data": {
      "text/plain": [
       "'VAR_0549'"
      ]
     },
     "execution_count": 13,
     "metadata": {},
     "output_type": "execute_result"
    },
    {
     "name": "stdout",
     "output_type": "stream",
     "text": [
      "No. of unique values: 8\n",
      "No.of Null Values: 0\n"
     ]
    },
    {
     "data": {
      "text/plain": [
       "'VAR_0550'"
      ]
     },
     "execution_count": 13,
     "metadata": {},
     "output_type": "execute_result"
    },
    {
     "name": "stdout",
     "output_type": "stream",
     "text": [
      "No. of unique values: 165\n",
      "No.of Null Values: 0\n"
     ]
    },
    {
     "data": {
      "text/plain": [
       "'VAR_0551'"
      ]
     },
     "execution_count": 13,
     "metadata": {},
     "output_type": "execute_result"
    },
    {
     "name": "stdout",
     "output_type": "stream",
     "text": [
      "No. of unique values: 31\n",
      "No.of Null Values: 0\n"
     ]
    },
    {
     "data": {
      "text/plain": [
       "'VAR_0552'"
      ]
     },
     "execution_count": 13,
     "metadata": {},
     "output_type": "execute_result"
    },
    {
     "name": "stdout",
     "output_type": "stream",
     "text": [
      "No. of unique values: 55\n",
      "No.of Null Values: 0\n"
     ]
    },
    {
     "data": {
      "text/plain": [
       "'VAR_0553'"
      ]
     },
     "execution_count": 13,
     "metadata": {},
     "output_type": "execute_result"
    },
    {
     "name": "stdout",
     "output_type": "stream",
     "text": [
      "No. of unique values: 41\n",
      "No.of Null Values: 0\n"
     ]
    },
    {
     "data": {
      "text/plain": [
       "'VAR_0554'"
      ]
     },
     "execution_count": 13,
     "metadata": {},
     "output_type": "execute_result"
    },
    {
     "name": "stdout",
     "output_type": "stream",
     "text": [
      "No. of unique values: 209\n",
      "No.of Null Values: 0\n"
     ]
    },
    {
     "data": {
      "text/plain": [
       "'VAR_0555'"
      ]
     },
     "execution_count": 13,
     "metadata": {},
     "output_type": "execute_result"
    },
    {
     "name": "stdout",
     "output_type": "stream",
     "text": [
      "No. of unique values: 87\n",
      "No.of Null Values: 0\n"
     ]
    },
    {
     "data": {
      "text/plain": [
       "'VAR_0556'"
      ]
     },
     "execution_count": 13,
     "metadata": {},
     "output_type": "execute_result"
    },
    {
     "name": "stdout",
     "output_type": "stream",
     "text": [
      "No. of unique values: 86\n",
      "No.of Null Values: 0\n"
     ]
    },
    {
     "data": {
      "text/plain": [
       "'VAR_0557'"
      ]
     },
     "execution_count": 13,
     "metadata": {},
     "output_type": "execute_result"
    },
    {
     "name": "stdout",
     "output_type": "stream",
     "text": [
      "No. of unique values: 85\n",
      "No.of Null Values: 0\n"
     ]
    },
    {
     "data": {
      "text/plain": [
       "'VAR_0558'"
      ]
     },
     "execution_count": 13,
     "metadata": {},
     "output_type": "execute_result"
    },
    {
     "name": "stdout",
     "output_type": "stream",
     "text": [
      "No. of unique values: 85\n",
      "No.of Null Values: 0\n"
     ]
    },
    {
     "data": {
      "text/plain": [
       "'VAR_0559'"
      ]
     },
     "execution_count": 13,
     "metadata": {},
     "output_type": "execute_result"
    },
    {
     "name": "stdout",
     "output_type": "stream",
     "text": [
      "No. of unique values: 74\n",
      "No.of Null Values: 0\n"
     ]
    },
    {
     "data": {
      "text/plain": [
       "'VAR_0560'"
      ]
     },
     "execution_count": 13,
     "metadata": {},
     "output_type": "execute_result"
    },
    {
     "name": "stdout",
     "output_type": "stream",
     "text": [
      "No. of unique values: 77\n",
      "No.of Null Values: 0\n"
     ]
    },
    {
     "data": {
      "text/plain": [
       "'VAR_0561'"
      ]
     },
     "execution_count": 13,
     "metadata": {},
     "output_type": "execute_result"
    },
    {
     "name": "stdout",
     "output_type": "stream",
     "text": [
      "No. of unique values: 155\n",
      "No.of Null Values: 0\n"
     ]
    },
    {
     "data": {
      "text/plain": [
       "'VAR_0562'"
      ]
     },
     "execution_count": 13,
     "metadata": {},
     "output_type": "execute_result"
    },
    {
     "name": "stdout",
     "output_type": "stream",
     "text": [
      "No. of unique values: 9\n",
      "No.of Null Values: 0\n"
     ]
    },
    {
     "data": {
      "text/plain": [
       "'VAR_0563'"
      ]
     },
     "execution_count": 13,
     "metadata": {},
     "output_type": "execute_result"
    },
    {
     "name": "stdout",
     "output_type": "stream",
     "text": [
      "No. of unique values: 2\n",
      "No.of Null Values: 0\n"
     ]
    },
    {
     "data": {
      "text/plain": [
       "'VAR_0564'"
      ]
     },
     "execution_count": 13,
     "metadata": {},
     "output_type": "execute_result"
    },
    {
     "name": "stdout",
     "output_type": "stream",
     "text": [
      "No. of unique values: 7\n",
      "No.of Null Values: 0\n"
     ]
    },
    {
     "data": {
      "text/plain": [
       "'VAR_0565'"
      ]
     },
     "execution_count": 13,
     "metadata": {},
     "output_type": "execute_result"
    },
    {
     "name": "stdout",
     "output_type": "stream",
     "text": [
      "No. of unique values: 8\n",
      "No.of Null Values: 0\n"
     ]
    },
    {
     "data": {
      "text/plain": [
       "'VAR_0566'"
      ]
     },
     "execution_count": 13,
     "metadata": {},
     "output_type": "execute_result"
    },
    {
     "name": "stdout",
     "output_type": "stream",
     "text": [
      "No. of unique values: 2\n",
      "No.of Null Values: 0\n"
     ]
    },
    {
     "data": {
      "text/plain": [
       "'VAR_0567'"
      ]
     },
     "execution_count": 13,
     "metadata": {},
     "output_type": "execute_result"
    },
    {
     "name": "stdout",
     "output_type": "stream",
     "text": [
      "No. of unique values: 2\n",
      "No.of Null Values: 0\n"
     ]
    },
    {
     "data": {
      "text/plain": [
       "'VAR_0568'"
      ]
     },
     "execution_count": 13,
     "metadata": {},
     "output_type": "execute_result"
    },
    {
     "name": "stdout",
     "output_type": "stream",
     "text": [
      "No. of unique values: 12\n",
      "No.of Null Values: 0\n"
     ]
    },
    {
     "data": {
      "text/plain": [
       "'VAR_0569'"
      ]
     },
     "execution_count": 13,
     "metadata": {},
     "output_type": "execute_result"
    },
    {
     "name": "stdout",
     "output_type": "stream",
     "text": [
      "No. of unique values: 8\n",
      "No.of Null Values: 0\n"
     ]
    },
    {
     "data": {
      "text/plain": [
       "'VAR_0570'"
      ]
     },
     "execution_count": 13,
     "metadata": {},
     "output_type": "execute_result"
    },
    {
     "name": "stdout",
     "output_type": "stream",
     "text": [
      "No. of unique values: 84\n",
      "No.of Null Values: 0\n"
     ]
    },
    {
     "data": {
      "text/plain": [
       "'VAR_0571'"
      ]
     },
     "execution_count": 13,
     "metadata": {},
     "output_type": "execute_result"
    },
    {
     "name": "stdout",
     "output_type": "stream",
     "text": [
      "No. of unique values: 1375\n",
      "No.of Null Values: 0\n"
     ]
    },
    {
     "data": {
      "text/plain": [
       "'VAR_0572'"
      ]
     },
     "execution_count": 13,
     "metadata": {},
     "output_type": "execute_result"
    },
    {
     "name": "stdout",
     "output_type": "stream",
     "text": [
      "No. of unique values: 13\n",
      "No.of Null Values: 0\n"
     ]
    },
    {
     "data": {
      "text/plain": [
       "'VAR_0573'"
      ]
     },
     "execution_count": 13,
     "metadata": {},
     "output_type": "execute_result"
    },
    {
     "name": "stdout",
     "output_type": "stream",
     "text": [
      "No. of unique values: 128\n",
      "No.of Null Values: 0\n"
     ]
    },
    {
     "data": {
      "text/plain": [
       "'VAR_0574'"
      ]
     },
     "execution_count": 13,
     "metadata": {},
     "output_type": "execute_result"
    },
    {
     "name": "stdout",
     "output_type": "stream",
     "text": [
      "No. of unique values: 192\n",
      "No.of Null Values: 0\n"
     ]
    },
    {
     "data": {
      "text/plain": [
       "'VAR_0575'"
      ]
     },
     "execution_count": 13,
     "metadata": {},
     "output_type": "execute_result"
    },
    {
     "name": "stdout",
     "output_type": "stream",
     "text": [
      "No. of unique values: 512\n",
      "No.of Null Values: 0\n"
     ]
    },
    {
     "data": {
      "text/plain": [
       "'VAR_0576'"
      ]
     },
     "execution_count": 13,
     "metadata": {},
     "output_type": "execute_result"
    },
    {
     "name": "stdout",
     "output_type": "stream",
     "text": [
      "No. of unique values: 328\n",
      "No.of Null Values: 0\n"
     ]
    },
    {
     "data": {
      "text/plain": [
       "'VAR_0577'"
      ]
     },
     "execution_count": 13,
     "metadata": {},
     "output_type": "execute_result"
    },
    {
     "name": "stdout",
     "output_type": "stream",
     "text": [
      "No. of unique values: 218\n",
      "No.of Null Values: 0\n"
     ]
    },
    {
     "data": {
      "text/plain": [
       "'VAR_0578'"
      ]
     },
     "execution_count": 13,
     "metadata": {},
     "output_type": "execute_result"
    },
    {
     "name": "stdout",
     "output_type": "stream",
     "text": [
      "No. of unique values: 188\n",
      "No.of Null Values: 0\n"
     ]
    },
    {
     "data": {
      "text/plain": [
       "'VAR_0579'"
      ]
     },
     "execution_count": 13,
     "metadata": {},
     "output_type": "execute_result"
    },
    {
     "name": "stdout",
     "output_type": "stream",
     "text": [
      "No. of unique values: 256\n",
      "No.of Null Values: 0\n"
     ]
    },
    {
     "data": {
      "text/plain": [
       "'VAR_0580'"
      ]
     },
     "execution_count": 13,
     "metadata": {},
     "output_type": "execute_result"
    },
    {
     "name": "stdout",
     "output_type": "stream",
     "text": [
      "No. of unique values: 18\n",
      "No.of Null Values: 0\n"
     ]
    },
    {
     "data": {
      "text/plain": [
       "'VAR_0581'"
      ]
     },
     "execution_count": 13,
     "metadata": {},
     "output_type": "execute_result"
    },
    {
     "name": "stdout",
     "output_type": "stream",
     "text": [
      "No. of unique values: 24\n",
      "No.of Null Values: 0\n"
     ]
    },
    {
     "data": {
      "text/plain": [
       "'VAR_0582'"
      ]
     },
     "execution_count": 13,
     "metadata": {},
     "output_type": "execute_result"
    },
    {
     "name": "stdout",
     "output_type": "stream",
     "text": [
      "No. of unique values: 24\n",
      "No.of Null Values: 0\n"
     ]
    },
    {
     "data": {
      "text/plain": [
       "'VAR_0583'"
      ]
     },
     "execution_count": 13,
     "metadata": {},
     "output_type": "execute_result"
    },
    {
     "name": "stdout",
     "output_type": "stream",
     "text": [
      "No. of unique values: 3540\n",
      "No.of Null Values: 0\n"
     ]
    },
    {
     "data": {
      "text/plain": [
       "'VAR_0584'"
      ]
     },
     "execution_count": 13,
     "metadata": {},
     "output_type": "execute_result"
    },
    {
     "name": "stdout",
     "output_type": "stream",
     "text": [
      "No. of unique values: 1164\n",
      "No.of Null Values: 0\n"
     ]
    },
    {
     "data": {
      "text/plain": [
       "'VAR_0585'"
      ]
     },
     "execution_count": 13,
     "metadata": {},
     "output_type": "execute_result"
    },
    {
     "name": "stdout",
     "output_type": "stream",
     "text": [
      "No. of unique values: 4851\n",
      "No.of Null Values: 0\n"
     ]
    },
    {
     "data": {
      "text/plain": [
       "'VAR_0586'"
      ]
     },
     "execution_count": 13,
     "metadata": {},
     "output_type": "execute_result"
    },
    {
     "name": "stdout",
     "output_type": "stream",
     "text": [
      "No. of unique values: 1300\n",
      "No.of Null Values: 0\n"
     ]
    },
    {
     "data": {
      "text/plain": [
       "'VAR_0587'"
      ]
     },
     "execution_count": 13,
     "metadata": {},
     "output_type": "execute_result"
    },
    {
     "name": "stdout",
     "output_type": "stream",
     "text": [
      "No. of unique values: 266\n",
      "No.of Null Values: 0\n"
     ]
    },
    {
     "data": {
      "text/plain": [
       "'VAR_0588'"
      ]
     },
     "execution_count": 13,
     "metadata": {},
     "output_type": "execute_result"
    },
    {
     "name": "stdout",
     "output_type": "stream",
     "text": [
      "No. of unique values: 325\n",
      "No.of Null Values: 0\n"
     ]
    },
    {
     "data": {
      "text/plain": [
       "'VAR_0589'"
      ]
     },
     "execution_count": 13,
     "metadata": {},
     "output_type": "execute_result"
    },
    {
     "name": "stdout",
     "output_type": "stream",
     "text": [
      "No. of unique values: 104\n",
      "No.of Null Values: 0\n"
     ]
    },
    {
     "data": {
      "text/plain": [
       "'VAR_0590'"
      ]
     },
     "execution_count": 13,
     "metadata": {},
     "output_type": "execute_result"
    },
    {
     "name": "stdout",
     "output_type": "stream",
     "text": [
      "No. of unique values: 17\n",
      "No.of Null Values: 0\n"
     ]
    },
    {
     "data": {
      "text/plain": [
       "'VAR_0591'"
      ]
     },
     "execution_count": 13,
     "metadata": {},
     "output_type": "execute_result"
    },
    {
     "name": "stdout",
     "output_type": "stream",
     "text": [
      "No. of unique values: 105\n",
      "No.of Null Values: 0\n"
     ]
    },
    {
     "data": {
      "text/plain": [
       "'VAR_0592'"
      ]
     },
     "execution_count": 13,
     "metadata": {},
     "output_type": "execute_result"
    },
    {
     "name": "stdout",
     "output_type": "stream",
     "text": [
      "No. of unique values: 105\n",
      "No.of Null Values: 0\n"
     ]
    },
    {
     "data": {
      "text/plain": [
       "'VAR_0593'"
      ]
     },
     "execution_count": 13,
     "metadata": {},
     "output_type": "execute_result"
    },
    {
     "name": "stdout",
     "output_type": "stream",
     "text": [
      "No. of unique values: 103\n",
      "No.of Null Values: 0\n"
     ]
    },
    {
     "data": {
      "text/plain": [
       "'VAR_0594'"
      ]
     },
     "execution_count": 13,
     "metadata": {},
     "output_type": "execute_result"
    },
    {
     "name": "stdout",
     "output_type": "stream",
     "text": [
      "No. of unique values: 33\n",
      "No.of Null Values: 0\n"
     ]
    },
    {
     "data": {
      "text/plain": [
       "'VAR_0595'"
      ]
     },
     "execution_count": 13,
     "metadata": {},
     "output_type": "execute_result"
    },
    {
     "name": "stdout",
     "output_type": "stream",
     "text": [
      "No. of unique values: 33\n",
      "No.of Null Values: 0\n"
     ]
    },
    {
     "data": {
      "text/plain": [
       "'VAR_0596'"
      ]
     },
     "execution_count": 13,
     "metadata": {},
     "output_type": "execute_result"
    },
    {
     "name": "stdout",
     "output_type": "stream",
     "text": [
      "No. of unique values: 405\n",
      "No.of Null Values: 0\n"
     ]
    },
    {
     "data": {
      "text/plain": [
       "'VAR_0597'"
      ]
     },
     "execution_count": 13,
     "metadata": {},
     "output_type": "execute_result"
    },
    {
     "name": "stdout",
     "output_type": "stream",
     "text": [
      "No. of unique values: 295\n",
      "No.of Null Values: 0\n"
     ]
    },
    {
     "data": {
      "text/plain": [
       "'VAR_0598'"
      ]
     },
     "execution_count": 13,
     "metadata": {},
     "output_type": "execute_result"
    },
    {
     "name": "stdout",
     "output_type": "stream",
     "text": [
      "No. of unique values: 215\n",
      "No.of Null Values: 0\n"
     ]
    },
    {
     "data": {
      "text/plain": [
       "'VAR_0599'"
      ]
     },
     "execution_count": 13,
     "metadata": {},
     "output_type": "execute_result"
    },
    {
     "name": "stdout",
     "output_type": "stream",
     "text": [
      "No. of unique values: 329\n",
      "No.of Null Values: 0\n"
     ]
    },
    {
     "data": {
      "text/plain": [
       "'VAR_0600'"
      ]
     },
     "execution_count": 13,
     "metadata": {},
     "output_type": "execute_result"
    },
    {
     "name": "stdout",
     "output_type": "stream",
     "text": [
      "No. of unique values: 198\n",
      "No.of Null Values: 0\n"
     ]
    },
    {
     "data": {
      "text/plain": [
       "'VAR_0601'"
      ]
     },
     "execution_count": 13,
     "metadata": {},
     "output_type": "execute_result"
    },
    {
     "name": "stdout",
     "output_type": "stream",
     "text": [
      "No. of unique values: 123\n",
      "No.of Null Values: 0\n"
     ]
    },
    {
     "data": {
      "text/plain": [
       "'VAR_0602'"
      ]
     },
     "execution_count": 13,
     "metadata": {},
     "output_type": "execute_result"
    },
    {
     "name": "stdout",
     "output_type": "stream",
     "text": [
      "No. of unique values: 66\n",
      "No.of Null Values: 0\n"
     ]
    },
    {
     "data": {
      "text/plain": [
       "'VAR_0603'"
      ]
     },
     "execution_count": 13,
     "metadata": {},
     "output_type": "execute_result"
    },
    {
     "name": "stdout",
     "output_type": "stream",
     "text": [
      "No. of unique values: 7\n",
      "No.of Null Values: 0\n"
     ]
    },
    {
     "data": {
      "text/plain": [
       "'VAR_0604'"
      ]
     },
     "execution_count": 13,
     "metadata": {},
     "output_type": "execute_result"
    },
    {
     "name": "stdout",
     "output_type": "stream",
     "text": [
      "No. of unique values: 35\n",
      "No.of Null Values: 0\n"
     ]
    },
    {
     "data": {
      "text/plain": [
       "'VAR_0605'"
      ]
     },
     "execution_count": 13,
     "metadata": {},
     "output_type": "execute_result"
    },
    {
     "name": "stdout",
     "output_type": "stream",
     "text": [
      "No. of unique values: 18\n",
      "No.of Null Values: 0\n"
     ]
    },
    {
     "data": {
      "text/plain": [
       "'VAR_0606'"
      ]
     },
     "execution_count": 13,
     "metadata": {},
     "output_type": "execute_result"
    },
    {
     "name": "stdout",
     "output_type": "stream",
     "text": [
      "No. of unique values: 7\n",
      "No.of Null Values: 0\n"
     ]
    },
    {
     "data": {
      "text/plain": [
       "'VAR_0607'"
      ]
     },
     "execution_count": 13,
     "metadata": {},
     "output_type": "execute_result"
    },
    {
     "name": "stdout",
     "output_type": "stream",
     "text": [
      "No. of unique values: 982\n",
      "No.of Null Values: 0\n"
     ]
    },
    {
     "data": {
      "text/plain": [
       "'VAR_0608'"
      ]
     },
     "execution_count": 13,
     "metadata": {},
     "output_type": "execute_result"
    },
    {
     "name": "stdout",
     "output_type": "stream",
     "text": [
      "No. of unique values: 1310\n",
      "No.of Null Values: 0\n"
     ]
    },
    {
     "data": {
      "text/plain": [
       "'VAR_0609'"
      ]
     },
     "execution_count": 13,
     "metadata": {},
     "output_type": "execute_result"
    },
    {
     "name": "stdout",
     "output_type": "stream",
     "text": [
      "No. of unique values: 5593\n",
      "No.of Null Values: 0\n"
     ]
    },
    {
     "data": {
      "text/plain": [
       "'VAR_0610'"
      ]
     },
     "execution_count": 13,
     "metadata": {},
     "output_type": "execute_result"
    },
    {
     "name": "stdout",
     "output_type": "stream",
     "text": [
      "No. of unique values: 1542\n",
      "No.of Null Values: 0\n"
     ]
    },
    {
     "data": {
      "text/plain": [
       "'VAR_0611'"
      ]
     },
     "execution_count": 13,
     "metadata": {},
     "output_type": "execute_result"
    },
    {
     "name": "stdout",
     "output_type": "stream",
     "text": [
      "No. of unique values: 248\n",
      "No.of Null Values: 0\n"
     ]
    },
    {
     "data": {
      "text/plain": [
       "'VAR_0612'"
      ]
     },
     "execution_count": 13,
     "metadata": {},
     "output_type": "execute_result"
    },
    {
     "name": "stdout",
     "output_type": "stream",
     "text": [
      "No. of unique values: 337\n",
      "No.of Null Values: 0\n"
     ]
    },
    {
     "data": {
      "text/plain": [
       "'VAR_0613'"
      ]
     },
     "execution_count": 13,
     "metadata": {},
     "output_type": "execute_result"
    },
    {
     "name": "stdout",
     "output_type": "stream",
     "text": [
      "No. of unique values: 358\n",
      "No.of Null Values: 0\n"
     ]
    },
    {
     "data": {
      "text/plain": [
       "'VAR_0614'"
      ]
     },
     "execution_count": 13,
     "metadata": {},
     "output_type": "execute_result"
    },
    {
     "name": "stdout",
     "output_type": "stream",
     "text": [
      "No. of unique values: 465\n",
      "No.of Null Values: 0\n"
     ]
    },
    {
     "data": {
      "text/plain": [
       "'VAR_0615'"
      ]
     },
     "execution_count": 13,
     "metadata": {},
     "output_type": "execute_result"
    },
    {
     "name": "stdout",
     "output_type": "stream",
     "text": [
      "No. of unique values: 68\n",
      "No.of Null Values: 0\n"
     ]
    },
    {
     "data": {
      "text/plain": [
       "'VAR_0616'"
      ]
     },
     "execution_count": 13,
     "metadata": {},
     "output_type": "execute_result"
    },
    {
     "name": "stdout",
     "output_type": "stream",
     "text": [
      "No. of unique values: 22\n",
      "No.of Null Values: 0\n"
     ]
    },
    {
     "data": {
      "text/plain": [
       "'VAR_0617'"
      ]
     },
     "execution_count": 13,
     "metadata": {},
     "output_type": "execute_result"
    },
    {
     "name": "stdout",
     "output_type": "stream",
     "text": [
      "No. of unique values: 47\n",
      "No.of Null Values: 0\n"
     ]
    },
    {
     "data": {
      "text/plain": [
       "'VAR_0618'"
      ]
     },
     "execution_count": 13,
     "metadata": {},
     "output_type": "execute_result"
    },
    {
     "name": "stdout",
     "output_type": "stream",
     "text": [
      "No. of unique values: 28\n",
      "No.of Null Values: 0\n"
     ]
    },
    {
     "data": {
      "text/plain": [
       "'VAR_0619'"
      ]
     },
     "execution_count": 13,
     "metadata": {},
     "output_type": "execute_result"
    },
    {
     "name": "stdout",
     "output_type": "stream",
     "text": [
      "No. of unique values: 9\n",
      "No.of Null Values: 0\n"
     ]
    },
    {
     "data": {
      "text/plain": [
       "'VAR_0620'"
      ]
     },
     "execution_count": 13,
     "metadata": {},
     "output_type": "execute_result"
    },
    {
     "name": "stdout",
     "output_type": "stream",
     "text": [
      "No. of unique values: 15\n",
      "No.of Null Values: 0\n"
     ]
    },
    {
     "data": {
      "text/plain": [
       "'VAR_0621'"
      ]
     },
     "execution_count": 13,
     "metadata": {},
     "output_type": "execute_result"
    },
    {
     "name": "stdout",
     "output_type": "stream",
     "text": [
      "No. of unique values: 11\n",
      "No.of Null Values: 0\n"
     ]
    },
    {
     "data": {
      "text/plain": [
       "'VAR_0622'"
      ]
     },
     "execution_count": 13,
     "metadata": {},
     "output_type": "execute_result"
    },
    {
     "name": "stdout",
     "output_type": "stream",
     "text": [
      "No. of unique values: 9\n",
      "No.of Null Values: 0\n"
     ]
    },
    {
     "data": {
      "text/plain": [
       "'VAR_0623'"
      ]
     },
     "execution_count": 13,
     "metadata": {},
     "output_type": "execute_result"
    },
    {
     "name": "stdout",
     "output_type": "stream",
     "text": [
      "No. of unique values: 46\n",
      "No.of Null Values: 0\n"
     ]
    },
    {
     "data": {
      "text/plain": [
       "'VAR_0624'"
      ]
     },
     "execution_count": 13,
     "metadata": {},
     "output_type": "execute_result"
    },
    {
     "name": "stdout",
     "output_type": "stream",
     "text": [
      "No. of unique values: 9\n",
      "No.of Null Values: 0\n"
     ]
    },
    {
     "data": {
      "text/plain": [
       "'VAR_0625'"
      ]
     },
     "execution_count": 13,
     "metadata": {},
     "output_type": "execute_result"
    },
    {
     "name": "stdout",
     "output_type": "stream",
     "text": [
      "No. of unique values: 15\n",
      "No.of Null Values: 0\n"
     ]
    },
    {
     "data": {
      "text/plain": [
       "'VAR_0626'"
      ]
     },
     "execution_count": 13,
     "metadata": {},
     "output_type": "execute_result"
    },
    {
     "name": "stdout",
     "output_type": "stream",
     "text": [
      "No. of unique values: 11\n",
      "No.of Null Values: 0\n"
     ]
    },
    {
     "data": {
      "text/plain": [
       "'VAR_0627'"
      ]
     },
     "execution_count": 13,
     "metadata": {},
     "output_type": "execute_result"
    },
    {
     "name": "stdout",
     "output_type": "stream",
     "text": [
      "No. of unique values: 25\n",
      "No.of Null Values: 0\n"
     ]
    },
    {
     "data": {
      "text/plain": [
       "'VAR_0628'"
      ]
     },
     "execution_count": 13,
     "metadata": {},
     "output_type": "execute_result"
    },
    {
     "name": "stdout",
     "output_type": "stream",
     "text": [
      "No. of unique values: 2129\n",
      "No.of Null Values: 0\n"
     ]
    },
    {
     "data": {
      "text/plain": [
       "'VAR_0629'"
      ]
     },
     "execution_count": 13,
     "metadata": {},
     "output_type": "execute_result"
    },
    {
     "name": "stdout",
     "output_type": "stream",
     "text": [
      "No. of unique values: 1352\n",
      "No.of Null Values: 0\n"
     ]
    },
    {
     "data": {
      "text/plain": [
       "'VAR_0630'"
      ]
     },
     "execution_count": 13,
     "metadata": {},
     "output_type": "execute_result"
    },
    {
     "name": "stdout",
     "output_type": "stream",
     "text": [
      "No. of unique values: 1095\n",
      "No.of Null Values: 0\n"
     ]
    },
    {
     "data": {
      "text/plain": [
       "'VAR_0631'"
      ]
     },
     "execution_count": 13,
     "metadata": {},
     "output_type": "execute_result"
    },
    {
     "name": "stdout",
     "output_type": "stream",
     "text": [
      "No. of unique values: 1330\n",
      "No.of Null Values: 0\n"
     ]
    },
    {
     "data": {
      "text/plain": [
       "'VAR_0632'"
      ]
     },
     "execution_count": 13,
     "metadata": {},
     "output_type": "execute_result"
    },
    {
     "name": "stdout",
     "output_type": "stream",
     "text": [
      "No. of unique values: 83\n",
      "No.of Null Values: 0\n"
     ]
    },
    {
     "data": {
      "text/plain": [
       "'VAR_0633'"
      ]
     },
     "execution_count": 13,
     "metadata": {},
     "output_type": "execute_result"
    },
    {
     "name": "stdout",
     "output_type": "stream",
     "text": [
      "No. of unique values: 80\n",
      "No.of Null Values: 0\n"
     ]
    },
    {
     "data": {
      "text/plain": [
       "'VAR_0634'"
      ]
     },
     "execution_count": 13,
     "metadata": {},
     "output_type": "execute_result"
    },
    {
     "name": "stdout",
     "output_type": "stream",
     "text": [
      "No. of unique values: 81\n",
      "No.of Null Values: 0\n"
     ]
    },
    {
     "data": {
      "text/plain": [
       "'VAR_0635'"
      ]
     },
     "execution_count": 13,
     "metadata": {},
     "output_type": "execute_result"
    },
    {
     "name": "stdout",
     "output_type": "stream",
     "text": [
      "No. of unique values: 85\n",
      "No.of Null Values: 0\n"
     ]
    },
    {
     "data": {
      "text/plain": [
       "'VAR_0636'"
      ]
     },
     "execution_count": 13,
     "metadata": {},
     "output_type": "execute_result"
    },
    {
     "name": "stdout",
     "output_type": "stream",
     "text": [
      "No. of unique values: 81\n",
      "No.of Null Values: 0\n"
     ]
    },
    {
     "data": {
      "text/plain": [
       "'VAR_0637'"
      ]
     },
     "execution_count": 13,
     "metadata": {},
     "output_type": "execute_result"
    },
    {
     "name": "stdout",
     "output_type": "stream",
     "text": [
      "No. of unique values: 5\n",
      "No.of Null Values: 0\n"
     ]
    },
    {
     "data": {
      "text/plain": [
       "'VAR_0638'"
      ]
     },
     "execution_count": 13,
     "metadata": {},
     "output_type": "execute_result"
    },
    {
     "name": "stdout",
     "output_type": "stream",
     "text": [
      "No. of unique values: 6\n",
      "No.of Null Values: 0\n"
     ]
    },
    {
     "data": {
      "text/plain": [
       "'VAR_0639'"
      ]
     },
     "execution_count": 13,
     "metadata": {},
     "output_type": "execute_result"
    },
    {
     "name": "stdout",
     "output_type": "stream",
     "text": [
      "No. of unique values: 5\n",
      "No.of Null Values: 0\n"
     ]
    },
    {
     "data": {
      "text/plain": [
       "'VAR_0640'"
      ]
     },
     "execution_count": 13,
     "metadata": {},
     "output_type": "execute_result"
    },
    {
     "name": "stdout",
     "output_type": "stream",
     "text": [
      "No. of unique values: 5\n",
      "No.of Null Values: 0\n"
     ]
    },
    {
     "data": {
      "text/plain": [
       "'VAR_0641'"
      ]
     },
     "execution_count": 13,
     "metadata": {},
     "output_type": "execute_result"
    },
    {
     "name": "stdout",
     "output_type": "stream",
     "text": [
      "No. of unique values: 189\n",
      "No.of Null Values: 0\n"
     ]
    },
    {
     "data": {
      "text/plain": [
       "'VAR_0642'"
      ]
     },
     "execution_count": 13,
     "metadata": {},
     "output_type": "execute_result"
    },
    {
     "name": "stdout",
     "output_type": "stream",
     "text": [
      "No. of unique values: 114\n",
      "No.of Null Values: 0\n"
     ]
    },
    {
     "data": {
      "text/plain": [
       "'VAR_0643'"
      ]
     },
     "execution_count": 13,
     "metadata": {},
     "output_type": "execute_result"
    },
    {
     "name": "stdout",
     "output_type": "stream",
     "text": [
      "No. of unique values: 213\n",
      "No.of Null Values: 0\n"
     ]
    },
    {
     "data": {
      "text/plain": [
       "'VAR_0644'"
      ]
     },
     "execution_count": 13,
     "metadata": {},
     "output_type": "execute_result"
    },
    {
     "name": "stdout",
     "output_type": "stream",
     "text": [
      "No. of unique values: 83\n",
      "No.of Null Values: 0\n"
     ]
    },
    {
     "data": {
      "text/plain": [
       "'VAR_0645'"
      ]
     },
     "execution_count": 13,
     "metadata": {},
     "output_type": "execute_result"
    },
    {
     "name": "stdout",
     "output_type": "stream",
     "text": [
      "No. of unique values: 82\n",
      "No.of Null Values: 0\n"
     ]
    },
    {
     "data": {
      "text/plain": [
       "'VAR_0646'"
      ]
     },
     "execution_count": 13,
     "metadata": {},
     "output_type": "execute_result"
    },
    {
     "name": "stdout",
     "output_type": "stream",
     "text": [
      "No. of unique values: 24\n",
      "No.of Null Values: 0\n"
     ]
    },
    {
     "data": {
      "text/plain": [
       "'VAR_0647'"
      ]
     },
     "execution_count": 13,
     "metadata": {},
     "output_type": "execute_result"
    },
    {
     "name": "stdout",
     "output_type": "stream",
     "text": [
      "No. of unique values: 7\n",
      "No.of Null Values: 0\n"
     ]
    },
    {
     "data": {
      "text/plain": [
       "'VAR_0648'"
      ]
     },
     "execution_count": 13,
     "metadata": {},
     "output_type": "execute_result"
    },
    {
     "name": "stdout",
     "output_type": "stream",
     "text": [
      "No. of unique values: 9172\n",
      "No.of Null Values: 0\n"
     ]
    },
    {
     "data": {
      "text/plain": [
       "'VAR_0649'"
      ]
     },
     "execution_count": 13,
     "metadata": {},
     "output_type": "execute_result"
    },
    {
     "name": "stdout",
     "output_type": "stream",
     "text": [
      "No. of unique values: 8537\n",
      "No.of Null Values: 0\n"
     ]
    },
    {
     "data": {
      "text/plain": [
       "'VAR_0650'"
      ]
     },
     "execution_count": 13,
     "metadata": {},
     "output_type": "execute_result"
    },
    {
     "name": "stdout",
     "output_type": "stream",
     "text": [
      "No. of unique values: 1092\n",
      "No.of Null Values: 0\n"
     ]
    },
    {
     "data": {
      "text/plain": [
       "'VAR_0651'"
      ]
     },
     "execution_count": 13,
     "metadata": {},
     "output_type": "execute_result"
    },
    {
     "name": "stdout",
     "output_type": "stream",
     "text": [
      "No. of unique values: 648\n",
      "No.of Null Values: 0\n"
     ]
    },
    {
     "data": {
      "text/plain": [
       "'VAR_0652'"
      ]
     },
     "execution_count": 13,
     "metadata": {},
     "output_type": "execute_result"
    },
    {
     "name": "stdout",
     "output_type": "stream",
     "text": [
      "No. of unique values: 8235\n",
      "No.of Null Values: 0\n"
     ]
    },
    {
     "data": {
      "text/plain": [
       "'VAR_0653'"
      ]
     },
     "execution_count": 13,
     "metadata": {},
     "output_type": "execute_result"
    },
    {
     "name": "stdout",
     "output_type": "stream",
     "text": [
      "No. of unique values: 589\n",
      "No.of Null Values: 0\n"
     ]
    },
    {
     "data": {
      "text/plain": [
       "'VAR_0654'"
      ]
     },
     "execution_count": 13,
     "metadata": {},
     "output_type": "execute_result"
    },
    {
     "name": "stdout",
     "output_type": "stream",
     "text": [
      "No. of unique values: 444\n",
      "No.of Null Values: 0\n"
     ]
    },
    {
     "data": {
      "text/plain": [
       "'VAR_0655'"
      ]
     },
     "execution_count": 13,
     "metadata": {},
     "output_type": "execute_result"
    },
    {
     "name": "stdout",
     "output_type": "stream",
     "text": [
      "No. of unique values: 1508\n",
      "No.of Null Values: 0\n"
     ]
    },
    {
     "data": {
      "text/plain": [
       "'VAR_0656'"
      ]
     },
     "execution_count": 13,
     "metadata": {},
     "output_type": "execute_result"
    },
    {
     "name": "stdout",
     "output_type": "stream",
     "text": [
      "No. of unique values: 296\n",
      "No.of Null Values: 0\n"
     ]
    },
    {
     "data": {
      "text/plain": [
       "'VAR_0657'"
      ]
     },
     "execution_count": 13,
     "metadata": {},
     "output_type": "execute_result"
    },
    {
     "name": "stdout",
     "output_type": "stream",
     "text": [
      "No. of unique values: 11\n",
      "No.of Null Values: 0\n"
     ]
    },
    {
     "data": {
      "text/plain": [
       "'VAR_0658'"
      ]
     },
     "execution_count": 13,
     "metadata": {},
     "output_type": "execute_result"
    },
    {
     "name": "stdout",
     "output_type": "stream",
     "text": [
      "No. of unique values: 11\n",
      "No.of Null Values: 0\n"
     ]
    },
    {
     "data": {
      "text/plain": [
       "'VAR_0659'"
      ]
     },
     "execution_count": 13,
     "metadata": {},
     "output_type": "execute_result"
    },
    {
     "name": "stdout",
     "output_type": "stream",
     "text": [
      "No. of unique values: 3979\n",
      "No.of Null Values: 0\n"
     ]
    },
    {
     "data": {
      "text/plain": [
       "'VAR_0660'"
      ]
     },
     "execution_count": 13,
     "metadata": {},
     "output_type": "execute_result"
    },
    {
     "name": "stdout",
     "output_type": "stream",
     "text": [
      "No. of unique values: 3072\n",
      "No.of Null Values: 0\n"
     ]
    },
    {
     "data": {
      "text/plain": [
       "'VAR_0661'"
      ]
     },
     "execution_count": 13,
     "metadata": {},
     "output_type": "execute_result"
    },
    {
     "name": "stdout",
     "output_type": "stream",
     "text": [
      "No. of unique values: 245\n",
      "No.of Null Values: 0\n"
     ]
    },
    {
     "data": {
      "text/plain": [
       "'VAR_0662'"
      ]
     },
     "execution_count": 13,
     "metadata": {},
     "output_type": "execute_result"
    },
    {
     "name": "stdout",
     "output_type": "stream",
     "text": [
      "No. of unique values: 6\n",
      "No.of Null Values: 0\n"
     ]
    },
    {
     "data": {
      "text/plain": [
       "'VAR_0663'"
      ]
     },
     "execution_count": 13,
     "metadata": {},
     "output_type": "execute_result"
    },
    {
     "name": "stdout",
     "output_type": "stream",
     "text": [
      "No. of unique values: 6\n",
      "No.of Null Values: 0\n"
     ]
    },
    {
     "data": {
      "text/plain": [
       "'VAR_0664'"
      ]
     },
     "execution_count": 13,
     "metadata": {},
     "output_type": "execute_result"
    },
    {
     "name": "stdout",
     "output_type": "stream",
     "text": [
      "No. of unique values: 6\n",
      "No.of Null Values: 0\n"
     ]
    },
    {
     "data": {
      "text/plain": [
       "'VAR_0665'"
      ]
     },
     "execution_count": 13,
     "metadata": {},
     "output_type": "execute_result"
    },
    {
     "name": "stdout",
     "output_type": "stream",
     "text": [
      "No. of unique values: 6\n",
      "No.of Null Values: 0\n"
     ]
    },
    {
     "data": {
      "text/plain": [
       "'VAR_0666'"
      ]
     },
     "execution_count": 13,
     "metadata": {},
     "output_type": "execute_result"
    },
    {
     "name": "stdout",
     "output_type": "stream",
     "text": [
      "No. of unique values: 7\n",
      "No.of Null Values: 0\n"
     ]
    },
    {
     "data": {
      "text/plain": [
       "'VAR_0667'"
      ]
     },
     "execution_count": 13,
     "metadata": {},
     "output_type": "execute_result"
    },
    {
     "name": "stdout",
     "output_type": "stream",
     "text": [
      "No. of unique values: 7\n",
      "No.of Null Values: 0\n"
     ]
    },
    {
     "data": {
      "text/plain": [
       "'VAR_0668'"
      ]
     },
     "execution_count": 13,
     "metadata": {},
     "output_type": "execute_result"
    },
    {
     "name": "stdout",
     "output_type": "stream",
     "text": [
      "No. of unique values: 5\n",
      "No.of Null Values: 0\n"
     ]
    },
    {
     "data": {
      "text/plain": [
       "'VAR_0669'"
      ]
     },
     "execution_count": 13,
     "metadata": {},
     "output_type": "execute_result"
    },
    {
     "name": "stdout",
     "output_type": "stream",
     "text": [
      "No. of unique values: 400\n",
      "No.of Null Values: 0\n"
     ]
    },
    {
     "data": {
      "text/plain": [
       "'VAR_0670'"
      ]
     },
     "execution_count": 13,
     "metadata": {},
     "output_type": "execute_result"
    },
    {
     "name": "stdout",
     "output_type": "stream",
     "text": [
      "No. of unique values: 231\n",
      "No.of Null Values: 0\n"
     ]
    },
    {
     "data": {
      "text/plain": [
       "'VAR_0671'"
      ]
     },
     "execution_count": 13,
     "metadata": {},
     "output_type": "execute_result"
    },
    {
     "name": "stdout",
     "output_type": "stream",
     "text": [
      "No. of unique values: 400\n",
      "No.of Null Values: 0\n"
     ]
    },
    {
     "data": {
      "text/plain": [
       "'VAR_0672'"
      ]
     },
     "execution_count": 13,
     "metadata": {},
     "output_type": "execute_result"
    },
    {
     "name": "stdout",
     "output_type": "stream",
     "text": [
      "No. of unique values: 231\n",
      "No.of Null Values: 0\n"
     ]
    },
    {
     "data": {
      "text/plain": [
       "'VAR_0673'"
      ]
     },
     "execution_count": 13,
     "metadata": {},
     "output_type": "execute_result"
    },
    {
     "name": "stdout",
     "output_type": "stream",
     "text": [
      "No. of unique values: 1333\n",
      "No.of Null Values: 0\n"
     ]
    },
    {
     "data": {
      "text/plain": [
       "'VAR_0674'"
      ]
     },
     "execution_count": 13,
     "metadata": {},
     "output_type": "execute_result"
    },
    {
     "name": "stdout",
     "output_type": "stream",
     "text": [
      "No. of unique values: 361\n",
      "No.of Null Values: 0\n"
     ]
    },
    {
     "data": {
      "text/plain": [
       "'VAR_0675'"
      ]
     },
     "execution_count": 13,
     "metadata": {},
     "output_type": "execute_result"
    },
    {
     "name": "stdout",
     "output_type": "stream",
     "text": [
      "No. of unique values: 321\n",
      "No.of Null Values: 0\n"
     ]
    },
    {
     "data": {
      "text/plain": [
       "'VAR_0676'"
      ]
     },
     "execution_count": 13,
     "metadata": {},
     "output_type": "execute_result"
    },
    {
     "name": "stdout",
     "output_type": "stream",
     "text": [
      "No. of unique values: 206\n",
      "No.of Null Values: 0\n"
     ]
    },
    {
     "data": {
      "text/plain": [
       "'VAR_0677'"
      ]
     },
     "execution_count": 13,
     "metadata": {},
     "output_type": "execute_result"
    },
    {
     "name": "stdout",
     "output_type": "stream",
     "text": [
      "No. of unique values: 1349\n",
      "No.of Null Values: 0\n"
     ]
    },
    {
     "data": {
      "text/plain": [
       "'VAR_0678'"
      ]
     },
     "execution_count": 13,
     "metadata": {},
     "output_type": "execute_result"
    },
    {
     "name": "stdout",
     "output_type": "stream",
     "text": [
      "No. of unique values: 10\n",
      "No.of Null Values: 0\n"
     ]
    },
    {
     "data": {
      "text/plain": [
       "'VAR_0679'"
      ]
     },
     "execution_count": 13,
     "metadata": {},
     "output_type": "execute_result"
    },
    {
     "name": "stdout",
     "output_type": "stream",
     "text": [
      "No. of unique values: 10\n",
      "No.of Null Values: 0\n"
     ]
    },
    {
     "data": {
      "text/plain": [
       "'VAR_0680'"
      ]
     },
     "execution_count": 13,
     "metadata": {},
     "output_type": "execute_result"
    },
    {
     "name": "stdout",
     "output_type": "stream",
     "text": [
      "No. of unique values: 118\n",
      "No.of Null Values: 0\n"
     ]
    },
    {
     "data": {
      "text/plain": [
       "'VAR_0681'"
      ]
     },
     "execution_count": 13,
     "metadata": {},
     "output_type": "execute_result"
    },
    {
     "name": "stdout",
     "output_type": "stream",
     "text": [
      "No. of unique values: 226\n",
      "No.of Null Values: 0\n"
     ]
    },
    {
     "data": {
      "text/plain": [
       "'VAR_0682'"
      ]
     },
     "execution_count": 13,
     "metadata": {},
     "output_type": "execute_result"
    },
    {
     "name": "stdout",
     "output_type": "stream",
     "text": [
      "No. of unique values: 200\n",
      "No.of Null Values: 0\n"
     ]
    },
    {
     "data": {
      "text/plain": [
       "'VAR_0683'"
      ]
     },
     "execution_count": 13,
     "metadata": {},
     "output_type": "execute_result"
    },
    {
     "name": "stdout",
     "output_type": "stream",
     "text": [
      "No. of unique values: 365\n",
      "No.of Null Values: 0\n"
     ]
    },
    {
     "data": {
      "text/plain": [
       "'VAR_0684'"
      ]
     },
     "execution_count": 13,
     "metadata": {},
     "output_type": "execute_result"
    },
    {
     "name": "stdout",
     "output_type": "stream",
     "text": [
      "No. of unique values: 61\n",
      "No.of Null Values: 0\n"
     ]
    },
    {
     "data": {
      "text/plain": [
       "'VAR_0685'"
      ]
     },
     "execution_count": 13,
     "metadata": {},
     "output_type": "execute_result"
    },
    {
     "name": "stdout",
     "output_type": "stream",
     "text": [
      "No. of unique values: 32\n",
      "No.of Null Values: 0\n"
     ]
    },
    {
     "data": {
      "text/plain": [
       "'VAR_0686'"
      ]
     },
     "execution_count": 13,
     "metadata": {},
     "output_type": "execute_result"
    },
    {
     "name": "stdout",
     "output_type": "stream",
     "text": [
      "No. of unique values: 23\n",
      "No.of Null Values: 0\n"
     ]
    },
    {
     "data": {
      "text/plain": [
       "'VAR_0687'"
      ]
     },
     "execution_count": 13,
     "metadata": {},
     "output_type": "execute_result"
    },
    {
     "name": "stdout",
     "output_type": "stream",
     "text": [
      "No. of unique values: 610\n",
      "No.of Null Values: 0\n"
     ]
    },
    {
     "data": {
      "text/plain": [
       "'VAR_0688'"
      ]
     },
     "execution_count": 13,
     "metadata": {},
     "output_type": "execute_result"
    },
    {
     "name": "stdout",
     "output_type": "stream",
     "text": [
      "No. of unique values: 428\n",
      "No.of Null Values: 0\n"
     ]
    },
    {
     "data": {
      "text/plain": [
       "'VAR_0689'"
      ]
     },
     "execution_count": 13,
     "metadata": {},
     "output_type": "execute_result"
    },
    {
     "name": "stdout",
     "output_type": "stream",
     "text": [
      "No. of unique values: 10\n",
      "No.of Null Values: 0\n"
     ]
    },
    {
     "data": {
      "text/plain": [
       "'VAR_0690'"
      ]
     },
     "execution_count": 13,
     "metadata": {},
     "output_type": "execute_result"
    },
    {
     "name": "stdout",
     "output_type": "stream",
     "text": [
      "No. of unique values: 13\n",
      "No.of Null Values: 0\n"
     ]
    },
    {
     "data": {
      "text/plain": [
       "'VAR_0691'"
      ]
     },
     "execution_count": 13,
     "metadata": {},
     "output_type": "execute_result"
    },
    {
     "name": "stdout",
     "output_type": "stream",
     "text": [
      "No. of unique values: 770\n",
      "No.of Null Values: 0\n"
     ]
    },
    {
     "data": {
      "text/plain": [
       "'VAR_0692'"
      ]
     },
     "execution_count": 13,
     "metadata": {},
     "output_type": "execute_result"
    },
    {
     "name": "stdout",
     "output_type": "stream",
     "text": [
      "No. of unique values: 208\n",
      "No.of Null Values: 0\n"
     ]
    },
    {
     "data": {
      "text/plain": [
       "'VAR_0693'"
      ]
     },
     "execution_count": 13,
     "metadata": {},
     "output_type": "execute_result"
    },
    {
     "name": "stdout",
     "output_type": "stream",
     "text": [
      "No. of unique values: 256\n",
      "No.of Null Values: 0\n"
     ]
    },
    {
     "data": {
      "text/plain": [
       "'VAR_0694'"
      ]
     },
     "execution_count": 13,
     "metadata": {},
     "output_type": "execute_result"
    },
    {
     "name": "stdout",
     "output_type": "stream",
     "text": [
      "No. of unique values: 105\n",
      "No.of Null Values: 0\n"
     ]
    },
    {
     "data": {
      "text/plain": [
       "'VAR_0695'"
      ]
     },
     "execution_count": 13,
     "metadata": {},
     "output_type": "execute_result"
    },
    {
     "name": "stdout",
     "output_type": "stream",
     "text": [
      "No. of unique values: 105\n",
      "No.of Null Values: 0\n"
     ]
    },
    {
     "data": {
      "text/plain": [
       "'VAR_0696'"
      ]
     },
     "execution_count": 13,
     "metadata": {},
     "output_type": "execute_result"
    },
    {
     "name": "stdout",
     "output_type": "stream",
     "text": [
      "No. of unique values: 35\n",
      "No.of Null Values: 0\n"
     ]
    },
    {
     "data": {
      "text/plain": [
       "'VAR_0697'"
      ]
     },
     "execution_count": 13,
     "metadata": {},
     "output_type": "execute_result"
    },
    {
     "name": "stdout",
     "output_type": "stream",
     "text": [
      "No. of unique values: 34\n",
      "No.of Null Values: 0\n"
     ]
    },
    {
     "data": {
      "text/plain": [
       "'VAR_0698'"
      ]
     },
     "execution_count": 13,
     "metadata": {},
     "output_type": "execute_result"
    },
    {
     "name": "stdout",
     "output_type": "stream",
     "text": [
      "No. of unique values: 1785\n",
      "No.of Null Values: 0\n"
     ]
    },
    {
     "data": {
      "text/plain": [
       "'VAR_0699'"
      ]
     },
     "execution_count": 13,
     "metadata": {},
     "output_type": "execute_result"
    },
    {
     "name": "stdout",
     "output_type": "stream",
     "text": [
      "No. of unique values: 1346\n",
      "No.of Null Values: 0\n"
     ]
    },
    {
     "data": {
      "text/plain": [
       "'VAR_0700'"
      ]
     },
     "execution_count": 13,
     "metadata": {},
     "output_type": "execute_result"
    },
    {
     "name": "stdout",
     "output_type": "stream",
     "text": [
      "No. of unique values: 274\n",
      "No.of Null Values: 0\n"
     ]
    },
    {
     "data": {
      "text/plain": [
       "'VAR_0701'"
      ]
     },
     "execution_count": 13,
     "metadata": {},
     "output_type": "execute_result"
    },
    {
     "name": "stdout",
     "output_type": "stream",
     "text": [
      "No. of unique values: 90\n",
      "No.of Null Values: 0\n"
     ]
    },
    {
     "data": {
      "text/plain": [
       "'VAR_0702'"
      ]
     },
     "execution_count": 13,
     "metadata": {},
     "output_type": "execute_result"
    },
    {
     "name": "stdout",
     "output_type": "stream",
     "text": [
      "No. of unique values: 460\n",
      "No.of Null Values: 0\n"
     ]
    },
    {
     "data": {
      "text/plain": [
       "'VAR_0703'"
      ]
     },
     "execution_count": 13,
     "metadata": {},
     "output_type": "execute_result"
    },
    {
     "name": "stdout",
     "output_type": "stream",
     "text": [
      "No. of unique values: 4\n",
      "No.of Null Values: 0\n"
     ]
    },
    {
     "data": {
      "text/plain": [
       "'VAR_0704'"
      ]
     },
     "execution_count": 13,
     "metadata": {},
     "output_type": "execute_result"
    },
    {
     "name": "stdout",
     "output_type": "stream",
     "text": [
      "No. of unique values: 9611\n",
      "No.of Null Values: 0\n"
     ]
    },
    {
     "data": {
      "text/plain": [
       "'VAR_0705'"
      ]
     },
     "execution_count": 13,
     "metadata": {},
     "output_type": "execute_result"
    },
    {
     "name": "stdout",
     "output_type": "stream",
     "text": [
      "No. of unique values: 3648\n",
      "No.of Null Values: 0\n"
     ]
    },
    {
     "data": {
      "text/plain": [
       "'VAR_0706'"
      ]
     },
     "execution_count": 13,
     "metadata": {},
     "output_type": "execute_result"
    },
    {
     "name": "stdout",
     "output_type": "stream",
     "text": [
      "No. of unique values: 3592\n",
      "No.of Null Values: 0\n"
     ]
    },
    {
     "data": {
      "text/plain": [
       "'VAR_0707'"
      ]
     },
     "execution_count": 13,
     "metadata": {},
     "output_type": "execute_result"
    },
    {
     "name": "stdout",
     "output_type": "stream",
     "text": [
      "No. of unique values: 206\n",
      "No.of Null Values: 0\n"
     ]
    },
    {
     "data": {
      "text/plain": [
       "'VAR_0708'"
      ]
     },
     "execution_count": 13,
     "metadata": {},
     "output_type": "execute_result"
    },
    {
     "name": "stdout",
     "output_type": "stream",
     "text": [
      "No. of unique values: 55\n",
      "No.of Null Values: 0\n"
     ]
    },
    {
     "data": {
      "text/plain": [
       "'VAR_0709'"
      ]
     },
     "execution_count": 13,
     "metadata": {},
     "output_type": "execute_result"
    },
    {
     "name": "stdout",
     "output_type": "stream",
     "text": [
      "No. of unique values: 26\n",
      "No.of Null Values: 0\n"
     ]
    },
    {
     "data": {
      "text/plain": [
       "'VAR_0710'"
      ]
     },
     "execution_count": 13,
     "metadata": {},
     "output_type": "execute_result"
    },
    {
     "name": "stdout",
     "output_type": "stream",
     "text": [
      "No. of unique values: 8\n",
      "No.of Null Values: 0\n"
     ]
    },
    {
     "data": {
      "text/plain": [
       "'VAR_0711'"
      ]
     },
     "execution_count": 13,
     "metadata": {},
     "output_type": "execute_result"
    },
    {
     "name": "stdout",
     "output_type": "stream",
     "text": [
      "No. of unique values: 18\n",
      "No.of Null Values: 0\n"
     ]
    },
    {
     "data": {
      "text/plain": [
       "'VAR_0712'"
      ]
     },
     "execution_count": 13,
     "metadata": {},
     "output_type": "execute_result"
    },
    {
     "name": "stdout",
     "output_type": "stream",
     "text": [
      "No. of unique values: 72\n",
      "No.of Null Values: 0\n"
     ]
    },
    {
     "data": {
      "text/plain": [
       "'VAR_0713'"
      ]
     },
     "execution_count": 13,
     "metadata": {},
     "output_type": "execute_result"
    },
    {
     "name": "stdout",
     "output_type": "stream",
     "text": [
      "No. of unique values: 35\n",
      "No.of Null Values: 0\n"
     ]
    },
    {
     "data": {
      "text/plain": [
       "'VAR_0714'"
      ]
     },
     "execution_count": 13,
     "metadata": {},
     "output_type": "execute_result"
    },
    {
     "name": "stdout",
     "output_type": "stream",
     "text": [
      "No. of unique values: 11\n",
      "No.of Null Values: 0\n"
     ]
    },
    {
     "data": {
      "text/plain": [
       "'VAR_0715'"
      ]
     },
     "execution_count": 13,
     "metadata": {},
     "output_type": "execute_result"
    },
    {
     "name": "stdout",
     "output_type": "stream",
     "text": [
      "No. of unique values: 26\n",
      "No.of Null Values: 0\n"
     ]
    },
    {
     "data": {
      "text/plain": [
       "'VAR_0716'"
      ]
     },
     "execution_count": 13,
     "metadata": {},
     "output_type": "execute_result"
    },
    {
     "name": "stdout",
     "output_type": "stream",
     "text": [
      "No. of unique values: 90\n",
      "No.of Null Values: 0\n"
     ]
    },
    {
     "data": {
      "text/plain": [
       "'VAR_0717'"
      ]
     },
     "execution_count": 13,
     "metadata": {},
     "output_type": "execute_result"
    },
    {
     "name": "stdout",
     "output_type": "stream",
     "text": [
      "No. of unique values: 41\n",
      "No.of Null Values: 0\n"
     ]
    },
    {
     "data": {
      "text/plain": [
       "'VAR_0718'"
      ]
     },
     "execution_count": 13,
     "metadata": {},
     "output_type": "execute_result"
    },
    {
     "name": "stdout",
     "output_type": "stream",
     "text": [
      "No. of unique values: 11\n",
      "No.of Null Values: 0\n"
     ]
    },
    {
     "data": {
      "text/plain": [
       "'VAR_0719'"
      ]
     },
     "execution_count": 13,
     "metadata": {},
     "output_type": "execute_result"
    },
    {
     "name": "stdout",
     "output_type": "stream",
     "text": [
      "No. of unique values: 35\n",
      "No.of Null Values: 0\n"
     ]
    },
    {
     "data": {
      "text/plain": [
       "'VAR_0720'"
      ]
     },
     "execution_count": 13,
     "metadata": {},
     "output_type": "execute_result"
    },
    {
     "name": "stdout",
     "output_type": "stream",
     "text": [
      "No. of unique values: 35\n",
      "No.of Null Values: 0\n"
     ]
    },
    {
     "data": {
      "text/plain": [
       "'VAR_0721'"
      ]
     },
     "execution_count": 13,
     "metadata": {},
     "output_type": "execute_result"
    },
    {
     "name": "stdout",
     "output_type": "stream",
     "text": [
      "No. of unique values: 51\n",
      "No.of Null Values: 0\n"
     ]
    },
    {
     "data": {
      "text/plain": [
       "'VAR_0722'"
      ]
     },
     "execution_count": 13,
     "metadata": {},
     "output_type": "execute_result"
    },
    {
     "name": "stdout",
     "output_type": "stream",
     "text": [
      "No. of unique values: 64\n",
      "No.of Null Values: 0\n"
     ]
    },
    {
     "data": {
      "text/plain": [
       "'VAR_0723'"
      ]
     },
     "execution_count": 13,
     "metadata": {},
     "output_type": "execute_result"
    },
    {
     "name": "stdout",
     "output_type": "stream",
     "text": [
      "No. of unique values: 32\n",
      "No.of Null Values: 0\n"
     ]
    },
    {
     "data": {
      "text/plain": [
       "'VAR_0724'"
      ]
     },
     "execution_count": 13,
     "metadata": {},
     "output_type": "execute_result"
    },
    {
     "name": "stdout",
     "output_type": "stream",
     "text": [
      "No. of unique values: 18\n",
      "No.of Null Values: 0\n"
     ]
    },
    {
     "data": {
      "text/plain": [
       "'VAR_0725'"
      ]
     },
     "execution_count": 13,
     "metadata": {},
     "output_type": "execute_result"
    },
    {
     "name": "stdout",
     "output_type": "stream",
     "text": [
      "No. of unique values: 28\n",
      "No.of Null Values: 0\n"
     ]
    },
    {
     "data": {
      "text/plain": [
       "'VAR_0726'"
      ]
     },
     "execution_count": 13,
     "metadata": {},
     "output_type": "execute_result"
    },
    {
     "name": "stdout",
     "output_type": "stream",
     "text": [
      "No. of unique values: 33\n",
      "No.of Null Values: 0\n"
     ]
    },
    {
     "data": {
      "text/plain": [
       "'VAR_0727'"
      ]
     },
     "execution_count": 13,
     "metadata": {},
     "output_type": "execute_result"
    },
    {
     "name": "stdout",
     "output_type": "stream",
     "text": [
      "No. of unique values: 18\n",
      "No.of Null Values: 0\n"
     ]
    },
    {
     "data": {
      "text/plain": [
       "'VAR_0728'"
      ]
     },
     "execution_count": 13,
     "metadata": {},
     "output_type": "execute_result"
    },
    {
     "name": "stdout",
     "output_type": "stream",
     "text": [
      "No. of unique values: 28\n",
      "No.of Null Values: 0\n"
     ]
    },
    {
     "data": {
      "text/plain": [
       "'VAR_0729'"
      ]
     },
     "execution_count": 13,
     "metadata": {},
     "output_type": "execute_result"
    },
    {
     "name": "stdout",
     "output_type": "stream",
     "text": [
      "No. of unique values: 14\n",
      "No.of Null Values: 0\n"
     ]
    },
    {
     "data": {
      "text/plain": [
       "'VAR_0730'"
      ]
     },
     "execution_count": 13,
     "metadata": {},
     "output_type": "execute_result"
    },
    {
     "name": "stdout",
     "output_type": "stream",
     "text": [
      "No. of unique values: 19\n",
      "No.of Null Values: 0\n"
     ]
    },
    {
     "data": {
      "text/plain": [
       "'VAR_0731'"
      ]
     },
     "execution_count": 13,
     "metadata": {},
     "output_type": "execute_result"
    },
    {
     "name": "stdout",
     "output_type": "stream",
     "text": [
      "No. of unique values: 11\n",
      "No.of Null Values: 0\n"
     ]
    },
    {
     "data": {
      "text/plain": [
       "'VAR_0732'"
      ]
     },
     "execution_count": 13,
     "metadata": {},
     "output_type": "execute_result"
    },
    {
     "name": "stdout",
     "output_type": "stream",
     "text": [
      "No. of unique values: 2\n",
      "No.of Null Values: 0\n"
     ]
    },
    {
     "data": {
      "text/plain": [
       "'VAR_0733'"
      ]
     },
     "execution_count": 13,
     "metadata": {},
     "output_type": "execute_result"
    },
    {
     "name": "stdout",
     "output_type": "stream",
     "text": [
      "No. of unique values: 2\n",
      "No.of Null Values: 0\n"
     ]
    },
    {
     "data": {
      "text/plain": [
       "'VAR_0734'"
      ]
     },
     "execution_count": 13,
     "metadata": {},
     "output_type": "execute_result"
    },
    {
     "name": "stdout",
     "output_type": "stream",
     "text": [
      "No. of unique values: 9\n",
      "No.of Null Values: 0\n"
     ]
    },
    {
     "data": {
      "text/plain": [
       "'VAR_0735'"
      ]
     },
     "execution_count": 13,
     "metadata": {},
     "output_type": "execute_result"
    },
    {
     "name": "stdout",
     "output_type": "stream",
     "text": [
      "No. of unique values: 4\n",
      "No.of Null Values: 0\n"
     ]
    },
    {
     "data": {
      "text/plain": [
       "'VAR_0736'"
      ]
     },
     "execution_count": 13,
     "metadata": {},
     "output_type": "execute_result"
    },
    {
     "name": "stdout",
     "output_type": "stream",
     "text": [
      "No. of unique values: 2\n",
      "No.of Null Values: 0\n"
     ]
    },
    {
     "data": {
      "text/plain": [
       "'VAR_0737'"
      ]
     },
     "execution_count": 13,
     "metadata": {},
     "output_type": "execute_result"
    },
    {
     "name": "stdout",
     "output_type": "stream",
     "text": [
      "No. of unique values: 2\n",
      "No.of Null Values: 0\n"
     ]
    },
    {
     "data": {
      "text/plain": [
       "'VAR_0738'"
      ]
     },
     "execution_count": 13,
     "metadata": {},
     "output_type": "execute_result"
    },
    {
     "name": "stdout",
     "output_type": "stream",
     "text": [
      "No. of unique values: 20\n",
      "No.of Null Values: 0\n"
     ]
    },
    {
     "data": {
      "text/plain": [
       "'VAR_0739'"
      ]
     },
     "execution_count": 13,
     "metadata": {},
     "output_type": "execute_result"
    },
    {
     "name": "stdout",
     "output_type": "stream",
     "text": [
      "No. of unique values: 2\n",
      "No.of Null Values: 0\n"
     ]
    },
    {
     "data": {
      "text/plain": [
       "'VAR_0740'"
      ]
     },
     "execution_count": 13,
     "metadata": {},
     "output_type": "execute_result"
    },
    {
     "name": "stdout",
     "output_type": "stream",
     "text": [
      "No. of unique values: 2\n",
      "No.of Null Values: 0\n"
     ]
    },
    {
     "data": {
      "text/plain": [
       "'VAR_0741'"
      ]
     },
     "execution_count": 13,
     "metadata": {},
     "output_type": "execute_result"
    },
    {
     "name": "stdout",
     "output_type": "stream",
     "text": [
      "No. of unique values: 2\n",
      "No.of Null Values: 0\n"
     ]
    },
    {
     "data": {
      "text/plain": [
       "'VAR_0742'"
      ]
     },
     "execution_count": 13,
     "metadata": {},
     "output_type": "execute_result"
    },
    {
     "name": "stdout",
     "output_type": "stream",
     "text": [
      "No. of unique values: 16\n",
      "No.of Null Values: 0\n"
     ]
    },
    {
     "data": {
      "text/plain": [
       "'VAR_0743'"
      ]
     },
     "execution_count": 13,
     "metadata": {},
     "output_type": "execute_result"
    },
    {
     "name": "stdout",
     "output_type": "stream",
     "text": [
      "No. of unique values: 10\n",
      "No.of Null Values: 0\n"
     ]
    },
    {
     "data": {
      "text/plain": [
       "'VAR_0744'"
      ]
     },
     "execution_count": 13,
     "metadata": {},
     "output_type": "execute_result"
    },
    {
     "name": "stdout",
     "output_type": "stream",
     "text": [
      "No. of unique values: 12\n",
      "No.of Null Values: 0\n"
     ]
    },
    {
     "data": {
      "text/plain": [
       "'VAR_0745'"
      ]
     },
     "execution_count": 13,
     "metadata": {},
     "output_type": "execute_result"
    },
    {
     "name": "stdout",
     "output_type": "stream",
     "text": [
      "No. of unique values: 4\n",
      "No.of Null Values: 0\n"
     ]
    },
    {
     "data": {
      "text/plain": [
       "'VAR_0746'"
      ]
     },
     "execution_count": 13,
     "metadata": {},
     "output_type": "execute_result"
    },
    {
     "name": "stdout",
     "output_type": "stream",
     "text": [
      "No. of unique values: 7\n",
      "No.of Null Values: 0\n"
     ]
    },
    {
     "data": {
      "text/plain": [
       "'VAR_0747'"
      ]
     },
     "execution_count": 13,
     "metadata": {},
     "output_type": "execute_result"
    },
    {
     "name": "stdout",
     "output_type": "stream",
     "text": [
      "No. of unique values: 10\n",
      "No.of Null Values: 0\n"
     ]
    },
    {
     "data": {
      "text/plain": [
       "'VAR_0748'"
      ]
     },
     "execution_count": 13,
     "metadata": {},
     "output_type": "execute_result"
    },
    {
     "name": "stdout",
     "output_type": "stream",
     "text": [
      "No. of unique values: 17\n",
      "No.of Null Values: 0\n"
     ]
    },
    {
     "data": {
      "text/plain": [
       "'VAR_0749'"
      ]
     },
     "execution_count": 13,
     "metadata": {},
     "output_type": "execute_result"
    },
    {
     "name": "stdout",
     "output_type": "stream",
     "text": [
      "No. of unique values: 13\n",
      "No.of Null Values: 0\n"
     ]
    },
    {
     "data": {
      "text/plain": [
       "'VAR_0750'"
      ]
     },
     "execution_count": 13,
     "metadata": {},
     "output_type": "execute_result"
    },
    {
     "name": "stdout",
     "output_type": "stream",
     "text": [
      "No. of unique values: 12\n",
      "No.of Null Values: 0\n"
     ]
    },
    {
     "data": {
      "text/plain": [
       "'VAR_0751'"
      ]
     },
     "execution_count": 13,
     "metadata": {},
     "output_type": "execute_result"
    },
    {
     "name": "stdout",
     "output_type": "stream",
     "text": [
      "No. of unique values: 20\n",
      "No.of Null Values: 0\n"
     ]
    },
    {
     "data": {
      "text/plain": [
       "'VAR_0752'"
      ]
     },
     "execution_count": 13,
     "metadata": {},
     "output_type": "execute_result"
    },
    {
     "name": "stdout",
     "output_type": "stream",
     "text": [
      "No. of unique values: 24\n",
      "No.of Null Values: 0\n"
     ]
    },
    {
     "data": {
      "text/plain": [
       "'VAR_0753'"
      ]
     },
     "execution_count": 13,
     "metadata": {},
     "output_type": "execute_result"
    },
    {
     "name": "stdout",
     "output_type": "stream",
     "text": [
      "No. of unique values: 17\n",
      "No.of Null Values: 0\n"
     ]
    },
    {
     "data": {
      "text/plain": [
       "'VAR_0754'"
      ]
     },
     "execution_count": 13,
     "metadata": {},
     "output_type": "execute_result"
    },
    {
     "name": "stdout",
     "output_type": "stream",
     "text": [
      "No. of unique values: 10\n",
      "No.of Null Values: 0\n"
     ]
    },
    {
     "data": {
      "text/plain": [
       "'VAR_0755'"
      ]
     },
     "execution_count": 13,
     "metadata": {},
     "output_type": "execute_result"
    },
    {
     "name": "stdout",
     "output_type": "stream",
     "text": [
      "No. of unique values: 7\n",
      "No.of Null Values: 0\n"
     ]
    },
    {
     "data": {
      "text/plain": [
       "'VAR_0756'"
      ]
     },
     "execution_count": 13,
     "metadata": {},
     "output_type": "execute_result"
    },
    {
     "name": "stdout",
     "output_type": "stream",
     "text": [
      "No. of unique values: 14\n",
      "No.of Null Values: 0\n"
     ]
    },
    {
     "data": {
      "text/plain": [
       "'VAR_0757'"
      ]
     },
     "execution_count": 13,
     "metadata": {},
     "output_type": "execute_result"
    },
    {
     "name": "stdout",
     "output_type": "stream",
     "text": [
      "No. of unique values: 183\n",
      "No.of Null Values: 0\n"
     ]
    },
    {
     "data": {
      "text/plain": [
       "'VAR_0758'"
      ]
     },
     "execution_count": 13,
     "metadata": {},
     "output_type": "execute_result"
    },
    {
     "name": "stdout",
     "output_type": "stream",
     "text": [
      "No. of unique values: 22\n",
      "No.of Null Values: 0\n"
     ]
    },
    {
     "data": {
      "text/plain": [
       "'VAR_0759'"
      ]
     },
     "execution_count": 13,
     "metadata": {},
     "output_type": "execute_result"
    },
    {
     "name": "stdout",
     "output_type": "stream",
     "text": [
      "No. of unique values: 10\n",
      "No.of Null Values: 0\n"
     ]
    },
    {
     "data": {
      "text/plain": [
       "'VAR_0760'"
      ]
     },
     "execution_count": 13,
     "metadata": {},
     "output_type": "execute_result"
    },
    {
     "name": "stdout",
     "output_type": "stream",
     "text": [
      "No. of unique values: 12\n",
      "No.of Null Values: 0\n"
     ]
    },
    {
     "data": {
      "text/plain": [
       "'VAR_0761'"
      ]
     },
     "execution_count": 13,
     "metadata": {},
     "output_type": "execute_result"
    },
    {
     "name": "stdout",
     "output_type": "stream",
     "text": [
      "No. of unique values: 7\n",
      "No.of Null Values: 0\n"
     ]
    },
    {
     "data": {
      "text/plain": [
       "'VAR_0762'"
      ]
     },
     "execution_count": 13,
     "metadata": {},
     "output_type": "execute_result"
    },
    {
     "name": "stdout",
     "output_type": "stream",
     "text": [
      "No. of unique values: 7\n",
      "No.of Null Values: 0\n"
     ]
    },
    {
     "data": {
      "text/plain": [
       "'VAR_0763'"
      ]
     },
     "execution_count": 13,
     "metadata": {},
     "output_type": "execute_result"
    },
    {
     "name": "stdout",
     "output_type": "stream",
     "text": [
      "No. of unique values: 5\n",
      "No.of Null Values: 0\n"
     ]
    },
    {
     "data": {
      "text/plain": [
       "'VAR_0764'"
      ]
     },
     "execution_count": 13,
     "metadata": {},
     "output_type": "execute_result"
    },
    {
     "name": "stdout",
     "output_type": "stream",
     "text": [
      "No. of unique values: 20\n",
      "No.of Null Values: 0\n"
     ]
    },
    {
     "data": {
      "text/plain": [
       "'VAR_0765'"
      ]
     },
     "execution_count": 13,
     "metadata": {},
     "output_type": "execute_result"
    },
    {
     "name": "stdout",
     "output_type": "stream",
     "text": [
      "No. of unique values: 4\n",
      "No.of Null Values: 0\n"
     ]
    },
    {
     "data": {
      "text/plain": [
       "'VAR_0766'"
      ]
     },
     "execution_count": 13,
     "metadata": {},
     "output_type": "execute_result"
    },
    {
     "name": "stdout",
     "output_type": "stream",
     "text": [
      "No. of unique values: 14\n",
      "No.of Null Values: 0\n"
     ]
    },
    {
     "data": {
      "text/plain": [
       "'VAR_0767'"
      ]
     },
     "execution_count": 13,
     "metadata": {},
     "output_type": "execute_result"
    },
    {
     "name": "stdout",
     "output_type": "stream",
     "text": [
      "No. of unique values: 6\n",
      "No.of Null Values: 0\n"
     ]
    },
    {
     "data": {
      "text/plain": [
       "'VAR_0768'"
      ]
     },
     "execution_count": 13,
     "metadata": {},
     "output_type": "execute_result"
    },
    {
     "name": "stdout",
     "output_type": "stream",
     "text": [
      "No. of unique values: 36\n",
      "No.of Null Values: 0\n"
     ]
    },
    {
     "data": {
      "text/plain": [
       "'VAR_0769'"
      ]
     },
     "execution_count": 13,
     "metadata": {},
     "output_type": "execute_result"
    },
    {
     "name": "stdout",
     "output_type": "stream",
     "text": [
      "No. of unique values: 12\n",
      "No.of Null Values: 0\n"
     ]
    },
    {
     "data": {
      "text/plain": [
       "'VAR_0770'"
      ]
     },
     "execution_count": 13,
     "metadata": {},
     "output_type": "execute_result"
    },
    {
     "name": "stdout",
     "output_type": "stream",
     "text": [
      "No. of unique values: 16\n",
      "No.of Null Values: 0\n"
     ]
    },
    {
     "data": {
      "text/plain": [
       "'VAR_0771'"
      ]
     },
     "execution_count": 13,
     "metadata": {},
     "output_type": "execute_result"
    },
    {
     "name": "stdout",
     "output_type": "stream",
     "text": [
      "No. of unique values: 10\n",
      "No.of Null Values: 0\n"
     ]
    },
    {
     "data": {
      "text/plain": [
       "'VAR_0772'"
      ]
     },
     "execution_count": 13,
     "metadata": {},
     "output_type": "execute_result"
    },
    {
     "name": "stdout",
     "output_type": "stream",
     "text": [
      "No. of unique values: 9\n",
      "No.of Null Values: 0\n"
     ]
    },
    {
     "data": {
      "text/plain": [
       "'VAR_0773'"
      ]
     },
     "execution_count": 13,
     "metadata": {},
     "output_type": "execute_result"
    },
    {
     "name": "stdout",
     "output_type": "stream",
     "text": [
      "No. of unique values: 6\n",
      "No.of Null Values: 0\n"
     ]
    },
    {
     "data": {
      "text/plain": [
       "'VAR_0774'"
      ]
     },
     "execution_count": 13,
     "metadata": {},
     "output_type": "execute_result"
    },
    {
     "name": "stdout",
     "output_type": "stream",
     "text": [
      "No. of unique values: 35\n",
      "No.of Null Values: 0\n"
     ]
    },
    {
     "data": {
      "text/plain": [
       "'VAR_0775'"
      ]
     },
     "execution_count": 13,
     "metadata": {},
     "output_type": "execute_result"
    },
    {
     "name": "stdout",
     "output_type": "stream",
     "text": [
      "No. of unique values: 4\n",
      "No.of Null Values: 0\n"
     ]
    },
    {
     "data": {
      "text/plain": [
       "'VAR_0776'"
      ]
     },
     "execution_count": 13,
     "metadata": {},
     "output_type": "execute_result"
    },
    {
     "name": "stdout",
     "output_type": "stream",
     "text": [
      "No. of unique values: 19\n",
      "No.of Null Values: 0\n"
     ]
    },
    {
     "data": {
      "text/plain": [
       "'VAR_0777'"
      ]
     },
     "execution_count": 13,
     "metadata": {},
     "output_type": "execute_result"
    },
    {
     "name": "stdout",
     "output_type": "stream",
     "text": [
      "No. of unique values: 9\n",
      "No.of Null Values: 0\n"
     ]
    },
    {
     "data": {
      "text/plain": [
       "'VAR_0778'"
      ]
     },
     "execution_count": 13,
     "metadata": {},
     "output_type": "execute_result"
    },
    {
     "name": "stdout",
     "output_type": "stream",
     "text": [
      "No. of unique values: 57\n",
      "No.of Null Values: 0\n"
     ]
    },
    {
     "data": {
      "text/plain": [
       "'VAR_0779'"
      ]
     },
     "execution_count": 13,
     "metadata": {},
     "output_type": "execute_result"
    },
    {
     "name": "stdout",
     "output_type": "stream",
     "text": [
      "No. of unique values: 5\n",
      "No.of Null Values: 0\n"
     ]
    },
    {
     "data": {
      "text/plain": [
       "'VAR_0780'"
      ]
     },
     "execution_count": 13,
     "metadata": {},
     "output_type": "execute_result"
    },
    {
     "name": "stdout",
     "output_type": "stream",
     "text": [
      "No. of unique values: 15\n",
      "No.of Null Values: 0\n"
     ]
    },
    {
     "data": {
      "text/plain": [
       "'VAR_0781'"
      ]
     },
     "execution_count": 13,
     "metadata": {},
     "output_type": "execute_result"
    },
    {
     "name": "stdout",
     "output_type": "stream",
     "text": [
      "No. of unique values: 25\n",
      "No.of Null Values: 0\n"
     ]
    },
    {
     "data": {
      "text/plain": [
       "'VAR_0782'"
      ]
     },
     "execution_count": 13,
     "metadata": {},
     "output_type": "execute_result"
    },
    {
     "name": "stdout",
     "output_type": "stream",
     "text": [
      "No. of unique values: 14\n",
      "No.of Null Values: 0\n"
     ]
    },
    {
     "data": {
      "text/plain": [
       "'VAR_0783'"
      ]
     },
     "execution_count": 13,
     "metadata": {},
     "output_type": "execute_result"
    },
    {
     "name": "stdout",
     "output_type": "stream",
     "text": [
      "No. of unique values: 11\n",
      "No.of Null Values: 0\n"
     ]
    },
    {
     "data": {
      "text/plain": [
       "'VAR_0784'"
      ]
     },
     "execution_count": 13,
     "metadata": {},
     "output_type": "execute_result"
    },
    {
     "name": "stdout",
     "output_type": "stream",
     "text": [
      "No. of unique values: 6\n",
      "No.of Null Values: 0\n"
     ]
    },
    {
     "data": {
      "text/plain": [
       "'VAR_0785'"
      ]
     },
     "execution_count": 13,
     "metadata": {},
     "output_type": "execute_result"
    },
    {
     "name": "stdout",
     "output_type": "stream",
     "text": [
      "No. of unique values: 56\n",
      "No.of Null Values: 0\n"
     ]
    },
    {
     "data": {
      "text/plain": [
       "'VAR_0786'"
      ]
     },
     "execution_count": 13,
     "metadata": {},
     "output_type": "execute_result"
    },
    {
     "name": "stdout",
     "output_type": "stream",
     "text": [
      "No. of unique values: 6\n",
      "No.of Null Values: 0\n"
     ]
    },
    {
     "data": {
      "text/plain": [
       "'VAR_0787'"
      ]
     },
     "execution_count": 13,
     "metadata": {},
     "output_type": "execute_result"
    },
    {
     "name": "stdout",
     "output_type": "stream",
     "text": [
      "No. of unique values: 25\n",
      "No.of Null Values: 0\n"
     ]
    },
    {
     "data": {
      "text/plain": [
       "'VAR_0788'"
      ]
     },
     "execution_count": 13,
     "metadata": {},
     "output_type": "execute_result"
    },
    {
     "name": "stdout",
     "output_type": "stream",
     "text": [
      "No. of unique values: 11\n",
      "No.of Null Values: 0\n"
     ]
    },
    {
     "data": {
      "text/plain": [
       "'VAR_0789'"
      ]
     },
     "execution_count": 13,
     "metadata": {},
     "output_type": "execute_result"
    },
    {
     "name": "stdout",
     "output_type": "stream",
     "text": [
      "No. of unique values: 5\n",
      "No.of Null Values: 0\n"
     ]
    },
    {
     "data": {
      "text/plain": [
       "'VAR_0790'"
      ]
     },
     "execution_count": 13,
     "metadata": {},
     "output_type": "execute_result"
    },
    {
     "name": "stdout",
     "output_type": "stream",
     "text": [
      "No. of unique values: 31\n",
      "No.of Null Values: 0\n"
     ]
    },
    {
     "data": {
      "text/plain": [
       "'VAR_0791'"
      ]
     },
     "execution_count": 13,
     "metadata": {},
     "output_type": "execute_result"
    },
    {
     "name": "stdout",
     "output_type": "stream",
     "text": [
      "No. of unique values: 28\n",
      "No.of Null Values: 0\n"
     ]
    },
    {
     "data": {
      "text/plain": [
       "'VAR_0792'"
      ]
     },
     "execution_count": 13,
     "metadata": {},
     "output_type": "execute_result"
    },
    {
     "name": "stdout",
     "output_type": "stream",
     "text": [
      "No. of unique values: 64\n",
      "No.of Null Values: 0\n"
     ]
    },
    {
     "data": {
      "text/plain": [
       "'VAR_0793'"
      ]
     },
     "execution_count": 13,
     "metadata": {},
     "output_type": "execute_result"
    },
    {
     "name": "stdout",
     "output_type": "stream",
     "text": [
      "No. of unique values: 63\n",
      "No.of Null Values: 0\n"
     ]
    },
    {
     "data": {
      "text/plain": [
       "'VAR_0794'"
      ]
     },
     "execution_count": 13,
     "metadata": {},
     "output_type": "execute_result"
    },
    {
     "name": "stdout",
     "output_type": "stream",
     "text": [
      "No. of unique values: 61\n",
      "No.of Null Values: 0\n"
     ]
    },
    {
     "data": {
      "text/plain": [
       "'VAR_0795'"
      ]
     },
     "execution_count": 13,
     "metadata": {},
     "output_type": "execute_result"
    },
    {
     "name": "stdout",
     "output_type": "stream",
     "text": [
      "No. of unique values: 19\n",
      "No.of Null Values: 0\n"
     ]
    },
    {
     "data": {
      "text/plain": [
       "'VAR_0796'"
      ]
     },
     "execution_count": 13,
     "metadata": {},
     "output_type": "execute_result"
    },
    {
     "name": "stdout",
     "output_type": "stream",
     "text": [
      "No. of unique values: 29\n",
      "No.of Null Values: 0\n"
     ]
    },
    {
     "data": {
      "text/plain": [
       "'VAR_0797'"
      ]
     },
     "execution_count": 13,
     "metadata": {},
     "output_type": "execute_result"
    },
    {
     "name": "stdout",
     "output_type": "stream",
     "text": [
      "No. of unique values: 16\n",
      "No.of Null Values: 0\n"
     ]
    },
    {
     "data": {
      "text/plain": [
       "'VAR_0798'"
      ]
     },
     "execution_count": 13,
     "metadata": {},
     "output_type": "execute_result"
    },
    {
     "name": "stdout",
     "output_type": "stream",
     "text": [
      "No. of unique values: 9\n",
      "No.of Null Values: 0\n"
     ]
    },
    {
     "data": {
      "text/plain": [
       "'VAR_0799'"
      ]
     },
     "execution_count": 13,
     "metadata": {},
     "output_type": "execute_result"
    },
    {
     "name": "stdout",
     "output_type": "stream",
     "text": [
      "No. of unique values: 5\n",
      "No.of Null Values: 0\n"
     ]
    },
    {
     "data": {
      "text/plain": [
       "'VAR_0800'"
      ]
     },
     "execution_count": 13,
     "metadata": {},
     "output_type": "execute_result"
    },
    {
     "name": "stdout",
     "output_type": "stream",
     "text": [
      "No. of unique values: 24\n",
      "No.of Null Values: 0\n"
     ]
    },
    {
     "data": {
      "text/plain": [
       "'VAR_0801'"
      ]
     },
     "execution_count": 13,
     "metadata": {},
     "output_type": "execute_result"
    },
    {
     "name": "stdout",
     "output_type": "stream",
     "text": [
      "No. of unique values: 26\n",
      "No.of Null Values: 0\n"
     ]
    },
    {
     "data": {
      "text/plain": [
       "'VAR_0802'"
      ]
     },
     "execution_count": 13,
     "metadata": {},
     "output_type": "execute_result"
    },
    {
     "name": "stdout",
     "output_type": "stream",
     "text": [
      "No. of unique values: 16\n",
      "No.of Null Values: 0\n"
     ]
    },
    {
     "data": {
      "text/plain": [
       "'VAR_0803'"
      ]
     },
     "execution_count": 13,
     "metadata": {},
     "output_type": "execute_result"
    },
    {
     "name": "stdout",
     "output_type": "stream",
     "text": [
      "No. of unique values: 8\n",
      "No.of Null Values: 0\n"
     ]
    },
    {
     "data": {
      "text/plain": [
       "'VAR_0804'"
      ]
     },
     "execution_count": 13,
     "metadata": {},
     "output_type": "execute_result"
    },
    {
     "name": "stdout",
     "output_type": "stream",
     "text": [
      "No. of unique values: 4\n",
      "No.of Null Values: 0\n"
     ]
    },
    {
     "data": {
      "text/plain": [
       "'VAR_0805'"
      ]
     },
     "execution_count": 13,
     "metadata": {},
     "output_type": "execute_result"
    },
    {
     "name": "stdout",
     "output_type": "stream",
     "text": [
      "No. of unique values: 22\n",
      "No.of Null Values: 0\n"
     ]
    },
    {
     "data": {
      "text/plain": [
       "'VAR_0806'"
      ]
     },
     "execution_count": 13,
     "metadata": {},
     "output_type": "execute_result"
    },
    {
     "name": "stdout",
     "output_type": "stream",
     "text": [
      "No. of unique values: 25\n",
      "No.of Null Values: 0\n"
     ]
    },
    {
     "data": {
      "text/plain": [
       "'VAR_0807'"
      ]
     },
     "execution_count": 13,
     "metadata": {},
     "output_type": "execute_result"
    },
    {
     "name": "stdout",
     "output_type": "stream",
     "text": [
      "No. of unique values: 15\n",
      "No.of Null Values: 0\n"
     ]
    },
    {
     "data": {
      "text/plain": [
       "'VAR_0808'"
      ]
     },
     "execution_count": 13,
     "metadata": {},
     "output_type": "execute_result"
    },
    {
     "name": "stdout",
     "output_type": "stream",
     "text": [
      "No. of unique values: 8\n",
      "No.of Null Values: 0\n"
     ]
    },
    {
     "data": {
      "text/plain": [
       "'VAR_0809'"
      ]
     },
     "execution_count": 13,
     "metadata": {},
     "output_type": "execute_result"
    },
    {
     "name": "stdout",
     "output_type": "stream",
     "text": [
      "No. of unique values: 4\n",
      "No.of Null Values: 0\n"
     ]
    },
    {
     "data": {
      "text/plain": [
       "'VAR_0810'"
      ]
     },
     "execution_count": 13,
     "metadata": {},
     "output_type": "execute_result"
    },
    {
     "name": "stdout",
     "output_type": "stream",
     "text": [
      "No. of unique values: 18\n",
      "No.of Null Values: 0\n"
     ]
    },
    {
     "data": {
      "text/plain": [
       "'VAR_0811'"
      ]
     },
     "execution_count": 13,
     "metadata": {},
     "output_type": "execute_result"
    },
    {
     "name": "stdout",
     "output_type": "stream",
     "text": [
      "No. of unique values: 80\n",
      "No.of Null Values: 0\n"
     ]
    },
    {
     "data": {
      "text/plain": [
       "'VAR_0812'"
      ]
     },
     "execution_count": 13,
     "metadata": {},
     "output_type": "execute_result"
    },
    {
     "name": "stdout",
     "output_type": "stream",
     "text": [
      "No. of unique values: 54\n",
      "No.of Null Values: 0\n"
     ]
    },
    {
     "data": {
      "text/plain": [
       "'VAR_0813'"
      ]
     },
     "execution_count": 13,
     "metadata": {},
     "output_type": "execute_result"
    },
    {
     "name": "stdout",
     "output_type": "stream",
     "text": [
      "No. of unique values: 37\n",
      "No.of Null Values: 0\n"
     ]
    },
    {
     "data": {
      "text/plain": [
       "'VAR_0814'"
      ]
     },
     "execution_count": 13,
     "metadata": {},
     "output_type": "execute_result"
    },
    {
     "name": "stdout",
     "output_type": "stream",
     "text": [
      "No. of unique values: 44\n",
      "No.of Null Values: 0\n"
     ]
    },
    {
     "data": {
      "text/plain": [
       "'VAR_0815'"
      ]
     },
     "execution_count": 13,
     "metadata": {},
     "output_type": "execute_result"
    },
    {
     "name": "stdout",
     "output_type": "stream",
     "text": [
      "No. of unique values: 22\n",
      "No.of Null Values: 0\n"
     ]
    },
    {
     "data": {
      "text/plain": [
       "'VAR_0816'"
      ]
     },
     "execution_count": 13,
     "metadata": {},
     "output_type": "execute_result"
    },
    {
     "name": "stdout",
     "output_type": "stream",
     "text": [
      "No. of unique values: 19\n",
      "No.of Null Values: 0\n"
     ]
    },
    {
     "data": {
      "text/plain": [
       "'VAR_0817'"
      ]
     },
     "execution_count": 13,
     "metadata": {},
     "output_type": "execute_result"
    },
    {
     "name": "stdout",
     "output_type": "stream",
     "text": [
      "No. of unique values: 14\n",
      "No.of Null Values: 0\n"
     ]
    },
    {
     "data": {
      "text/plain": [
       "'VAR_0818'"
      ]
     },
     "execution_count": 13,
     "metadata": {},
     "output_type": "execute_result"
    },
    {
     "name": "stdout",
     "output_type": "stream",
     "text": [
      "No. of unique values: 18\n",
      "No.of Null Values: 0\n"
     ]
    },
    {
     "data": {
      "text/plain": [
       "'VAR_0819'"
      ]
     },
     "execution_count": 13,
     "metadata": {},
     "output_type": "execute_result"
    },
    {
     "name": "stdout",
     "output_type": "stream",
     "text": [
      "No. of unique values: 14\n",
      "No.of Null Values: 0\n"
     ]
    },
    {
     "data": {
      "text/plain": [
       "'VAR_0820'"
      ]
     },
     "execution_count": 13,
     "metadata": {},
     "output_type": "execute_result"
    },
    {
     "name": "stdout",
     "output_type": "stream",
     "text": [
      "No. of unique values: 21\n",
      "No.of Null Values: 0\n"
     ]
    },
    {
     "data": {
      "text/plain": [
       "'VAR_0821'"
      ]
     },
     "execution_count": 13,
     "metadata": {},
     "output_type": "execute_result"
    },
    {
     "name": "stdout",
     "output_type": "stream",
     "text": [
      "No. of unique values: 31\n",
      "No.of Null Values: 0\n"
     ]
    },
    {
     "data": {
      "text/plain": [
       "'VAR_0822'"
      ]
     },
     "execution_count": 13,
     "metadata": {},
     "output_type": "execute_result"
    },
    {
     "name": "stdout",
     "output_type": "stream",
     "text": [
      "No. of unique values: 58\n",
      "No.of Null Values: 0\n"
     ]
    },
    {
     "data": {
      "text/plain": [
       "'VAR_0823'"
      ]
     },
     "execution_count": 13,
     "metadata": {},
     "output_type": "execute_result"
    },
    {
     "name": "stdout",
     "output_type": "stream",
     "text": [
      "No. of unique values: 95\n",
      "No.of Null Values: 0\n"
     ]
    },
    {
     "data": {
      "text/plain": [
       "'VAR_0824'"
      ]
     },
     "execution_count": 13,
     "metadata": {},
     "output_type": "execute_result"
    },
    {
     "name": "stdout",
     "output_type": "stream",
     "text": [
      "No. of unique values: 39\n",
      "No.of Null Values: 0\n"
     ]
    },
    {
     "data": {
      "text/plain": [
       "'VAR_0825'"
      ]
     },
     "execution_count": 13,
     "metadata": {},
     "output_type": "execute_result"
    },
    {
     "name": "stdout",
     "output_type": "stream",
     "text": [
      "No. of unique values: 38\n",
      "No.of Null Values: 0\n"
     ]
    },
    {
     "data": {
      "text/plain": [
       "'VAR_0826'"
      ]
     },
     "execution_count": 13,
     "metadata": {},
     "output_type": "execute_result"
    },
    {
     "name": "stdout",
     "output_type": "stream",
     "text": [
      "No. of unique values: 29\n",
      "No.of Null Values: 0\n"
     ]
    },
    {
     "data": {
      "text/plain": [
       "'VAR_0827'"
      ]
     },
     "execution_count": 13,
     "metadata": {},
     "output_type": "execute_result"
    },
    {
     "name": "stdout",
     "output_type": "stream",
     "text": [
      "No. of unique values: 17\n",
      "No.of Null Values: 0\n"
     ]
    },
    {
     "data": {
      "text/plain": [
       "'VAR_0828'"
      ]
     },
     "execution_count": 13,
     "metadata": {},
     "output_type": "execute_result"
    },
    {
     "name": "stdout",
     "output_type": "stream",
     "text": [
      "No. of unique values: 10\n",
      "No.of Null Values: 0\n"
     ]
    },
    {
     "data": {
      "text/plain": [
       "'VAR_0829'"
      ]
     },
     "execution_count": 13,
     "metadata": {},
     "output_type": "execute_result"
    },
    {
     "name": "stdout",
     "output_type": "stream",
     "text": [
      "No. of unique values: 84\n",
      "No.of Null Values: 0\n"
     ]
    },
    {
     "data": {
      "text/plain": [
       "'VAR_0830'"
      ]
     },
     "execution_count": 13,
     "metadata": {},
     "output_type": "execute_result"
    },
    {
     "name": "stdout",
     "output_type": "stream",
     "text": [
      "No. of unique values: 22\n",
      "No.of Null Values: 0\n"
     ]
    },
    {
     "data": {
      "text/plain": [
       "'VAR_0831'"
      ]
     },
     "execution_count": 13,
     "metadata": {},
     "output_type": "execute_result"
    },
    {
     "name": "stdout",
     "output_type": "stream",
     "text": [
      "No. of unique values: 59\n",
      "No.of Null Values: 0\n"
     ]
    },
    {
     "data": {
      "text/plain": [
       "'VAR_0832'"
      ]
     },
     "execution_count": 13,
     "metadata": {},
     "output_type": "execute_result"
    },
    {
     "name": "stdout",
     "output_type": "stream",
     "text": [
      "No. of unique values: 24\n",
      "No.of Null Values: 0\n"
     ]
    },
    {
     "data": {
      "text/plain": [
       "'VAR_0833'"
      ]
     },
     "execution_count": 13,
     "metadata": {},
     "output_type": "execute_result"
    },
    {
     "name": "stdout",
     "output_type": "stream",
     "text": [
      "No. of unique values: 8\n",
      "No.of Null Values: 0\n"
     ]
    },
    {
     "data": {
      "text/plain": [
       "'VAR_0834'"
      ]
     },
     "execution_count": 13,
     "metadata": {},
     "output_type": "execute_result"
    },
    {
     "name": "stdout",
     "output_type": "stream",
     "text": [
      "No. of unique values: 42\n",
      "No.of Null Values: 0\n"
     ]
    },
    {
     "data": {
      "text/plain": [
       "'VAR_0835'"
      ]
     },
     "execution_count": 13,
     "metadata": {},
     "output_type": "execute_result"
    },
    {
     "name": "stdout",
     "output_type": "stream",
     "text": [
      "No. of unique values: 84\n",
      "No.of Null Values: 0\n"
     ]
    },
    {
     "data": {
      "text/plain": [
       "'VAR_0836'"
      ]
     },
     "execution_count": 13,
     "metadata": {},
     "output_type": "execute_result"
    },
    {
     "name": "stdout",
     "output_type": "stream",
     "text": [
      "No. of unique values: 79\n",
      "No.of Null Values: 0\n"
     ]
    },
    {
     "data": {
      "text/plain": [
       "'VAR_0837'"
      ]
     },
     "execution_count": 13,
     "metadata": {},
     "output_type": "execute_result"
    },
    {
     "name": "stdout",
     "output_type": "stream",
     "text": [
      "No. of unique values: 11\n",
      "No.of Null Values: 0\n"
     ]
    },
    {
     "data": {
      "text/plain": [
       "'VAR_0838'"
      ]
     },
     "execution_count": 13,
     "metadata": {},
     "output_type": "execute_result"
    },
    {
     "name": "stdout",
     "output_type": "stream",
     "text": [
      "No. of unique values: 12\n",
      "No.of Null Values: 0\n"
     ]
    },
    {
     "data": {
      "text/plain": [
       "'VAR_0839'"
      ]
     },
     "execution_count": 13,
     "metadata": {},
     "output_type": "execute_result"
    },
    {
     "name": "stdout",
     "output_type": "stream",
     "text": [
      "No. of unique values: 19\n",
      "No.of Null Values: 0\n"
     ]
    },
    {
     "data": {
      "text/plain": [
       "'VAR_0840'"
      ]
     },
     "execution_count": 13,
     "metadata": {},
     "output_type": "execute_result"
    },
    {
     "name": "stdout",
     "output_type": "stream",
     "text": [
      "No. of unique values: 0\n",
      "No.of Null Values: 14523\n"
     ]
    },
    {
     "data": {
      "text/plain": [
       "'VAR_0841'"
      ]
     },
     "execution_count": 13,
     "metadata": {},
     "output_type": "execute_result"
    },
    {
     "name": "stdout",
     "output_type": "stream",
     "text": [
      "No. of unique values: 13\n",
      "No.of Null Values: 0\n"
     ]
    },
    {
     "data": {
      "text/plain": [
       "'VAR_0842'"
      ]
     },
     "execution_count": 13,
     "metadata": {},
     "output_type": "execute_result"
    },
    {
     "name": "stdout",
     "output_type": "stream",
     "text": [
      "No. of unique values: 12\n",
      "No.of Null Values: 0\n"
     ]
    },
    {
     "data": {
      "text/plain": [
       "'VAR_0843'"
      ]
     },
     "execution_count": 13,
     "metadata": {},
     "output_type": "execute_result"
    },
    {
     "name": "stdout",
     "output_type": "stream",
     "text": [
      "No. of unique values: 20\n",
      "No.of Null Values: 0\n"
     ]
    },
    {
     "data": {
      "text/plain": [
       "'VAR_0844'"
      ]
     },
     "execution_count": 13,
     "metadata": {},
     "output_type": "execute_result"
    },
    {
     "name": "stdout",
     "output_type": "stream",
     "text": [
      "No. of unique values: 24\n",
      "No.of Null Values: 0\n"
     ]
    },
    {
     "data": {
      "text/plain": [
       "'VAR_0845'"
      ]
     },
     "execution_count": 13,
     "metadata": {},
     "output_type": "execute_result"
    },
    {
     "name": "stdout",
     "output_type": "stream",
     "text": [
      "No. of unique values: 23\n",
      "No.of Null Values: 0\n"
     ]
    },
    {
     "data": {
      "text/plain": [
       "'VAR_0846'"
      ]
     },
     "execution_count": 13,
     "metadata": {},
     "output_type": "execute_result"
    },
    {
     "name": "stdout",
     "output_type": "stream",
     "text": [
      "No. of unique values: 21\n",
      "No.of Null Values: 0\n"
     ]
    },
    {
     "data": {
      "text/plain": [
       "'VAR_0847'"
      ]
     },
     "execution_count": 13,
     "metadata": {},
     "output_type": "execute_result"
    },
    {
     "name": "stdout",
     "output_type": "stream",
     "text": [
      "No. of unique values: 1\n",
      "No.of Null Values: 0\n"
     ]
    },
    {
     "data": {
      "text/plain": [
       "'VAR_0848'"
      ]
     },
     "execution_count": 13,
     "metadata": {},
     "output_type": "execute_result"
    },
    {
     "name": "stdout",
     "output_type": "stream",
     "text": [
      "No. of unique values: 27\n",
      "No.of Null Values: 0\n"
     ]
    },
    {
     "data": {
      "text/plain": [
       "'VAR_0849'"
      ]
     },
     "execution_count": 13,
     "metadata": {},
     "output_type": "execute_result"
    },
    {
     "name": "stdout",
     "output_type": "stream",
     "text": [
      "No. of unique values: 27\n",
      "No.of Null Values: 0\n"
     ]
    },
    {
     "data": {
      "text/plain": [
       "'VAR_0850'"
      ]
     },
     "execution_count": 13,
     "metadata": {},
     "output_type": "execute_result"
    },
    {
     "name": "stdout",
     "output_type": "stream",
     "text": [
      "No. of unique values: 27\n",
      "No.of Null Values: 0\n"
     ]
    },
    {
     "data": {
      "text/plain": [
       "'VAR_0851'"
      ]
     },
     "execution_count": 13,
     "metadata": {},
     "output_type": "execute_result"
    },
    {
     "name": "stdout",
     "output_type": "stream",
     "text": [
      "No. of unique values: 27\n",
      "No.of Null Values: 0\n"
     ]
    },
    {
     "data": {
      "text/plain": [
       "'VAR_0852'"
      ]
     },
     "execution_count": 13,
     "metadata": {},
     "output_type": "execute_result"
    },
    {
     "name": "stdout",
     "output_type": "stream",
     "text": [
      "No. of unique values: 27\n",
      "No.of Null Values: 0\n"
     ]
    },
    {
     "data": {
      "text/plain": [
       "'VAR_0853'"
      ]
     },
     "execution_count": 13,
     "metadata": {},
     "output_type": "execute_result"
    },
    {
     "name": "stdout",
     "output_type": "stream",
     "text": [
      "No. of unique values: 124\n",
      "No.of Null Values: 0\n"
     ]
    },
    {
     "data": {
      "text/plain": [
       "'VAR_0854'"
      ]
     },
     "execution_count": 13,
     "metadata": {},
     "output_type": "execute_result"
    },
    {
     "name": "stdout",
     "output_type": "stream",
     "text": [
      "No. of unique values: 85\n",
      "No.of Null Values: 0\n"
     ]
    },
    {
     "data": {
      "text/plain": [
       "'VAR_0855'"
      ]
     },
     "execution_count": 13,
     "metadata": {},
     "output_type": "execute_result"
    },
    {
     "name": "stdout",
     "output_type": "stream",
     "text": [
      "No. of unique values: 85\n",
      "No.of Null Values: 0\n"
     ]
    },
    {
     "data": {
      "text/plain": [
       "'VAR_0856'"
      ]
     },
     "execution_count": 13,
     "metadata": {},
     "output_type": "execute_result"
    },
    {
     "name": "stdout",
     "output_type": "stream",
     "text": [
      "No. of unique values: 84\n",
      "No.of Null Values: 0\n"
     ]
    },
    {
     "data": {
      "text/plain": [
       "'VAR_0857'"
      ]
     },
     "execution_count": 13,
     "metadata": {},
     "output_type": "execute_result"
    },
    {
     "name": "stdout",
     "output_type": "stream",
     "text": [
      "No. of unique values: 84\n",
      "No.of Null Values: 0\n"
     ]
    },
    {
     "data": {
      "text/plain": [
       "'VAR_0858'"
      ]
     },
     "execution_count": 13,
     "metadata": {},
     "output_type": "execute_result"
    },
    {
     "name": "stdout",
     "output_type": "stream",
     "text": [
      "No. of unique values: 90\n",
      "No.of Null Values: 0\n"
     ]
    },
    {
     "data": {
      "text/plain": [
       "'VAR_0859'"
      ]
     },
     "execution_count": 13,
     "metadata": {},
     "output_type": "execute_result"
    },
    {
     "name": "stdout",
     "output_type": "stream",
     "text": [
      "No. of unique values: 134\n",
      "No.of Null Values: 0\n"
     ]
    },
    {
     "data": {
      "text/plain": [
       "'VAR_0860'"
      ]
     },
     "execution_count": 13,
     "metadata": {},
     "output_type": "execute_result"
    },
    {
     "name": "stdout",
     "output_type": "stream",
     "text": [
      "No. of unique values: 529\n",
      "No.of Null Values: 0\n"
     ]
    },
    {
     "data": {
      "text/plain": [
       "'VAR_0861'"
      ]
     },
     "execution_count": 13,
     "metadata": {},
     "output_type": "execute_result"
    },
    {
     "name": "stdout",
     "output_type": "stream",
     "text": [
      "No. of unique values: 456\n",
      "No.of Null Values: 0\n"
     ]
    },
    {
     "data": {
      "text/plain": [
       "'VAR_0862'"
      ]
     },
     "execution_count": 13,
     "metadata": {},
     "output_type": "execute_result"
    },
    {
     "name": "stdout",
     "output_type": "stream",
     "text": [
      "No. of unique values: 284\n",
      "No.of Null Values: 0\n"
     ]
    },
    {
     "data": {
      "text/plain": [
       "'VAR_0863'"
      ]
     },
     "execution_count": 13,
     "metadata": {},
     "output_type": "execute_result"
    },
    {
     "name": "stdout",
     "output_type": "stream",
     "text": [
      "No. of unique values: 270\n",
      "No.of Null Values: 0\n"
     ]
    },
    {
     "data": {
      "text/plain": [
       "'VAR_0864'"
      ]
     },
     "execution_count": 13,
     "metadata": {},
     "output_type": "execute_result"
    },
    {
     "name": "stdout",
     "output_type": "stream",
     "text": [
      "No. of unique values: 478\n",
      "No.of Null Values: 0\n"
     ]
    },
    {
     "data": {
      "text/plain": [
       "'VAR_0865'"
      ]
     },
     "execution_count": 13,
     "metadata": {},
     "output_type": "execute_result"
    },
    {
     "name": "stdout",
     "output_type": "stream",
     "text": [
      "No. of unique values: 213\n",
      "No.of Null Values: 0\n"
     ]
    },
    {
     "data": {
      "text/plain": [
       "'VAR_0866'"
      ]
     },
     "execution_count": 13,
     "metadata": {},
     "output_type": "execute_result"
    },
    {
     "name": "stdout",
     "output_type": "stream",
     "text": [
      "No. of unique values: 224\n",
      "No.of Null Values: 0\n"
     ]
    },
    {
     "data": {
      "text/plain": [
       "'VAR_0867'"
      ]
     },
     "execution_count": 13,
     "metadata": {},
     "output_type": "execute_result"
    },
    {
     "name": "stdout",
     "output_type": "stream",
     "text": [
      "No. of unique values: 333\n",
      "No.of Null Values: 0\n"
     ]
    },
    {
     "data": {
      "text/plain": [
       "'VAR_0868'"
      ]
     },
     "execution_count": 13,
     "metadata": {},
     "output_type": "execute_result"
    },
    {
     "name": "stdout",
     "output_type": "stream",
     "text": [
      "No. of unique values: 517\n",
      "No.of Null Values: 0\n"
     ]
    },
    {
     "data": {
      "text/plain": [
       "'VAR_0869'"
      ]
     },
     "execution_count": 13,
     "metadata": {},
     "output_type": "execute_result"
    },
    {
     "name": "stdout",
     "output_type": "stream",
     "text": [
      "No. of unique values: 204\n",
      "No.of Null Values: 0\n"
     ]
    },
    {
     "data": {
      "text/plain": [
       "'VAR_0870'"
      ]
     },
     "execution_count": 13,
     "metadata": {},
     "output_type": "execute_result"
    },
    {
     "name": "stdout",
     "output_type": "stream",
     "text": [
      "No. of unique values: 106\n",
      "No.of Null Values: 0\n"
     ]
    },
    {
     "data": {
      "text/plain": [
       "'VAR_0871'"
      ]
     },
     "execution_count": 13,
     "metadata": {},
     "output_type": "execute_result"
    },
    {
     "name": "stdout",
     "output_type": "stream",
     "text": [
      "No. of unique values: 213\n",
      "No.of Null Values: 0\n"
     ]
    },
    {
     "data": {
      "text/plain": [
       "'VAR_0872'"
      ]
     },
     "execution_count": 13,
     "metadata": {},
     "output_type": "execute_result"
    },
    {
     "name": "stdout",
     "output_type": "stream",
     "text": [
      "No. of unique values: 372\n",
      "No.of Null Values: 0\n"
     ]
    },
    {
     "data": {
      "text/plain": [
       "'VAR_0873'"
      ]
     },
     "execution_count": 13,
     "metadata": {},
     "output_type": "execute_result"
    },
    {
     "name": "stdout",
     "output_type": "stream",
     "text": [
      "No. of unique values: 204\n",
      "No.of Null Values: 0\n"
     ]
    },
    {
     "data": {
      "text/plain": [
       "'VAR_0874'"
      ]
     },
     "execution_count": 13,
     "metadata": {},
     "output_type": "execute_result"
    },
    {
     "name": "stdout",
     "output_type": "stream",
     "text": [
      "No. of unique values: 180\n",
      "No.of Null Values: 0\n"
     ]
    },
    {
     "data": {
      "text/plain": [
       "'VAR_0875'"
      ]
     },
     "execution_count": 13,
     "metadata": {},
     "output_type": "execute_result"
    },
    {
     "name": "stdout",
     "output_type": "stream",
     "text": [
      "No. of unique values: 183\n",
      "No.of Null Values: 0\n"
     ]
    },
    {
     "data": {
      "text/plain": [
       "'VAR_0876'"
      ]
     },
     "execution_count": 13,
     "metadata": {},
     "output_type": "execute_result"
    },
    {
     "name": "stdout",
     "output_type": "stream",
     "text": [
      "No. of unique values: 172\n",
      "No.of Null Values: 0\n"
     ]
    },
    {
     "data": {
      "text/plain": [
       "'VAR_0877'"
      ]
     },
     "execution_count": 13,
     "metadata": {},
     "output_type": "execute_result"
    },
    {
     "name": "stdout",
     "output_type": "stream",
     "text": [
      "No. of unique values: 96\n",
      "No.of Null Values: 0\n"
     ]
    },
    {
     "data": {
      "text/plain": [
       "'VAR_0878'"
      ]
     },
     "execution_count": 13,
     "metadata": {},
     "output_type": "execute_result"
    },
    {
     "name": "stdout",
     "output_type": "stream",
     "text": [
      "No. of unique values: 82\n",
      "No.of Null Values: 0\n"
     ]
    },
    {
     "data": {
      "text/plain": [
       "'VAR_0879'"
      ]
     },
     "execution_count": 13,
     "metadata": {},
     "output_type": "execute_result"
    },
    {
     "name": "stdout",
     "output_type": "stream",
     "text": [
      "No. of unique values: 93\n",
      "No.of Null Values: 0\n"
     ]
    },
    {
     "data": {
      "text/plain": [
       "'VAR_0880'"
      ]
     },
     "execution_count": 13,
     "metadata": {},
     "output_type": "execute_result"
    },
    {
     "name": "stdout",
     "output_type": "stream",
     "text": [
      "No. of unique values: 162\n",
      "No.of Null Values: 0\n"
     ]
    },
    {
     "data": {
      "text/plain": [
       "'VAR_0881'"
      ]
     },
     "execution_count": 13,
     "metadata": {},
     "output_type": "execute_result"
    },
    {
     "name": "stdout",
     "output_type": "stream",
     "text": [
      "No. of unique values: 182\n",
      "No.of Null Values: 0\n"
     ]
    },
    {
     "data": {
      "text/plain": [
       "'VAR_0882'"
      ]
     },
     "execution_count": 13,
     "metadata": {},
     "output_type": "execute_result"
    },
    {
     "name": "stdout",
     "output_type": "stream",
     "text": [
      "No. of unique values: 146\n",
      "No.of Null Values: 0\n"
     ]
    },
    {
     "data": {
      "text/plain": [
       "'VAR_0883'"
      ]
     },
     "execution_count": 13,
     "metadata": {},
     "output_type": "execute_result"
    },
    {
     "name": "stdout",
     "output_type": "stream",
     "text": [
      "No. of unique values: 122\n",
      "No.of Null Values: 0\n"
     ]
    },
    {
     "data": {
      "text/plain": [
       "'VAR_0884'"
      ]
     },
     "execution_count": 13,
     "metadata": {},
     "output_type": "execute_result"
    },
    {
     "name": "stdout",
     "output_type": "stream",
     "text": [
      "No. of unique values: 184\n",
      "No.of Null Values: 0\n"
     ]
    },
    {
     "data": {
      "text/plain": [
       "'VAR_0885'"
      ]
     },
     "execution_count": 13,
     "metadata": {},
     "output_type": "execute_result"
    },
    {
     "name": "stdout",
     "output_type": "stream",
     "text": [
      "No. of unique values: 82\n",
      "No.of Null Values: 0\n"
     ]
    },
    {
     "data": {
      "text/plain": [
       "'VAR_0886'"
      ]
     },
     "execution_count": 13,
     "metadata": {},
     "output_type": "execute_result"
    },
    {
     "name": "stdout",
     "output_type": "stream",
     "text": [
      "No. of unique values: 97\n",
      "No.of Null Values: 0\n"
     ]
    },
    {
     "data": {
      "text/plain": [
       "'VAR_0887'"
      ]
     },
     "execution_count": 13,
     "metadata": {},
     "output_type": "execute_result"
    },
    {
     "name": "stdout",
     "output_type": "stream",
     "text": [
      "No. of unique values: 9325\n",
      "No.of Null Values: 0\n"
     ]
    },
    {
     "data": {
      "text/plain": [
       "'VAR_0888'"
      ]
     },
     "execution_count": 13,
     "metadata": {},
     "output_type": "execute_result"
    },
    {
     "name": "stdout",
     "output_type": "stream",
     "text": [
      "No. of unique values: 3498\n",
      "No.of Null Values: 0\n"
     ]
    },
    {
     "data": {
      "text/plain": [
       "'VAR_0889'"
      ]
     },
     "execution_count": 13,
     "metadata": {},
     "output_type": "execute_result"
    },
    {
     "name": "stdout",
     "output_type": "stream",
     "text": [
      "No. of unique values: 1437\n",
      "No.of Null Values: 0\n"
     ]
    },
    {
     "data": {
      "text/plain": [
       "'VAR_0890'"
      ]
     },
     "execution_count": 13,
     "metadata": {},
     "output_type": "execute_result"
    },
    {
     "name": "stdout",
     "output_type": "stream",
     "text": [
      "No. of unique values: 945\n",
      "No.of Null Values: 0\n"
     ]
    },
    {
     "data": {
      "text/plain": [
       "'VAR_0891'"
      ]
     },
     "execution_count": 13,
     "metadata": {},
     "output_type": "execute_result"
    },
    {
     "name": "stdout",
     "output_type": "stream",
     "text": [
      "No. of unique values: 4019\n",
      "No.of Null Values: 0\n"
     ]
    },
    {
     "data": {
      "text/plain": [
       "'VAR_0892'"
      ]
     },
     "execution_count": 13,
     "metadata": {},
     "output_type": "execute_result"
    },
    {
     "name": "stdout",
     "output_type": "stream",
     "text": [
      "No. of unique values: 3283\n",
      "No.of Null Values: 0\n"
     ]
    },
    {
     "data": {
      "text/plain": [
       "'VAR_0893'"
      ]
     },
     "execution_count": 13,
     "metadata": {},
     "output_type": "execute_result"
    },
    {
     "name": "stdout",
     "output_type": "stream",
     "text": [
      "No. of unique values: 6865\n",
      "No.of Null Values: 0\n"
     ]
    },
    {
     "data": {
      "text/plain": [
       "'VAR_0894'"
      ]
     },
     "execution_count": 13,
     "metadata": {},
     "output_type": "execute_result"
    },
    {
     "name": "stdout",
     "output_type": "stream",
     "text": [
      "No. of unique values: 3003\n",
      "No.of Null Values: 0\n"
     ]
    },
    {
     "data": {
      "text/plain": [
       "'VAR_0895'"
      ]
     },
     "execution_count": 13,
     "metadata": {},
     "output_type": "execute_result"
    },
    {
     "name": "stdout",
     "output_type": "stream",
     "text": [
      "No. of unique values: 3638\n",
      "No.of Null Values: 0\n"
     ]
    },
    {
     "data": {
      "text/plain": [
       "'VAR_0896'"
      ]
     },
     "execution_count": 13,
     "metadata": {},
     "output_type": "execute_result"
    },
    {
     "name": "stdout",
     "output_type": "stream",
     "text": [
      "No. of unique values: 5566\n",
      "No.of Null Values: 0\n"
     ]
    },
    {
     "data": {
      "text/plain": [
       "'VAR_0897'"
      ]
     },
     "execution_count": 13,
     "metadata": {},
     "output_type": "execute_result"
    },
    {
     "name": "stdout",
     "output_type": "stream",
     "text": [
      "No. of unique values: 1839\n",
      "No.of Null Values: 0\n"
     ]
    },
    {
     "data": {
      "text/plain": [
       "'VAR_0898'"
      ]
     },
     "execution_count": 13,
     "metadata": {},
     "output_type": "execute_result"
    },
    {
     "name": "stdout",
     "output_type": "stream",
     "text": [
      "No. of unique values: 6751\n",
      "No.of Null Values: 0\n"
     ]
    },
    {
     "data": {
      "text/plain": [
       "'VAR_0899'"
      ]
     },
     "execution_count": 13,
     "metadata": {},
     "output_type": "execute_result"
    },
    {
     "name": "stdout",
     "output_type": "stream",
     "text": [
      "No. of unique values: 11705\n",
      "No.of Null Values: 0\n"
     ]
    },
    {
     "data": {
      "text/plain": [
       "'VAR_0900'"
      ]
     },
     "execution_count": 13,
     "metadata": {},
     "output_type": "execute_result"
    },
    {
     "name": "stdout",
     "output_type": "stream",
     "text": [
      "No. of unique values: 3909\n",
      "No.of Null Values: 0\n"
     ]
    },
    {
     "data": {
      "text/plain": [
       "'VAR_0901'"
      ]
     },
     "execution_count": 13,
     "metadata": {},
     "output_type": "execute_result"
    },
    {
     "name": "stdout",
     "output_type": "stream",
     "text": [
      "No. of unique values: 1583\n",
      "No.of Null Values: 0\n"
     ]
    },
    {
     "data": {
      "text/plain": [
       "'VAR_0902'"
      ]
     },
     "execution_count": 13,
     "metadata": {},
     "output_type": "execute_result"
    },
    {
     "name": "stdout",
     "output_type": "stream",
     "text": [
      "No. of unique values: 6509\n",
      "No.of Null Values: 0\n"
     ]
    },
    {
     "data": {
      "text/plain": [
       "'VAR_0903'"
      ]
     },
     "execution_count": 13,
     "metadata": {},
     "output_type": "execute_result"
    },
    {
     "name": "stdout",
     "output_type": "stream",
     "text": [
      "No. of unique values: 1247\n",
      "No.of Null Values: 0\n"
     ]
    },
    {
     "data": {
      "text/plain": [
       "'VAR_0904'"
      ]
     },
     "execution_count": 13,
     "metadata": {},
     "output_type": "execute_result"
    },
    {
     "name": "stdout",
     "output_type": "stream",
     "text": [
      "No. of unique values: 326\n",
      "No.of Null Values: 0\n"
     ]
    },
    {
     "data": {
      "text/plain": [
       "'VAR_0905'"
      ]
     },
     "execution_count": 13,
     "metadata": {},
     "output_type": "execute_result"
    },
    {
     "name": "stdout",
     "output_type": "stream",
     "text": [
      "No. of unique values: 4157\n",
      "No.of Null Values: 0\n"
     ]
    },
    {
     "data": {
      "text/plain": [
       "'VAR_0906'"
      ]
     },
     "execution_count": 13,
     "metadata": {},
     "output_type": "execute_result"
    },
    {
     "name": "stdout",
     "output_type": "stream",
     "text": [
      "No. of unique values: 3277\n",
      "No.of Null Values: 0\n"
     ]
    },
    {
     "data": {
      "text/plain": [
       "'VAR_0907'"
      ]
     },
     "execution_count": 13,
     "metadata": {},
     "output_type": "execute_result"
    },
    {
     "name": "stdout",
     "output_type": "stream",
     "text": [
      "No. of unique values: 5444\n",
      "No.of Null Values: 0\n"
     ]
    },
    {
     "data": {
      "text/plain": [
       "'VAR_0908'"
      ]
     },
     "execution_count": 13,
     "metadata": {},
     "output_type": "execute_result"
    },
    {
     "name": "stdout",
     "output_type": "stream",
     "text": [
      "No. of unique values: 6982\n",
      "No.of Null Values: 0\n"
     ]
    },
    {
     "data": {
      "text/plain": [
       "'VAR_0909'"
      ]
     },
     "execution_count": 13,
     "metadata": {},
     "output_type": "execute_result"
    },
    {
     "name": "stdout",
     "output_type": "stream",
     "text": [
      "No. of unique values: 3037\n",
      "No.of Null Values: 0\n"
     ]
    },
    {
     "data": {
      "text/plain": [
       "'VAR_0910'"
      ]
     },
     "execution_count": 13,
     "metadata": {},
     "output_type": "execute_result"
    },
    {
     "name": "stdout",
     "output_type": "stream",
     "text": [
      "No. of unique values: 1875\n",
      "No.of Null Values: 0\n"
     ]
    },
    {
     "data": {
      "text/plain": [
       "'VAR_0911'"
      ]
     },
     "execution_count": 13,
     "metadata": {},
     "output_type": "execute_result"
    },
    {
     "name": "stdout",
     "output_type": "stream",
     "text": [
      "No. of unique values: 37\n",
      "No.of Null Values: 0\n"
     ]
    },
    {
     "data": {
      "text/plain": [
       "'VAR_0912'"
      ]
     },
     "execution_count": 13,
     "metadata": {},
     "output_type": "execute_result"
    },
    {
     "name": "stdout",
     "output_type": "stream",
     "text": [
      "No. of unique values: 1226\n",
      "No.of Null Values: 0\n"
     ]
    },
    {
     "data": {
      "text/plain": [
       "'VAR_0913'"
      ]
     },
     "execution_count": 13,
     "metadata": {},
     "output_type": "execute_result"
    },
    {
     "name": "stdout",
     "output_type": "stream",
     "text": [
      "No. of unique values: 1479\n",
      "No.of Null Values: 0\n"
     ]
    },
    {
     "data": {
      "text/plain": [
       "'VAR_0914'"
      ]
     },
     "execution_count": 13,
     "metadata": {},
     "output_type": "execute_result"
    },
    {
     "name": "stdout",
     "output_type": "stream",
     "text": [
      "No. of unique values: 27\n",
      "No.of Null Values: 0\n"
     ]
    },
    {
     "data": {
      "text/plain": [
       "'VAR_0915'"
      ]
     },
     "execution_count": 13,
     "metadata": {},
     "output_type": "execute_result"
    },
    {
     "name": "stdout",
     "output_type": "stream",
     "text": [
      "No. of unique values: 55\n",
      "No.of Null Values: 0\n"
     ]
    },
    {
     "data": {
      "text/plain": [
       "'VAR_0916'"
      ]
     },
     "execution_count": 13,
     "metadata": {},
     "output_type": "execute_result"
    },
    {
     "name": "stdout",
     "output_type": "stream",
     "text": [
      "No. of unique values: 63\n",
      "No.of Null Values: 0\n"
     ]
    },
    {
     "data": {
      "text/plain": [
       "'VAR_0917'"
      ]
     },
     "execution_count": 13,
     "metadata": {},
     "output_type": "execute_result"
    },
    {
     "name": "stdout",
     "output_type": "stream",
     "text": [
      "No. of unique values: 3879\n",
      "No.of Null Values: 0\n"
     ]
    },
    {
     "data": {
      "text/plain": [
       "'VAR_0918'"
      ]
     },
     "execution_count": 13,
     "metadata": {},
     "output_type": "execute_result"
    },
    {
     "name": "stdout",
     "output_type": "stream",
     "text": [
      "No. of unique values: 4829\n",
      "No.of Null Values: 0\n"
     ]
    },
    {
     "data": {
      "text/plain": [
       "'VAR_0919'"
      ]
     },
     "execution_count": 13,
     "metadata": {},
     "output_type": "execute_result"
    },
    {
     "name": "stdout",
     "output_type": "stream",
     "text": [
      "No. of unique values: 4106\n",
      "No.of Null Values: 0\n"
     ]
    },
    {
     "data": {
      "text/plain": [
       "'VAR_0920'"
      ]
     },
     "execution_count": 13,
     "metadata": {},
     "output_type": "execute_result"
    },
    {
     "name": "stdout",
     "output_type": "stream",
     "text": [
      "No. of unique values: 6012\n",
      "No.of Null Values: 0\n"
     ]
    },
    {
     "data": {
      "text/plain": [
       "'VAR_0921'"
      ]
     },
     "execution_count": 13,
     "metadata": {},
     "output_type": "execute_result"
    },
    {
     "name": "stdout",
     "output_type": "stream",
     "text": [
      "No. of unique values: 6397\n",
      "No.of Null Values: 0\n"
     ]
    },
    {
     "data": {
      "text/plain": [
       "'VAR_0922'"
      ]
     },
     "execution_count": 13,
     "metadata": {},
     "output_type": "execute_result"
    },
    {
     "name": "stdout",
     "output_type": "stream",
     "text": [
      "No. of unique values: 546\n",
      "No.of Null Values: 0\n"
     ]
    },
    {
     "data": {
      "text/plain": [
       "'VAR_0923'"
      ]
     },
     "execution_count": 13,
     "metadata": {},
     "output_type": "execute_result"
    },
    {
     "name": "stdout",
     "output_type": "stream",
     "text": [
      "No. of unique values: 3\n",
      "No.of Null Values: 0\n"
     ]
    },
    {
     "data": {
      "text/plain": [
       "'VAR_0924'"
      ]
     },
     "execution_count": 13,
     "metadata": {},
     "output_type": "execute_result"
    },
    {
     "name": "stdout",
     "output_type": "stream",
     "text": [
      "No. of unique values: 2\n",
      "No.of Null Values: 0\n"
     ]
    },
    {
     "data": {
      "text/plain": [
       "'VAR_0925'"
      ]
     },
     "execution_count": 13,
     "metadata": {},
     "output_type": "execute_result"
    },
    {
     "name": "stdout",
     "output_type": "stream",
     "text": [
      "No. of unique values: 37\n",
      "No.of Null Values: 0\n"
     ]
    },
    {
     "data": {
      "text/plain": [
       "'VAR_0926'"
      ]
     },
     "execution_count": 13,
     "metadata": {},
     "output_type": "execute_result"
    },
    {
     "name": "stdout",
     "output_type": "stream",
     "text": [
      "No. of unique values: 22\n",
      "No.of Null Values: 0\n"
     ]
    },
    {
     "data": {
      "text/plain": [
       "'VAR_0927'"
      ]
     },
     "execution_count": 13,
     "metadata": {},
     "output_type": "execute_result"
    },
    {
     "name": "stdout",
     "output_type": "stream",
     "text": [
      "No. of unique values: 9\n",
      "No.of Null Values: 0\n"
     ]
    },
    {
     "data": {
      "text/plain": [
       "'VAR_0928'"
      ]
     },
     "execution_count": 13,
     "metadata": {},
     "output_type": "execute_result"
    },
    {
     "name": "stdout",
     "output_type": "stream",
     "text": [
      "No. of unique values: 9\n",
      "No.of Null Values: 0\n"
     ]
    },
    {
     "data": {
      "text/plain": [
       "'VAR_0929'"
      ]
     },
     "execution_count": 13,
     "metadata": {},
     "output_type": "execute_result"
    },
    {
     "name": "stdout",
     "output_type": "stream",
     "text": [
      "No. of unique values: 85\n",
      "No.of Null Values: 0\n"
     ]
    },
    {
     "data": {
      "text/plain": [
       "'VAR_0930'"
      ]
     },
     "execution_count": 13,
     "metadata": {},
     "output_type": "execute_result"
    },
    {
     "name": "stdout",
     "output_type": "stream",
     "text": [
      "No. of unique values: 128\n",
      "No.of Null Values: 0\n"
     ]
    },
    {
     "data": {
      "text/plain": [
       "'VAR_0931'"
      ]
     },
     "execution_count": 13,
     "metadata": {},
     "output_type": "execute_result"
    },
    {
     "name": "stdout",
     "output_type": "stream",
     "text": [
      "No. of unique values: 6670\n",
      "No.of Null Values: 0\n"
     ]
    },
    {
     "data": {
      "text/plain": [
       "'VAR_0932'"
      ]
     },
     "execution_count": 13,
     "metadata": {},
     "output_type": "execute_result"
    },
    {
     "name": "stdout",
     "output_type": "stream",
     "text": [
      "No. of unique values: 10\n",
      "No.of Null Values: 0\n"
     ]
    },
    {
     "data": {
      "text/plain": [
       "'VAR_0933'"
      ]
     },
     "execution_count": 13,
     "metadata": {},
     "output_type": "execute_result"
    },
    {
     "name": "stdout",
     "output_type": "stream",
     "text": [
      "No. of unique values: 11\n",
      "No.of Null Values: 0\n"
     ]
    },
    {
     "data": {
      "text/plain": [
       "'VAR_0934'"
      ]
     },
     "execution_count": 13,
     "metadata": {},
     "output_type": "execute_result"
    },
    {
     "name": "stdout",
     "output_type": "stream",
     "text": [
      "No. of unique values: 809\n",
      "No.of Null Values: 0\n"
     ]
    },
    {
     "data": {
      "text/plain": [
       "'VAR_0935'"
      ]
     },
     "execution_count": 13,
     "metadata": {},
     "output_type": "execute_result"
    },
    {
     "name": "stdout",
     "output_type": "stream",
     "text": [
      "No. of unique values: 127\n",
      "No.of Null Values: 0\n"
     ]
    },
    {
     "data": {
      "text/plain": [
       "'VAR_0936'"
      ]
     },
     "execution_count": 13,
     "metadata": {},
     "output_type": "execute_result"
    },
    {
     "name": "stdout",
     "output_type": "stream",
     "text": [
      "No. of unique values: 96\n",
      "No.of Null Values: 0\n"
     ]
    },
    {
     "data": {
      "text/plain": [
       "'VAR_0937'"
      ]
     },
     "execution_count": 13,
     "metadata": {},
     "output_type": "execute_result"
    },
    {
     "name": "stdout",
     "output_type": "stream",
     "text": [
      "No. of unique values: 1511\n",
      "No.of Null Values: 0\n"
     ]
    },
    {
     "data": {
      "text/plain": [
       "'VAR_0938'"
      ]
     },
     "execution_count": 13,
     "metadata": {},
     "output_type": "execute_result"
    },
    {
     "name": "stdout",
     "output_type": "stream",
     "text": [
      "No. of unique values: 103\n",
      "No.of Null Values: 0\n"
     ]
    },
    {
     "data": {
      "text/plain": [
       "'VAR_0939'"
      ]
     },
     "execution_count": 13,
     "metadata": {},
     "output_type": "execute_result"
    },
    {
     "name": "stdout",
     "output_type": "stream",
     "text": [
      "No. of unique values: 73\n",
      "No.of Null Values: 0\n"
     ]
    },
    {
     "data": {
      "text/plain": [
       "'VAR_0940'"
      ]
     },
     "execution_count": 13,
     "metadata": {},
     "output_type": "execute_result"
    },
    {
     "name": "stdout",
     "output_type": "stream",
     "text": [
      "No. of unique values: 24\n",
      "No.of Null Values: 0\n"
     ]
    },
    {
     "data": {
      "text/plain": [
       "'VAR_0941'"
      ]
     },
     "execution_count": 13,
     "metadata": {},
     "output_type": "execute_result"
    },
    {
     "name": "stdout",
     "output_type": "stream",
     "text": [
      "No. of unique values: 9\n",
      "No.of Null Values: 0\n"
     ]
    },
    {
     "data": {
      "text/plain": [
       "'VAR_0942'"
      ]
     },
     "execution_count": 13,
     "metadata": {},
     "output_type": "execute_result"
    },
    {
     "name": "stdout",
     "output_type": "stream",
     "text": [
      "No. of unique values: 86\n",
      "No.of Null Values: 0\n"
     ]
    },
    {
     "data": {
      "text/plain": [
       "'VAR_0943'"
      ]
     },
     "execution_count": 13,
     "metadata": {},
     "output_type": "execute_result"
    },
    {
     "name": "stdout",
     "output_type": "stream",
     "text": [
      "No. of unique values: 357\n",
      "No.of Null Values: 0\n"
     ]
    },
    {
     "data": {
      "text/plain": [
       "'VAR_0944'"
      ]
     },
     "execution_count": 13,
     "metadata": {},
     "output_type": "execute_result"
    },
    {
     "name": "stdout",
     "output_type": "stream",
     "text": [
      "No. of unique values: 382\n",
      "No.of Null Values: 0\n"
     ]
    },
    {
     "data": {
      "text/plain": [
       "'VAR_0945'"
      ]
     },
     "execution_count": 13,
     "metadata": {},
     "output_type": "execute_result"
    },
    {
     "name": "stdout",
     "output_type": "stream",
     "text": [
      "No. of unique values: 37\n",
      "No.of Null Values: 0\n"
     ]
    },
    {
     "data": {
      "text/plain": [
       "'VAR_0946'"
      ]
     },
     "execution_count": 13,
     "metadata": {},
     "output_type": "execute_result"
    },
    {
     "name": "stdout",
     "output_type": "stream",
     "text": [
      "No. of unique values: 3476\n",
      "No.of Null Values: 0\n"
     ]
    },
    {
     "data": {
      "text/plain": [
       "'VAR_0947'"
      ]
     },
     "execution_count": 13,
     "metadata": {},
     "output_type": "execute_result"
    },
    {
     "name": "stdout",
     "output_type": "stream",
     "text": [
      "No. of unique values: 9\n",
      "No.of Null Values: 0\n"
     ]
    },
    {
     "data": {
      "text/plain": [
       "'VAR_0948'"
      ]
     },
     "execution_count": 13,
     "metadata": {},
     "output_type": "execute_result"
    },
    {
     "name": "stdout",
     "output_type": "stream",
     "text": [
      "No. of unique values: 9\n",
      "No.of Null Values: 0\n"
     ]
    },
    {
     "data": {
      "text/plain": [
       "'VAR_0949'"
      ]
     },
     "execution_count": 13,
     "metadata": {},
     "output_type": "execute_result"
    },
    {
     "name": "stdout",
     "output_type": "stream",
     "text": [
      "No. of unique values: 84\n",
      "No.of Null Values: 0\n"
     ]
    },
    {
     "data": {
      "text/plain": [
       "'VAR_0950'"
      ]
     },
     "execution_count": 13,
     "metadata": {},
     "output_type": "execute_result"
    },
    {
     "name": "stdout",
     "output_type": "stream",
     "text": [
      "No. of unique values: 8365\n",
      "No.of Null Values: 0\n"
     ]
    },
    {
     "data": {
      "text/plain": [
       "'VAR_0951'"
      ]
     },
     "execution_count": 13,
     "metadata": {},
     "output_type": "execute_result"
    },
    {
     "name": "stdout",
     "output_type": "stream",
     "text": [
      "No. of unique values: 8331\n",
      "No.of Null Values: 0\n"
     ]
    },
    {
     "data": {
      "text/plain": [
       "'VAR_0952'"
      ]
     },
     "execution_count": 13,
     "metadata": {},
     "output_type": "execute_result"
    },
    {
     "name": "stdout",
     "output_type": "stream",
     "text": [
      "No. of unique values: 26\n",
      "No.of Null Values: 0\n"
     ]
    },
    {
     "data": {
      "text/plain": [
       "'VAR_0953'"
      ]
     },
     "execution_count": 13,
     "metadata": {},
     "output_type": "execute_result"
    },
    {
     "name": "stdout",
     "output_type": "stream",
     "text": [
      "No. of unique values: 9\n",
      "No.of Null Values: 0\n"
     ]
    },
    {
     "data": {
      "text/plain": [
       "'VAR_0954'"
      ]
     },
     "execution_count": 13,
     "metadata": {},
     "output_type": "execute_result"
    },
    {
     "name": "stdout",
     "output_type": "stream",
     "text": [
      "No. of unique values: 63\n",
      "No.of Null Values: 0\n"
     ]
    },
    {
     "data": {
      "text/plain": [
       "'VAR_0955'"
      ]
     },
     "execution_count": 13,
     "metadata": {},
     "output_type": "execute_result"
    },
    {
     "name": "stdout",
     "output_type": "stream",
     "text": [
      "No. of unique values: 85\n",
      "No.of Null Values: 0\n"
     ]
    },
    {
     "data": {
      "text/plain": [
       "'VAR_0956'"
      ]
     },
     "execution_count": 13,
     "metadata": {},
     "output_type": "execute_result"
    },
    {
     "name": "stdout",
     "output_type": "stream",
     "text": [
      "No. of unique values: 83\n",
      "No.of Null Values: 0\n"
     ]
    },
    {
     "data": {
      "text/plain": [
       "'VAR_0957'"
      ]
     },
     "execution_count": 13,
     "metadata": {},
     "output_type": "execute_result"
    },
    {
     "name": "stdout",
     "output_type": "stream",
     "text": [
      "No. of unique values: 126\n",
      "No.of Null Values: 0\n"
     ]
    },
    {
     "data": {
      "text/plain": [
       "'VAR_0958'"
      ]
     },
     "execution_count": 13,
     "metadata": {},
     "output_type": "execute_result"
    },
    {
     "name": "stdout",
     "output_type": "stream",
     "text": [
      "No. of unique values: 100\n",
      "No.of Null Values: 0\n"
     ]
    },
    {
     "data": {
      "text/plain": [
       "'VAR_0959'"
      ]
     },
     "execution_count": 13,
     "metadata": {},
     "output_type": "execute_result"
    },
    {
     "name": "stdout",
     "output_type": "stream",
     "text": [
      "No. of unique values: 26\n",
      "No.of Null Values: 0\n"
     ]
    },
    {
     "data": {
      "text/plain": [
       "'VAR_0960'"
      ]
     },
     "execution_count": 13,
     "metadata": {},
     "output_type": "execute_result"
    },
    {
     "name": "stdout",
     "output_type": "stream",
     "text": [
      "No. of unique values: 9\n",
      "No.of Null Values: 0\n"
     ]
    },
    {
     "data": {
      "text/plain": [
       "'VAR_0961'"
      ]
     },
     "execution_count": 13,
     "metadata": {},
     "output_type": "execute_result"
    },
    {
     "name": "stdout",
     "output_type": "stream",
     "text": [
      "No. of unique values: 85\n",
      "No.of Null Values: 0\n"
     ]
    },
    {
     "data": {
      "text/plain": [
       "'VAR_0962'"
      ]
     },
     "execution_count": 13,
     "metadata": {},
     "output_type": "execute_result"
    },
    {
     "name": "stdout",
     "output_type": "stream",
     "text": [
      "No. of unique values: 51\n",
      "No.of Null Values: 0\n"
     ]
    },
    {
     "data": {
      "text/plain": [
       "'VAR_0963'"
      ]
     },
     "execution_count": 13,
     "metadata": {},
     "output_type": "execute_result"
    },
    {
     "name": "stdout",
     "output_type": "stream",
     "text": [
      "No. of unique values: 49\n",
      "No.of Null Values: 0\n"
     ]
    },
    {
     "data": {
      "text/plain": [
       "'VAR_0964'"
      ]
     },
     "execution_count": 13,
     "metadata": {},
     "output_type": "execute_result"
    },
    {
     "name": "stdout",
     "output_type": "stream",
     "text": [
      "No. of unique values: 1657\n",
      "No.of Null Values: 0\n"
     ]
    },
    {
     "data": {
      "text/plain": [
       "'VAR_0965'"
      ]
     },
     "execution_count": 13,
     "metadata": {},
     "output_type": "execute_result"
    },
    {
     "name": "stdout",
     "output_type": "stream",
     "text": [
      "No. of unique values: 8\n",
      "No.of Null Values: 0\n"
     ]
    },
    {
     "data": {
      "text/plain": [
       "'VAR_0966'"
      ]
     },
     "execution_count": 13,
     "metadata": {},
     "output_type": "execute_result"
    },
    {
     "name": "stdout",
     "output_type": "stream",
     "text": [
      "No. of unique values: 85\n",
      "No.of Null Values: 0\n"
     ]
    },
    {
     "data": {
      "text/plain": [
       "'VAR_0967'"
      ]
     },
     "execution_count": 13,
     "metadata": {},
     "output_type": "execute_result"
    },
    {
     "name": "stdout",
     "output_type": "stream",
     "text": [
      "No. of unique values: 9\n",
      "No.of Null Values: 0\n"
     ]
    },
    {
     "data": {
      "text/plain": [
       "'VAR_0968'"
      ]
     },
     "execution_count": 13,
     "metadata": {},
     "output_type": "execute_result"
    },
    {
     "name": "stdout",
     "output_type": "stream",
     "text": [
      "No. of unique values: 5974\n",
      "No.of Null Values: 0\n"
     ]
    },
    {
     "data": {
      "text/plain": [
       "'VAR_0969'"
      ]
     },
     "execution_count": 13,
     "metadata": {},
     "output_type": "execute_result"
    },
    {
     "name": "stdout",
     "output_type": "stream",
     "text": [
      "No. of unique values: 35\n",
      "No.of Null Values: 0\n"
     ]
    },
    {
     "data": {
      "text/plain": [
       "'VAR_0970'"
      ]
     },
     "execution_count": 13,
     "metadata": {},
     "output_type": "execute_result"
    },
    {
     "name": "stdout",
     "output_type": "stream",
     "text": [
      "No. of unique values: 8089\n",
      "No.of Null Values: 0\n"
     ]
    },
    {
     "data": {
      "text/plain": [
       "'VAR_0971'"
      ]
     },
     "execution_count": 13,
     "metadata": {},
     "output_type": "execute_result"
    },
    {
     "name": "stdout",
     "output_type": "stream",
     "text": [
      "No. of unique values: 8\n",
      "No.of Null Values: 0\n"
     ]
    },
    {
     "data": {
      "text/plain": [
       "'VAR_0972'"
      ]
     },
     "execution_count": 13,
     "metadata": {},
     "output_type": "execute_result"
    },
    {
     "name": "stdout",
     "output_type": "stream",
     "text": [
      "No. of unique values: 9\n",
      "No.of Null Values: 0\n"
     ]
    },
    {
     "data": {
      "text/plain": [
       "'VAR_0973'"
      ]
     },
     "execution_count": 13,
     "metadata": {},
     "output_type": "execute_result"
    },
    {
     "name": "stdout",
     "output_type": "stream",
     "text": [
      "No. of unique values: 23\n",
      "No.of Null Values: 0\n"
     ]
    },
    {
     "data": {
      "text/plain": [
       "'VAR_0974'"
      ]
     },
     "execution_count": 13,
     "metadata": {},
     "output_type": "execute_result"
    },
    {
     "name": "stdout",
     "output_type": "stream",
     "text": [
      "No. of unique values: 19\n",
      "No.of Null Values: 0\n"
     ]
    },
    {
     "data": {
      "text/plain": [
       "'VAR_0975'"
      ]
     },
     "execution_count": 13,
     "metadata": {},
     "output_type": "execute_result"
    },
    {
     "name": "stdout",
     "output_type": "stream",
     "text": [
      "No. of unique values: 16\n",
      "No.of Null Values: 0\n"
     ]
    },
    {
     "data": {
      "text/plain": [
       "'VAR_0976'"
      ]
     },
     "execution_count": 13,
     "metadata": {},
     "output_type": "execute_result"
    },
    {
     "name": "stdout",
     "output_type": "stream",
     "text": [
      "No. of unique values: 4890\n",
      "No.of Null Values: 0\n"
     ]
    },
    {
     "data": {
      "text/plain": [
       "'VAR_0977'"
      ]
     },
     "execution_count": 13,
     "metadata": {},
     "output_type": "execute_result"
    },
    {
     "name": "stdout",
     "output_type": "stream",
     "text": [
      "No. of unique values: 4408\n",
      "No.of Null Values: 0\n"
     ]
    },
    {
     "data": {
      "text/plain": [
       "'VAR_0978'"
      ]
     },
     "execution_count": 13,
     "metadata": {},
     "output_type": "execute_result"
    },
    {
     "name": "stdout",
     "output_type": "stream",
     "text": [
      "No. of unique values: 571\n",
      "No.of Null Values: 0\n"
     ]
    },
    {
     "data": {
      "text/plain": [
       "'VAR_0979'"
      ]
     },
     "execution_count": 13,
     "metadata": {},
     "output_type": "execute_result"
    },
    {
     "name": "stdout",
     "output_type": "stream",
     "text": [
      "No. of unique values: 1838\n",
      "No.of Null Values: 0\n"
     ]
    },
    {
     "data": {
      "text/plain": [
       "'VAR_0980'"
      ]
     },
     "execution_count": 13,
     "metadata": {},
     "output_type": "execute_result"
    },
    {
     "name": "stdout",
     "output_type": "stream",
     "text": [
      "No. of unique values: 1858\n",
      "No.of Null Values: 0\n"
     ]
    },
    {
     "data": {
      "text/plain": [
       "'VAR_0981'"
      ]
     },
     "execution_count": 13,
     "metadata": {},
     "output_type": "execute_result"
    },
    {
     "name": "stdout",
     "output_type": "stream",
     "text": [
      "No. of unique values: 320\n",
      "No.of Null Values: 0\n"
     ]
    },
    {
     "data": {
      "text/plain": [
       "'VAR_0982'"
      ]
     },
     "execution_count": 13,
     "metadata": {},
     "output_type": "execute_result"
    },
    {
     "name": "stdout",
     "output_type": "stream",
     "text": [
      "No. of unique values: 457\n",
      "No.of Null Values: 0\n"
     ]
    },
    {
     "data": {
      "text/plain": [
       "'VAR_0983'"
      ]
     },
     "execution_count": 13,
     "metadata": {},
     "output_type": "execute_result"
    },
    {
     "name": "stdout",
     "output_type": "stream",
     "text": [
      "No. of unique values: 91\n",
      "No.of Null Values: 0\n"
     ]
    },
    {
     "data": {
      "text/plain": [
       "'VAR_0984'"
      ]
     },
     "execution_count": 13,
     "metadata": {},
     "output_type": "execute_result"
    },
    {
     "name": "stdout",
     "output_type": "stream",
     "text": [
      "No. of unique values: 48\n",
      "No.of Null Values: 0\n"
     ]
    },
    {
     "data": {
      "text/plain": [
       "'VAR_0985'"
      ]
     },
     "execution_count": 13,
     "metadata": {},
     "output_type": "execute_result"
    },
    {
     "name": "stdout",
     "output_type": "stream",
     "text": [
      "No. of unique values: 91\n",
      "No.of Null Values: 0\n"
     ]
    },
    {
     "data": {
      "text/plain": [
       "'VAR_0986'"
      ]
     },
     "execution_count": 13,
     "metadata": {},
     "output_type": "execute_result"
    },
    {
     "name": "stdout",
     "output_type": "stream",
     "text": [
      "No. of unique values: 7\n",
      "No.of Null Values: 0\n"
     ]
    },
    {
     "data": {
      "text/plain": [
       "'VAR_0987'"
      ]
     },
     "execution_count": 13,
     "metadata": {},
     "output_type": "execute_result"
    },
    {
     "name": "stdout",
     "output_type": "stream",
     "text": [
      "No. of unique values: 14\n",
      "No.of Null Values: 0\n"
     ]
    },
    {
     "data": {
      "text/plain": [
       "'VAR_0988'"
      ]
     },
     "execution_count": 13,
     "metadata": {},
     "output_type": "execute_result"
    },
    {
     "name": "stdout",
     "output_type": "stream",
     "text": [
      "No. of unique values: 17\n",
      "No.of Null Values: 0\n"
     ]
    },
    {
     "data": {
      "text/plain": [
       "'VAR_0989'"
      ]
     },
     "execution_count": 13,
     "metadata": {},
     "output_type": "execute_result"
    },
    {
     "name": "stdout",
     "output_type": "stream",
     "text": [
      "No. of unique values: 87\n",
      "No.of Null Values: 0\n"
     ]
    },
    {
     "data": {
      "text/plain": [
       "'VAR_0990'"
      ]
     },
     "execution_count": 13,
     "metadata": {},
     "output_type": "execute_result"
    },
    {
     "name": "stdout",
     "output_type": "stream",
     "text": [
      "No. of unique values: 48\n",
      "No.of Null Values: 0\n"
     ]
    },
    {
     "data": {
      "text/plain": [
       "'VAR_0991'"
      ]
     },
     "execution_count": 13,
     "metadata": {},
     "output_type": "execute_result"
    },
    {
     "name": "stdout",
     "output_type": "stream",
     "text": [
      "No. of unique values: 50\n",
      "No.of Null Values: 0\n"
     ]
    },
    {
     "data": {
      "text/plain": [
       "'VAR_0992'"
      ]
     },
     "execution_count": 13,
     "metadata": {},
     "output_type": "execute_result"
    },
    {
     "name": "stdout",
     "output_type": "stream",
     "text": [
      "No. of unique values: 60\n",
      "No.of Null Values: 0\n"
     ]
    },
    {
     "data": {
      "text/plain": [
       "'VAR_0993'"
      ]
     },
     "execution_count": 13,
     "metadata": {},
     "output_type": "execute_result"
    },
    {
     "name": "stdout",
     "output_type": "stream",
     "text": [
      "No. of unique values: 85\n",
      "No.of Null Values: 0\n"
     ]
    },
    {
     "data": {
      "text/plain": [
       "'VAR_0994'"
      ]
     },
     "execution_count": 13,
     "metadata": {},
     "output_type": "execute_result"
    },
    {
     "name": "stdout",
     "output_type": "stream",
     "text": [
      "No. of unique values: 4\n",
      "No.of Null Values: 0\n"
     ]
    },
    {
     "data": {
      "text/plain": [
       "'VAR_0995'"
      ]
     },
     "execution_count": 13,
     "metadata": {},
     "output_type": "execute_result"
    },
    {
     "name": "stdout",
     "output_type": "stream",
     "text": [
      "No. of unique values: 4\n",
      "No.of Null Values: 0\n"
     ]
    },
    {
     "data": {
      "text/plain": [
       "'VAR_0996'"
      ]
     },
     "execution_count": 13,
     "metadata": {},
     "output_type": "execute_result"
    },
    {
     "name": "stdout",
     "output_type": "stream",
     "text": [
      "No. of unique values: 42\n",
      "No.of Null Values: 0\n"
     ]
    },
    {
     "data": {
      "text/plain": [
       "'VAR_0997'"
      ]
     },
     "execution_count": 13,
     "metadata": {},
     "output_type": "execute_result"
    },
    {
     "name": "stdout",
     "output_type": "stream",
     "text": [
      "No. of unique values: 45\n",
      "No.of Null Values: 0\n"
     ]
    },
    {
     "data": {
      "text/plain": [
       "'VAR_0998'"
      ]
     },
     "execution_count": 13,
     "metadata": {},
     "output_type": "execute_result"
    },
    {
     "name": "stdout",
     "output_type": "stream",
     "text": [
      "No. of unique values: 50\n",
      "No.of Null Values: 0\n"
     ]
    },
    {
     "data": {
      "text/plain": [
       "'VAR_0999'"
      ]
     },
     "execution_count": 13,
     "metadata": {},
     "output_type": "execute_result"
    },
    {
     "name": "stdout",
     "output_type": "stream",
     "text": [
      "No. of unique values: 17\n",
      "No.of Null Values: 0\n"
     ]
    },
    {
     "data": {
      "text/plain": [
       "'VAR_1000'"
      ]
     },
     "execution_count": 13,
     "metadata": {},
     "output_type": "execute_result"
    },
    {
     "name": "stdout",
     "output_type": "stream",
     "text": [
      "No. of unique values: 39\n",
      "No.of Null Values: 0\n"
     ]
    },
    {
     "data": {
      "text/plain": [
       "'VAR_1001'"
      ]
     },
     "execution_count": 13,
     "metadata": {},
     "output_type": "execute_result"
    },
    {
     "name": "stdout",
     "output_type": "stream",
     "text": [
      "No. of unique values: 37\n",
      "No.of Null Values: 0\n"
     ]
    },
    {
     "data": {
      "text/plain": [
       "'VAR_1002'"
      ]
     },
     "execution_count": 13,
     "metadata": {},
     "output_type": "execute_result"
    },
    {
     "name": "stdout",
     "output_type": "stream",
     "text": [
      "No. of unique values: 15\n",
      "No.of Null Values: 0\n"
     ]
    },
    {
     "data": {
      "text/plain": [
       "'VAR_1003'"
      ]
     },
     "execution_count": 13,
     "metadata": {},
     "output_type": "execute_result"
    },
    {
     "name": "stdout",
     "output_type": "stream",
     "text": [
      "No. of unique values: 20\n",
      "No.of Null Values: 0\n"
     ]
    },
    {
     "data": {
      "text/plain": [
       "'VAR_1004'"
      ]
     },
     "execution_count": 13,
     "metadata": {},
     "output_type": "execute_result"
    },
    {
     "name": "stdout",
     "output_type": "stream",
     "text": [
      "No. of unique values: 23\n",
      "No.of Null Values: 0\n"
     ]
    },
    {
     "data": {
      "text/plain": [
       "'VAR_1005'"
      ]
     },
     "execution_count": 13,
     "metadata": {},
     "output_type": "execute_result"
    },
    {
     "name": "stdout",
     "output_type": "stream",
     "text": [
      "No. of unique values: 26\n",
      "No.of Null Values: 0\n"
     ]
    },
    {
     "data": {
      "text/plain": [
       "'VAR_1006'"
      ]
     },
     "execution_count": 13,
     "metadata": {},
     "output_type": "execute_result"
    },
    {
     "name": "stdout",
     "output_type": "stream",
     "text": [
      "No. of unique values: 36\n",
      "No.of Null Values: 0\n"
     ]
    },
    {
     "data": {
      "text/plain": [
       "'VAR_1007'"
      ]
     },
     "execution_count": 13,
     "metadata": {},
     "output_type": "execute_result"
    },
    {
     "name": "stdout",
     "output_type": "stream",
     "text": [
      "No. of unique values: 29\n",
      "No.of Null Values: 0\n"
     ]
    },
    {
     "data": {
      "text/plain": [
       "'VAR_1008'"
      ]
     },
     "execution_count": 13,
     "metadata": {},
     "output_type": "execute_result"
    },
    {
     "name": "stdout",
     "output_type": "stream",
     "text": [
      "No. of unique values: 74\n",
      "No.of Null Values: 0\n"
     ]
    },
    {
     "data": {
      "text/plain": [
       "'VAR_1009'"
      ]
     },
     "execution_count": 13,
     "metadata": {},
     "output_type": "execute_result"
    },
    {
     "name": "stdout",
     "output_type": "stream",
     "text": [
      "No. of unique values: 12\n",
      "No.of Null Values: 0\n"
     ]
    },
    {
     "data": {
      "text/plain": [
       "'VAR_1010'"
      ]
     },
     "execution_count": 13,
     "metadata": {},
     "output_type": "execute_result"
    },
    {
     "name": "stdout",
     "output_type": "stream",
     "text": [
      "No. of unique values: 7\n",
      "No.of Null Values: 0\n"
     ]
    },
    {
     "data": {
      "text/plain": [
       "'VAR_1011'"
      ]
     },
     "execution_count": 13,
     "metadata": {},
     "output_type": "execute_result"
    },
    {
     "name": "stdout",
     "output_type": "stream",
     "text": [
      "No. of unique values: 79\n",
      "No.of Null Values: 0\n"
     ]
    },
    {
     "data": {
      "text/plain": [
       "'VAR_1012'"
      ]
     },
     "execution_count": 13,
     "metadata": {},
     "output_type": "execute_result"
    },
    {
     "name": "stdout",
     "output_type": "stream",
     "text": [
      "No. of unique values: 3\n",
      "No.of Null Values: 0\n"
     ]
    },
    {
     "data": {
      "text/plain": [
       "'VAR_1013'"
      ]
     },
     "execution_count": 13,
     "metadata": {},
     "output_type": "execute_result"
    },
    {
     "name": "stdout",
     "output_type": "stream",
     "text": [
      "No. of unique values: 3\n",
      "No.of Null Values: 0\n"
     ]
    },
    {
     "data": {
      "text/plain": [
       "'VAR_1014'"
      ]
     },
     "execution_count": 13,
     "metadata": {},
     "output_type": "execute_result"
    },
    {
     "name": "stdout",
     "output_type": "stream",
     "text": [
      "No. of unique values: 42\n",
      "No.of Null Values: 0\n"
     ]
    },
    {
     "data": {
      "text/plain": [
       "'VAR_1015'"
      ]
     },
     "execution_count": 13,
     "metadata": {},
     "output_type": "execute_result"
    },
    {
     "name": "stdout",
     "output_type": "stream",
     "text": [
      "No. of unique values: 21\n",
      "No.of Null Values: 0\n"
     ]
    },
    {
     "data": {
      "text/plain": [
       "'VAR_1016'"
      ]
     },
     "execution_count": 13,
     "metadata": {},
     "output_type": "execute_result"
    },
    {
     "name": "stdout",
     "output_type": "stream",
     "text": [
      "No. of unique values: 45\n",
      "No.of Null Values: 0\n"
     ]
    },
    {
     "data": {
      "text/plain": [
       "'VAR_1017'"
      ]
     },
     "execution_count": 13,
     "metadata": {},
     "output_type": "execute_result"
    },
    {
     "name": "stdout",
     "output_type": "stream",
     "text": [
      "No. of unique values: 21\n",
      "No.of Null Values: 0\n"
     ]
    },
    {
     "data": {
      "text/plain": [
       "'VAR_1018'"
      ]
     },
     "execution_count": 13,
     "metadata": {},
     "output_type": "execute_result"
    },
    {
     "name": "stdout",
     "output_type": "stream",
     "text": [
      "No. of unique values: 48\n",
      "No.of Null Values: 0\n"
     ]
    },
    {
     "data": {
      "text/plain": [
       "'VAR_1019'"
      ]
     },
     "execution_count": 13,
     "metadata": {},
     "output_type": "execute_result"
    },
    {
     "name": "stdout",
     "output_type": "stream",
     "text": [
      "No. of unique values: 38\n",
      "No.of Null Values: 0\n"
     ]
    },
    {
     "data": {
      "text/plain": [
       "'VAR_1020'"
      ]
     },
     "execution_count": 13,
     "metadata": {},
     "output_type": "execute_result"
    },
    {
     "name": "stdout",
     "output_type": "stream",
     "text": [
      "No. of unique values: 25\n",
      "No.of Null Values: 0\n"
     ]
    },
    {
     "data": {
      "text/plain": [
       "'VAR_1021'"
      ]
     },
     "execution_count": 13,
     "metadata": {},
     "output_type": "execute_result"
    },
    {
     "name": "stdout",
     "output_type": "stream",
     "text": [
      "No. of unique values: 21\n",
      "No.of Null Values: 0\n"
     ]
    },
    {
     "data": {
      "text/plain": [
       "'VAR_1022'"
      ]
     },
     "execution_count": 13,
     "metadata": {},
     "output_type": "execute_result"
    },
    {
     "name": "stdout",
     "output_type": "stream",
     "text": [
      "No. of unique values: 34\n",
      "No.of Null Values: 0\n"
     ]
    },
    {
     "data": {
      "text/plain": [
       "'VAR_1023'"
      ]
     },
     "execution_count": 13,
     "metadata": {},
     "output_type": "execute_result"
    },
    {
     "name": "stdout",
     "output_type": "stream",
     "text": [
      "No. of unique values: 48\n",
      "No.of Null Values: 0\n"
     ]
    },
    {
     "data": {
      "text/plain": [
       "'VAR_1024'"
      ]
     },
     "execution_count": 13,
     "metadata": {},
     "output_type": "execute_result"
    },
    {
     "name": "stdout",
     "output_type": "stream",
     "text": [
      "No. of unique values: 12\n",
      "No.of Null Values: 0\n"
     ]
    },
    {
     "data": {
      "text/plain": [
       "'VAR_1025'"
      ]
     },
     "execution_count": 13,
     "metadata": {},
     "output_type": "execute_result"
    },
    {
     "name": "stdout",
     "output_type": "stream",
     "text": [
      "No. of unique values: 12\n",
      "No.of Null Values: 0\n"
     ]
    },
    {
     "data": {
      "text/plain": [
       "'VAR_1026'"
      ]
     },
     "execution_count": 13,
     "metadata": {},
     "output_type": "execute_result"
    },
    {
     "name": "stdout",
     "output_type": "stream",
     "text": [
      "No. of unique values: 16\n",
      "No.of Null Values: 0\n"
     ]
    },
    {
     "data": {
      "text/plain": [
       "'VAR_1027'"
      ]
     },
     "execution_count": 13,
     "metadata": {},
     "output_type": "execute_result"
    },
    {
     "name": "stdout",
     "output_type": "stream",
     "text": [
      "No. of unique values: 22\n",
      "No.of Null Values: 0\n"
     ]
    },
    {
     "data": {
      "text/plain": [
       "'VAR_1028'"
      ]
     },
     "execution_count": 13,
     "metadata": {},
     "output_type": "execute_result"
    },
    {
     "name": "stdout",
     "output_type": "stream",
     "text": [
      "No. of unique values: 63\n",
      "No.of Null Values: 0\n"
     ]
    },
    {
     "data": {
      "text/plain": [
       "'VAR_1029'"
      ]
     },
     "execution_count": 13,
     "metadata": {},
     "output_type": "execute_result"
    },
    {
     "name": "stdout",
     "output_type": "stream",
     "text": [
      "No. of unique values: 26\n",
      "No.of Null Values: 0\n"
     ]
    },
    {
     "data": {
      "text/plain": [
       "'VAR_1030'"
      ]
     },
     "execution_count": 13,
     "metadata": {},
     "output_type": "execute_result"
    },
    {
     "name": "stdout",
     "output_type": "stream",
     "text": [
      "No. of unique values: 31\n",
      "No.of Null Values: 0\n"
     ]
    },
    {
     "data": {
      "text/plain": [
       "'VAR_1031'"
      ]
     },
     "execution_count": 13,
     "metadata": {},
     "output_type": "execute_result"
    },
    {
     "name": "stdout",
     "output_type": "stream",
     "text": [
      "No. of unique values: 40\n",
      "No.of Null Values: 0\n"
     ]
    },
    {
     "data": {
      "text/plain": [
       "'VAR_1032'"
      ]
     },
     "execution_count": 13,
     "metadata": {},
     "output_type": "execute_result"
    },
    {
     "name": "stdout",
     "output_type": "stream",
     "text": [
      "No. of unique values: 63\n",
      "No.of Null Values: 0\n"
     ]
    },
    {
     "data": {
      "text/plain": [
       "'VAR_1033'"
      ]
     },
     "execution_count": 13,
     "metadata": {},
     "output_type": "execute_result"
    },
    {
     "name": "stdout",
     "output_type": "stream",
     "text": [
      "No. of unique values: 24\n",
      "No.of Null Values: 0\n"
     ]
    },
    {
     "data": {
      "text/plain": [
       "'VAR_1034'"
      ]
     },
     "execution_count": 13,
     "metadata": {},
     "output_type": "execute_result"
    },
    {
     "name": "stdout",
     "output_type": "stream",
     "text": [
      "No. of unique values: 29\n",
      "No.of Null Values: 0\n"
     ]
    },
    {
     "data": {
      "text/plain": [
       "'VAR_1035'"
      ]
     },
     "execution_count": 13,
     "metadata": {},
     "output_type": "execute_result"
    },
    {
     "name": "stdout",
     "output_type": "stream",
     "text": [
      "No. of unique values: 39\n",
      "No.of Null Values: 0\n"
     ]
    },
    {
     "data": {
      "text/plain": [
       "'VAR_1036'"
      ]
     },
     "execution_count": 13,
     "metadata": {},
     "output_type": "execute_result"
    },
    {
     "name": "stdout",
     "output_type": "stream",
     "text": [
      "No. of unique values: 63\n",
      "No.of Null Values: 0\n"
     ]
    },
    {
     "data": {
      "text/plain": [
       "'VAR_1037'"
      ]
     },
     "execution_count": 13,
     "metadata": {},
     "output_type": "execute_result"
    },
    {
     "name": "stdout",
     "output_type": "stream",
     "text": [
      "No. of unique values: 25\n",
      "No.of Null Values: 0\n"
     ]
    },
    {
     "data": {
      "text/plain": [
       "'VAR_1038'"
      ]
     },
     "execution_count": 13,
     "metadata": {},
     "output_type": "execute_result"
    },
    {
     "name": "stdout",
     "output_type": "stream",
     "text": [
      "No. of unique values: 28\n",
      "No.of Null Values: 0\n"
     ]
    },
    {
     "data": {
      "text/plain": [
       "'VAR_1039'"
      ]
     },
     "execution_count": 13,
     "metadata": {},
     "output_type": "execute_result"
    },
    {
     "name": "stdout",
     "output_type": "stream",
     "text": [
      "No. of unique values: 39\n",
      "No.of Null Values: 0\n"
     ]
    },
    {
     "data": {
      "text/plain": [
       "'VAR_1040'"
      ]
     },
     "execution_count": 13,
     "metadata": {},
     "output_type": "execute_result"
    },
    {
     "name": "stdout",
     "output_type": "stream",
     "text": [
      "No. of unique values: 65\n",
      "No.of Null Values: 0\n"
     ]
    },
    {
     "data": {
      "text/plain": [
       "'VAR_1041'"
      ]
     },
     "execution_count": 13,
     "metadata": {},
     "output_type": "execute_result"
    },
    {
     "name": "stdout",
     "output_type": "stream",
     "text": [
      "No. of unique values: 11\n",
      "No.of Null Values: 0\n"
     ]
    },
    {
     "data": {
      "text/plain": [
       "'VAR_1042'"
      ]
     },
     "execution_count": 13,
     "metadata": {},
     "output_type": "execute_result"
    },
    {
     "name": "stdout",
     "output_type": "stream",
     "text": [
      "No. of unique values: 13\n",
      "No.of Null Values: 0\n"
     ]
    },
    {
     "data": {
      "text/plain": [
       "'VAR_1043'"
      ]
     },
     "execution_count": 13,
     "metadata": {},
     "output_type": "execute_result"
    },
    {
     "name": "stdout",
     "output_type": "stream",
     "text": [
      "No. of unique values: 35\n",
      "No.of Null Values: 0\n"
     ]
    },
    {
     "data": {
      "text/plain": [
       "'VAR_1044'"
      ]
     },
     "execution_count": 13,
     "metadata": {},
     "output_type": "execute_result"
    },
    {
     "name": "stdout",
     "output_type": "stream",
     "text": [
      "No. of unique values: 63\n",
      "No.of Null Values: 0\n"
     ]
    },
    {
     "data": {
      "text/plain": [
       "'VAR_1045'"
      ]
     },
     "execution_count": 13,
     "metadata": {},
     "output_type": "execute_result"
    },
    {
     "name": "stdout",
     "output_type": "stream",
     "text": [
      "No. of unique values: 23\n",
      "No.of Null Values: 0\n"
     ]
    },
    {
     "data": {
      "text/plain": [
       "'VAR_1046'"
      ]
     },
     "execution_count": 13,
     "metadata": {},
     "output_type": "execute_result"
    },
    {
     "name": "stdout",
     "output_type": "stream",
     "text": [
      "No. of unique values: 27\n",
      "No.of Null Values: 0\n"
     ]
    },
    {
     "data": {
      "text/plain": [
       "'VAR_1047'"
      ]
     },
     "execution_count": 13,
     "metadata": {},
     "output_type": "execute_result"
    },
    {
     "name": "stdout",
     "output_type": "stream",
     "text": [
      "No. of unique values: 38\n",
      "No.of Null Values: 0\n"
     ]
    },
    {
     "data": {
      "text/plain": [
       "'VAR_1048'"
      ]
     },
     "execution_count": 13,
     "metadata": {},
     "output_type": "execute_result"
    },
    {
     "name": "stdout",
     "output_type": "stream",
     "text": [
      "No. of unique values: 62\n",
      "No.of Null Values: 0\n"
     ]
    },
    {
     "data": {
      "text/plain": [
       "'VAR_1049'"
      ]
     },
     "execution_count": 13,
     "metadata": {},
     "output_type": "execute_result"
    },
    {
     "name": "stdout",
     "output_type": "stream",
     "text": [
      "No. of unique values: 34\n",
      "No.of Null Values: 0\n"
     ]
    },
    {
     "data": {
      "text/plain": [
       "'VAR_1050'"
      ]
     },
     "execution_count": 13,
     "metadata": {},
     "output_type": "execute_result"
    },
    {
     "name": "stdout",
     "output_type": "stream",
     "text": [
      "No. of unique values: 5\n",
      "No.of Null Values: 0\n"
     ]
    },
    {
     "data": {
      "text/plain": [
       "'VAR_1051'"
      ]
     },
     "execution_count": 13,
     "metadata": {},
     "output_type": "execute_result"
    },
    {
     "name": "stdout",
     "output_type": "stream",
     "text": [
      "No. of unique values: 5\n",
      "No.of Null Values: 0\n"
     ]
    },
    {
     "data": {
      "text/plain": [
       "'VAR_1052'"
      ]
     },
     "execution_count": 13,
     "metadata": {},
     "output_type": "execute_result"
    },
    {
     "name": "stdout",
     "output_type": "stream",
     "text": [
      "No. of unique values: 18\n",
      "No.of Null Values: 0\n"
     ]
    },
    {
     "data": {
      "text/plain": [
       "'VAR_1053'"
      ]
     },
     "execution_count": 13,
     "metadata": {},
     "output_type": "execute_result"
    },
    {
     "name": "stdout",
     "output_type": "stream",
     "text": [
      "No. of unique values: 19\n",
      "No.of Null Values: 0\n"
     ]
    },
    {
     "data": {
      "text/plain": [
       "'VAR_1054'"
      ]
     },
     "execution_count": 13,
     "metadata": {},
     "output_type": "execute_result"
    },
    {
     "name": "stdout",
     "output_type": "stream",
     "text": [
      "No. of unique values: 30\n",
      "No.of Null Values: 0\n"
     ]
    },
    {
     "data": {
      "text/plain": [
       "'VAR_1055'"
      ]
     },
     "execution_count": 13,
     "metadata": {},
     "output_type": "execute_result"
    },
    {
     "name": "stdout",
     "output_type": "stream",
     "text": [
      "No. of unique values: 4\n",
      "No.of Null Values: 0\n"
     ]
    },
    {
     "data": {
      "text/plain": [
       "'VAR_1056'"
      ]
     },
     "execution_count": 13,
     "metadata": {},
     "output_type": "execute_result"
    },
    {
     "name": "stdout",
     "output_type": "stream",
     "text": [
      "No. of unique values: 15\n",
      "No.of Null Values: 0\n"
     ]
    },
    {
     "data": {
      "text/plain": [
       "'VAR_1057'"
      ]
     },
     "execution_count": 13,
     "metadata": {},
     "output_type": "execute_result"
    },
    {
     "name": "stdout",
     "output_type": "stream",
     "text": [
      "No. of unique values: 13\n",
      "No.of Null Values: 0\n"
     ]
    },
    {
     "data": {
      "text/plain": [
       "'VAR_1058'"
      ]
     },
     "execution_count": 13,
     "metadata": {},
     "output_type": "execute_result"
    },
    {
     "name": "stdout",
     "output_type": "stream",
     "text": [
      "No. of unique values: 13\n",
      "No.of Null Values: 0\n"
     ]
    },
    {
     "data": {
      "text/plain": [
       "'VAR_1059'"
      ]
     },
     "execution_count": 13,
     "metadata": {},
     "output_type": "execute_result"
    },
    {
     "name": "stdout",
     "output_type": "stream",
     "text": [
      "No. of unique values: 13\n",
      "No.of Null Values: 0\n"
     ]
    },
    {
     "data": {
      "text/plain": [
       "'VAR_1060'"
      ]
     },
     "execution_count": 13,
     "metadata": {},
     "output_type": "execute_result"
    },
    {
     "name": "stdout",
     "output_type": "stream",
     "text": [
      "No. of unique values: 14\n",
      "No.of Null Values: 0\n"
     ]
    },
    {
     "data": {
      "text/plain": [
       "'VAR_1061'"
      ]
     },
     "execution_count": 13,
     "metadata": {},
     "output_type": "execute_result"
    },
    {
     "name": "stdout",
     "output_type": "stream",
     "text": [
      "No. of unique values: 13\n",
      "No.of Null Values: 0\n"
     ]
    },
    {
     "data": {
      "text/plain": [
       "'VAR_1062'"
      ]
     },
     "execution_count": 13,
     "metadata": {},
     "output_type": "execute_result"
    },
    {
     "name": "stdout",
     "output_type": "stream",
     "text": [
      "No. of unique values: 13\n",
      "No.of Null Values: 0\n"
     ]
    },
    {
     "data": {
      "text/plain": [
       "'VAR_1063'"
      ]
     },
     "execution_count": 13,
     "metadata": {},
     "output_type": "execute_result"
    },
    {
     "name": "stdout",
     "output_type": "stream",
     "text": [
      "No. of unique values: 13\n",
      "No.of Null Values: 0\n"
     ]
    },
    {
     "data": {
      "text/plain": [
       "'VAR_1064'"
      ]
     },
     "execution_count": 13,
     "metadata": {},
     "output_type": "execute_result"
    },
    {
     "name": "stdout",
     "output_type": "stream",
     "text": [
      "No. of unique values: 14\n",
      "No.of Null Values: 0\n"
     ]
    },
    {
     "data": {
      "text/plain": [
       "'VAR_1065'"
      ]
     },
     "execution_count": 13,
     "metadata": {},
     "output_type": "execute_result"
    },
    {
     "name": "stdout",
     "output_type": "stream",
     "text": [
      "No. of unique values: 13\n",
      "No.of Null Values: 0\n"
     ]
    },
    {
     "data": {
      "text/plain": [
       "'VAR_1066'"
      ]
     },
     "execution_count": 13,
     "metadata": {},
     "output_type": "execute_result"
    },
    {
     "name": "stdout",
     "output_type": "stream",
     "text": [
      "No. of unique values: 12\n",
      "No.of Null Values: 0\n"
     ]
    },
    {
     "data": {
      "text/plain": [
       "'VAR_1067'"
      ]
     },
     "execution_count": 13,
     "metadata": {},
     "output_type": "execute_result"
    },
    {
     "name": "stdout",
     "output_type": "stream",
     "text": [
      "No. of unique values: 13\n",
      "No.of Null Values: 0\n"
     ]
    },
    {
     "data": {
      "text/plain": [
       "'VAR_1068'"
      ]
     },
     "execution_count": 13,
     "metadata": {},
     "output_type": "execute_result"
    },
    {
     "name": "stdout",
     "output_type": "stream",
     "text": [
      "No. of unique values: 16\n",
      "No.of Null Values: 0\n"
     ]
    },
    {
     "data": {
      "text/plain": [
       "'VAR_1069'"
      ]
     },
     "execution_count": 13,
     "metadata": {},
     "output_type": "execute_result"
    },
    {
     "name": "stdout",
     "output_type": "stream",
     "text": [
      "No. of unique values: 15\n",
      "No.of Null Values: 0\n"
     ]
    },
    {
     "data": {
      "text/plain": [
       "'VAR_1070'"
      ]
     },
     "execution_count": 13,
     "metadata": {},
     "output_type": "execute_result"
    },
    {
     "name": "stdout",
     "output_type": "stream",
     "text": [
      "No. of unique values: 16\n",
      "No.of Null Values: 0\n"
     ]
    },
    {
     "data": {
      "text/plain": [
       "'VAR_1071'"
      ]
     },
     "execution_count": 13,
     "metadata": {},
     "output_type": "execute_result"
    },
    {
     "name": "stdout",
     "output_type": "stream",
     "text": [
      "No. of unique values: 16\n",
      "No.of Null Values: 0\n"
     ]
    },
    {
     "data": {
      "text/plain": [
       "'VAR_1072'"
      ]
     },
     "execution_count": 13,
     "metadata": {},
     "output_type": "execute_result"
    },
    {
     "name": "stdout",
     "output_type": "stream",
     "text": [
      "No. of unique values: 38\n",
      "No.of Null Values: 0\n"
     ]
    },
    {
     "data": {
      "text/plain": [
       "'VAR_1073'"
      ]
     },
     "execution_count": 13,
     "metadata": {},
     "output_type": "execute_result"
    },
    {
     "name": "stdout",
     "output_type": "stream",
     "text": [
      "No. of unique values: 17\n",
      "No.of Null Values: 0\n"
     ]
    },
    {
     "data": {
      "text/plain": [
       "'VAR_1074'"
      ]
     },
     "execution_count": 13,
     "metadata": {},
     "output_type": "execute_result"
    },
    {
     "name": "stdout",
     "output_type": "stream",
     "text": [
      "No. of unique values: 35\n",
      "No.of Null Values: 0\n"
     ]
    },
    {
     "data": {
      "text/plain": [
       "'VAR_1075'"
      ]
     },
     "execution_count": 13,
     "metadata": {},
     "output_type": "execute_result"
    },
    {
     "name": "stdout",
     "output_type": "stream",
     "text": [
      "No. of unique values: 50\n",
      "No.of Null Values: 0\n"
     ]
    },
    {
     "data": {
      "text/plain": [
       "'VAR_1076'"
      ]
     },
     "execution_count": 13,
     "metadata": {},
     "output_type": "execute_result"
    },
    {
     "name": "stdout",
     "output_type": "stream",
     "text": [
      "No. of unique values: 26\n",
      "No.of Null Values: 0\n"
     ]
    },
    {
     "data": {
      "text/plain": [
       "'VAR_1077'"
      ]
     },
     "execution_count": 13,
     "metadata": {},
     "output_type": "execute_result"
    },
    {
     "name": "stdout",
     "output_type": "stream",
     "text": [
      "No. of unique values: 34\n",
      "No.of Null Values: 0\n"
     ]
    },
    {
     "data": {
      "text/plain": [
       "'VAR_1078'"
      ]
     },
     "execution_count": 13,
     "metadata": {},
     "output_type": "execute_result"
    },
    {
     "name": "stdout",
     "output_type": "stream",
     "text": [
      "No. of unique values: 48\n",
      "No.of Null Values: 0\n"
     ]
    },
    {
     "data": {
      "text/plain": [
       "'VAR_1079'"
      ]
     },
     "execution_count": 13,
     "metadata": {},
     "output_type": "execute_result"
    },
    {
     "name": "stdout",
     "output_type": "stream",
     "text": [
      "No. of unique values: 60\n",
      "No.of Null Values: 0\n"
     ]
    },
    {
     "data": {
      "text/plain": [
       "'VAR_1080'"
      ]
     },
     "execution_count": 13,
     "metadata": {},
     "output_type": "execute_result"
    },
    {
     "name": "stdout",
     "output_type": "stream",
     "text": [
      "No. of unique values: 22\n",
      "No.of Null Values: 0\n"
     ]
    },
    {
     "data": {
      "text/plain": [
       "'VAR_1081'"
      ]
     },
     "execution_count": 13,
     "metadata": {},
     "output_type": "execute_result"
    },
    {
     "name": "stdout",
     "output_type": "stream",
     "text": [
      "No. of unique values: 11947\n",
      "No.of Null Values: 0\n"
     ]
    },
    {
     "data": {
      "text/plain": [
       "'VAR_1082'"
      ]
     },
     "execution_count": 13,
     "metadata": {},
     "output_type": "execute_result"
    },
    {
     "name": "stdout",
     "output_type": "stream",
     "text": [
      "No. of unique values: 11949\n",
      "No.of Null Values: 0\n"
     ]
    },
    {
     "data": {
      "text/plain": [
       "'VAR_1083'"
      ]
     },
     "execution_count": 13,
     "metadata": {},
     "output_type": "execute_result"
    },
    {
     "name": "stdout",
     "output_type": "stream",
     "text": [
      "No. of unique values: 1387\n",
      "No.of Null Values: 0\n"
     ]
    },
    {
     "data": {
      "text/plain": [
       "'VAR_1084'"
      ]
     },
     "execution_count": 13,
     "metadata": {},
     "output_type": "execute_result"
    },
    {
     "name": "stdout",
     "output_type": "stream",
     "text": [
      "No. of unique values: 640\n",
      "No.of Null Values: 0\n"
     ]
    },
    {
     "data": {
      "text/plain": [
       "'VAR_1085'"
      ]
     },
     "execution_count": 13,
     "metadata": {},
     "output_type": "execute_result"
    },
    {
     "name": "stdout",
     "output_type": "stream",
     "text": [
      "No. of unique values: 1082\n",
      "No.of Null Values: 0\n"
     ]
    },
    {
     "data": {
      "text/plain": [
       "'VAR_1086'"
      ]
     },
     "execution_count": 13,
     "metadata": {},
     "output_type": "execute_result"
    },
    {
     "name": "stdout",
     "output_type": "stream",
     "text": [
      "No. of unique values: 2115\n",
      "No.of Null Values: 0\n"
     ]
    },
    {
     "data": {
      "text/plain": [
       "'VAR_1087'"
      ]
     },
     "execution_count": 13,
     "metadata": {},
     "output_type": "execute_result"
    },
    {
     "name": "stdout",
     "output_type": "stream",
     "text": [
      "No. of unique values: 11162\n",
      "No.of Null Values: 0\n"
     ]
    },
    {
     "data": {
      "text/plain": [
       "'VAR_1088'"
      ]
     },
     "execution_count": 13,
     "metadata": {},
     "output_type": "execute_result"
    },
    {
     "name": "stdout",
     "output_type": "stream",
     "text": [
      "No. of unique values: 7173\n",
      "No.of Null Values: 0\n"
     ]
    },
    {
     "data": {
      "text/plain": [
       "'VAR_1089'"
      ]
     },
     "execution_count": 13,
     "metadata": {},
     "output_type": "execute_result"
    },
    {
     "name": "stdout",
     "output_type": "stream",
     "text": [
      "No. of unique values: 5475\n",
      "No.of Null Values: 0\n"
     ]
    },
    {
     "data": {
      "text/plain": [
       "'VAR_1090'"
      ]
     },
     "execution_count": 13,
     "metadata": {},
     "output_type": "execute_result"
    },
    {
     "name": "stdout",
     "output_type": "stream",
     "text": [
      "No. of unique values: 806\n",
      "No.of Null Values: 0\n"
     ]
    },
    {
     "data": {
      "text/plain": [
       "'VAR_1091'"
      ]
     },
     "execution_count": 13,
     "metadata": {},
     "output_type": "execute_result"
    },
    {
     "name": "stdout",
     "output_type": "stream",
     "text": [
      "No. of unique values: 495\n",
      "No.of Null Values: 0\n"
     ]
    },
    {
     "data": {
      "text/plain": [
       "'VAR_1092'"
      ]
     },
     "execution_count": 13,
     "metadata": {},
     "output_type": "execute_result"
    },
    {
     "name": "stdout",
     "output_type": "stream",
     "text": [
      "No. of unique values: 905\n",
      "No.of Null Values: 0\n"
     ]
    },
    {
     "data": {
      "text/plain": [
       "'VAR_1093'"
      ]
     },
     "execution_count": 13,
     "metadata": {},
     "output_type": "execute_result"
    },
    {
     "name": "stdout",
     "output_type": "stream",
     "text": [
      "No. of unique values: 877\n",
      "No.of Null Values: 0\n"
     ]
    },
    {
     "data": {
      "text/plain": [
       "'VAR_1094'"
      ]
     },
     "execution_count": 13,
     "metadata": {},
     "output_type": "execute_result"
    },
    {
     "name": "stdout",
     "output_type": "stream",
     "text": [
      "No. of unique values: 2953\n",
      "No.of Null Values: 0\n"
     ]
    },
    {
     "data": {
      "text/plain": [
       "'VAR_1095'"
      ]
     },
     "execution_count": 13,
     "metadata": {},
     "output_type": "execute_result"
    },
    {
     "name": "stdout",
     "output_type": "stream",
     "text": [
      "No. of unique values: 2951\n",
      "No.of Null Values: 0\n"
     ]
    },
    {
     "data": {
      "text/plain": [
       "'VAR_1096'"
      ]
     },
     "execution_count": 13,
     "metadata": {},
     "output_type": "execute_result"
    },
    {
     "name": "stdout",
     "output_type": "stream",
     "text": [
      "No. of unique values: 2991\n",
      "No.of Null Values: 0\n"
     ]
    },
    {
     "data": {
      "text/plain": [
       "'VAR_1097'"
      ]
     },
     "execution_count": 13,
     "metadata": {},
     "output_type": "execute_result"
    },
    {
     "name": "stdout",
     "output_type": "stream",
     "text": [
      "No. of unique values: 2990\n",
      "No.of Null Values: 0\n"
     ]
    },
    {
     "data": {
      "text/plain": [
       "'VAR_1098'"
      ]
     },
     "execution_count": 13,
     "metadata": {},
     "output_type": "execute_result"
    },
    {
     "name": "stdout",
     "output_type": "stream",
     "text": [
      "No. of unique values: 8\n",
      "No.of Null Values: 0\n"
     ]
    },
    {
     "data": {
      "text/plain": [
       "'VAR_1099'"
      ]
     },
     "execution_count": 13,
     "metadata": {},
     "output_type": "execute_result"
    },
    {
     "name": "stdout",
     "output_type": "stream",
     "text": [
      "No. of unique values: 8\n",
      "No.of Null Values: 0\n"
     ]
    },
    {
     "data": {
      "text/plain": [
       "'VAR_1100'"
      ]
     },
     "execution_count": 13,
     "metadata": {},
     "output_type": "execute_result"
    },
    {
     "name": "stdout",
     "output_type": "stream",
     "text": [
      "No. of unique values: 8\n",
      "No.of Null Values: 0\n"
     ]
    },
    {
     "data": {
      "text/plain": [
       "'VAR_1101'"
      ]
     },
     "execution_count": 13,
     "metadata": {},
     "output_type": "execute_result"
    },
    {
     "name": "stdout",
     "output_type": "stream",
     "text": [
      "No. of unique values: 7\n",
      "No.of Null Values: 0\n"
     ]
    },
    {
     "data": {
      "text/plain": [
       "'VAR_1102'"
      ]
     },
     "execution_count": 13,
     "metadata": {},
     "output_type": "execute_result"
    },
    {
     "name": "stdout",
     "output_type": "stream",
     "text": [
      "No. of unique values: 8\n",
      "No.of Null Values: 0\n"
     ]
    },
    {
     "data": {
      "text/plain": [
       "'VAR_1103'"
      ]
     },
     "execution_count": 13,
     "metadata": {},
     "output_type": "execute_result"
    },
    {
     "name": "stdout",
     "output_type": "stream",
     "text": [
      "No. of unique values: 8\n",
      "No.of Null Values: 0\n"
     ]
    },
    {
     "data": {
      "text/plain": [
       "'VAR_1104'"
      ]
     },
     "execution_count": 13,
     "metadata": {},
     "output_type": "execute_result"
    },
    {
     "name": "stdout",
     "output_type": "stream",
     "text": [
      "No. of unique values: 8\n",
      "No.of Null Values: 0\n"
     ]
    },
    {
     "data": {
      "text/plain": [
       "'VAR_1105'"
      ]
     },
     "execution_count": 13,
     "metadata": {},
     "output_type": "execute_result"
    },
    {
     "name": "stdout",
     "output_type": "stream",
     "text": [
      "No. of unique values: 7\n",
      "No.of Null Values: 0\n"
     ]
    },
    {
     "data": {
      "text/plain": [
       "'VAR_1106'"
      ]
     },
     "execution_count": 13,
     "metadata": {},
     "output_type": "execute_result"
    },
    {
     "name": "stdout",
     "output_type": "stream",
     "text": [
      "No. of unique values: 9\n",
      "No.of Null Values: 0\n"
     ]
    },
    {
     "data": {
      "text/plain": [
       "'VAR_1107'"
      ]
     },
     "execution_count": 13,
     "metadata": {},
     "output_type": "execute_result"
    },
    {
     "name": "stdout",
     "output_type": "stream",
     "text": [
      "No. of unique values: 9\n",
      "No.of Null Values: 0\n"
     ]
    },
    {
     "data": {
      "text/plain": [
       "'VAR_1108'"
      ]
     },
     "execution_count": 13,
     "metadata": {},
     "output_type": "execute_result"
    },
    {
     "name": "stdout",
     "output_type": "stream",
     "text": [
      "No. of unique values: 10\n",
      "No.of Null Values: 0\n"
     ]
    },
    {
     "data": {
      "text/plain": [
       "'VAR_1109'"
      ]
     },
     "execution_count": 13,
     "metadata": {},
     "output_type": "execute_result"
    },
    {
     "name": "stdout",
     "output_type": "stream",
     "text": [
      "No. of unique values: 10\n",
      "No.of Null Values: 0\n"
     ]
    },
    {
     "data": {
      "text/plain": [
       "'VAR_1110'"
      ]
     },
     "execution_count": 13,
     "metadata": {},
     "output_type": "execute_result"
    },
    {
     "name": "stdout",
     "output_type": "stream",
     "text": [
      "No. of unique values: 171\n",
      "No.of Null Values: 0\n"
     ]
    },
    {
     "data": {
      "text/plain": [
       "'VAR_1111'"
      ]
     },
     "execution_count": 13,
     "metadata": {},
     "output_type": "execute_result"
    },
    {
     "name": "stdout",
     "output_type": "stream",
     "text": [
      "No. of unique values: 103\n",
      "No.of Null Values: 0\n"
     ]
    },
    {
     "data": {
      "text/plain": [
       "'VAR_1112'"
      ]
     },
     "execution_count": 13,
     "metadata": {},
     "output_type": "execute_result"
    },
    {
     "name": "stdout",
     "output_type": "stream",
     "text": [
      "No. of unique values: 141\n",
      "No.of Null Values: 0\n"
     ]
    },
    {
     "data": {
      "text/plain": [
       "'VAR_1113'"
      ]
     },
     "execution_count": 13,
     "metadata": {},
     "output_type": "execute_result"
    },
    {
     "name": "stdout",
     "output_type": "stream",
     "text": [
      "No. of unique values: 154\n",
      "No.of Null Values: 0\n"
     ]
    },
    {
     "data": {
      "text/plain": [
       "'VAR_1114'"
      ]
     },
     "execution_count": 13,
     "metadata": {},
     "output_type": "execute_result"
    },
    {
     "name": "stdout",
     "output_type": "stream",
     "text": [
      "No. of unique values: 200\n",
      "No.of Null Values: 0\n"
     ]
    },
    {
     "data": {
      "text/plain": [
       "'VAR_1115'"
      ]
     },
     "execution_count": 13,
     "metadata": {},
     "output_type": "execute_result"
    },
    {
     "name": "stdout",
     "output_type": "stream",
     "text": [
      "No. of unique values: 105\n",
      "No.of Null Values: 0\n"
     ]
    },
    {
     "data": {
      "text/plain": [
       "'VAR_1116'"
      ]
     },
     "execution_count": 13,
     "metadata": {},
     "output_type": "execute_result"
    },
    {
     "name": "stdout",
     "output_type": "stream",
     "text": [
      "No. of unique values: 98\n",
      "No.of Null Values: 0\n"
     ]
    },
    {
     "data": {
      "text/plain": [
       "'VAR_1117'"
      ]
     },
     "execution_count": 13,
     "metadata": {},
     "output_type": "execute_result"
    },
    {
     "name": "stdout",
     "output_type": "stream",
     "text": [
      "No. of unique values: 99\n",
      "No.of Null Values: 0\n"
     ]
    },
    {
     "data": {
      "text/plain": [
       "'VAR_1118'"
      ]
     },
     "execution_count": 13,
     "metadata": {},
     "output_type": "execute_result"
    },
    {
     "name": "stdout",
     "output_type": "stream",
     "text": [
      "No. of unique values: 98\n",
      "No.of Null Values: 0\n"
     ]
    },
    {
     "data": {
      "text/plain": [
       "'VAR_1119'"
      ]
     },
     "execution_count": 13,
     "metadata": {},
     "output_type": "execute_result"
    },
    {
     "name": "stdout",
     "output_type": "stream",
     "text": [
      "No. of unique values: 101\n",
      "No.of Null Values: 0\n"
     ]
    },
    {
     "data": {
      "text/plain": [
       "'VAR_1120'"
      ]
     },
     "execution_count": 13,
     "metadata": {},
     "output_type": "execute_result"
    },
    {
     "name": "stdout",
     "output_type": "stream",
     "text": [
      "No. of unique values: 99\n",
      "No.of Null Values: 0\n"
     ]
    },
    {
     "data": {
      "text/plain": [
       "'VAR_1121'"
      ]
     },
     "execution_count": 13,
     "metadata": {},
     "output_type": "execute_result"
    },
    {
     "name": "stdout",
     "output_type": "stream",
     "text": [
      "No. of unique values: 99\n",
      "No.of Null Values: 0\n"
     ]
    },
    {
     "data": {
      "text/plain": [
       "'VAR_1122'"
      ]
     },
     "execution_count": 13,
     "metadata": {},
     "output_type": "execute_result"
    },
    {
     "name": "stdout",
     "output_type": "stream",
     "text": [
      "No. of unique values: 99\n",
      "No.of Null Values: 0\n"
     ]
    },
    {
     "data": {
      "text/plain": [
       "'VAR_1123'"
      ]
     },
     "execution_count": 13,
     "metadata": {},
     "output_type": "execute_result"
    },
    {
     "name": "stdout",
     "output_type": "stream",
     "text": [
      "No. of unique values: 101\n",
      "No.of Null Values: 0\n"
     ]
    },
    {
     "data": {
      "text/plain": [
       "'VAR_1124'"
      ]
     },
     "execution_count": 13,
     "metadata": {},
     "output_type": "execute_result"
    },
    {
     "name": "stdout",
     "output_type": "stream",
     "text": [
      "No. of unique values: 101\n",
      "No.of Null Values: 0\n"
     ]
    },
    {
     "data": {
      "text/plain": [
       "'VAR_1125'"
      ]
     },
     "execution_count": 13,
     "metadata": {},
     "output_type": "execute_result"
    },
    {
     "name": "stdout",
     "output_type": "stream",
     "text": [
      "No. of unique values: 101\n",
      "No.of Null Values: 0\n"
     ]
    },
    {
     "data": {
      "text/plain": [
       "'VAR_1126'"
      ]
     },
     "execution_count": 13,
     "metadata": {},
     "output_type": "execute_result"
    },
    {
     "name": "stdout",
     "output_type": "stream",
     "text": [
      "No. of unique values: 101\n",
      "No.of Null Values: 0\n"
     ]
    },
    {
     "data": {
      "text/plain": [
       "'VAR_1127'"
      ]
     },
     "execution_count": 13,
     "metadata": {},
     "output_type": "execute_result"
    },
    {
     "name": "stdout",
     "output_type": "stream",
     "text": [
      "No. of unique values: 97\n",
      "No.of Null Values: 0\n"
     ]
    },
    {
     "data": {
      "text/plain": [
       "'VAR_1128'"
      ]
     },
     "execution_count": 13,
     "metadata": {},
     "output_type": "execute_result"
    },
    {
     "name": "stdout",
     "output_type": "stream",
     "text": [
      "No. of unique values: 100\n",
      "No.of Null Values: 0\n"
     ]
    },
    {
     "data": {
      "text/plain": [
       "'VAR_1129'"
      ]
     },
     "execution_count": 13,
     "metadata": {},
     "output_type": "execute_result"
    },
    {
     "name": "stdout",
     "output_type": "stream",
     "text": [
      "No. of unique values: 101\n",
      "No.of Null Values: 0\n"
     ]
    },
    {
     "data": {
      "text/plain": [
       "'VAR_1130'"
      ]
     },
     "execution_count": 13,
     "metadata": {},
     "output_type": "execute_result"
    },
    {
     "name": "stdout",
     "output_type": "stream",
     "text": [
      "No. of unique values: 3847\n",
      "No.of Null Values: 0\n"
     ]
    },
    {
     "data": {
      "text/plain": [
       "'VAR_1131'"
      ]
     },
     "execution_count": 13,
     "metadata": {},
     "output_type": "execute_result"
    },
    {
     "name": "stdout",
     "output_type": "stream",
     "text": [
      "No. of unique values: 885\n",
      "No.of Null Values: 0\n"
     ]
    },
    {
     "data": {
      "text/plain": [
       "'VAR_1132'"
      ]
     },
     "execution_count": 13,
     "metadata": {},
     "output_type": "execute_result"
    },
    {
     "name": "stdout",
     "output_type": "stream",
     "text": [
      "No. of unique values: 126\n",
      "No.of Null Values: 0\n"
     ]
    },
    {
     "data": {
      "text/plain": [
       "'VAR_1133'"
      ]
     },
     "execution_count": 13,
     "metadata": {},
     "output_type": "execute_result"
    },
    {
     "name": "stdout",
     "output_type": "stream",
     "text": [
      "No. of unique values: 109\n",
      "No.of Null Values: 0\n"
     ]
    },
    {
     "data": {
      "text/plain": [
       "'VAR_1134'"
      ]
     },
     "execution_count": 13,
     "metadata": {},
     "output_type": "execute_result"
    },
    {
     "name": "stdout",
     "output_type": "stream",
     "text": [
      "No. of unique values: 85\n",
      "No.of Null Values: 0\n"
     ]
    },
    {
     "data": {
      "text/plain": [
       "'VAR_1135'"
      ]
     },
     "execution_count": 13,
     "metadata": {},
     "output_type": "execute_result"
    },
    {
     "name": "stdout",
     "output_type": "stream",
     "text": [
      "No. of unique values: 85\n",
      "No.of Null Values: 0\n"
     ]
    },
    {
     "data": {
      "text/plain": [
       "'VAR_1136'"
      ]
     },
     "execution_count": 13,
     "metadata": {},
     "output_type": "execute_result"
    },
    {
     "name": "stdout",
     "output_type": "stream",
     "text": [
      "No. of unique values: 85\n",
      "No.of Null Values: 0\n"
     ]
    },
    {
     "data": {
      "text/plain": [
       "'VAR_1137'"
      ]
     },
     "execution_count": 13,
     "metadata": {},
     "output_type": "execute_result"
    },
    {
     "name": "stdout",
     "output_type": "stream",
     "text": [
      "No. of unique values: 84\n",
      "No.of Null Values: 0\n"
     ]
    },
    {
     "data": {
      "text/plain": [
       "'VAR_1138'"
      ]
     },
     "execution_count": 13,
     "metadata": {},
     "output_type": "execute_result"
    },
    {
     "name": "stdout",
     "output_type": "stream",
     "text": [
      "No. of unique values: 83\n",
      "No.of Null Values: 0\n"
     ]
    },
    {
     "data": {
      "text/plain": [
       "'VAR_1139'"
      ]
     },
     "execution_count": 13,
     "metadata": {},
     "output_type": "execute_result"
    },
    {
     "name": "stdout",
     "output_type": "stream",
     "text": [
      "No. of unique values: 84\n",
      "No.of Null Values: 0\n"
     ]
    },
    {
     "data": {
      "text/plain": [
       "'VAR_1140'"
      ]
     },
     "execution_count": 13,
     "metadata": {},
     "output_type": "execute_result"
    },
    {
     "name": "stdout",
     "output_type": "stream",
     "text": [
      "No. of unique values: 80\n",
      "No.of Null Values: 0\n"
     ]
    },
    {
     "data": {
      "text/plain": [
       "'VAR_1141'"
      ]
     },
     "execution_count": 13,
     "metadata": {},
     "output_type": "execute_result"
    },
    {
     "name": "stdout",
     "output_type": "stream",
     "text": [
      "No. of unique values: 85\n",
      "No.of Null Values: 0\n"
     ]
    },
    {
     "data": {
      "text/plain": [
       "'VAR_1142'"
      ]
     },
     "execution_count": 13,
     "metadata": {},
     "output_type": "execute_result"
    },
    {
     "name": "stdout",
     "output_type": "stream",
     "text": [
      "No. of unique values: 84\n",
      "No.of Null Values: 0\n"
     ]
    },
    {
     "data": {
      "text/plain": [
       "'VAR_1143'"
      ]
     },
     "execution_count": 13,
     "metadata": {},
     "output_type": "execute_result"
    },
    {
     "name": "stdout",
     "output_type": "stream",
     "text": [
      "No. of unique values: 80\n",
      "No.of Null Values: 0\n"
     ]
    },
    {
     "data": {
      "text/plain": [
       "'VAR_1144'"
      ]
     },
     "execution_count": 13,
     "metadata": {},
     "output_type": "execute_result"
    },
    {
     "name": "stdout",
     "output_type": "stream",
     "text": [
      "No. of unique values: 546\n",
      "No.of Null Values: 0\n"
     ]
    },
    {
     "data": {
      "text/plain": [
       "'VAR_1145'"
      ]
     },
     "execution_count": 13,
     "metadata": {},
     "output_type": "execute_result"
    },
    {
     "name": "stdout",
     "output_type": "stream",
     "text": [
      "No. of unique values: 539\n",
      "No.of Null Values: 0\n"
     ]
    },
    {
     "data": {
      "text/plain": [
       "'VAR_1146'"
      ]
     },
     "execution_count": 13,
     "metadata": {},
     "output_type": "execute_result"
    },
    {
     "name": "stdout",
     "output_type": "stream",
     "text": [
      "No. of unique values: 404\n",
      "No.of Null Values: 0\n"
     ]
    },
    {
     "data": {
      "text/plain": [
       "'VAR_1147'"
      ]
     },
     "execution_count": 13,
     "metadata": {},
     "output_type": "execute_result"
    },
    {
     "name": "stdout",
     "output_type": "stream",
     "text": [
      "No. of unique values: 520\n",
      "No.of Null Values: 0\n"
     ]
    },
    {
     "data": {
      "text/plain": [
       "'VAR_1148'"
      ]
     },
     "execution_count": 13,
     "metadata": {},
     "output_type": "execute_result"
    },
    {
     "name": "stdout",
     "output_type": "stream",
     "text": [
      "No. of unique values: 219\n",
      "No.of Null Values: 0\n"
     ]
    },
    {
     "data": {
      "text/plain": [
       "'VAR_1149'"
      ]
     },
     "execution_count": 13,
     "metadata": {},
     "output_type": "execute_result"
    },
    {
     "name": "stdout",
     "output_type": "stream",
     "text": [
      "No. of unique values: 240\n",
      "No.of Null Values: 0\n"
     ]
    },
    {
     "data": {
      "text/plain": [
       "'VAR_1150'"
      ]
     },
     "execution_count": 13,
     "metadata": {},
     "output_type": "execute_result"
    },
    {
     "name": "stdout",
     "output_type": "stream",
     "text": [
      "No. of unique values: 245\n",
      "No.of Null Values: 0\n"
     ]
    },
    {
     "data": {
      "text/plain": [
       "'VAR_1151'"
      ]
     },
     "execution_count": 13,
     "metadata": {},
     "output_type": "execute_result"
    },
    {
     "name": "stdout",
     "output_type": "stream",
     "text": [
      "No. of unique values: 85\n",
      "No.of Null Values: 0\n"
     ]
    },
    {
     "data": {
      "text/plain": [
       "'VAR_1152'"
      ]
     },
     "execution_count": 13,
     "metadata": {},
     "output_type": "execute_result"
    },
    {
     "name": "stdout",
     "output_type": "stream",
     "text": [
      "No. of unique values: 84\n",
      "No.of Null Values: 0\n"
     ]
    },
    {
     "data": {
      "text/plain": [
       "'VAR_1153'"
      ]
     },
     "execution_count": 13,
     "metadata": {},
     "output_type": "execute_result"
    },
    {
     "name": "stdout",
     "output_type": "stream",
     "text": [
      "No. of unique values: 84\n",
      "No.of Null Values: 0\n"
     ]
    },
    {
     "data": {
      "text/plain": [
       "'VAR_1154'"
      ]
     },
     "execution_count": 13,
     "metadata": {},
     "output_type": "execute_result"
    },
    {
     "name": "stdout",
     "output_type": "stream",
     "text": [
      "No. of unique values: 182\n",
      "No.of Null Values: 0\n"
     ]
    },
    {
     "data": {
      "text/plain": [
       "'VAR_1155'"
      ]
     },
     "execution_count": 13,
     "metadata": {},
     "output_type": "execute_result"
    },
    {
     "name": "stdout",
     "output_type": "stream",
     "text": [
      "No. of unique values: 24\n",
      "No.of Null Values: 0\n"
     ]
    },
    {
     "data": {
      "text/plain": [
       "'VAR_1156'"
      ]
     },
     "execution_count": 13,
     "metadata": {},
     "output_type": "execute_result"
    },
    {
     "name": "stdout",
     "output_type": "stream",
     "text": [
      "No. of unique values: 109\n",
      "No.of Null Values: 0\n"
     ]
    },
    {
     "data": {
      "text/plain": [
       "'VAR_1157'"
      ]
     },
     "execution_count": 13,
     "metadata": {},
     "output_type": "execute_result"
    },
    {
     "name": "stdout",
     "output_type": "stream",
     "text": [
      "No. of unique values: 202\n",
      "No.of Null Values: 0\n"
     ]
    },
    {
     "data": {
      "text/plain": [
       "'VAR_1158'"
      ]
     },
     "execution_count": 13,
     "metadata": {},
     "output_type": "execute_result"
    },
    {
     "name": "stdout",
     "output_type": "stream",
     "text": [
      "No. of unique values: 22\n",
      "No.of Null Values: 0\n"
     ]
    },
    {
     "data": {
      "text/plain": [
       "'VAR_1159'"
      ]
     },
     "execution_count": 13,
     "metadata": {},
     "output_type": "execute_result"
    },
    {
     "name": "stdout",
     "output_type": "stream",
     "text": [
      "No. of unique values: 105\n",
      "No.of Null Values: 0\n"
     ]
    },
    {
     "data": {
      "text/plain": [
       "'VAR_1160'"
      ]
     },
     "execution_count": 13,
     "metadata": {},
     "output_type": "execute_result"
    },
    {
     "name": "stdout",
     "output_type": "stream",
     "text": [
      "No. of unique values: 190\n",
      "No.of Null Values: 0\n"
     ]
    },
    {
     "data": {
      "text/plain": [
       "'VAR_1161'"
      ]
     },
     "execution_count": 13,
     "metadata": {},
     "output_type": "execute_result"
    },
    {
     "name": "stdout",
     "output_type": "stream",
     "text": [
      "No. of unique values: 16\n",
      "No.of Null Values: 0\n"
     ]
    },
    {
     "data": {
      "text/plain": [
       "'VAR_1162'"
      ]
     },
     "execution_count": 13,
     "metadata": {},
     "output_type": "execute_result"
    },
    {
     "name": "stdout",
     "output_type": "stream",
     "text": [
      "No. of unique values: 2\n",
      "No.of Null Values: 0\n"
     ]
    },
    {
     "data": {
      "text/plain": [
       "'VAR_1163'"
      ]
     },
     "execution_count": 13,
     "metadata": {},
     "output_type": "execute_result"
    },
    {
     "name": "stdout",
     "output_type": "stream",
     "text": [
      "No. of unique values: 2\n",
      "No.of Null Values: 0\n"
     ]
    },
    {
     "data": {
      "text/plain": [
       "'VAR_1164'"
      ]
     },
     "execution_count": 13,
     "metadata": {},
     "output_type": "execute_result"
    },
    {
     "name": "stdout",
     "output_type": "stream",
     "text": [
      "No. of unique values: 2\n",
      "No.of Null Values: 0\n"
     ]
    },
    {
     "data": {
      "text/plain": [
       "'VAR_1165'"
      ]
     },
     "execution_count": 13,
     "metadata": {},
     "output_type": "execute_result"
    },
    {
     "name": "stdout",
     "output_type": "stream",
     "text": [
      "No. of unique values: 2\n",
      "No.of Null Values: 0\n"
     ]
    },
    {
     "data": {
      "text/plain": [
       "'VAR_1166'"
      ]
     },
     "execution_count": 13,
     "metadata": {},
     "output_type": "execute_result"
    },
    {
     "name": "stdout",
     "output_type": "stream",
     "text": [
      "No. of unique values: 12\n",
      "No.of Null Values: 0\n"
     ]
    },
    {
     "data": {
      "text/plain": [
       "'VAR_1167'"
      ]
     },
     "execution_count": 13,
     "metadata": {},
     "output_type": "execute_result"
    },
    {
     "name": "stdout",
     "output_type": "stream",
     "text": [
      "No. of unique values: 14\n",
      "No.of Null Values: 0\n"
     ]
    },
    {
     "data": {
      "text/plain": [
       "'VAR_1168'"
      ]
     },
     "execution_count": 13,
     "metadata": {},
     "output_type": "execute_result"
    },
    {
     "name": "stdout",
     "output_type": "stream",
     "text": [
      "No. of unique values: 12\n",
      "No.of Null Values: 0\n"
     ]
    },
    {
     "data": {
      "text/plain": [
       "'VAR_1169'"
      ]
     },
     "execution_count": 13,
     "metadata": {},
     "output_type": "execute_result"
    },
    {
     "name": "stdout",
     "output_type": "stream",
     "text": [
      "No. of unique values: 132\n",
      "No.of Null Values: 0\n"
     ]
    },
    {
     "data": {
      "text/plain": [
       "'VAR_1170'"
      ]
     },
     "execution_count": 13,
     "metadata": {},
     "output_type": "execute_result"
    },
    {
     "name": "stdout",
     "output_type": "stream",
     "text": [
      "No. of unique values: 142\n",
      "No.of Null Values: 0\n"
     ]
    },
    {
     "data": {
      "text/plain": [
       "'VAR_1171'"
      ]
     },
     "execution_count": 13,
     "metadata": {},
     "output_type": "execute_result"
    },
    {
     "name": "stdout",
     "output_type": "stream",
     "text": [
      "No. of unique values: 119\n",
      "No.of Null Values: 0\n"
     ]
    },
    {
     "data": {
      "text/plain": [
       "'VAR_1172'"
      ]
     },
     "execution_count": 13,
     "metadata": {},
     "output_type": "execute_result"
    },
    {
     "name": "stdout",
     "output_type": "stream",
     "text": [
      "No. of unique values: 118\n",
      "No.of Null Values: 0\n"
     ]
    },
    {
     "data": {
      "text/plain": [
       "'VAR_1173'"
      ]
     },
     "execution_count": 13,
     "metadata": {},
     "output_type": "execute_result"
    },
    {
     "name": "stdout",
     "output_type": "stream",
     "text": [
      "No. of unique values: 118\n",
      "No.of Null Values: 0\n"
     ]
    },
    {
     "data": {
      "text/plain": [
       "'VAR_1174'"
      ]
     },
     "execution_count": 13,
     "metadata": {},
     "output_type": "execute_result"
    },
    {
     "name": "stdout",
     "output_type": "stream",
     "text": [
      "No. of unique values: 532\n",
      "No.of Null Values: 0\n"
     ]
    },
    {
     "data": {
      "text/plain": [
       "'VAR_1175'"
      ]
     },
     "execution_count": 13,
     "metadata": {},
     "output_type": "execute_result"
    },
    {
     "name": "stdout",
     "output_type": "stream",
     "text": [
      "No. of unique values: 3\n",
      "No.of Null Values: 0\n"
     ]
    },
    {
     "data": {
      "text/plain": [
       "'VAR_1176'"
      ]
     },
     "execution_count": 13,
     "metadata": {},
     "output_type": "execute_result"
    },
    {
     "name": "stdout",
     "output_type": "stream",
     "text": [
      "No. of unique values: 3\n",
      "No.of Null Values: 0\n"
     ]
    },
    {
     "data": {
      "text/plain": [
       "'VAR_1177'"
      ]
     },
     "execution_count": 13,
     "metadata": {},
     "output_type": "execute_result"
    },
    {
     "name": "stdout",
     "output_type": "stream",
     "text": [
      "No. of unique values: 16\n",
      "No.of Null Values: 0\n"
     ]
    },
    {
     "data": {
      "text/plain": [
       "'VAR_1178'"
      ]
     },
     "execution_count": 13,
     "metadata": {},
     "output_type": "execute_result"
    },
    {
     "name": "stdout",
     "output_type": "stream",
     "text": [
      "No. of unique values: 36\n",
      "No.of Null Values: 0\n"
     ]
    },
    {
     "data": {
      "text/plain": [
       "'VAR_1179'"
      ]
     },
     "execution_count": 13,
     "metadata": {},
     "output_type": "execute_result"
    },
    {
     "name": "stdout",
     "output_type": "stream",
     "text": [
      "No. of unique values: 11919\n",
      "No.of Null Values: 0\n"
     ]
    },
    {
     "data": {
      "text/plain": [
       "'VAR_1180'"
      ]
     },
     "execution_count": 13,
     "metadata": {},
     "output_type": "execute_result"
    },
    {
     "name": "stdout",
     "output_type": "stream",
     "text": [
      "No. of unique values: 11926\n",
      "No.of Null Values: 0\n"
     ]
    },
    {
     "data": {
      "text/plain": [
       "'VAR_1181'"
      ]
     },
     "execution_count": 13,
     "metadata": {},
     "output_type": "execute_result"
    },
    {
     "name": "stdout",
     "output_type": "stream",
     "text": [
      "No. of unique values: 11872\n",
      "No.of Null Values: 0\n"
     ]
    },
    {
     "data": {
      "text/plain": [
       "'VAR_1182'"
      ]
     },
     "execution_count": 13,
     "metadata": {},
     "output_type": "execute_result"
    },
    {
     "name": "stdout",
     "output_type": "stream",
     "text": [
      "No. of unique values: 2967\n",
      "No.of Null Values: 0\n"
     ]
    },
    {
     "data": {
      "text/plain": [
       "'VAR_1183'"
      ]
     },
     "execution_count": 13,
     "metadata": {},
     "output_type": "execute_result"
    },
    {
     "name": "stdout",
     "output_type": "stream",
     "text": [
      "No. of unique values: 2629\n",
      "No.of Null Values: 0\n"
     ]
    },
    {
     "data": {
      "text/plain": [
       "'VAR_1184'"
      ]
     },
     "execution_count": 13,
     "metadata": {},
     "output_type": "execute_result"
    },
    {
     "name": "stdout",
     "output_type": "stream",
     "text": [
      "No. of unique values: 536\n",
      "No.of Null Values: 0\n"
     ]
    },
    {
     "data": {
      "text/plain": [
       "'VAR_1185'"
      ]
     },
     "execution_count": 13,
     "metadata": {},
     "output_type": "execute_result"
    },
    {
     "name": "stdout",
     "output_type": "stream",
     "text": [
      "No. of unique values: 27\n",
      "No.of Null Values: 0\n"
     ]
    },
    {
     "data": {
      "text/plain": [
       "'VAR_1186'"
      ]
     },
     "execution_count": 13,
     "metadata": {},
     "output_type": "execute_result"
    },
    {
     "name": "stdout",
     "output_type": "stream",
     "text": [
      "No. of unique values: 8\n",
      "No.of Null Values: 0\n"
     ]
    },
    {
     "data": {
      "text/plain": [
       "'VAR_1187'"
      ]
     },
     "execution_count": 13,
     "metadata": {},
     "output_type": "execute_result"
    },
    {
     "name": "stdout",
     "output_type": "stream",
     "text": [
      "No. of unique values: 5\n",
      "No.of Null Values: 0\n"
     ]
    },
    {
     "data": {
      "text/plain": [
       "'VAR_1188'"
      ]
     },
     "execution_count": 13,
     "metadata": {},
     "output_type": "execute_result"
    },
    {
     "name": "stdout",
     "output_type": "stream",
     "text": [
      "No. of unique values: 7\n",
      "No.of Null Values: 0\n"
     ]
    },
    {
     "data": {
      "text/plain": [
       "'VAR_1189'"
      ]
     },
     "execution_count": 13,
     "metadata": {},
     "output_type": "execute_result"
    },
    {
     "name": "stdout",
     "output_type": "stream",
     "text": [
      "No. of unique values: 7\n",
      "No.of Null Values: 0\n"
     ]
    },
    {
     "data": {
      "text/plain": [
       "'VAR_1190'"
      ]
     },
     "execution_count": 13,
     "metadata": {},
     "output_type": "execute_result"
    },
    {
     "name": "stdout",
     "output_type": "stream",
     "text": [
      "No. of unique values: 8\n",
      "No.of Null Values: 0\n"
     ]
    },
    {
     "data": {
      "text/plain": [
       "'VAR_1191'"
      ]
     },
     "execution_count": 13,
     "metadata": {},
     "output_type": "execute_result"
    },
    {
     "name": "stdout",
     "output_type": "stream",
     "text": [
      "No. of unique values: 26\n",
      "No.of Null Values: 0\n"
     ]
    },
    {
     "data": {
      "text/plain": [
       "'VAR_1192'"
      ]
     },
     "execution_count": 13,
     "metadata": {},
     "output_type": "execute_result"
    },
    {
     "name": "stdout",
     "output_type": "stream",
     "text": [
      "No. of unique values: 14\n",
      "No.of Null Values: 0\n"
     ]
    },
    {
     "data": {
      "text/plain": [
       "'VAR_1193'"
      ]
     },
     "execution_count": 13,
     "metadata": {},
     "output_type": "execute_result"
    },
    {
     "name": "stdout",
     "output_type": "stream",
     "text": [
      "No. of unique values: 10\n",
      "No.of Null Values: 0\n"
     ]
    },
    {
     "data": {
      "text/plain": [
       "'VAR_1194'"
      ]
     },
     "execution_count": 13,
     "metadata": {},
     "output_type": "execute_result"
    },
    {
     "name": "stdout",
     "output_type": "stream",
     "text": [
      "No. of unique values: 9\n",
      "No.of Null Values: 0\n"
     ]
    },
    {
     "data": {
      "text/plain": [
       "'VAR_1195'"
      ]
     },
     "execution_count": 13,
     "metadata": {},
     "output_type": "execute_result"
    },
    {
     "name": "stdout",
     "output_type": "stream",
     "text": [
      "No. of unique values: 9\n",
      "No.of Null Values: 0\n"
     ]
    },
    {
     "data": {
      "text/plain": [
       "'VAR_1196'"
      ]
     },
     "execution_count": 13,
     "metadata": {},
     "output_type": "execute_result"
    },
    {
     "name": "stdout",
     "output_type": "stream",
     "text": [
      "No. of unique values: 9\n",
      "No.of Null Values: 0\n"
     ]
    },
    {
     "data": {
      "text/plain": [
       "'VAR_1197'"
      ]
     },
     "execution_count": 13,
     "metadata": {},
     "output_type": "execute_result"
    },
    {
     "name": "stdout",
     "output_type": "stream",
     "text": [
      "No. of unique values: 9\n",
      "No.of Null Values: 0\n"
     ]
    },
    {
     "data": {
      "text/plain": [
       "'VAR_1198'"
      ]
     },
     "execution_count": 13,
     "metadata": {},
     "output_type": "execute_result"
    },
    {
     "name": "stdout",
     "output_type": "stream",
     "text": [
      "No. of unique values: 9\n",
      "No.of Null Values: 0\n"
     ]
    },
    {
     "data": {
      "text/plain": [
       "'VAR_1199'"
      ]
     },
     "execution_count": 13,
     "metadata": {},
     "output_type": "execute_result"
    },
    {
     "name": "stdout",
     "output_type": "stream",
     "text": [
      "No. of unique values: 6880\n",
      "No.of Null Values: 0\n"
     ]
    },
    {
     "data": {
      "text/plain": [
       "'VAR_1200'"
      ]
     },
     "execution_count": 13,
     "metadata": {},
     "output_type": "execute_result"
    },
    {
     "name": "stdout",
     "output_type": "stream",
     "text": [
      "No. of unique values: 6851\n",
      "No.of Null Values: 0\n"
     ]
    },
    {
     "data": {
      "text/plain": [
       "'VAR_1201'"
      ]
     },
     "execution_count": 13,
     "metadata": {},
     "output_type": "execute_result"
    },
    {
     "name": "stdout",
     "output_type": "stream",
     "text": [
      "No. of unique values: 9417\n",
      "No.of Null Values: 0\n"
     ]
    },
    {
     "data": {
      "text/plain": [
       "'VAR_1202'"
      ]
     },
     "execution_count": 13,
     "metadata": {},
     "output_type": "execute_result"
    },
    {
     "name": "stdout",
     "output_type": "stream",
     "text": [
      "No. of unique values: 6689\n",
      "No.of Null Values: 0\n"
     ]
    },
    {
     "data": {
      "text/plain": [
       "'VAR_1203'"
      ]
     },
     "execution_count": 13,
     "metadata": {},
     "output_type": "execute_result"
    },
    {
     "name": "stdout",
     "output_type": "stream",
     "text": [
      "No. of unique values: 6669\n",
      "No.of Null Values: 0\n"
     ]
    },
    {
     "data": {
      "text/plain": [
       "'VAR_1204'"
      ]
     },
     "execution_count": 13,
     "metadata": {},
     "output_type": "execute_result"
    },
    {
     "name": "stdout",
     "output_type": "stream",
     "text": [
      "No. of unique values: 1228\n",
      "No.of Null Values: 0\n"
     ]
    },
    {
     "data": {
      "text/plain": [
       "'VAR_1205'"
      ]
     },
     "execution_count": 13,
     "metadata": {},
     "output_type": "execute_result"
    },
    {
     "name": "stdout",
     "output_type": "stream",
     "text": [
      "No. of unique values: 9\n",
      "No.of Null Values: 0\n"
     ]
    },
    {
     "data": {
      "text/plain": [
       "'VAR_1206'"
      ]
     },
     "execution_count": 13,
     "metadata": {},
     "output_type": "execute_result"
    },
    {
     "name": "stdout",
     "output_type": "stream",
     "text": [
      "No. of unique values: 8\n",
      "No.of Null Values: 0\n"
     ]
    },
    {
     "data": {
      "text/plain": [
       "'VAR_1207'"
      ]
     },
     "execution_count": 13,
     "metadata": {},
     "output_type": "execute_result"
    },
    {
     "name": "stdout",
     "output_type": "stream",
     "text": [
      "No. of unique values: 10\n",
      "No.of Null Values: 0\n"
     ]
    },
    {
     "data": {
      "text/plain": [
       "'VAR_1208'"
      ]
     },
     "execution_count": 13,
     "metadata": {},
     "output_type": "execute_result"
    },
    {
     "name": "stdout",
     "output_type": "stream",
     "text": [
      "No. of unique values: 192\n",
      "No.of Null Values: 0\n"
     ]
    },
    {
     "data": {
      "text/plain": [
       "'VAR_1209'"
      ]
     },
     "execution_count": 13,
     "metadata": {},
     "output_type": "execute_result"
    },
    {
     "name": "stdout",
     "output_type": "stream",
     "text": [
      "No. of unique values: 86\n",
      "No.of Null Values: 0\n"
     ]
    },
    {
     "data": {
      "text/plain": [
       "'VAR_1210'"
      ]
     },
     "execution_count": 13,
     "metadata": {},
     "output_type": "execute_result"
    },
    {
     "name": "stdout",
     "output_type": "stream",
     "text": [
      "No. of unique values: 229\n",
      "No.of Null Values: 0\n"
     ]
    },
    {
     "data": {
      "text/plain": [
       "'VAR_1211'"
      ]
     },
     "execution_count": 13,
     "metadata": {},
     "output_type": "execute_result"
    },
    {
     "name": "stdout",
     "output_type": "stream",
     "text": [
      "No. of unique values: 195\n",
      "No.of Null Values: 0\n"
     ]
    },
    {
     "data": {
      "text/plain": [
       "'VAR_1212'"
      ]
     },
     "execution_count": 13,
     "metadata": {},
     "output_type": "execute_result"
    },
    {
     "name": "stdout",
     "output_type": "stream",
     "text": [
      "No. of unique values: 13\n",
      "No.of Null Values: 0\n"
     ]
    },
    {
     "data": {
      "text/plain": [
       "'VAR_1213'"
      ]
     },
     "execution_count": 13,
     "metadata": {},
     "output_type": "execute_result"
    },
    {
     "name": "stdout",
     "output_type": "stream",
     "text": [
      "No. of unique values: 5\n",
      "No.of Null Values: 0\n"
     ]
    },
    {
     "data": {
      "text/plain": [
       "'VAR_1214'"
      ]
     },
     "execution_count": 13,
     "metadata": {},
     "output_type": "execute_result"
    },
    {
     "name": "stdout",
     "output_type": "stream",
     "text": [
      "No. of unique values: 16\n",
      "No.of Null Values: 0\n"
     ]
    },
    {
     "data": {
      "text/plain": [
       "'VAR_1215'"
      ]
     },
     "execution_count": 13,
     "metadata": {},
     "output_type": "execute_result"
    },
    {
     "name": "stdout",
     "output_type": "stream",
     "text": [
      "No. of unique values: 223\n",
      "No.of Null Values: 0\n"
     ]
    },
    {
     "data": {
      "text/plain": [
       "'VAR_1216'"
      ]
     },
     "execution_count": 13,
     "metadata": {},
     "output_type": "execute_result"
    },
    {
     "name": "stdout",
     "output_type": "stream",
     "text": [
      "No. of unique values: 54\n",
      "No.of Null Values: 0\n"
     ]
    },
    {
     "data": {
      "text/plain": [
       "'VAR_1217'"
      ]
     },
     "execution_count": 13,
     "metadata": {},
     "output_type": "execute_result"
    },
    {
     "name": "stdout",
     "output_type": "stream",
     "text": [
      "No. of unique values: 25\n",
      "No.of Null Values: 0\n"
     ]
    },
    {
     "data": {
      "text/plain": [
       "'VAR_1218'"
      ]
     },
     "execution_count": 13,
     "metadata": {},
     "output_type": "execute_result"
    },
    {
     "name": "stdout",
     "output_type": "stream",
     "text": [
      "No. of unique values: 7\n",
      "No.of Null Values: 0\n"
     ]
    },
    {
     "data": {
      "text/plain": [
       "'VAR_1219'"
      ]
     },
     "execution_count": 13,
     "metadata": {},
     "output_type": "execute_result"
    },
    {
     "name": "stdout",
     "output_type": "stream",
     "text": [
      "No. of unique values: 36\n",
      "No.of Null Values: 0\n"
     ]
    },
    {
     "data": {
      "text/plain": [
       "'VAR_1220'"
      ]
     },
     "execution_count": 13,
     "metadata": {},
     "output_type": "execute_result"
    },
    {
     "name": "stdout",
     "output_type": "stream",
     "text": [
      "No. of unique values: 6762\n",
      "No.of Null Values: 0\n"
     ]
    },
    {
     "data": {
      "text/plain": [
       "'VAR_1221'"
      ]
     },
     "execution_count": 13,
     "metadata": {},
     "output_type": "execute_result"
    },
    {
     "name": "stdout",
     "output_type": "stream",
     "text": [
      "No. of unique values: 5529\n",
      "No.of Null Values: 0\n"
     ]
    },
    {
     "data": {
      "text/plain": [
       "'VAR_1222'"
      ]
     },
     "execution_count": 13,
     "metadata": {},
     "output_type": "execute_result"
    },
    {
     "name": "stdout",
     "output_type": "stream",
     "text": [
      "No. of unique values: 126\n",
      "No.of Null Values: 0\n"
     ]
    },
    {
     "data": {
      "text/plain": [
       "'VAR_1223'"
      ]
     },
     "execution_count": 13,
     "metadata": {},
     "output_type": "execute_result"
    },
    {
     "name": "stdout",
     "output_type": "stream",
     "text": [
      "No. of unique values: 98\n",
      "No.of Null Values: 0\n"
     ]
    },
    {
     "data": {
      "text/plain": [
       "'VAR_1224'"
      ]
     },
     "execution_count": 13,
     "metadata": {},
     "output_type": "execute_result"
    },
    {
     "name": "stdout",
     "output_type": "stream",
     "text": [
      "No. of unique values: 22\n",
      "No.of Null Values: 0\n"
     ]
    },
    {
     "data": {
      "text/plain": [
       "'VAR_1225'"
      ]
     },
     "execution_count": 13,
     "metadata": {},
     "output_type": "execute_result"
    },
    {
     "name": "stdout",
     "output_type": "stream",
     "text": [
      "No. of unique values: 10\n",
      "No.of Null Values: 0\n"
     ]
    },
    {
     "data": {
      "text/plain": [
       "'VAR_1226'"
      ]
     },
     "execution_count": 13,
     "metadata": {},
     "output_type": "execute_result"
    },
    {
     "name": "stdout",
     "output_type": "stream",
     "text": [
      "No. of unique values: 22\n",
      "No.of Null Values: 0\n"
     ]
    },
    {
     "data": {
      "text/plain": [
       "'VAR_1227'"
      ]
     },
     "execution_count": 13,
     "metadata": {},
     "output_type": "execute_result"
    },
    {
     "name": "stdout",
     "output_type": "stream",
     "text": [
      "No. of unique values: 5454\n",
      "No.of Null Values: 0\n"
     ]
    },
    {
     "data": {
      "text/plain": [
       "'VAR_1228'"
      ]
     },
     "execution_count": 13,
     "metadata": {},
     "output_type": "execute_result"
    },
    {
     "name": "stdout",
     "output_type": "stream",
     "text": [
      "No. of unique values: 5851\n",
      "No.of Null Values: 0\n"
     ]
    },
    {
     "data": {
      "text/plain": [
       "'VAR_1229'"
      ]
     },
     "execution_count": 13,
     "metadata": {},
     "output_type": "execute_result"
    },
    {
     "name": "stdout",
     "output_type": "stream",
     "text": [
      "No. of unique values: 46\n",
      "No.of Null Values: 0\n"
     ]
    },
    {
     "data": {
      "text/plain": [
       "'VAR_1230'"
      ]
     },
     "execution_count": 13,
     "metadata": {},
     "output_type": "execute_result"
    },
    {
     "name": "stdout",
     "output_type": "stream",
     "text": [
      "No. of unique values: 5\n",
      "No.of Null Values: 0\n"
     ]
    },
    {
     "data": {
      "text/plain": [
       "'VAR_1231'"
      ]
     },
     "execution_count": 13,
     "metadata": {},
     "output_type": "execute_result"
    },
    {
     "name": "stdout",
     "output_type": "stream",
     "text": [
      "No. of unique values: 25\n",
      "No.of Null Values: 0\n"
     ]
    },
    {
     "data": {
      "text/plain": [
       "'VAR_1232'"
      ]
     },
     "execution_count": 13,
     "metadata": {},
     "output_type": "execute_result"
    },
    {
     "name": "stdout",
     "output_type": "stream",
     "text": [
      "No. of unique values: 10\n",
      "No.of Null Values: 0\n"
     ]
    },
    {
     "data": {
      "text/plain": [
       "'VAR_1233'"
      ]
     },
     "execution_count": 13,
     "metadata": {},
     "output_type": "execute_result"
    },
    {
     "name": "stdout",
     "output_type": "stream",
     "text": [
      "No. of unique values: 41\n",
      "No.of Null Values: 0\n"
     ]
    },
    {
     "data": {
      "text/plain": [
       "'VAR_1234'"
      ]
     },
     "execution_count": 13,
     "metadata": {},
     "output_type": "execute_result"
    },
    {
     "name": "stdout",
     "output_type": "stream",
     "text": [
      "No. of unique values: 24\n",
      "No.of Null Values: 0\n"
     ]
    },
    {
     "data": {
      "text/plain": [
       "'VAR_1235'"
      ]
     },
     "execution_count": 13,
     "metadata": {},
     "output_type": "execute_result"
    },
    {
     "name": "stdout",
     "output_type": "stream",
     "text": [
      "No. of unique values: 19\n",
      "No.of Null Values: 0\n"
     ]
    },
    {
     "data": {
      "text/plain": [
       "'VAR_1236'"
      ]
     },
     "execution_count": 13,
     "metadata": {},
     "output_type": "execute_result"
    },
    {
     "name": "stdout",
     "output_type": "stream",
     "text": [
      "No. of unique values: 23\n",
      "No.of Null Values: 0\n"
     ]
    },
    {
     "data": {
      "text/plain": [
       "'VAR_1237'"
      ]
     },
     "execution_count": 13,
     "metadata": {},
     "output_type": "execute_result"
    },
    {
     "name": "stdout",
     "output_type": "stream",
     "text": [
      "No. of unique values: 19\n",
      "No.of Null Values: 0\n"
     ]
    },
    {
     "data": {
      "text/plain": [
       "'VAR_1238'"
      ]
     },
     "execution_count": 13,
     "metadata": {},
     "output_type": "execute_result"
    },
    {
     "name": "stdout",
     "output_type": "stream",
     "text": [
      "No. of unique values: 26\n",
      "No.of Null Values: 0\n"
     ]
    },
    {
     "data": {
      "text/plain": [
       "'VAR_1239'"
      ]
     },
     "execution_count": 13,
     "metadata": {},
     "output_type": "execute_result"
    },
    {
     "name": "stdout",
     "output_type": "stream",
     "text": [
      "No. of unique values: 10\n",
      "No.of Null Values: 0\n"
     ]
    },
    {
     "data": {
      "text/plain": [
       "'VAR_1240'"
      ]
     },
     "execution_count": 13,
     "metadata": {},
     "output_type": "execute_result"
    },
    {
     "name": "stdout",
     "output_type": "stream",
     "text": [
      "No. of unique values: 48\n",
      "No.of Null Values: 0\n"
     ]
    },
    {
     "data": {
      "text/plain": [
       "'VAR_1241'"
      ]
     },
     "execution_count": 13,
     "metadata": {},
     "output_type": "execute_result"
    },
    {
     "name": "stdout",
     "output_type": "stream",
     "text": [
      "No. of unique values: 5694\n",
      "No.of Null Values: 0\n"
     ]
    },
    {
     "data": {
      "text/plain": [
       "'VAR_1242'"
      ]
     },
     "execution_count": 13,
     "metadata": {},
     "output_type": "execute_result"
    },
    {
     "name": "stdout",
     "output_type": "stream",
     "text": [
      "No. of unique values: 41\n",
      "No.of Null Values: 0\n"
     ]
    },
    {
     "data": {
      "text/plain": [
       "'VAR_1243'"
      ]
     },
     "execution_count": 13,
     "metadata": {},
     "output_type": "execute_result"
    },
    {
     "name": "stdout",
     "output_type": "stream",
     "text": [
      "No. of unique values: 6076\n",
      "No.of Null Values: 0\n"
     ]
    },
    {
     "data": {
      "text/plain": [
       "'VAR_1244'"
      ]
     },
     "execution_count": 13,
     "metadata": {},
     "output_type": "execute_result"
    },
    {
     "name": "stdout",
     "output_type": "stream",
     "text": [
      "No. of unique values: 431\n",
      "No.of Null Values: 0\n"
     ]
    },
    {
     "data": {
      "text/plain": [
       "'VAR_1245'"
      ]
     },
     "execution_count": 13,
     "metadata": {},
     "output_type": "execute_result"
    },
    {
     "name": "stdout",
     "output_type": "stream",
     "text": [
      "No. of unique values: 221\n",
      "No.of Null Values: 0\n"
     ]
    },
    {
     "data": {
      "text/plain": [
       "'VAR_1246'"
      ]
     },
     "execution_count": 13,
     "metadata": {},
     "output_type": "execute_result"
    },
    {
     "name": "stdout",
     "output_type": "stream",
     "text": [
      "No. of unique values: 372\n",
      "No.of Null Values: 0\n"
     ]
    },
    {
     "data": {
      "text/plain": [
       "'VAR_1247'"
      ]
     },
     "execution_count": 13,
     "metadata": {},
     "output_type": "execute_result"
    },
    {
     "name": "stdout",
     "output_type": "stream",
     "text": [
      "No. of unique values: 330\n",
      "No.of Null Values: 0\n"
     ]
    },
    {
     "data": {
      "text/plain": [
       "'VAR_1248'"
      ]
     },
     "execution_count": 13,
     "metadata": {},
     "output_type": "execute_result"
    },
    {
     "name": "stdout",
     "output_type": "stream",
     "text": [
      "No. of unique values: 3262\n",
      "No.of Null Values: 0\n"
     ]
    },
    {
     "data": {
      "text/plain": [
       "'VAR_1249'"
      ]
     },
     "execution_count": 13,
     "metadata": {},
     "output_type": "execute_result"
    },
    {
     "name": "stdout",
     "output_type": "stream",
     "text": [
      "No. of unique values: 219\n",
      "No.of Null Values: 0\n"
     ]
    },
    {
     "data": {
      "text/plain": [
       "'VAR_1250'"
      ]
     },
     "execution_count": 13,
     "metadata": {},
     "output_type": "execute_result"
    },
    {
     "name": "stdout",
     "output_type": "stream",
     "text": [
      "No. of unique values: 163\n",
      "No.of Null Values: 0\n"
     ]
    },
    {
     "data": {
      "text/plain": [
       "'VAR_1251'"
      ]
     },
     "execution_count": 13,
     "metadata": {},
     "output_type": "execute_result"
    },
    {
     "name": "stdout",
     "output_type": "stream",
     "text": [
      "No. of unique values: 304\n",
      "No.of Null Values: 0\n"
     ]
    },
    {
     "data": {
      "text/plain": [
       "'VAR_1252'"
      ]
     },
     "execution_count": 13,
     "metadata": {},
     "output_type": "execute_result"
    },
    {
     "name": "stdout",
     "output_type": "stream",
     "text": [
      "No. of unique values: 307\n",
      "No.of Null Values: 0\n"
     ]
    },
    {
     "data": {
      "text/plain": [
       "'VAR_1253'"
      ]
     },
     "execution_count": 13,
     "metadata": {},
     "output_type": "execute_result"
    },
    {
     "name": "stdout",
     "output_type": "stream",
     "text": [
      "No. of unique values: 8\n",
      "No.of Null Values: 0\n"
     ]
    },
    {
     "data": {
      "text/plain": [
       "'VAR_1254'"
      ]
     },
     "execution_count": 13,
     "metadata": {},
     "output_type": "execute_result"
    },
    {
     "name": "stdout",
     "output_type": "stream",
     "text": [
      "No. of unique values: 9\n",
      "No.of Null Values: 0\n"
     ]
    },
    {
     "data": {
      "text/plain": [
       "'VAR_1255'"
      ]
     },
     "execution_count": 13,
     "metadata": {},
     "output_type": "execute_result"
    },
    {
     "name": "stdout",
     "output_type": "stream",
     "text": [
      "No. of unique values: 9\n",
      "No.of Null Values: 0\n"
     ]
    },
    {
     "data": {
      "text/plain": [
       "'VAR_1256'"
      ]
     },
     "execution_count": 13,
     "metadata": {},
     "output_type": "execute_result"
    },
    {
     "name": "stdout",
     "output_type": "stream",
     "text": [
      "No. of unique values: 9\n",
      "No.of Null Values: 0\n"
     ]
    },
    {
     "data": {
      "text/plain": [
       "'VAR_1257'"
      ]
     },
     "execution_count": 13,
     "metadata": {},
     "output_type": "execute_result"
    },
    {
     "name": "stdout",
     "output_type": "stream",
     "text": [
      "No. of unique values: 10\n",
      "No.of Null Values: 0\n"
     ]
    },
    {
     "data": {
      "text/plain": [
       "'VAR_1258'"
      ]
     },
     "execution_count": 13,
     "metadata": {},
     "output_type": "execute_result"
    },
    {
     "name": "stdout",
     "output_type": "stream",
     "text": [
      "No. of unique values: 133\n",
      "No.of Null Values: 0\n"
     ]
    },
    {
     "data": {
      "text/plain": [
       "'VAR_1259'"
      ]
     },
     "execution_count": 13,
     "metadata": {},
     "output_type": "execute_result"
    },
    {
     "name": "stdout",
     "output_type": "stream",
     "text": [
      "No. of unique values: 232\n",
      "No.of Null Values: 0\n"
     ]
    },
    {
     "data": {
      "text/plain": [
       "'VAR_1260'"
      ]
     },
     "execution_count": 13,
     "metadata": {},
     "output_type": "execute_result"
    },
    {
     "name": "stdout",
     "output_type": "stream",
     "text": [
      "No. of unique values: 86\n",
      "No.of Null Values: 0\n"
     ]
    },
    {
     "data": {
      "text/plain": [
       "'VAR_1261'"
      ]
     },
     "execution_count": 13,
     "metadata": {},
     "output_type": "execute_result"
    },
    {
     "name": "stdout",
     "output_type": "stream",
     "text": [
      "No. of unique values: 86\n",
      "No.of Null Values: 0\n"
     ]
    },
    {
     "data": {
      "text/plain": [
       "'VAR_1262'"
      ]
     },
     "execution_count": 13,
     "metadata": {},
     "output_type": "execute_result"
    },
    {
     "name": "stdout",
     "output_type": "stream",
     "text": [
      "No. of unique values: 85\n",
      "No.of Null Values: 0\n"
     ]
    },
    {
     "data": {
      "text/plain": [
       "'VAR_1263'"
      ]
     },
     "execution_count": 13,
     "metadata": {},
     "output_type": "execute_result"
    },
    {
     "name": "stdout",
     "output_type": "stream",
     "text": [
      "No. of unique values: 84\n",
      "No.of Null Values: 0\n"
     ]
    },
    {
     "data": {
      "text/plain": [
       "'VAR_1264'"
      ]
     },
     "execution_count": 13,
     "metadata": {},
     "output_type": "execute_result"
    },
    {
     "name": "stdout",
     "output_type": "stream",
     "text": [
      "No. of unique values: 86\n",
      "No.of Null Values: 0\n"
     ]
    },
    {
     "data": {
      "text/plain": [
       "'VAR_1265'"
      ]
     },
     "execution_count": 13,
     "metadata": {},
     "output_type": "execute_result"
    },
    {
     "name": "stdout",
     "output_type": "stream",
     "text": [
      "No. of unique values: 505\n",
      "No.of Null Values: 0\n"
     ]
    },
    {
     "data": {
      "text/plain": [
       "'VAR_1266'"
      ]
     },
     "execution_count": 13,
     "metadata": {},
     "output_type": "execute_result"
    },
    {
     "name": "stdout",
     "output_type": "stream",
     "text": [
      "No. of unique values: 285\n",
      "No.of Null Values: 0\n"
     ]
    },
    {
     "data": {
      "text/plain": [
       "'VAR_1267'"
      ]
     },
     "execution_count": 13,
     "metadata": {},
     "output_type": "execute_result"
    },
    {
     "name": "stdout",
     "output_type": "stream",
     "text": [
      "No. of unique values: 42\n",
      "No.of Null Values: 0\n"
     ]
    },
    {
     "data": {
      "text/plain": [
       "'VAR_1268'"
      ]
     },
     "execution_count": 13,
     "metadata": {},
     "output_type": "execute_result"
    },
    {
     "name": "stdout",
     "output_type": "stream",
     "text": [
      "No. of unique values: 23\n",
      "No.of Null Values: 0\n"
     ]
    },
    {
     "data": {
      "text/plain": [
       "'VAR_1269'"
      ]
     },
     "execution_count": 13,
     "metadata": {},
     "output_type": "execute_result"
    },
    {
     "name": "stdout",
     "output_type": "stream",
     "text": [
      "No. of unique values: 23\n",
      "No.of Null Values: 0\n"
     ]
    },
    {
     "data": {
      "text/plain": [
       "'VAR_1270'"
      ]
     },
     "execution_count": 13,
     "metadata": {},
     "output_type": "execute_result"
    },
    {
     "name": "stdout",
     "output_type": "stream",
     "text": [
      "No. of unique values: 10\n",
      "No.of Null Values: 0\n"
     ]
    },
    {
     "data": {
      "text/plain": [
       "'VAR_1271'"
      ]
     },
     "execution_count": 13,
     "metadata": {},
     "output_type": "execute_result"
    },
    {
     "name": "stdout",
     "output_type": "stream",
     "text": [
      "No. of unique values: 12\n",
      "No.of Null Values: 0\n"
     ]
    },
    {
     "data": {
      "text/plain": [
       "'VAR_1272'"
      ]
     },
     "execution_count": 13,
     "metadata": {},
     "output_type": "execute_result"
    },
    {
     "name": "stdout",
     "output_type": "stream",
     "text": [
      "No. of unique values: 14\n",
      "No.of Null Values: 0\n"
     ]
    },
    {
     "data": {
      "text/plain": [
       "'VAR_1273'"
      ]
     },
     "execution_count": 13,
     "metadata": {},
     "output_type": "execute_result"
    },
    {
     "name": "stdout",
     "output_type": "stream",
     "text": [
      "No. of unique values: 22\n",
      "No.of Null Values: 0\n"
     ]
    },
    {
     "data": {
      "text/plain": [
       "'VAR_1274'"
      ]
     },
     "execution_count": 13,
     "metadata": {},
     "output_type": "execute_result"
    },
    {
     "name": "stdout",
     "output_type": "stream",
     "text": [
      "No. of unique values: 39\n",
      "No.of Null Values: 0\n"
     ]
    },
    {
     "data": {
      "text/plain": [
       "'VAR_1275'"
      ]
     },
     "execution_count": 13,
     "metadata": {},
     "output_type": "execute_result"
    },
    {
     "name": "stdout",
     "output_type": "stream",
     "text": [
      "No. of unique values: 25\n",
      "No.of Null Values: 0\n"
     ]
    },
    {
     "data": {
      "text/plain": [
       "'VAR_1276'"
      ]
     },
     "execution_count": 13,
     "metadata": {},
     "output_type": "execute_result"
    },
    {
     "name": "stdout",
     "output_type": "stream",
     "text": [
      "No. of unique values: 26\n",
      "No.of Null Values: 0\n"
     ]
    },
    {
     "data": {
      "text/plain": [
       "'VAR_1277'"
      ]
     },
     "execution_count": 13,
     "metadata": {},
     "output_type": "execute_result"
    },
    {
     "name": "stdout",
     "output_type": "stream",
     "text": [
      "No. of unique values: 28\n",
      "No.of Null Values: 0\n"
     ]
    },
    {
     "data": {
      "text/plain": [
       "'VAR_1278'"
      ]
     },
     "execution_count": 13,
     "metadata": {},
     "output_type": "execute_result"
    },
    {
     "name": "stdout",
     "output_type": "stream",
     "text": [
      "No. of unique values: 23\n",
      "No.of Null Values: 0\n"
     ]
    },
    {
     "data": {
      "text/plain": [
       "'VAR_1279'"
      ]
     },
     "execution_count": 13,
     "metadata": {},
     "output_type": "execute_result"
    },
    {
     "name": "stdout",
     "output_type": "stream",
     "text": [
      "No. of unique values: 14\n",
      "No.of Null Values: 0\n"
     ]
    },
    {
     "data": {
      "text/plain": [
       "'VAR_1280'"
      ]
     },
     "execution_count": 13,
     "metadata": {},
     "output_type": "execute_result"
    },
    {
     "name": "stdout",
     "output_type": "stream",
     "text": [
      "No. of unique values: 14\n",
      "No.of Null Values: 0\n"
     ]
    },
    {
     "data": {
      "text/plain": [
       "'VAR_1281'"
      ]
     },
     "execution_count": 13,
     "metadata": {},
     "output_type": "execute_result"
    },
    {
     "name": "stdout",
     "output_type": "stream",
     "text": [
      "No. of unique values: 18\n",
      "No.of Null Values: 0\n"
     ]
    },
    {
     "data": {
      "text/plain": [
       "'VAR_1282'"
      ]
     },
     "execution_count": 13,
     "metadata": {},
     "output_type": "execute_result"
    },
    {
     "name": "stdout",
     "output_type": "stream",
     "text": [
      "No. of unique values: 23\n",
      "No.of Null Values: 0\n"
     ]
    },
    {
     "data": {
      "text/plain": [
       "'VAR_1283'"
      ]
     },
     "execution_count": 13,
     "metadata": {},
     "output_type": "execute_result"
    },
    {
     "name": "stdout",
     "output_type": "stream",
     "text": [
      "No. of unique values: 13\n",
      "No.of Null Values: 0\n"
     ]
    },
    {
     "data": {
      "text/plain": [
       "'VAR_1284'"
      ]
     },
     "execution_count": 13,
     "metadata": {},
     "output_type": "execute_result"
    },
    {
     "name": "stdout",
     "output_type": "stream",
     "text": [
      "No. of unique values: 14\n",
      "No.of Null Values: 0\n"
     ]
    },
    {
     "data": {
      "text/plain": [
       "'VAR_1285'"
      ]
     },
     "execution_count": 13,
     "metadata": {},
     "output_type": "execute_result"
    },
    {
     "name": "stdout",
     "output_type": "stream",
     "text": [
      "No. of unique values: 18\n",
      "No.of Null Values: 0\n"
     ]
    },
    {
     "data": {
      "text/plain": [
       "'VAR_1286'"
      ]
     },
     "execution_count": 13,
     "metadata": {},
     "output_type": "execute_result"
    },
    {
     "name": "stdout",
     "output_type": "stream",
     "text": [
      "No. of unique values: 22\n",
      "No.of Null Values: 0\n"
     ]
    },
    {
     "data": {
      "text/plain": [
       "'VAR_1287'"
      ]
     },
     "execution_count": 13,
     "metadata": {},
     "output_type": "execute_result"
    },
    {
     "name": "stdout",
     "output_type": "stream",
     "text": [
      "No. of unique values: 13\n",
      "No.of Null Values: 0\n"
     ]
    },
    {
     "data": {
      "text/plain": [
       "'VAR_1288'"
      ]
     },
     "execution_count": 13,
     "metadata": {},
     "output_type": "execute_result"
    },
    {
     "name": "stdout",
     "output_type": "stream",
     "text": [
      "No. of unique values: 14\n",
      "No.of Null Values: 0\n"
     ]
    },
    {
     "data": {
      "text/plain": [
       "'VAR_1289'"
      ]
     },
     "execution_count": 13,
     "metadata": {},
     "output_type": "execute_result"
    },
    {
     "name": "stdout",
     "output_type": "stream",
     "text": [
      "No. of unique values: 18\n",
      "No.of Null Values: 0\n"
     ]
    },
    {
     "data": {
      "text/plain": [
       "'VAR_1290'"
      ]
     },
     "execution_count": 13,
     "metadata": {},
     "output_type": "execute_result"
    },
    {
     "name": "stdout",
     "output_type": "stream",
     "text": [
      "No. of unique values: 22\n",
      "No.of Null Values: 0\n"
     ]
    },
    {
     "data": {
      "text/plain": [
       "'VAR_1291'"
      ]
     },
     "execution_count": 13,
     "metadata": {},
     "output_type": "execute_result"
    },
    {
     "name": "stdout",
     "output_type": "stream",
     "text": [
      "No. of unique values: 10\n",
      "No.of Null Values: 0\n"
     ]
    },
    {
     "data": {
      "text/plain": [
       "'VAR_1292'"
      ]
     },
     "execution_count": 13,
     "metadata": {},
     "output_type": "execute_result"
    },
    {
     "name": "stdout",
     "output_type": "stream",
     "text": [
      "No. of unique values: 10\n",
      "No.of Null Values: 0\n"
     ]
    },
    {
     "data": {
      "text/plain": [
       "'VAR_1293'"
      ]
     },
     "execution_count": 13,
     "metadata": {},
     "output_type": "execute_result"
    },
    {
     "name": "stdout",
     "output_type": "stream",
     "text": [
      "No. of unique values: 24\n",
      "No.of Null Values: 0\n"
     ]
    },
    {
     "data": {
      "text/plain": [
       "'VAR_1294'"
      ]
     },
     "execution_count": 13,
     "metadata": {},
     "output_type": "execute_result"
    },
    {
     "name": "stdout",
     "output_type": "stream",
     "text": [
      "No. of unique values: 24\n",
      "No.of Null Values: 0\n"
     ]
    },
    {
     "data": {
      "text/plain": [
       "'VAR_1295'"
      ]
     },
     "execution_count": 13,
     "metadata": {},
     "output_type": "execute_result"
    },
    {
     "name": "stdout",
     "output_type": "stream",
     "text": [
      "No. of unique values: 24\n",
      "No.of Null Values: 0\n"
     ]
    },
    {
     "data": {
      "text/plain": [
       "'VAR_1296'"
      ]
     },
     "execution_count": 13,
     "metadata": {},
     "output_type": "execute_result"
    },
    {
     "name": "stdout",
     "output_type": "stream",
     "text": [
      "No. of unique values: 23\n",
      "No.of Null Values: 0\n"
     ]
    },
    {
     "data": {
      "text/plain": [
       "'VAR_1297'"
      ]
     },
     "execution_count": 13,
     "metadata": {},
     "output_type": "execute_result"
    },
    {
     "name": "stdout",
     "output_type": "stream",
     "text": [
      "No. of unique values: 23\n",
      "No.of Null Values: 0\n"
     ]
    },
    {
     "data": {
      "text/plain": [
       "'VAR_1298'"
      ]
     },
     "execution_count": 13,
     "metadata": {},
     "output_type": "execute_result"
    },
    {
     "name": "stdout",
     "output_type": "stream",
     "text": [
      "No. of unique values: 23\n",
      "No.of Null Values: 0\n"
     ]
    },
    {
     "data": {
      "text/plain": [
       "'VAR_1299'"
      ]
     },
     "execution_count": 13,
     "metadata": {},
     "output_type": "execute_result"
    },
    {
     "name": "stdout",
     "output_type": "stream",
     "text": [
      "No. of unique values: 22\n",
      "No.of Null Values: 0\n"
     ]
    },
    {
     "data": {
      "text/plain": [
       "'VAR_1300'"
      ]
     },
     "execution_count": 13,
     "metadata": {},
     "output_type": "execute_result"
    },
    {
     "name": "stdout",
     "output_type": "stream",
     "text": [
      "No. of unique values: 21\n",
      "No.of Null Values: 0\n"
     ]
    },
    {
     "data": {
      "text/plain": [
       "'VAR_1301'"
      ]
     },
     "execution_count": 13,
     "metadata": {},
     "output_type": "execute_result"
    },
    {
     "name": "stdout",
     "output_type": "stream",
     "text": [
      "No. of unique values: 15\n",
      "No.of Null Values: 0\n"
     ]
    },
    {
     "data": {
      "text/plain": [
       "'VAR_1302'"
      ]
     },
     "execution_count": 13,
     "metadata": {},
     "output_type": "execute_result"
    },
    {
     "name": "stdout",
     "output_type": "stream",
     "text": [
      "No. of unique values: 14\n",
      "No.of Null Values: 0\n"
     ]
    },
    {
     "data": {
      "text/plain": [
       "'VAR_1303'"
      ]
     },
     "execution_count": 13,
     "metadata": {},
     "output_type": "execute_result"
    },
    {
     "name": "stdout",
     "output_type": "stream",
     "text": [
      "No. of unique values: 8\n",
      "No.of Null Values: 0\n"
     ]
    },
    {
     "data": {
      "text/plain": [
       "'VAR_1304'"
      ]
     },
     "execution_count": 13,
     "metadata": {},
     "output_type": "execute_result"
    },
    {
     "name": "stdout",
     "output_type": "stream",
     "text": [
      "No. of unique values: 25\n",
      "No.of Null Values: 0\n"
     ]
    },
    {
     "data": {
      "text/plain": [
       "'VAR_1305'"
      ]
     },
     "execution_count": 13,
     "metadata": {},
     "output_type": "execute_result"
    },
    {
     "name": "stdout",
     "output_type": "stream",
     "text": [
      "No. of unique values: 10\n",
      "No.of Null Values: 0\n"
     ]
    },
    {
     "data": {
      "text/plain": [
       "'VAR_1306'"
      ]
     },
     "execution_count": 13,
     "metadata": {},
     "output_type": "execute_result"
    },
    {
     "name": "stdout",
     "output_type": "stream",
     "text": [
      "No. of unique values: 12\n",
      "No.of Null Values: 0\n"
     ]
    },
    {
     "data": {
      "text/plain": [
       "'VAR_1307'"
      ]
     },
     "execution_count": 13,
     "metadata": {},
     "output_type": "execute_result"
    },
    {
     "name": "stdout",
     "output_type": "stream",
     "text": [
      "No. of unique values: 17\n",
      "No.of Null Values: 0\n"
     ]
    },
    {
     "data": {
      "text/plain": [
       "'VAR_1308'"
      ]
     },
     "execution_count": 13,
     "metadata": {},
     "output_type": "execute_result"
    },
    {
     "name": "stdout",
     "output_type": "stream",
     "text": [
      "No. of unique values: 21\n",
      "No.of Null Values: 0\n"
     ]
    },
    {
     "data": {
      "text/plain": [
       "'VAR_1309'"
      ]
     },
     "execution_count": 13,
     "metadata": {},
     "output_type": "execute_result"
    },
    {
     "name": "stdout",
     "output_type": "stream",
     "text": [
      "No. of unique values: 28\n",
      "No.of Null Values: 0\n"
     ]
    },
    {
     "data": {
      "text/plain": [
       "'VAR_1310'"
      ]
     },
     "execution_count": 13,
     "metadata": {},
     "output_type": "execute_result"
    },
    {
     "name": "stdout",
     "output_type": "stream",
     "text": [
      "No. of unique values: 20\n",
      "No.of Null Values: 0\n"
     ]
    },
    {
     "data": {
      "text/plain": [
       "'VAR_1311'"
      ]
     },
     "execution_count": 13,
     "metadata": {},
     "output_type": "execute_result"
    },
    {
     "name": "stdout",
     "output_type": "stream",
     "text": [
      "No. of unique values: 34\n",
      "No.of Null Values: 0\n"
     ]
    },
    {
     "data": {
      "text/plain": [
       "'VAR_1312'"
      ]
     },
     "execution_count": 13,
     "metadata": {},
     "output_type": "execute_result"
    },
    {
     "name": "stdout",
     "output_type": "stream",
     "text": [
      "No. of unique values: 5639\n",
      "No.of Null Values: 0\n"
     ]
    },
    {
     "data": {
      "text/plain": [
       "'VAR_1313'"
      ]
     },
     "execution_count": 13,
     "metadata": {},
     "output_type": "execute_result"
    },
    {
     "name": "stdout",
     "output_type": "stream",
     "text": [
      "No. of unique values: 6033\n",
      "No.of Null Values: 0\n"
     ]
    },
    {
     "data": {
      "text/plain": [
       "'VAR_1314'"
      ]
     },
     "execution_count": 13,
     "metadata": {},
     "output_type": "execute_result"
    },
    {
     "name": "stdout",
     "output_type": "stream",
     "text": [
      "No. of unique values: 4592\n",
      "No.of Null Values: 0\n"
     ]
    },
    {
     "data": {
      "text/plain": [
       "'VAR_1315'"
      ]
     },
     "execution_count": 13,
     "metadata": {},
     "output_type": "execute_result"
    },
    {
     "name": "stdout",
     "output_type": "stream",
     "text": [
      "No. of unique values: 1768\n",
      "No.of Null Values: 0\n"
     ]
    },
    {
     "data": {
      "text/plain": [
       "'VAR_1316'"
      ]
     },
     "execution_count": 13,
     "metadata": {},
     "output_type": "execute_result"
    },
    {
     "name": "stdout",
     "output_type": "stream",
     "text": [
      "No. of unique values: 2014\n",
      "No.of Null Values: 0\n"
     ]
    },
    {
     "data": {
      "text/plain": [
       "'VAR_1317'"
      ]
     },
     "execution_count": 13,
     "metadata": {},
     "output_type": "execute_result"
    },
    {
     "name": "stdout",
     "output_type": "stream",
     "text": [
      "No. of unique values: 761\n",
      "No.of Null Values: 0\n"
     ]
    },
    {
     "data": {
      "text/plain": [
       "'VAR_1318'"
      ]
     },
     "execution_count": 13,
     "metadata": {},
     "output_type": "execute_result"
    },
    {
     "name": "stdout",
     "output_type": "stream",
     "text": [
      "No. of unique values: 566\n",
      "No.of Null Values: 0\n"
     ]
    },
    {
     "data": {
      "text/plain": [
       "'VAR_1319'"
      ]
     },
     "execution_count": 13,
     "metadata": {},
     "output_type": "execute_result"
    },
    {
     "name": "stdout",
     "output_type": "stream",
     "text": [
      "No. of unique values: 824\n",
      "No.of Null Values: 0\n"
     ]
    },
    {
     "data": {
      "text/plain": [
       "'VAR_1320'"
      ]
     },
     "execution_count": 13,
     "metadata": {},
     "output_type": "execute_result"
    },
    {
     "name": "stdout",
     "output_type": "stream",
     "text": [
      "No. of unique values: 2045\n",
      "No.of Null Values: 0\n"
     ]
    },
    {
     "data": {
      "text/plain": [
       "'VAR_1321'"
      ]
     },
     "execution_count": 13,
     "metadata": {},
     "output_type": "execute_result"
    },
    {
     "name": "stdout",
     "output_type": "stream",
     "text": [
      "No. of unique values: 3201\n",
      "No.of Null Values: 0\n"
     ]
    },
    {
     "data": {
      "text/plain": [
       "'VAR_1322'"
      ]
     },
     "execution_count": 13,
     "metadata": {},
     "output_type": "execute_result"
    },
    {
     "name": "stdout",
     "output_type": "stream",
     "text": [
      "No. of unique values: 3188\n",
      "No.of Null Values: 0\n"
     ]
    },
    {
     "data": {
      "text/plain": [
       "'VAR_1323'"
      ]
     },
     "execution_count": 13,
     "metadata": {},
     "output_type": "execute_result"
    },
    {
     "name": "stdout",
     "output_type": "stream",
     "text": [
      "No. of unique values: 877\n",
      "No.of Null Values: 0\n"
     ]
    },
    {
     "data": {
      "text/plain": [
       "'VAR_1324'"
      ]
     },
     "execution_count": 13,
     "metadata": {},
     "output_type": "execute_result"
    },
    {
     "name": "stdout",
     "output_type": "stream",
     "text": [
      "No. of unique values: 9\n",
      "No.of Null Values: 0\n"
     ]
    },
    {
     "data": {
      "text/plain": [
       "'VAR_1325'"
      ]
     },
     "execution_count": 13,
     "metadata": {},
     "output_type": "execute_result"
    },
    {
     "name": "stdout",
     "output_type": "stream",
     "text": [
      "No. of unique values: 8\n",
      "No.of Null Values: 0\n"
     ]
    },
    {
     "data": {
      "text/plain": [
       "'VAR_1326'"
      ]
     },
     "execution_count": 13,
     "metadata": {},
     "output_type": "execute_result"
    },
    {
     "name": "stdout",
     "output_type": "stream",
     "text": [
      "No. of unique values: 10\n",
      "No.of Null Values: 0\n"
     ]
    },
    {
     "data": {
      "text/plain": [
       "'VAR_1327'"
      ]
     },
     "execution_count": 13,
     "metadata": {},
     "output_type": "execute_result"
    },
    {
     "name": "stdout",
     "output_type": "stream",
     "text": [
      "No. of unique values: 193\n",
      "No.of Null Values: 0\n"
     ]
    },
    {
     "data": {
      "text/plain": [
       "'VAR_1328'"
      ]
     },
     "execution_count": 13,
     "metadata": {},
     "output_type": "execute_result"
    },
    {
     "name": "stdout",
     "output_type": "stream",
     "text": [
      "No. of unique values: 181\n",
      "No.of Null Values: 0\n"
     ]
    },
    {
     "data": {
      "text/plain": [
       "'VAR_1329'"
      ]
     },
     "execution_count": 13,
     "metadata": {},
     "output_type": "execute_result"
    },
    {
     "name": "stdout",
     "output_type": "stream",
     "text": [
      "No. of unique values: 219\n",
      "No.of Null Values: 0\n"
     ]
    },
    {
     "data": {
      "text/plain": [
       "'VAR_1330'"
      ]
     },
     "execution_count": 13,
     "metadata": {},
     "output_type": "execute_result"
    },
    {
     "name": "stdout",
     "output_type": "stream",
     "text": [
      "No. of unique values: 204\n",
      "No.of Null Values: 0\n"
     ]
    },
    {
     "data": {
      "text/plain": [
       "'VAR_1331'"
      ]
     },
     "execution_count": 13,
     "metadata": {},
     "output_type": "execute_result"
    },
    {
     "name": "stdout",
     "output_type": "stream",
     "text": [
      "No. of unique values: 193\n",
      "No.of Null Values: 0\n"
     ]
    },
    {
     "data": {
      "text/plain": [
       "'VAR_1332'"
      ]
     },
     "execution_count": 13,
     "metadata": {},
     "output_type": "execute_result"
    },
    {
     "name": "stdout",
     "output_type": "stream",
     "text": [
      "No. of unique values: 181\n",
      "No.of Null Values: 0\n"
     ]
    },
    {
     "data": {
      "text/plain": [
       "'VAR_1333'"
      ]
     },
     "execution_count": 13,
     "metadata": {},
     "output_type": "execute_result"
    },
    {
     "name": "stdout",
     "output_type": "stream",
     "text": [
      "No. of unique values: 84\n",
      "No.of Null Values: 0\n"
     ]
    },
    {
     "data": {
      "text/plain": [
       "'VAR_1334'"
      ]
     },
     "execution_count": 13,
     "metadata": {},
     "output_type": "execute_result"
    },
    {
     "name": "stdout",
     "output_type": "stream",
     "text": [
      "No. of unique values: 96\n",
      "No.of Null Values: 0\n"
     ]
    },
    {
     "data": {
      "text/plain": [
       "'VAR_1335'"
      ]
     },
     "execution_count": 13,
     "metadata": {},
     "output_type": "execute_result"
    },
    {
     "name": "stdout",
     "output_type": "stream",
     "text": [
      "No. of unique values: 228\n",
      "No.of Null Values: 0\n"
     ]
    },
    {
     "data": {
      "text/plain": [
       "'VAR_1336'"
      ]
     },
     "execution_count": 13,
     "metadata": {},
     "output_type": "execute_result"
    },
    {
     "name": "stdout",
     "output_type": "stream",
     "text": [
      "No. of unique values: 487\n",
      "No.of Null Values: 0\n"
     ]
    },
    {
     "data": {
      "text/plain": [
       "'VAR_1337'"
      ]
     },
     "execution_count": 13,
     "metadata": {},
     "output_type": "execute_result"
    },
    {
     "name": "stdout",
     "output_type": "stream",
     "text": [
      "No. of unique values: 277\n",
      "No.of Null Values: 0\n"
     ]
    },
    {
     "data": {
      "text/plain": [
       "'VAR_1338'"
      ]
     },
     "execution_count": 13,
     "metadata": {},
     "output_type": "execute_result"
    },
    {
     "name": "stdout",
     "output_type": "stream",
     "text": [
      "No. of unique values: 19\n",
      "No.of Null Values: 0\n"
     ]
    },
    {
     "data": {
      "text/plain": [
       "'VAR_1339'"
      ]
     },
     "execution_count": 13,
     "metadata": {},
     "output_type": "execute_result"
    },
    {
     "name": "stdout",
     "output_type": "stream",
     "text": [
      "No. of unique values: 31\n",
      "No.of Null Values: 0\n"
     ]
    },
    {
     "data": {
      "text/plain": [
       "'VAR_1340'"
      ]
     },
     "execution_count": 13,
     "metadata": {},
     "output_type": "execute_result"
    },
    {
     "name": "stdout",
     "output_type": "stream",
     "text": [
      "No. of unique values: 7\n",
      "No.of Null Values: 0\n"
     ]
    },
    {
     "data": {
      "text/plain": [
       "'VAR_1341'"
      ]
     },
     "execution_count": 13,
     "metadata": {},
     "output_type": "execute_result"
    },
    {
     "name": "stdout",
     "output_type": "stream",
     "text": [
      "No. of unique values: 452\n",
      "No.of Null Values: 0\n"
     ]
    },
    {
     "data": {
      "text/plain": [
       "'VAR_1342'"
      ]
     },
     "execution_count": 13,
     "metadata": {},
     "output_type": "execute_result"
    },
    {
     "name": "stdout",
     "output_type": "stream",
     "text": [
      "No. of unique values: 501\n",
      "No.of Null Values: 0\n"
     ]
    },
    {
     "data": {
      "text/plain": [
       "'VAR_1343'"
      ]
     },
     "execution_count": 13,
     "metadata": {},
     "output_type": "execute_result"
    },
    {
     "name": "stdout",
     "output_type": "stream",
     "text": [
      "No. of unique values: 197\n",
      "No.of Null Values: 0\n"
     ]
    },
    {
     "data": {
      "text/plain": [
       "'VAR_1344'"
      ]
     },
     "execution_count": 13,
     "metadata": {},
     "output_type": "execute_result"
    },
    {
     "name": "stdout",
     "output_type": "stream",
     "text": [
      "No. of unique values: 208\n",
      "No.of Null Values: 0\n"
     ]
    },
    {
     "data": {
      "text/plain": [
       "'VAR_1345'"
      ]
     },
     "execution_count": 13,
     "metadata": {},
     "output_type": "execute_result"
    },
    {
     "name": "stdout",
     "output_type": "stream",
     "text": [
      "No. of unique values: 21\n",
      "No.of Null Values: 0\n"
     ]
    },
    {
     "data": {
      "text/plain": [
       "'VAR_1346'"
      ]
     },
     "execution_count": 13,
     "metadata": {},
     "output_type": "execute_result"
    },
    {
     "name": "stdout",
     "output_type": "stream",
     "text": [
      "No. of unique values: 10\n",
      "No.of Null Values: 0\n"
     ]
    },
    {
     "data": {
      "text/plain": [
       "'VAR_1347'"
      ]
     },
     "execution_count": 13,
     "metadata": {},
     "output_type": "execute_result"
    },
    {
     "name": "stdout",
     "output_type": "stream",
     "text": [
      "No. of unique values: 14\n",
      "No.of Null Values: 0\n"
     ]
    },
    {
     "data": {
      "text/plain": [
       "'VAR_1348'"
      ]
     },
     "execution_count": 13,
     "metadata": {},
     "output_type": "execute_result"
    },
    {
     "name": "stdout",
     "output_type": "stream",
     "text": [
      "No. of unique values: 39\n",
      "No.of Null Values: 0\n"
     ]
    },
    {
     "data": {
      "text/plain": [
       "'VAR_1349'"
      ]
     },
     "execution_count": 13,
     "metadata": {},
     "output_type": "execute_result"
    },
    {
     "name": "stdout",
     "output_type": "stream",
     "text": [
      "No. of unique values: 20\n",
      "No.of Null Values: 0\n"
     ]
    },
    {
     "data": {
      "text/plain": [
       "'VAR_1350'"
      ]
     },
     "execution_count": 13,
     "metadata": {},
     "output_type": "execute_result"
    },
    {
     "name": "stdout",
     "output_type": "stream",
     "text": [
      "No. of unique values: 19\n",
      "No.of Null Values: 0\n"
     ]
    },
    {
     "data": {
      "text/plain": [
       "'VAR_1351'"
      ]
     },
     "execution_count": 13,
     "metadata": {},
     "output_type": "execute_result"
    },
    {
     "name": "stdout",
     "output_type": "stream",
     "text": [
      "No. of unique values: 15\n",
      "No.of Null Values: 0\n"
     ]
    },
    {
     "data": {
      "text/plain": [
       "'VAR_1352'"
      ]
     },
     "execution_count": 13,
     "metadata": {},
     "output_type": "execute_result"
    },
    {
     "name": "stdout",
     "output_type": "stream",
     "text": [
      "No. of unique values: 22\n",
      "No.of Null Values: 0\n"
     ]
    },
    {
     "data": {
      "text/plain": [
       "'VAR_1353'"
      ]
     },
     "execution_count": 13,
     "metadata": {},
     "output_type": "execute_result"
    },
    {
     "name": "stdout",
     "output_type": "stream",
     "text": [
      "No. of unique values: 5412\n",
      "No.of Null Values: 0\n"
     ]
    },
    {
     "data": {
      "text/plain": [
       "'VAR_1354'"
      ]
     },
     "execution_count": 13,
     "metadata": {},
     "output_type": "execute_result"
    },
    {
     "name": "stdout",
     "output_type": "stream",
     "text": [
      "No. of unique values: 5807\n",
      "No.of Null Values: 0\n"
     ]
    },
    {
     "data": {
      "text/plain": [
       "'VAR_1355'"
      ]
     },
     "execution_count": 13,
     "metadata": {},
     "output_type": "execute_result"
    },
    {
     "name": "stdout",
     "output_type": "stream",
     "text": [
      "No. of unique values: 1643\n",
      "No.of Null Values: 0\n"
     ]
    },
    {
     "data": {
      "text/plain": [
       "'VAR_1356'"
      ]
     },
     "execution_count": 13,
     "metadata": {},
     "output_type": "execute_result"
    },
    {
     "name": "stdout",
     "output_type": "stream",
     "text": [
      "No. of unique values: 733\n",
      "No.of Null Values: 0\n"
     ]
    },
    {
     "data": {
      "text/plain": [
       "'VAR_1357'"
      ]
     },
     "execution_count": 13,
     "metadata": {},
     "output_type": "execute_result"
    },
    {
     "name": "stdout",
     "output_type": "stream",
     "text": [
      "No. of unique values: 845\n",
      "No.of Null Values: 0\n"
     ]
    },
    {
     "data": {
      "text/plain": [
       "'VAR_1358'"
      ]
     },
     "execution_count": 13,
     "metadata": {},
     "output_type": "execute_result"
    },
    {
     "name": "stdout",
     "output_type": "stream",
     "text": [
      "No. of unique values: 195\n",
      "No.of Null Values: 0\n"
     ]
    },
    {
     "data": {
      "text/plain": [
       "'VAR_1359'"
      ]
     },
     "execution_count": 13,
     "metadata": {},
     "output_type": "execute_result"
    },
    {
     "name": "stdout",
     "output_type": "stream",
     "text": [
      "No. of unique values: 67\n",
      "No.of Null Values: 0\n"
     ]
    },
    {
     "data": {
      "text/plain": [
       "'VAR_1360'"
      ]
     },
     "execution_count": 13,
     "metadata": {},
     "output_type": "execute_result"
    },
    {
     "name": "stdout",
     "output_type": "stream",
     "text": [
      "No. of unique values: 36\n",
      "No.of Null Values: 0\n"
     ]
    },
    {
     "data": {
      "text/plain": [
       "'VAR_1361'"
      ]
     },
     "execution_count": 13,
     "metadata": {},
     "output_type": "execute_result"
    },
    {
     "name": "stdout",
     "output_type": "stream",
     "text": [
      "No. of unique values: 34\n",
      "No.of Null Values: 0\n"
     ]
    },
    {
     "data": {
      "text/plain": [
       "'VAR_1362'"
      ]
     },
     "execution_count": 13,
     "metadata": {},
     "output_type": "execute_result"
    },
    {
     "name": "stdout",
     "output_type": "stream",
     "text": [
      "No. of unique values: 18\n",
      "No.of Null Values: 0\n"
     ]
    },
    {
     "data": {
      "text/plain": [
       "'VAR_1363'"
      ]
     },
     "execution_count": 13,
     "metadata": {},
     "output_type": "execute_result"
    },
    {
     "name": "stdout",
     "output_type": "stream",
     "text": [
      "No. of unique values: 59\n",
      "No.of Null Values: 0\n"
     ]
    },
    {
     "data": {
      "text/plain": [
       "'VAR_1364'"
      ]
     },
     "execution_count": 13,
     "metadata": {},
     "output_type": "execute_result"
    },
    {
     "name": "stdout",
     "output_type": "stream",
     "text": [
      "No. of unique values: 28\n",
      "No.of Null Values: 0\n"
     ]
    },
    {
     "data": {
      "text/plain": [
       "'VAR_1365'"
      ]
     },
     "execution_count": 13,
     "metadata": {},
     "output_type": "execute_result"
    },
    {
     "name": "stdout",
     "output_type": "stream",
     "text": [
      "No. of unique values: 28\n",
      "No.of Null Values: 0\n"
     ]
    },
    {
     "data": {
      "text/plain": [
       "'VAR_1366'"
      ]
     },
     "execution_count": 13,
     "metadata": {},
     "output_type": "execute_result"
    },
    {
     "name": "stdout",
     "output_type": "stream",
     "text": [
      "No. of unique values: 28\n",
      "No.of Null Values: 0\n"
     ]
    },
    {
     "data": {
      "text/plain": [
       "'VAR_1367'"
      ]
     },
     "execution_count": 13,
     "metadata": {},
     "output_type": "execute_result"
    },
    {
     "name": "stdout",
     "output_type": "stream",
     "text": [
      "No. of unique values: 30\n",
      "No.of Null Values: 0\n"
     ]
    },
    {
     "data": {
      "text/plain": [
       "'VAR_1368'"
      ]
     },
     "execution_count": 13,
     "metadata": {},
     "output_type": "execute_result"
    },
    {
     "name": "stdout",
     "output_type": "stream",
     "text": [
      "No. of unique values: 26\n",
      "No.of Null Values: 0\n"
     ]
    },
    {
     "data": {
      "text/plain": [
       "'VAR_1369'"
      ]
     },
     "execution_count": 13,
     "metadata": {},
     "output_type": "execute_result"
    },
    {
     "name": "stdout",
     "output_type": "stream",
     "text": [
      "No. of unique values: 35\n",
      "No.of Null Values: 0\n"
     ]
    },
    {
     "data": {
      "text/plain": [
       "'VAR_1370'"
      ]
     },
     "execution_count": 13,
     "metadata": {},
     "output_type": "execute_result"
    },
    {
     "name": "stdout",
     "output_type": "stream",
     "text": [
      "No. of unique values: 63\n",
      "No.of Null Values: 0\n"
     ]
    },
    {
     "data": {
      "text/plain": [
       "'VAR_1371'"
      ]
     },
     "execution_count": 13,
     "metadata": {},
     "output_type": "execute_result"
    },
    {
     "name": "stdout",
     "output_type": "stream",
     "text": [
      "No. of unique values: 6633\n",
      "No.of Null Values: 0\n"
     ]
    },
    {
     "data": {
      "text/plain": [
       "'VAR_1372'"
      ]
     },
     "execution_count": 13,
     "metadata": {},
     "output_type": "execute_result"
    },
    {
     "name": "stdout",
     "output_type": "stream",
     "text": [
      "No. of unique values: 7000\n",
      "No.of Null Values: 0\n"
     ]
    },
    {
     "data": {
      "text/plain": [
       "'VAR_1373'"
      ]
     },
     "execution_count": 13,
     "metadata": {},
     "output_type": "execute_result"
    },
    {
     "name": "stdout",
     "output_type": "stream",
     "text": [
      "No. of unique values: 3626\n",
      "No.of Null Values: 0\n"
     ]
    },
    {
     "data": {
      "text/plain": [
       "'VAR_1374'"
      ]
     },
     "execution_count": 13,
     "metadata": {},
     "output_type": "execute_result"
    },
    {
     "name": "stdout",
     "output_type": "stream",
     "text": [
      "No. of unique values: 5255\n",
      "No.of Null Values: 0\n"
     ]
    },
    {
     "data": {
      "text/plain": [
       "'VAR_1375'"
      ]
     },
     "execution_count": 13,
     "metadata": {},
     "output_type": "execute_result"
    },
    {
     "name": "stdout",
     "output_type": "stream",
     "text": [
      "No. of unique values: 375\n",
      "No.of Null Values: 0\n"
     ]
    },
    {
     "data": {
      "text/plain": [
       "'VAR_1376'"
      ]
     },
     "execution_count": 13,
     "metadata": {},
     "output_type": "execute_result"
    },
    {
     "name": "stdout",
     "output_type": "stream",
     "text": [
      "No. of unique values: 1035\n",
      "No.of Null Values: 0\n"
     ]
    },
    {
     "data": {
      "text/plain": [
       "'VAR_1377'"
      ]
     },
     "execution_count": 13,
     "metadata": {},
     "output_type": "execute_result"
    },
    {
     "name": "stdout",
     "output_type": "stream",
     "text": [
      "No. of unique values: 9\n",
      "No.of Null Values: 0\n"
     ]
    },
    {
     "data": {
      "text/plain": [
       "'VAR_1378'"
      ]
     },
     "execution_count": 13,
     "metadata": {},
     "output_type": "execute_result"
    },
    {
     "name": "stdout",
     "output_type": "stream",
     "text": [
      "No. of unique values: 8\n",
      "No.of Null Values: 0\n"
     ]
    },
    {
     "data": {
      "text/plain": [
       "'VAR_1379'"
      ]
     },
     "execution_count": 13,
     "metadata": {},
     "output_type": "execute_result"
    },
    {
     "name": "stdout",
     "output_type": "stream",
     "text": [
      "No. of unique values: 10\n",
      "No.of Null Values: 0\n"
     ]
    },
    {
     "data": {
      "text/plain": [
       "'VAR_1380'"
      ]
     },
     "execution_count": 13,
     "metadata": {},
     "output_type": "execute_result"
    },
    {
     "name": "stdout",
     "output_type": "stream",
     "text": [
      "No. of unique values: 203\n",
      "No.of Null Values: 0\n"
     ]
    },
    {
     "data": {
      "text/plain": [
       "'VAR_1381'"
      ]
     },
     "execution_count": 13,
     "metadata": {},
     "output_type": "execute_result"
    },
    {
     "name": "stdout",
     "output_type": "stream",
     "text": [
      "No. of unique values: 216\n",
      "No.of Null Values: 0\n"
     ]
    },
    {
     "data": {
      "text/plain": [
       "'VAR_1382'"
      ]
     },
     "execution_count": 13,
     "metadata": {},
     "output_type": "execute_result"
    },
    {
     "name": "stdout",
     "output_type": "stream",
     "text": [
      "No. of unique values: 86\n",
      "No.of Null Values: 0\n"
     ]
    },
    {
     "data": {
      "text/plain": [
       "'VAR_1383'"
      ]
     },
     "execution_count": 13,
     "metadata": {},
     "output_type": "execute_result"
    },
    {
     "name": "stdout",
     "output_type": "stream",
     "text": [
      "No. of unique values: 86\n",
      "No.of Null Values: 0\n"
     ]
    },
    {
     "data": {
      "text/plain": [
       "'VAR_1384'"
      ]
     },
     "execution_count": 13,
     "metadata": {},
     "output_type": "execute_result"
    },
    {
     "name": "stdout",
     "output_type": "stream",
     "text": [
      "No. of unique values: 546\n",
      "No.of Null Values: 0\n"
     ]
    },
    {
     "data": {
      "text/plain": [
       "'VAR_1385'"
      ]
     },
     "execution_count": 13,
     "metadata": {},
     "output_type": "execute_result"
    },
    {
     "name": "stdout",
     "output_type": "stream",
     "text": [
      "No. of unique values: 287\n",
      "No.of Null Values: 0\n"
     ]
    },
    {
     "data": {
      "text/plain": [
       "'VAR_1386'"
      ]
     },
     "execution_count": 13,
     "metadata": {},
     "output_type": "execute_result"
    },
    {
     "name": "stdout",
     "output_type": "stream",
     "text": [
      "No. of unique values: 58\n",
      "No.of Null Values: 0\n"
     ]
    },
    {
     "data": {
      "text/plain": [
       "'VAR_1387'"
      ]
     },
     "execution_count": 13,
     "metadata": {},
     "output_type": "execute_result"
    },
    {
     "name": "stdout",
     "output_type": "stream",
     "text": [
      "No. of unique values: 32\n",
      "No.of Null Values: 0\n"
     ]
    },
    {
     "data": {
      "text/plain": [
       "'VAR_1388'"
      ]
     },
     "execution_count": 13,
     "metadata": {},
     "output_type": "execute_result"
    },
    {
     "name": "stdout",
     "output_type": "stream",
     "text": [
      "No. of unique values: 53\n",
      "No.of Null Values: 0\n"
     ]
    },
    {
     "data": {
      "text/plain": [
       "'VAR_1389'"
      ]
     },
     "execution_count": 13,
     "metadata": {},
     "output_type": "execute_result"
    },
    {
     "name": "stdout",
     "output_type": "stream",
     "text": [
      "No. of unique values: 31\n",
      "No.of Null Values: 0\n"
     ]
    },
    {
     "data": {
      "text/plain": [
       "'VAR_1390'"
      ]
     },
     "execution_count": 13,
     "metadata": {},
     "output_type": "execute_result"
    },
    {
     "name": "stdout",
     "output_type": "stream",
     "text": [
      "No. of unique values: 4024\n",
      "No.of Null Values: 0\n"
     ]
    },
    {
     "data": {
      "text/plain": [
       "'VAR_1391'"
      ]
     },
     "execution_count": 13,
     "metadata": {},
     "output_type": "execute_result"
    },
    {
     "name": "stdout",
     "output_type": "stream",
     "text": [
      "No. of unique values: 83\n",
      "No.of Null Values: 0\n"
     ]
    },
    {
     "data": {
      "text/plain": [
       "'VAR_1392'"
      ]
     },
     "execution_count": 13,
     "metadata": {},
     "output_type": "execute_result"
    },
    {
     "name": "stdout",
     "output_type": "stream",
     "text": [
      "No. of unique values: 42\n",
      "No.of Null Values: 0\n"
     ]
    },
    {
     "data": {
      "text/plain": [
       "'VAR_1393'"
      ]
     },
     "execution_count": 13,
     "metadata": {},
     "output_type": "execute_result"
    },
    {
     "name": "stdout",
     "output_type": "stream",
     "text": [
      "No. of unique values: 12\n",
      "No.of Null Values: 0\n"
     ]
    },
    {
     "data": {
      "text/plain": [
       "'VAR_1394'"
      ]
     },
     "execution_count": 13,
     "metadata": {},
     "output_type": "execute_result"
    },
    {
     "name": "stdout",
     "output_type": "stream",
     "text": [
      "No. of unique values: 8\n",
      "No.of Null Values: 0\n"
     ]
    },
    {
     "data": {
      "text/plain": [
       "'VAR_1395'"
      ]
     },
     "execution_count": 13,
     "metadata": {},
     "output_type": "execute_result"
    },
    {
     "name": "stdout",
     "output_type": "stream",
     "text": [
      "No. of unique values: 41\n",
      "No.of Null Values: 0\n"
     ]
    },
    {
     "data": {
      "text/plain": [
       "'VAR_1396'"
      ]
     },
     "execution_count": 13,
     "metadata": {},
     "output_type": "execute_result"
    },
    {
     "name": "stdout",
     "output_type": "stream",
     "text": [
      "No. of unique values: 11\n",
      "No.of Null Values: 0\n"
     ]
    },
    {
     "data": {
      "text/plain": [
       "'VAR_1397'"
      ]
     },
     "execution_count": 13,
     "metadata": {},
     "output_type": "execute_result"
    },
    {
     "name": "stdout",
     "output_type": "stream",
     "text": [
      "No. of unique values: 33\n",
      "No.of Null Values: 0\n"
     ]
    },
    {
     "data": {
      "text/plain": [
       "'VAR_1398'"
      ]
     },
     "execution_count": 13,
     "metadata": {},
     "output_type": "execute_result"
    },
    {
     "name": "stdout",
     "output_type": "stream",
     "text": [
      "No. of unique values: 3188\n",
      "No.of Null Values: 0\n"
     ]
    },
    {
     "data": {
      "text/plain": [
       "'VAR_1399'"
      ]
     },
     "execution_count": 13,
     "metadata": {},
     "output_type": "execute_result"
    },
    {
     "name": "stdout",
     "output_type": "stream",
     "text": [
      "No. of unique values: 2377\n",
      "No.of Null Values: 0\n"
     ]
    },
    {
     "data": {
      "text/plain": [
       "'VAR_1400'"
      ]
     },
     "execution_count": 13,
     "metadata": {},
     "output_type": "execute_result"
    },
    {
     "name": "stdout",
     "output_type": "stream",
     "text": [
      "No. of unique values: 8\n",
      "No.of Null Values: 0\n"
     ]
    },
    {
     "data": {
      "text/plain": [
       "'VAR_1401'"
      ]
     },
     "execution_count": 13,
     "metadata": {},
     "output_type": "execute_result"
    },
    {
     "name": "stdout",
     "output_type": "stream",
     "text": [
      "No. of unique values: 10\n",
      "No.of Null Values: 0\n"
     ]
    },
    {
     "data": {
      "text/plain": [
       "'VAR_1402'"
      ]
     },
     "execution_count": 13,
     "metadata": {},
     "output_type": "execute_result"
    },
    {
     "name": "stdout",
     "output_type": "stream",
     "text": [
      "No. of unique values: 84\n",
      "No.of Null Values: 0\n"
     ]
    },
    {
     "data": {
      "text/plain": [
       "'VAR_1403'"
      ]
     },
     "execution_count": 13,
     "metadata": {},
     "output_type": "execute_result"
    },
    {
     "name": "stdout",
     "output_type": "stream",
     "text": [
      "No. of unique values: 271\n",
      "No.of Null Values: 0\n"
     ]
    },
    {
     "data": {
      "text/plain": [
       "'VAR_1404'"
      ]
     },
     "execution_count": 13,
     "metadata": {},
     "output_type": "execute_result"
    },
    {
     "name": "stdout",
     "output_type": "stream",
     "text": [
      "No. of unique values: 49\n",
      "No.of Null Values: 0\n"
     ]
    },
    {
     "data": {
      "text/plain": [
       "'VAR_1405'"
      ]
     },
     "execution_count": 13,
     "metadata": {},
     "output_type": "execute_result"
    },
    {
     "name": "stdout",
     "output_type": "stream",
     "text": [
      "No. of unique values: 8\n",
      "No.of Null Values: 0\n"
     ]
    },
    {
     "data": {
      "text/plain": [
       "'VAR_1406'"
      ]
     },
     "execution_count": 13,
     "metadata": {},
     "output_type": "execute_result"
    },
    {
     "name": "stdout",
     "output_type": "stream",
     "text": [
      "No. of unique values: 8\n",
      "No.of Null Values: 0\n"
     ]
    },
    {
     "data": {
      "text/plain": [
       "'VAR_1407'"
      ]
     },
     "execution_count": 13,
     "metadata": {},
     "output_type": "execute_result"
    },
    {
     "name": "stdout",
     "output_type": "stream",
     "text": [
      "No. of unique values: 8\n",
      "No.of Null Values: 0\n"
     ]
    },
    {
     "data": {
      "text/plain": [
       "'VAR_1408'"
      ]
     },
     "execution_count": 13,
     "metadata": {},
     "output_type": "execute_result"
    },
    {
     "name": "stdout",
     "output_type": "stream",
     "text": [
      "No. of unique values: 8\n",
      "No.of Null Values: 0\n"
     ]
    },
    {
     "data": {
      "text/plain": [
       "'VAR_1409'"
      ]
     },
     "execution_count": 13,
     "metadata": {},
     "output_type": "execute_result"
    },
    {
     "name": "stdout",
     "output_type": "stream",
     "text": [
      "No. of unique values: 52\n",
      "No.of Null Values: 0\n"
     ]
    },
    {
     "data": {
      "text/plain": [
       "'VAR_1410'"
      ]
     },
     "execution_count": 13,
     "metadata": {},
     "output_type": "execute_result"
    },
    {
     "name": "stdout",
     "output_type": "stream",
     "text": [
      "No. of unique values: 27\n",
      "No.of Null Values: 0\n"
     ]
    },
    {
     "data": {
      "text/plain": [
       "'VAR_1411'"
      ]
     },
     "execution_count": 13,
     "metadata": {},
     "output_type": "execute_result"
    },
    {
     "name": "stdout",
     "output_type": "stream",
     "text": [
      "No. of unique values: 12\n",
      "No.of Null Values: 0\n"
     ]
    },
    {
     "data": {
      "text/plain": [
       "'VAR_1412'"
      ]
     },
     "execution_count": 13,
     "metadata": {},
     "output_type": "execute_result"
    },
    {
     "name": "stdout",
     "output_type": "stream",
     "text": [
      "No. of unique values: 9\n",
      "No.of Null Values: 0\n"
     ]
    },
    {
     "data": {
      "text/plain": [
       "'VAR_1413'"
      ]
     },
     "execution_count": 13,
     "metadata": {},
     "output_type": "execute_result"
    },
    {
     "name": "stdout",
     "output_type": "stream",
     "text": [
      "No. of unique values: 12\n",
      "No.of Null Values: 0\n"
     ]
    },
    {
     "data": {
      "text/plain": [
       "'VAR_1414'"
      ]
     },
     "execution_count": 13,
     "metadata": {},
     "output_type": "execute_result"
    },
    {
     "name": "stdout",
     "output_type": "stream",
     "text": [
      "No. of unique values: 8\n",
      "No.of Null Values: 0\n"
     ]
    },
    {
     "data": {
      "text/plain": [
       "'VAR_1415'"
      ]
     },
     "execution_count": 13,
     "metadata": {},
     "output_type": "execute_result"
    },
    {
     "name": "stdout",
     "output_type": "stream",
     "text": [
      "No. of unique values: 10\n",
      "No.of Null Values: 0\n"
     ]
    },
    {
     "data": {
      "text/plain": [
       "'VAR_1416'"
      ]
     },
     "execution_count": 13,
     "metadata": {},
     "output_type": "execute_result"
    },
    {
     "name": "stdout",
     "output_type": "stream",
     "text": [
      "No. of unique values: 8\n",
      "No.of Null Values: 0\n"
     ]
    },
    {
     "data": {
      "text/plain": [
       "'VAR_1417'"
      ]
     },
     "execution_count": 13,
     "metadata": {},
     "output_type": "execute_result"
    },
    {
     "name": "stdout",
     "output_type": "stream",
     "text": [
      "No. of unique values: 9\n",
      "No.of Null Values: 0\n"
     ]
    },
    {
     "data": {
      "text/plain": [
       "'VAR_1418'"
      ]
     },
     "execution_count": 13,
     "metadata": {},
     "output_type": "execute_result"
    },
    {
     "name": "stdout",
     "output_type": "stream",
     "text": [
      "No. of unique values: 1665\n",
      "No.of Null Values: 0\n"
     ]
    },
    {
     "data": {
      "text/plain": [
       "'VAR_1419'"
      ]
     },
     "execution_count": 13,
     "metadata": {},
     "output_type": "execute_result"
    },
    {
     "name": "stdout",
     "output_type": "stream",
     "text": [
      "No. of unique values: 1522\n",
      "No.of Null Values: 0\n"
     ]
    },
    {
     "data": {
      "text/plain": [
       "'VAR_1420'"
      ]
     },
     "execution_count": 13,
     "metadata": {},
     "output_type": "execute_result"
    },
    {
     "name": "stdout",
     "output_type": "stream",
     "text": [
      "No. of unique values: 1347\n",
      "No.of Null Values: 0\n"
     ]
    },
    {
     "data": {
      "text/plain": [
       "'VAR_1421'"
      ]
     },
     "execution_count": 13,
     "metadata": {},
     "output_type": "execute_result"
    },
    {
     "name": "stdout",
     "output_type": "stream",
     "text": [
      "No. of unique values: 1478\n",
      "No.of Null Values: 0\n"
     ]
    },
    {
     "data": {
      "text/plain": [
       "'VAR_1422'"
      ]
     },
     "execution_count": 13,
     "metadata": {},
     "output_type": "execute_result"
    },
    {
     "name": "stdout",
     "output_type": "stream",
     "text": [
      "No. of unique values: 8\n",
      "No.of Null Values: 0\n"
     ]
    },
    {
     "data": {
      "text/plain": [
       "'VAR_1423'"
      ]
     },
     "execution_count": 13,
     "metadata": {},
     "output_type": "execute_result"
    },
    {
     "name": "stdout",
     "output_type": "stream",
     "text": [
      "No. of unique values: 10\n",
      "No.of Null Values: 0\n"
     ]
    },
    {
     "data": {
      "text/plain": [
       "'VAR_1424'"
      ]
     },
     "execution_count": 13,
     "metadata": {},
     "output_type": "execute_result"
    },
    {
     "name": "stdout",
     "output_type": "stream",
     "text": [
      "No. of unique values: 218\n",
      "No.of Null Values: 0\n"
     ]
    },
    {
     "data": {
      "text/plain": [
       "'VAR_1425'"
      ]
     },
     "execution_count": 13,
     "metadata": {},
     "output_type": "execute_result"
    },
    {
     "name": "stdout",
     "output_type": "stream",
     "text": [
      "No. of unique values: 241\n",
      "No.of Null Values: 0\n"
     ]
    },
    {
     "data": {
      "text/plain": [
       "'VAR_1426'"
      ]
     },
     "execution_count": 13,
     "metadata": {},
     "output_type": "execute_result"
    },
    {
     "name": "stdout",
     "output_type": "stream",
     "text": [
      "No. of unique values: 216\n",
      "No.of Null Values: 0\n"
     ]
    },
    {
     "data": {
      "text/plain": [
       "'VAR_1427'"
      ]
     },
     "execution_count": 13,
     "metadata": {},
     "output_type": "execute_result"
    },
    {
     "name": "stdout",
     "output_type": "stream",
     "text": [
      "No. of unique values: 2\n",
      "No.of Null Values: 0\n"
     ]
    },
    {
     "data": {
      "text/plain": [
       "'VAR_1428'"
      ]
     },
     "execution_count": 13,
     "metadata": {},
     "output_type": "execute_result"
    },
    {
     "name": "stdout",
     "output_type": "stream",
     "text": [
      "No. of unique values: 1\n",
      "No.of Null Values: 0\n"
     ]
    },
    {
     "data": {
      "text/plain": [
       "'VAR_1429'"
      ]
     },
     "execution_count": 13,
     "metadata": {},
     "output_type": "execute_result"
    },
    {
     "name": "stdout",
     "output_type": "stream",
     "text": [
      "No. of unique values: 9\n",
      "No.of Null Values: 0\n"
     ]
    },
    {
     "data": {
      "text/plain": [
       "'VAR_1430'"
      ]
     },
     "execution_count": 13,
     "metadata": {},
     "output_type": "execute_result"
    },
    {
     "name": "stdout",
     "output_type": "stream",
     "text": [
      "No. of unique values: 5\n",
      "No.of Null Values: 0\n"
     ]
    },
    {
     "data": {
      "text/plain": [
       "'VAR_1431'"
      ]
     },
     "execution_count": 13,
     "metadata": {},
     "output_type": "execute_result"
    },
    {
     "name": "stdout",
     "output_type": "stream",
     "text": [
      "No. of unique values: 5\n",
      "No.of Null Values: 0\n"
     ]
    },
    {
     "data": {
      "text/plain": [
       "'VAR_1432'"
      ]
     },
     "execution_count": 13,
     "metadata": {},
     "output_type": "execute_result"
    },
    {
     "name": "stdout",
     "output_type": "stream",
     "text": [
      "No. of unique values: 4\n",
      "No.of Null Values: 0\n"
     ]
    },
    {
     "data": {
      "text/plain": [
       "'VAR_1433'"
      ]
     },
     "execution_count": 13,
     "metadata": {},
     "output_type": "execute_result"
    },
    {
     "name": "stdout",
     "output_type": "stream",
     "text": [
      "No. of unique values: 7\n",
      "No.of Null Values: 0\n"
     ]
    },
    {
     "data": {
      "text/plain": [
       "'VAR_1434'"
      ]
     },
     "execution_count": 13,
     "metadata": {},
     "output_type": "execute_result"
    },
    {
     "name": "stdout",
     "output_type": "stream",
     "text": [
      "No. of unique values: 7\n",
      "No.of Null Values: 0\n"
     ]
    },
    {
     "data": {
      "text/plain": [
       "'VAR_1435'"
      ]
     },
     "execution_count": 13,
     "metadata": {},
     "output_type": "execute_result"
    },
    {
     "name": "stdout",
     "output_type": "stream",
     "text": [
      "No. of unique values: 7\n",
      "No.of Null Values: 0\n"
     ]
    },
    {
     "data": {
      "text/plain": [
       "'VAR_1436'"
      ]
     },
     "execution_count": 13,
     "metadata": {},
     "output_type": "execute_result"
    },
    {
     "name": "stdout",
     "output_type": "stream",
     "text": [
      "No. of unique values: 39\n",
      "No.of Null Values: 0\n"
     ]
    },
    {
     "data": {
      "text/plain": [
       "'VAR_1437'"
      ]
     },
     "execution_count": 13,
     "metadata": {},
     "output_type": "execute_result"
    },
    {
     "name": "stdout",
     "output_type": "stream",
     "text": [
      "No. of unique values: 406\n",
      "No.of Null Values: 0\n"
     ]
    },
    {
     "data": {
      "text/plain": [
       "'VAR_1438'"
      ]
     },
     "execution_count": 13,
     "metadata": {},
     "output_type": "execute_result"
    },
    {
     "name": "stdout",
     "output_type": "stream",
     "text": [
      "No. of unique values: 196\n",
      "No.of Null Values: 0\n"
     ]
    },
    {
     "data": {
      "text/plain": [
       "'VAR_1439'"
      ]
     },
     "execution_count": 13,
     "metadata": {},
     "output_type": "execute_result"
    },
    {
     "name": "stdout",
     "output_type": "stream",
     "text": [
      "No. of unique values: 192\n",
      "No.of Null Values: 0\n"
     ]
    },
    {
     "data": {
      "text/plain": [
       "'VAR_1440'"
      ]
     },
     "execution_count": 13,
     "metadata": {},
     "output_type": "execute_result"
    },
    {
     "name": "stdout",
     "output_type": "stream",
     "text": [
      "No. of unique values: 194\n",
      "No.of Null Values: 0\n"
     ]
    },
    {
     "data": {
      "text/plain": [
       "'VAR_1441'"
      ]
     },
     "execution_count": 13,
     "metadata": {},
     "output_type": "execute_result"
    },
    {
     "name": "stdout",
     "output_type": "stream",
     "text": [
      "No. of unique values: 296\n",
      "No.of Null Values: 0\n"
     ]
    },
    {
     "data": {
      "text/plain": [
       "'VAR_1442'"
      ]
     },
     "execution_count": 13,
     "metadata": {},
     "output_type": "execute_result"
    },
    {
     "name": "stdout",
     "output_type": "stream",
     "text": [
      "No. of unique values: 296\n",
      "No.of Null Values: 0\n"
     ]
    },
    {
     "data": {
      "text/plain": [
       "'VAR_1443'"
      ]
     },
     "execution_count": 13,
     "metadata": {},
     "output_type": "execute_result"
    },
    {
     "name": "stdout",
     "output_type": "stream",
     "text": [
      "No. of unique values: 9\n",
      "No.of Null Values: 0\n"
     ]
    },
    {
     "data": {
      "text/plain": [
       "'VAR_1444'"
      ]
     },
     "execution_count": 13,
     "metadata": {},
     "output_type": "execute_result"
    },
    {
     "name": "stdout",
     "output_type": "stream",
     "text": [
      "No. of unique values: 78\n",
      "No.of Null Values: 0\n"
     ]
    },
    {
     "data": {
      "text/plain": [
       "'VAR_1445'"
      ]
     },
     "execution_count": 13,
     "metadata": {},
     "output_type": "execute_result"
    },
    {
     "name": "stdout",
     "output_type": "stream",
     "text": [
      "No. of unique values: 20\n",
      "No.of Null Values: 0\n"
     ]
    },
    {
     "data": {
      "text/plain": [
       "'VAR_1446'"
      ]
     },
     "execution_count": 13,
     "metadata": {},
     "output_type": "execute_result"
    },
    {
     "name": "stdout",
     "output_type": "stream",
     "text": [
      "No. of unique values: 188\n",
      "No.of Null Values: 0\n"
     ]
    },
    {
     "data": {
      "text/plain": [
       "'VAR_1447'"
      ]
     },
     "execution_count": 13,
     "metadata": {},
     "output_type": "execute_result"
    },
    {
     "name": "stdout",
     "output_type": "stream",
     "text": [
      "No. of unique values: 201\n",
      "No.of Null Values: 0\n"
     ]
    },
    {
     "data": {
      "text/plain": [
       "'VAR_1448'"
      ]
     },
     "execution_count": 13,
     "metadata": {},
     "output_type": "execute_result"
    },
    {
     "name": "stdout",
     "output_type": "stream",
     "text": [
      "No. of unique values: 188\n",
      "No.of Null Values: 0\n"
     ]
    },
    {
     "data": {
      "text/plain": [
       "'VAR_1449'"
      ]
     },
     "execution_count": 13,
     "metadata": {},
     "output_type": "execute_result"
    },
    {
     "name": "stdout",
     "output_type": "stream",
     "text": [
      "No. of unique values: 16\n",
      "No.of Null Values: 0\n"
     ]
    },
    {
     "data": {
      "text/plain": [
       "'VAR_1450'"
      ]
     },
     "execution_count": 13,
     "metadata": {},
     "output_type": "execute_result"
    },
    {
     "name": "stdout",
     "output_type": "stream",
     "text": [
      "No. of unique values: 14\n",
      "No.of Null Values: 0\n"
     ]
    },
    {
     "data": {
      "text/plain": [
       "'VAR_1451'"
      ]
     },
     "execution_count": 13,
     "metadata": {},
     "output_type": "execute_result"
    },
    {
     "name": "stdout",
     "output_type": "stream",
     "text": [
      "No. of unique values: 3521\n",
      "No.of Null Values: 0\n"
     ]
    },
    {
     "data": {
      "text/plain": [
       "'VAR_1452'"
      ]
     },
     "execution_count": 13,
     "metadata": {},
     "output_type": "execute_result"
    },
    {
     "name": "stdout",
     "output_type": "stream",
     "text": [
      "No. of unique values: 3393\n",
      "No.of Null Values: 0\n"
     ]
    },
    {
     "data": {
      "text/plain": [
       "'VAR_1453'"
      ]
     },
     "execution_count": 13,
     "metadata": {},
     "output_type": "execute_result"
    },
    {
     "name": "stdout",
     "output_type": "stream",
     "text": [
      "No. of unique values: 1050\n",
      "No.of Null Values: 0\n"
     ]
    },
    {
     "data": {
      "text/plain": [
       "'VAR_1454'"
      ]
     },
     "execution_count": 13,
     "metadata": {},
     "output_type": "execute_result"
    },
    {
     "name": "stdout",
     "output_type": "stream",
     "text": [
      "No. of unique values: 221\n",
      "No.of Null Values: 0\n"
     ]
    },
    {
     "data": {
      "text/plain": [
       "'VAR_1455'"
      ]
     },
     "execution_count": 13,
     "metadata": {},
     "output_type": "execute_result"
    },
    {
     "name": "stdout",
     "output_type": "stream",
     "text": [
      "No. of unique values: 263\n",
      "No.of Null Values: 0\n"
     ]
    },
    {
     "data": {
      "text/plain": [
       "'VAR_1456'"
      ]
     },
     "execution_count": 13,
     "metadata": {},
     "output_type": "execute_result"
    },
    {
     "name": "stdout",
     "output_type": "stream",
     "text": [
      "No. of unique values: 63\n",
      "No.of Null Values: 0\n"
     ]
    },
    {
     "data": {
      "text/plain": [
       "'VAR_1457'"
      ]
     },
     "execution_count": 13,
     "metadata": {},
     "output_type": "execute_result"
    },
    {
     "name": "stdout",
     "output_type": "stream",
     "text": [
      "No. of unique values: 25\n",
      "No.of Null Values: 0\n"
     ]
    },
    {
     "data": {
      "text/plain": [
       "'VAR_1458'"
      ]
     },
     "execution_count": 13,
     "metadata": {},
     "output_type": "execute_result"
    },
    {
     "name": "stdout",
     "output_type": "stream",
     "text": [
      "No. of unique values: 7\n",
      "No.of Null Values: 0\n"
     ]
    },
    {
     "data": {
      "text/plain": [
       "'VAR_1459'"
      ]
     },
     "execution_count": 13,
     "metadata": {},
     "output_type": "execute_result"
    },
    {
     "name": "stdout",
     "output_type": "stream",
     "text": [
      "No. of unique values: 9\n",
      "No.of Null Values: 0\n"
     ]
    },
    {
     "data": {
      "text/plain": [
       "'VAR_1460'"
      ]
     },
     "execution_count": 13,
     "metadata": {},
     "output_type": "execute_result"
    },
    {
     "name": "stdout",
     "output_type": "stream",
     "text": [
      "No. of unique values: 10\n",
      "No.of Null Values: 0\n"
     ]
    },
    {
     "data": {
      "text/plain": [
       "'VAR_1461'"
      ]
     },
     "execution_count": 13,
     "metadata": {},
     "output_type": "execute_result"
    },
    {
     "name": "stdout",
     "output_type": "stream",
     "text": [
      "No. of unique values: 13\n",
      "No.of Null Values: 0\n"
     ]
    },
    {
     "data": {
      "text/plain": [
       "'VAR_1462'"
      ]
     },
     "execution_count": 13,
     "metadata": {},
     "output_type": "execute_result"
    },
    {
     "name": "stdout",
     "output_type": "stream",
     "text": [
      "No. of unique values: 61\n",
      "No.of Null Values: 0\n"
     ]
    },
    {
     "data": {
      "text/plain": [
       "'VAR_1463'"
      ]
     },
     "execution_count": 13,
     "metadata": {},
     "output_type": "execute_result"
    },
    {
     "name": "stdout",
     "output_type": "stream",
     "text": [
      "No. of unique values: 26\n",
      "No.of Null Values: 0\n"
     ]
    },
    {
     "data": {
      "text/plain": [
       "'VAR_1464'"
      ]
     },
     "execution_count": 13,
     "metadata": {},
     "output_type": "execute_result"
    },
    {
     "name": "stdout",
     "output_type": "stream",
     "text": [
      "No. of unique values: 29\n",
      "No.of Null Values: 0\n"
     ]
    },
    {
     "data": {
      "text/plain": [
       "'VAR_1465'"
      ]
     },
     "execution_count": 13,
     "metadata": {},
     "output_type": "execute_result"
    },
    {
     "name": "stdout",
     "output_type": "stream",
     "text": [
      "No. of unique values: 35\n",
      "No.of Null Values: 0\n"
     ]
    },
    {
     "data": {
      "text/plain": [
       "'VAR_1466'"
      ]
     },
     "execution_count": 13,
     "metadata": {},
     "output_type": "execute_result"
    },
    {
     "name": "stdout",
     "output_type": "stream",
     "text": [
      "No. of unique values: 8\n",
      "No.of Null Values: 0\n"
     ]
    },
    {
     "data": {
      "text/plain": [
       "'VAR_1467'"
      ]
     },
     "execution_count": 13,
     "metadata": {},
     "output_type": "execute_result"
    },
    {
     "name": "stdout",
     "output_type": "stream",
     "text": [
      "No. of unique values: 9\n",
      "No.of Null Values: 0\n"
     ]
    },
    {
     "data": {
      "text/plain": [
       "'VAR_1468'"
      ]
     },
     "execution_count": 13,
     "metadata": {},
     "output_type": "execute_result"
    },
    {
     "name": "stdout",
     "output_type": "stream",
     "text": [
      "No. of unique values: 17\n",
      "No.of Null Values: 0\n"
     ]
    },
    {
     "data": {
      "text/plain": [
       "'VAR_1469'"
      ]
     },
     "execution_count": 13,
     "metadata": {},
     "output_type": "execute_result"
    },
    {
     "name": "stdout",
     "output_type": "stream",
     "text": [
      "No. of unique values: 18\n",
      "No.of Null Values: 0\n"
     ]
    },
    {
     "data": {
      "text/plain": [
       "'VAR_1470'"
      ]
     },
     "execution_count": 13,
     "metadata": {},
     "output_type": "execute_result"
    },
    {
     "name": "stdout",
     "output_type": "stream",
     "text": [
      "No. of unique values: 29\n",
      "No.of Null Values: 0\n"
     ]
    },
    {
     "data": {
      "text/plain": [
       "'VAR_1471'"
      ]
     },
     "execution_count": 13,
     "metadata": {},
     "output_type": "execute_result"
    },
    {
     "name": "stdout",
     "output_type": "stream",
     "text": [
      "No. of unique values: 22\n",
      "No.of Null Values: 0\n"
     ]
    },
    {
     "data": {
      "text/plain": [
       "'VAR_1472'"
      ]
     },
     "execution_count": 13,
     "metadata": {},
     "output_type": "execute_result"
    },
    {
     "name": "stdout",
     "output_type": "stream",
     "text": [
      "No. of unique values: 23\n",
      "No.of Null Values: 0\n"
     ]
    },
    {
     "data": {
      "text/plain": [
       "'VAR_1473'"
      ]
     },
     "execution_count": 13,
     "metadata": {},
     "output_type": "execute_result"
    },
    {
     "name": "stdout",
     "output_type": "stream",
     "text": [
      "No. of unique values: 23\n",
      "No.of Null Values: 0\n"
     ]
    },
    {
     "data": {
      "text/plain": [
       "'VAR_1474'"
      ]
     },
     "execution_count": 13,
     "metadata": {},
     "output_type": "execute_result"
    },
    {
     "name": "stdout",
     "output_type": "stream",
     "text": [
      "No. of unique values: 29\n",
      "No.of Null Values: 0\n"
     ]
    },
    {
     "data": {
      "text/plain": [
       "'VAR_1475'"
      ]
     },
     "execution_count": 13,
     "metadata": {},
     "output_type": "execute_result"
    },
    {
     "name": "stdout",
     "output_type": "stream",
     "text": [
      "No. of unique values: 20\n",
      "No.of Null Values: 0\n"
     ]
    },
    {
     "data": {
      "text/plain": [
       "'VAR_1476'"
      ]
     },
     "execution_count": 13,
     "metadata": {},
     "output_type": "execute_result"
    },
    {
     "name": "stdout",
     "output_type": "stream",
     "text": [
      "No. of unique values: 22\n",
      "No.of Null Values: 0\n"
     ]
    },
    {
     "data": {
      "text/plain": [
       "'VAR_1477'"
      ]
     },
     "execution_count": 13,
     "metadata": {},
     "output_type": "execute_result"
    },
    {
     "name": "stdout",
     "output_type": "stream",
     "text": [
      "No. of unique values: 22\n",
      "No.of Null Values: 0\n"
     ]
    },
    {
     "data": {
      "text/plain": [
       "'VAR_1478'"
      ]
     },
     "execution_count": 13,
     "metadata": {},
     "output_type": "execute_result"
    },
    {
     "name": "stdout",
     "output_type": "stream",
     "text": [
      "No. of unique values: 28\n",
      "No.of Null Values: 0\n"
     ]
    },
    {
     "data": {
      "text/plain": [
       "'VAR_1479'"
      ]
     },
     "execution_count": 13,
     "metadata": {},
     "output_type": "execute_result"
    },
    {
     "name": "stdout",
     "output_type": "stream",
     "text": [
      "No. of unique values: 20\n",
      "No.of Null Values: 0\n"
     ]
    },
    {
     "data": {
      "text/plain": [
       "'VAR_1480'"
      ]
     },
     "execution_count": 13,
     "metadata": {},
     "output_type": "execute_result"
    },
    {
     "name": "stdout",
     "output_type": "stream",
     "text": [
      "No. of unique values: 22\n",
      "No.of Null Values: 0\n"
     ]
    },
    {
     "data": {
      "text/plain": [
       "'VAR_1481'"
      ]
     },
     "execution_count": 13,
     "metadata": {},
     "output_type": "execute_result"
    },
    {
     "name": "stdout",
     "output_type": "stream",
     "text": [
      "No. of unique values: 22\n",
      "No.of Null Values: 0\n"
     ]
    },
    {
     "data": {
      "text/plain": [
       "'VAR_1482'"
      ]
     },
     "execution_count": 13,
     "metadata": {},
     "output_type": "execute_result"
    },
    {
     "name": "stdout",
     "output_type": "stream",
     "text": [
      "No. of unique values: 25\n",
      "No.of Null Values: 0\n"
     ]
    },
    {
     "data": {
      "text/plain": [
       "'VAR_1483'"
      ]
     },
     "execution_count": 13,
     "metadata": {},
     "output_type": "execute_result"
    },
    {
     "name": "stdout",
     "output_type": "stream",
     "text": [
      "No. of unique values: 26\n",
      "No.of Null Values: 0\n"
     ]
    },
    {
     "data": {
      "text/plain": [
       "'VAR_1484'"
      ]
     },
     "execution_count": 13,
     "metadata": {},
     "output_type": "execute_result"
    },
    {
     "name": "stdout",
     "output_type": "stream",
     "text": [
      "No. of unique values: 36\n",
      "No.of Null Values: 0\n"
     ]
    },
    {
     "data": {
      "text/plain": [
       "'VAR_1485'"
      ]
     },
     "execution_count": 13,
     "metadata": {},
     "output_type": "execute_result"
    },
    {
     "name": "stdout",
     "output_type": "stream",
     "text": [
      "No. of unique values: 20\n",
      "No.of Null Values: 0\n"
     ]
    },
    {
     "data": {
      "text/plain": [
       "'VAR_1486'"
      ]
     },
     "execution_count": 13,
     "metadata": {},
     "output_type": "execute_result"
    },
    {
     "name": "stdout",
     "output_type": "stream",
     "text": [
      "No. of unique values: 26\n",
      "No.of Null Values: 0\n"
     ]
    },
    {
     "data": {
      "text/plain": [
       "'VAR_1487'"
      ]
     },
     "execution_count": 13,
     "metadata": {},
     "output_type": "execute_result"
    },
    {
     "name": "stdout",
     "output_type": "stream",
     "text": [
      "No. of unique values: 43\n",
      "No.of Null Values: 0\n"
     ]
    },
    {
     "data": {
      "text/plain": [
       "'VAR_1488'"
      ]
     },
     "execution_count": 13,
     "metadata": {},
     "output_type": "execute_result"
    },
    {
     "name": "stdout",
     "output_type": "stream",
     "text": [
      "No. of unique values: 53\n",
      "No.of Null Values: 0\n"
     ]
    },
    {
     "data": {
      "text/plain": [
       "'VAR_1489'"
      ]
     },
     "execution_count": 13,
     "metadata": {},
     "output_type": "execute_result"
    },
    {
     "name": "stdout",
     "output_type": "stream",
     "text": [
      "No. of unique values: 9488\n",
      "No.of Null Values: 0\n"
     ]
    },
    {
     "data": {
      "text/plain": [
       "'VAR_1490'"
      ]
     },
     "execution_count": 13,
     "metadata": {},
     "output_type": "execute_result"
    },
    {
     "name": "stdout",
     "output_type": "stream",
     "text": [
      "No. of unique values: 564\n",
      "No.of Null Values: 0\n"
     ]
    },
    {
     "data": {
      "text/plain": [
       "'VAR_1491'"
      ]
     },
     "execution_count": 13,
     "metadata": {},
     "output_type": "execute_result"
    },
    {
     "name": "stdout",
     "output_type": "stream",
     "text": [
      "No. of unique values: 205\n",
      "No.of Null Values: 0\n"
     ]
    },
    {
     "data": {
      "text/plain": [
       "'VAR_1492'"
      ]
     },
     "execution_count": 13,
     "metadata": {},
     "output_type": "execute_result"
    },
    {
     "name": "stdout",
     "output_type": "stream",
     "text": [
      "No. of unique values: 388\n",
      "No.of Null Values: 0\n"
     ]
    },
    {
     "data": {
      "text/plain": [
       "'VAR_1493'"
      ]
     },
     "execution_count": 13,
     "metadata": {},
     "output_type": "execute_result"
    },
    {
     "name": "stdout",
     "output_type": "stream",
     "text": [
      "No. of unique values: 289\n",
      "No.of Null Values: 0\n"
     ]
    },
    {
     "data": {
      "text/plain": [
       "'VAR_1494'"
      ]
     },
     "execution_count": 13,
     "metadata": {},
     "output_type": "execute_result"
    },
    {
     "name": "stdout",
     "output_type": "stream",
     "text": [
      "No. of unique values: 9378\n",
      "No.of Null Values: 0\n"
     ]
    },
    {
     "data": {
      "text/plain": [
       "'VAR_1495'"
      ]
     },
     "execution_count": 13,
     "metadata": {},
     "output_type": "execute_result"
    },
    {
     "name": "stdout",
     "output_type": "stream",
     "text": [
      "No. of unique values: 10906\n",
      "No.of Null Values: 0\n"
     ]
    },
    {
     "data": {
      "text/plain": [
       "'VAR_1496'"
      ]
     },
     "execution_count": 13,
     "metadata": {},
     "output_type": "execute_result"
    },
    {
     "name": "stdout",
     "output_type": "stream",
     "text": [
      "No. of unique values: 8747\n",
      "No.of Null Values: 0\n"
     ]
    },
    {
     "data": {
      "text/plain": [
       "'VAR_1497'"
      ]
     },
     "execution_count": 13,
     "metadata": {},
     "output_type": "execute_result"
    },
    {
     "name": "stdout",
     "output_type": "stream",
     "text": [
      "No. of unique values: 8747\n",
      "No.of Null Values: 0\n"
     ]
    },
    {
     "data": {
      "text/plain": [
       "'VAR_1498'"
      ]
     },
     "execution_count": 13,
     "metadata": {},
     "output_type": "execute_result"
    },
    {
     "name": "stdout",
     "output_type": "stream",
     "text": [
      "No. of unique values: 422\n",
      "No.of Null Values: 0\n"
     ]
    },
    {
     "data": {
      "text/plain": [
       "'VAR_1499'"
      ]
     },
     "execution_count": 13,
     "metadata": {},
     "output_type": "execute_result"
    },
    {
     "name": "stdout",
     "output_type": "stream",
     "text": [
      "No. of unique values: 190\n",
      "No.of Null Values: 0\n"
     ]
    },
    {
     "data": {
      "text/plain": [
       "'VAR_1500'"
      ]
     },
     "execution_count": 13,
     "metadata": {},
     "output_type": "execute_result"
    },
    {
     "name": "stdout",
     "output_type": "stream",
     "text": [
      "No. of unique values: 336\n",
      "No.of Null Values: 0\n"
     ]
    },
    {
     "data": {
      "text/plain": [
       "'VAR_1501'"
      ]
     },
     "execution_count": 13,
     "metadata": {},
     "output_type": "execute_result"
    },
    {
     "name": "stdout",
     "output_type": "stream",
     "text": [
      "No. of unique values: 225\n",
      "No.of Null Values: 0\n"
     ]
    },
    {
     "data": {
      "text/plain": [
       "'VAR_1502'"
      ]
     },
     "execution_count": 13,
     "metadata": {},
     "output_type": "execute_result"
    },
    {
     "name": "stdout",
     "output_type": "stream",
     "text": [
      "No. of unique values: 1604\n",
      "No.of Null Values: 0\n"
     ]
    },
    {
     "data": {
      "text/plain": [
       "'VAR_1503'"
      ]
     },
     "execution_count": 13,
     "metadata": {},
     "output_type": "execute_result"
    },
    {
     "name": "stdout",
     "output_type": "stream",
     "text": [
      "No. of unique values: 530\n",
      "No.of Null Values: 0\n"
     ]
    },
    {
     "data": {
      "text/plain": [
       "'VAR_1504'"
      ]
     },
     "execution_count": 13,
     "metadata": {},
     "output_type": "execute_result"
    },
    {
     "name": "stdout",
     "output_type": "stream",
     "text": [
      "No. of unique values: 688\n",
      "No.of Null Values: 0\n"
     ]
    },
    {
     "data": {
      "text/plain": [
       "'VAR_1505'"
      ]
     },
     "execution_count": 13,
     "metadata": {},
     "output_type": "execute_result"
    },
    {
     "name": "stdout",
     "output_type": "stream",
     "text": [
      "No. of unique values: 9\n",
      "No.of Null Values: 0\n"
     ]
    },
    {
     "data": {
      "text/plain": [
       "'VAR_1506'"
      ]
     },
     "execution_count": 13,
     "metadata": {},
     "output_type": "execute_result"
    },
    {
     "name": "stdout",
     "output_type": "stream",
     "text": [
      "No. of unique values: 8\n",
      "No.of Null Values: 0\n"
     ]
    },
    {
     "data": {
      "text/plain": [
       "'VAR_1507'"
      ]
     },
     "execution_count": 13,
     "metadata": {},
     "output_type": "execute_result"
    },
    {
     "name": "stdout",
     "output_type": "stream",
     "text": [
      "No. of unique values: 10\n",
      "No.of Null Values: 0\n"
     ]
    },
    {
     "data": {
      "text/plain": [
       "'VAR_1508'"
      ]
     },
     "execution_count": 13,
     "metadata": {},
     "output_type": "execute_result"
    },
    {
     "name": "stdout",
     "output_type": "stream",
     "text": [
      "No. of unique values: 10\n",
      "No.of Null Values: 0\n"
     ]
    },
    {
     "data": {
      "text/plain": [
       "'VAR_1509'"
      ]
     },
     "execution_count": 13,
     "metadata": {},
     "output_type": "execute_result"
    },
    {
     "name": "stdout",
     "output_type": "stream",
     "text": [
      "No. of unique values: 10\n",
      "No.of Null Values: 0\n"
     ]
    },
    {
     "data": {
      "text/plain": [
       "'VAR_1510'"
      ]
     },
     "execution_count": 13,
     "metadata": {},
     "output_type": "execute_result"
    },
    {
     "name": "stdout",
     "output_type": "stream",
     "text": [
      "No. of unique values: 10\n",
      "No.of Null Values: 0\n"
     ]
    },
    {
     "data": {
      "text/plain": [
       "'VAR_1511'"
      ]
     },
     "execution_count": 13,
     "metadata": {},
     "output_type": "execute_result"
    },
    {
     "name": "stdout",
     "output_type": "stream",
     "text": [
      "No. of unique values: 10\n",
      "No.of Null Values: 0\n"
     ]
    },
    {
     "data": {
      "text/plain": [
       "'VAR_1512'"
      ]
     },
     "execution_count": 13,
     "metadata": {},
     "output_type": "execute_result"
    },
    {
     "name": "stdout",
     "output_type": "stream",
     "text": [
      "No. of unique values: 173\n",
      "No.of Null Values: 0\n"
     ]
    },
    {
     "data": {
      "text/plain": [
       "'VAR_1513'"
      ]
     },
     "execution_count": 13,
     "metadata": {},
     "output_type": "execute_result"
    },
    {
     "name": "stdout",
     "output_type": "stream",
     "text": [
      "No. of unique values: 87\n",
      "No.of Null Values: 0\n"
     ]
    },
    {
     "data": {
      "text/plain": [
       "'VAR_1514'"
      ]
     },
     "execution_count": 13,
     "metadata": {},
     "output_type": "execute_result"
    },
    {
     "name": "stdout",
     "output_type": "stream",
     "text": [
      "No. of unique values: 90\n",
      "No.of Null Values: 0\n"
     ]
    },
    {
     "data": {
      "text/plain": [
       "'VAR_1515'"
      ]
     },
     "execution_count": 13,
     "metadata": {},
     "output_type": "execute_result"
    },
    {
     "name": "stdout",
     "output_type": "stream",
     "text": [
      "No. of unique values: 89\n",
      "No.of Null Values: 0\n"
     ]
    },
    {
     "data": {
      "text/plain": [
       "'VAR_1516'"
      ]
     },
     "execution_count": 13,
     "metadata": {},
     "output_type": "execute_result"
    },
    {
     "name": "stdout",
     "output_type": "stream",
     "text": [
      "No. of unique values: 92\n",
      "No.of Null Values: 0\n"
     ]
    },
    {
     "data": {
      "text/plain": [
       "'VAR_1517'"
      ]
     },
     "execution_count": 13,
     "metadata": {},
     "output_type": "execute_result"
    },
    {
     "name": "stdout",
     "output_type": "stream",
     "text": [
      "No. of unique values: 94\n",
      "No.of Null Values: 0\n"
     ]
    },
    {
     "data": {
      "text/plain": [
       "'VAR_1518'"
      ]
     },
     "execution_count": 13,
     "metadata": {},
     "output_type": "execute_result"
    },
    {
     "name": "stdout",
     "output_type": "stream",
     "text": [
      "No. of unique values: 98\n",
      "No.of Null Values: 0\n"
     ]
    },
    {
     "data": {
      "text/plain": [
       "'VAR_1519'"
      ]
     },
     "execution_count": 13,
     "metadata": {},
     "output_type": "execute_result"
    },
    {
     "name": "stdout",
     "output_type": "stream",
     "text": [
      "No. of unique values: 90\n",
      "No.of Null Values: 0\n"
     ]
    },
    {
     "data": {
      "text/plain": [
       "'VAR_1520'"
      ]
     },
     "execution_count": 13,
     "metadata": {},
     "output_type": "execute_result"
    },
    {
     "name": "stdout",
     "output_type": "stream",
     "text": [
      "No. of unique values: 88\n",
      "No.of Null Values: 0\n"
     ]
    },
    {
     "data": {
      "text/plain": [
       "'VAR_1521'"
      ]
     },
     "execution_count": 13,
     "metadata": {},
     "output_type": "execute_result"
    },
    {
     "name": "stdout",
     "output_type": "stream",
     "text": [
      "No. of unique values: 88\n",
      "No.of Null Values: 0\n"
     ]
    },
    {
     "data": {
      "text/plain": [
       "'VAR_1522'"
      ]
     },
     "execution_count": 13,
     "metadata": {},
     "output_type": "execute_result"
    },
    {
     "name": "stdout",
     "output_type": "stream",
     "text": [
      "No. of unique values: 82\n",
      "No.of Null Values: 0\n"
     ]
    },
    {
     "data": {
      "text/plain": [
       "'VAR_1523'"
      ]
     },
     "execution_count": 13,
     "metadata": {},
     "output_type": "execute_result"
    },
    {
     "name": "stdout",
     "output_type": "stream",
     "text": [
      "No. of unique values: 191\n",
      "No.of Null Values: 0\n"
     ]
    },
    {
     "data": {
      "text/plain": [
       "'VAR_1524'"
      ]
     },
     "execution_count": 13,
     "metadata": {},
     "output_type": "execute_result"
    },
    {
     "name": "stdout",
     "output_type": "stream",
     "text": [
      "No. of unique values: 210\n",
      "No.of Null Values: 0\n"
     ]
    },
    {
     "data": {
      "text/plain": [
       "'VAR_1525'"
      ]
     },
     "execution_count": 13,
     "metadata": {},
     "output_type": "execute_result"
    },
    {
     "name": "stdout",
     "output_type": "stream",
     "text": [
      "No. of unique values: 86\n",
      "No.of Null Values: 0\n"
     ]
    },
    {
     "data": {
      "text/plain": [
       "'VAR_1526'"
      ]
     },
     "execution_count": 13,
     "metadata": {},
     "output_type": "execute_result"
    },
    {
     "name": "stdout",
     "output_type": "stream",
     "text": [
      "No. of unique values: 86\n",
      "No.of Null Values: 0\n"
     ]
    },
    {
     "data": {
      "text/plain": [
       "'VAR_1527'"
      ]
     },
     "execution_count": 13,
     "metadata": {},
     "output_type": "execute_result"
    },
    {
     "name": "stdout",
     "output_type": "stream",
     "text": [
      "No. of unique values: 85\n",
      "No.of Null Values: 0\n"
     ]
    },
    {
     "data": {
      "text/plain": [
       "'VAR_1528'"
      ]
     },
     "execution_count": 13,
     "metadata": {},
     "output_type": "execute_result"
    },
    {
     "name": "stdout",
     "output_type": "stream",
     "text": [
      "No. of unique values: 84\n",
      "No.of Null Values: 0\n"
     ]
    },
    {
     "data": {
      "text/plain": [
       "'VAR_1529'"
      ]
     },
     "execution_count": 13,
     "metadata": {},
     "output_type": "execute_result"
    },
    {
     "name": "stdout",
     "output_type": "stream",
     "text": [
      "No. of unique values: 85\n",
      "No.of Null Values: 0\n"
     ]
    },
    {
     "data": {
      "text/plain": [
       "'VAR_1530'"
      ]
     },
     "execution_count": 13,
     "metadata": {},
     "output_type": "execute_result"
    },
    {
     "name": "stdout",
     "output_type": "stream",
     "text": [
      "No. of unique values: 344\n",
      "No.of Null Values: 0\n"
     ]
    },
    {
     "data": {
      "text/plain": [
       "'VAR_1531'"
      ]
     },
     "execution_count": 13,
     "metadata": {},
     "output_type": "execute_result"
    },
    {
     "name": "stdout",
     "output_type": "stream",
     "text": [
      "No. of unique values: 215\n",
      "No.of Null Values: 0\n"
     ]
    },
    {
     "data": {
      "text/plain": [
       "'VAR_1532'"
      ]
     },
     "execution_count": 13,
     "metadata": {},
     "output_type": "execute_result"
    },
    {
     "name": "stdout",
     "output_type": "stream",
     "text": [
      "No. of unique values: 11\n",
      "No.of Null Values: 0\n"
     ]
    },
    {
     "data": {
      "text/plain": [
       "'VAR_1533'"
      ]
     },
     "execution_count": 13,
     "metadata": {},
     "output_type": "execute_result"
    },
    {
     "name": "stdout",
     "output_type": "stream",
     "text": [
      "No. of unique values: 4\n",
      "No.of Null Values: 0\n"
     ]
    },
    {
     "data": {
      "text/plain": [
       "'VAR_1534'"
      ]
     },
     "execution_count": 13,
     "metadata": {},
     "output_type": "execute_result"
    },
    {
     "name": "stdout",
     "output_type": "stream",
     "text": [
      "No. of unique values: 5\n",
      "No.of Null Values: 0\n"
     ]
    },
    {
     "data": {
      "text/plain": [
       "'VAR_1535'"
      ]
     },
     "execution_count": 13,
     "metadata": {},
     "output_type": "execute_result"
    },
    {
     "name": "stdout",
     "output_type": "stream",
     "text": [
      "No. of unique values: 8\n",
      "No.of Null Values: 0\n"
     ]
    },
    {
     "data": {
      "text/plain": [
       "'VAR_1536'"
      ]
     },
     "execution_count": 13,
     "metadata": {},
     "output_type": "execute_result"
    },
    {
     "name": "stdout",
     "output_type": "stream",
     "text": [
      "No. of unique values: 26\n",
      "No.of Null Values: 0\n"
     ]
    },
    {
     "data": {
      "text/plain": [
       "'VAR_1537'"
      ]
     },
     "execution_count": 13,
     "metadata": {},
     "output_type": "execute_result"
    },
    {
     "name": "stdout",
     "output_type": "stream",
     "text": [
      "No. of unique values: 17\n",
      "No.of Null Values: 0\n"
     ]
    },
    {
     "data": {
      "text/plain": [
       "'VAR_1538'"
      ]
     },
     "execution_count": 13,
     "metadata": {},
     "output_type": "execute_result"
    },
    {
     "name": "stdout",
     "output_type": "stream",
     "text": [
      "No. of unique values: 5\n",
      "No.of Null Values: 0\n"
     ]
    },
    {
     "data": {
      "text/plain": [
       "'VAR_1539'"
      ]
     },
     "execution_count": 13,
     "metadata": {},
     "output_type": "execute_result"
    },
    {
     "name": "stdout",
     "output_type": "stream",
     "text": [
      "No. of unique values: 7\n",
      "No.of Null Values: 0\n"
     ]
    },
    {
     "data": {
      "text/plain": [
       "'VAR_1540'"
      ]
     },
     "execution_count": 13,
     "metadata": {},
     "output_type": "execute_result"
    },
    {
     "name": "stdout",
     "output_type": "stream",
     "text": [
      "No. of unique values: 11\n",
      "No.of Null Values: 0\n"
     ]
    },
    {
     "data": {
      "text/plain": [
       "'VAR_1541'"
      ]
     },
     "execution_count": 13,
     "metadata": {},
     "output_type": "execute_result"
    },
    {
     "name": "stdout",
     "output_type": "stream",
     "text": [
      "No. of unique values: 26\n",
      "No.of Null Values: 0\n"
     ]
    },
    {
     "data": {
      "text/plain": [
       "'VAR_1542'"
      ]
     },
     "execution_count": 13,
     "metadata": {},
     "output_type": "execute_result"
    },
    {
     "name": "stdout",
     "output_type": "stream",
     "text": [
      "No. of unique values: 13\n",
      "No.of Null Values: 0\n"
     ]
    },
    {
     "data": {
      "text/plain": [
       "'VAR_1543'"
      ]
     },
     "execution_count": 13,
     "metadata": {},
     "output_type": "execute_result"
    },
    {
     "name": "stdout",
     "output_type": "stream",
     "text": [
      "No. of unique values: 5\n",
      "No.of Null Values: 0\n"
     ]
    },
    {
     "data": {
      "text/plain": [
       "'VAR_1544'"
      ]
     },
     "execution_count": 13,
     "metadata": {},
     "output_type": "execute_result"
    },
    {
     "name": "stdout",
     "output_type": "stream",
     "text": [
      "No. of unique values: 6\n",
      "No.of Null Values: 0\n"
     ]
    },
    {
     "data": {
      "text/plain": [
       "'VAR_1545'"
      ]
     },
     "execution_count": 13,
     "metadata": {},
     "output_type": "execute_result"
    },
    {
     "name": "stdout",
     "output_type": "stream",
     "text": [
      "No. of unique values: 9\n",
      "No.of Null Values: 0\n"
     ]
    },
    {
     "data": {
      "text/plain": [
       "'VAR_1546'"
      ]
     },
     "execution_count": 13,
     "metadata": {},
     "output_type": "execute_result"
    },
    {
     "name": "stdout",
     "output_type": "stream",
     "text": [
      "No. of unique values: 12\n",
      "No.of Null Values: 0\n"
     ]
    },
    {
     "data": {
      "text/plain": [
       "'VAR_1547'"
      ]
     },
     "execution_count": 13,
     "metadata": {},
     "output_type": "execute_result"
    },
    {
     "name": "stdout",
     "output_type": "stream",
     "text": [
      "No. of unique values: 4\n",
      "No.of Null Values: 0\n"
     ]
    },
    {
     "data": {
      "text/plain": [
       "'VAR_1548'"
      ]
     },
     "execution_count": 13,
     "metadata": {},
     "output_type": "execute_result"
    },
    {
     "name": "stdout",
     "output_type": "stream",
     "text": [
      "No. of unique values: 6\n",
      "No.of Null Values: 0\n"
     ]
    },
    {
     "data": {
      "text/plain": [
       "'VAR_1549'"
      ]
     },
     "execution_count": 13,
     "metadata": {},
     "output_type": "execute_result"
    },
    {
     "name": "stdout",
     "output_type": "stream",
     "text": [
      "No. of unique values: 8\n",
      "No.of Null Values: 0\n"
     ]
    },
    {
     "data": {
      "text/plain": [
       "'VAR_1550'"
      ]
     },
     "execution_count": 13,
     "metadata": {},
     "output_type": "execute_result"
    },
    {
     "name": "stdout",
     "output_type": "stream",
     "text": [
      "No. of unique values: 26\n",
      "No.of Null Values: 0\n"
     ]
    },
    {
     "data": {
      "text/plain": [
       "'VAR_1551'"
      ]
     },
     "execution_count": 13,
     "metadata": {},
     "output_type": "execute_result"
    },
    {
     "name": "stdout",
     "output_type": "stream",
     "text": [
      "No. of unique values: 14\n",
      "No.of Null Values: 0\n"
     ]
    },
    {
     "data": {
      "text/plain": [
       "'VAR_1552'"
      ]
     },
     "execution_count": 13,
     "metadata": {},
     "output_type": "execute_result"
    },
    {
     "name": "stdout",
     "output_type": "stream",
     "text": [
      "No. of unique values: 5\n",
      "No.of Null Values: 0\n"
     ]
    },
    {
     "data": {
      "text/plain": [
       "'VAR_1553'"
      ]
     },
     "execution_count": 13,
     "metadata": {},
     "output_type": "execute_result"
    },
    {
     "name": "stdout",
     "output_type": "stream",
     "text": [
      "No. of unique values: 6\n",
      "No.of Null Values: 0\n"
     ]
    },
    {
     "data": {
      "text/plain": [
       "'VAR_1554'"
      ]
     },
     "execution_count": 13,
     "metadata": {},
     "output_type": "execute_result"
    },
    {
     "name": "stdout",
     "output_type": "stream",
     "text": [
      "No. of unique values: 8\n",
      "No.of Null Values: 0\n"
     ]
    },
    {
     "data": {
      "text/plain": [
       "'VAR_1555'"
      ]
     },
     "execution_count": 13,
     "metadata": {},
     "output_type": "execute_result"
    },
    {
     "name": "stdout",
     "output_type": "stream",
     "text": [
      "No. of unique values: 26\n",
      "No.of Null Values: 0\n"
     ]
    },
    {
     "data": {
      "text/plain": [
       "'VAR_1556'"
      ]
     },
     "execution_count": 13,
     "metadata": {},
     "output_type": "execute_result"
    },
    {
     "name": "stdout",
     "output_type": "stream",
     "text": [
      "No. of unique values: 15\n",
      "No.of Null Values: 0\n"
     ]
    },
    {
     "data": {
      "text/plain": [
       "'VAR_1557'"
      ]
     },
     "execution_count": 13,
     "metadata": {},
     "output_type": "execute_result"
    },
    {
     "name": "stdout",
     "output_type": "stream",
     "text": [
      "No. of unique values: 4\n",
      "No.of Null Values: 0\n"
     ]
    },
    {
     "data": {
      "text/plain": [
       "'VAR_1558'"
      ]
     },
     "execution_count": 13,
     "metadata": {},
     "output_type": "execute_result"
    },
    {
     "name": "stdout",
     "output_type": "stream",
     "text": [
      "No. of unique values: 6\n",
      "No.of Null Values: 0\n"
     ]
    },
    {
     "data": {
      "text/plain": [
       "'VAR_1559'"
      ]
     },
     "execution_count": 13,
     "metadata": {},
     "output_type": "execute_result"
    },
    {
     "name": "stdout",
     "output_type": "stream",
     "text": [
      "No. of unique values: 8\n",
      "No.of Null Values: 0\n"
     ]
    },
    {
     "data": {
      "text/plain": [
       "'VAR_1560'"
      ]
     },
     "execution_count": 13,
     "metadata": {},
     "output_type": "execute_result"
    },
    {
     "name": "stdout",
     "output_type": "stream",
     "text": [
      "No. of unique values: 26\n",
      "No.of Null Values: 0\n"
     ]
    },
    {
     "data": {
      "text/plain": [
       "'VAR_1561'"
      ]
     },
     "execution_count": 13,
     "metadata": {},
     "output_type": "execute_result"
    },
    {
     "name": "stdout",
     "output_type": "stream",
     "text": [
      "No. of unique values: 22\n",
      "No.of Null Values: 0\n"
     ]
    },
    {
     "data": {
      "text/plain": [
       "'VAR_1562'"
      ]
     },
     "execution_count": 13,
     "metadata": {},
     "output_type": "execute_result"
    },
    {
     "name": "stdout",
     "output_type": "stream",
     "text": [
      "No. of unique values: 3\n",
      "No.of Null Values: 0\n"
     ]
    },
    {
     "data": {
      "text/plain": [
       "'VAR_1563'"
      ]
     },
     "execution_count": 13,
     "metadata": {},
     "output_type": "execute_result"
    },
    {
     "name": "stdout",
     "output_type": "stream",
     "text": [
      "No. of unique values: 4\n",
      "No.of Null Values: 0\n"
     ]
    },
    {
     "data": {
      "text/plain": [
       "'VAR_1564'"
      ]
     },
     "execution_count": 13,
     "metadata": {},
     "output_type": "execute_result"
    },
    {
     "name": "stdout",
     "output_type": "stream",
     "text": [
      "No. of unique values: 7\n",
      "No.of Null Values: 0\n"
     ]
    },
    {
     "data": {
      "text/plain": [
       "'VAR_1565'"
      ]
     },
     "execution_count": 13,
     "metadata": {},
     "output_type": "execute_result"
    },
    {
     "name": "stdout",
     "output_type": "stream",
     "text": [
      "No. of unique values: 9\n",
      "No.of Null Values: 0\n"
     ]
    },
    {
     "data": {
      "text/plain": [
       "'VAR_1566'"
      ]
     },
     "execution_count": 13,
     "metadata": {},
     "output_type": "execute_result"
    },
    {
     "name": "stdout",
     "output_type": "stream",
     "text": [
      "No. of unique values: 14\n",
      "No.of Null Values: 0\n"
     ]
    },
    {
     "data": {
      "text/plain": [
       "'VAR_1567'"
      ]
     },
     "execution_count": 13,
     "metadata": {},
     "output_type": "execute_result"
    },
    {
     "name": "stdout",
     "output_type": "stream",
     "text": [
      "No. of unique values: 64\n",
      "No.of Null Values: 0\n"
     ]
    },
    {
     "data": {
      "text/plain": [
       "'VAR_1568'"
      ]
     },
     "execution_count": 13,
     "metadata": {},
     "output_type": "execute_result"
    },
    {
     "name": "stdout",
     "output_type": "stream",
     "text": [
      "No. of unique values: 9\n",
      "No.of Null Values: 0\n"
     ]
    },
    {
     "data": {
      "text/plain": [
       "'VAR_1569'"
      ]
     },
     "execution_count": 13,
     "metadata": {},
     "output_type": "execute_result"
    },
    {
     "name": "stdout",
     "output_type": "stream",
     "text": [
      "No. of unique values: 11\n",
      "No.of Null Values: 0\n"
     ]
    },
    {
     "data": {
      "text/plain": [
       "'VAR_1570'"
      ]
     },
     "execution_count": 13,
     "metadata": {},
     "output_type": "execute_result"
    },
    {
     "name": "stdout",
     "output_type": "stream",
     "text": [
      "No. of unique values: 17\n",
      "No.of Null Values: 0\n"
     ]
    },
    {
     "data": {
      "text/plain": [
       "'VAR_1571'"
      ]
     },
     "execution_count": 13,
     "metadata": {},
     "output_type": "execute_result"
    },
    {
     "name": "stdout",
     "output_type": "stream",
     "text": [
      "No. of unique values: 28\n",
      "No.of Null Values: 0\n"
     ]
    },
    {
     "data": {
      "text/plain": [
       "'VAR_1572'"
      ]
     },
     "execution_count": 13,
     "metadata": {},
     "output_type": "execute_result"
    },
    {
     "name": "stdout",
     "output_type": "stream",
     "text": [
      "No. of unique values: 32\n",
      "No.of Null Values: 0\n"
     ]
    },
    {
     "data": {
      "text/plain": [
       "'VAR_1573'"
      ]
     },
     "execution_count": 13,
     "metadata": {},
     "output_type": "execute_result"
    },
    {
     "name": "stdout",
     "output_type": "stream",
     "text": [
      "No. of unique values: 26\n",
      "No.of Null Values: 0\n"
     ]
    },
    {
     "data": {
      "text/plain": [
       "'VAR_1574'"
      ]
     },
     "execution_count": 13,
     "metadata": {},
     "output_type": "execute_result"
    },
    {
     "name": "stdout",
     "output_type": "stream",
     "text": [
      "No. of unique values: 30\n",
      "No.of Null Values: 0\n"
     ]
    },
    {
     "data": {
      "text/plain": [
       "'VAR_1575'"
      ]
     },
     "execution_count": 13,
     "metadata": {},
     "output_type": "execute_result"
    },
    {
     "name": "stdout",
     "output_type": "stream",
     "text": [
      "No. of unique values: 119\n",
      "No.of Null Values: 0\n"
     ]
    },
    {
     "data": {
      "text/plain": [
       "'VAR_1576'"
      ]
     },
     "execution_count": 13,
     "metadata": {},
     "output_type": "execute_result"
    },
    {
     "name": "stdout",
     "output_type": "stream",
     "text": [
      "No. of unique values: 210\n",
      "No.of Null Values: 0\n"
     ]
    },
    {
     "data": {
      "text/plain": [
       "'VAR_1577'"
      ]
     },
     "execution_count": 13,
     "metadata": {},
     "output_type": "execute_result"
    },
    {
     "name": "stdout",
     "output_type": "stream",
     "text": [
      "No. of unique values: 30\n",
      "No.of Null Values: 0\n"
     ]
    },
    {
     "data": {
      "text/plain": [
       "'VAR_1578'"
      ]
     },
     "execution_count": 13,
     "metadata": {},
     "output_type": "execute_result"
    },
    {
     "name": "stdout",
     "output_type": "stream",
     "text": [
      "No. of unique values: 113\n",
      "No.of Null Values: 0\n"
     ]
    },
    {
     "data": {
      "text/plain": [
       "'VAR_1579'"
      ]
     },
     "execution_count": 13,
     "metadata": {},
     "output_type": "execute_result"
    },
    {
     "name": "stdout",
     "output_type": "stream",
     "text": [
      "No. of unique values: 199\n",
      "No.of Null Values: 0\n"
     ]
    },
    {
     "data": {
      "text/plain": [
       "'VAR_1580'"
      ]
     },
     "execution_count": 13,
     "metadata": {},
     "output_type": "execute_result"
    },
    {
     "name": "stdout",
     "output_type": "stream",
     "text": [
      "No. of unique values: 102\n",
      "No.of Null Values: 0\n"
     ]
    },
    {
     "data": {
      "text/plain": [
       "'VAR_1581'"
      ]
     },
     "execution_count": 13,
     "metadata": {},
     "output_type": "execute_result"
    },
    {
     "name": "stdout",
     "output_type": "stream",
     "text": [
      "No. of unique values: 3678\n",
      "No.of Null Values: 0\n"
     ]
    },
    {
     "data": {
      "text/plain": [
       "'VAR_1582'"
      ]
     },
     "execution_count": 13,
     "metadata": {},
     "output_type": "execute_result"
    },
    {
     "name": "stdout",
     "output_type": "stream",
     "text": [
      "No. of unique values: 1493\n",
      "No.of Null Values: 0\n"
     ]
    },
    {
     "data": {
      "text/plain": [
       "'VAR_1583'"
      ]
     },
     "execution_count": 13,
     "metadata": {},
     "output_type": "execute_result"
    },
    {
     "name": "stdout",
     "output_type": "stream",
     "text": [
      "No. of unique values: 21\n",
      "No.of Null Values: 0\n"
     ]
    },
    {
     "data": {
      "text/plain": [
       "'VAR_1584'"
      ]
     },
     "execution_count": 13,
     "metadata": {},
     "output_type": "execute_result"
    },
    {
     "name": "stdout",
     "output_type": "stream",
     "text": [
      "No. of unique values: 4\n",
      "No.of Null Values: 0\n"
     ]
    },
    {
     "data": {
      "text/plain": [
       "'VAR_1585'"
      ]
     },
     "execution_count": 13,
     "metadata": {},
     "output_type": "execute_result"
    },
    {
     "name": "stdout",
     "output_type": "stream",
     "text": [
      "No. of unique values: 10\n",
      "No.of Null Values: 0\n"
     ]
    },
    {
     "data": {
      "text/plain": [
       "'VAR_1586'"
      ]
     },
     "execution_count": 13,
     "metadata": {},
     "output_type": "execute_result"
    },
    {
     "name": "stdout",
     "output_type": "stream",
     "text": [
      "No. of unique values: 5\n",
      "No.of Null Values: 0\n"
     ]
    },
    {
     "data": {
      "text/plain": [
       "'VAR_1587'"
      ]
     },
     "execution_count": 13,
     "metadata": {},
     "output_type": "execute_result"
    },
    {
     "name": "stdout",
     "output_type": "stream",
     "text": [
      "No. of unique values: 5\n",
      "No.of Null Values: 0\n"
     ]
    },
    {
     "data": {
      "text/plain": [
       "'VAR_1588'"
      ]
     },
     "execution_count": 13,
     "metadata": {},
     "output_type": "execute_result"
    },
    {
     "name": "stdout",
     "output_type": "stream",
     "text": [
      "No. of unique values: 6\n",
      "No.of Null Values: 0\n"
     ]
    },
    {
     "data": {
      "text/plain": [
       "'VAR_1589'"
      ]
     },
     "execution_count": 13,
     "metadata": {},
     "output_type": "execute_result"
    },
    {
     "name": "stdout",
     "output_type": "stream",
     "text": [
      "No. of unique values: 21\n",
      "No.of Null Values: 0\n"
     ]
    },
    {
     "data": {
      "text/plain": [
       "'VAR_1590'"
      ]
     },
     "execution_count": 13,
     "metadata": {},
     "output_type": "execute_result"
    },
    {
     "name": "stdout",
     "output_type": "stream",
     "text": [
      "No. of unique values: 3\n",
      "No.of Null Values: 0\n"
     ]
    },
    {
     "data": {
      "text/plain": [
       "'VAR_1591'"
      ]
     },
     "execution_count": 13,
     "metadata": {},
     "output_type": "execute_result"
    },
    {
     "name": "stdout",
     "output_type": "stream",
     "text": [
      "No. of unique values: 11\n",
      "No.of Null Values: 0\n"
     ]
    },
    {
     "data": {
      "text/plain": [
       "'VAR_1592'"
      ]
     },
     "execution_count": 13,
     "metadata": {},
     "output_type": "execute_result"
    },
    {
     "name": "stdout",
     "output_type": "stream",
     "text": [
      "No. of unique values: 10\n",
      "No.of Null Values: 0\n"
     ]
    },
    {
     "data": {
      "text/plain": [
       "'VAR_1593'"
      ]
     },
     "execution_count": 13,
     "metadata": {},
     "output_type": "execute_result"
    },
    {
     "name": "stdout",
     "output_type": "stream",
     "text": [
      "No. of unique values: 10\n",
      "No.of Null Values: 0\n"
     ]
    },
    {
     "data": {
      "text/plain": [
       "'VAR_1594'"
      ]
     },
     "execution_count": 13,
     "metadata": {},
     "output_type": "execute_result"
    },
    {
     "name": "stdout",
     "output_type": "stream",
     "text": [
      "No. of unique values: 6\n",
      "No.of Null Values: 0\n"
     ]
    },
    {
     "data": {
      "text/plain": [
       "'VAR_1595'"
      ]
     },
     "execution_count": 13,
     "metadata": {},
     "output_type": "execute_result"
    },
    {
     "name": "stdout",
     "output_type": "stream",
     "text": [
      "No. of unique values: 6\n",
      "No.of Null Values: 0\n"
     ]
    },
    {
     "data": {
      "text/plain": [
       "'VAR_1596'"
      ]
     },
     "execution_count": 13,
     "metadata": {},
     "output_type": "execute_result"
    },
    {
     "name": "stdout",
     "output_type": "stream",
     "text": [
      "No. of unique values: 7\n",
      "No.of Null Values: 0\n"
     ]
    },
    {
     "data": {
      "text/plain": [
       "'VAR_1597'"
      ]
     },
     "execution_count": 13,
     "metadata": {},
     "output_type": "execute_result"
    },
    {
     "name": "stdout",
     "output_type": "stream",
     "text": [
      "No. of unique values: 8\n",
      "No.of Null Values: 0\n"
     ]
    },
    {
     "data": {
      "text/plain": [
       "'VAR_1598'"
      ]
     },
     "execution_count": 13,
     "metadata": {},
     "output_type": "execute_result"
    },
    {
     "name": "stdout",
     "output_type": "stream",
     "text": [
      "No. of unique values: 13\n",
      "No.of Null Values: 0\n"
     ]
    },
    {
     "data": {
      "text/plain": [
       "'VAR_1599'"
      ]
     },
     "execution_count": 13,
     "metadata": {},
     "output_type": "execute_result"
    },
    {
     "name": "stdout",
     "output_type": "stream",
     "text": [
      "No. of unique values: 10\n",
      "No.of Null Values: 0\n"
     ]
    },
    {
     "data": {
      "text/plain": [
       "'VAR_1600'"
      ]
     },
     "execution_count": 13,
     "metadata": {},
     "output_type": "execute_result"
    },
    {
     "name": "stdout",
     "output_type": "stream",
     "text": [
      "No. of unique values: 11\n",
      "No.of Null Values: 0\n"
     ]
    },
    {
     "data": {
      "text/plain": [
       "'VAR_1601'"
      ]
     },
     "execution_count": 13,
     "metadata": {},
     "output_type": "execute_result"
    },
    {
     "name": "stdout",
     "output_type": "stream",
     "text": [
      "No. of unique values: 12\n",
      "No.of Null Values: 0\n"
     ]
    },
    {
     "data": {
      "text/plain": [
       "'VAR_1602'"
      ]
     },
     "execution_count": 13,
     "metadata": {},
     "output_type": "execute_result"
    },
    {
     "name": "stdout",
     "output_type": "stream",
     "text": [
      "No. of unique values: 13\n",
      "No.of Null Values: 0\n"
     ]
    },
    {
     "data": {
      "text/plain": [
       "'VAR_1603'"
      ]
     },
     "execution_count": 13,
     "metadata": {},
     "output_type": "execute_result"
    },
    {
     "name": "stdout",
     "output_type": "stream",
     "text": [
      "No. of unique values: 10\n",
      "No.of Null Values: 0\n"
     ]
    },
    {
     "data": {
      "text/plain": [
       "'VAR_1604'"
      ]
     },
     "execution_count": 13,
     "metadata": {},
     "output_type": "execute_result"
    },
    {
     "name": "stdout",
     "output_type": "stream",
     "text": [
      "No. of unique values: 11\n",
      "No.of Null Values: 0\n"
     ]
    },
    {
     "data": {
      "text/plain": [
       "'VAR_1605'"
      ]
     },
     "execution_count": 13,
     "metadata": {},
     "output_type": "execute_result"
    },
    {
     "name": "stdout",
     "output_type": "stream",
     "text": [
      "No. of unique values: 12\n",
      "No.of Null Values: 0\n"
     ]
    },
    {
     "data": {
      "text/plain": [
       "'VAR_1606'"
      ]
     },
     "execution_count": 13,
     "metadata": {},
     "output_type": "execute_result"
    },
    {
     "name": "stdout",
     "output_type": "stream",
     "text": [
      "No. of unique values: 13\n",
      "No.of Null Values: 0\n"
     ]
    },
    {
     "data": {
      "text/plain": [
       "'VAR_1607'"
      ]
     },
     "execution_count": 13,
     "metadata": {},
     "output_type": "execute_result"
    },
    {
     "name": "stdout",
     "output_type": "stream",
     "text": [
      "No. of unique values: 10\n",
      "No.of Null Values: 0\n"
     ]
    },
    {
     "data": {
      "text/plain": [
       "'VAR_1608'"
      ]
     },
     "execution_count": 13,
     "metadata": {},
     "output_type": "execute_result"
    },
    {
     "name": "stdout",
     "output_type": "stream",
     "text": [
      "No. of unique values: 11\n",
      "No.of Null Values: 0\n"
     ]
    },
    {
     "data": {
      "text/plain": [
       "'VAR_1609'"
      ]
     },
     "execution_count": 13,
     "metadata": {},
     "output_type": "execute_result"
    },
    {
     "name": "stdout",
     "output_type": "stream",
     "text": [
      "No. of unique values: 12\n",
      "No.of Null Values: 0\n"
     ]
    },
    {
     "data": {
      "text/plain": [
       "'VAR_1610'"
      ]
     },
     "execution_count": 13,
     "metadata": {},
     "output_type": "execute_result"
    },
    {
     "name": "stdout",
     "output_type": "stream",
     "text": [
      "No. of unique values: 12\n",
      "No.of Null Values: 0\n"
     ]
    },
    {
     "data": {
      "text/plain": [
       "'VAR_1611'"
      ]
     },
     "execution_count": 13,
     "metadata": {},
     "output_type": "execute_result"
    },
    {
     "name": "stdout",
     "output_type": "stream",
     "text": [
      "No. of unique values: 18\n",
      "No.of Null Values: 0\n"
     ]
    },
    {
     "data": {
      "text/plain": [
       "'VAR_1612'"
      ]
     },
     "execution_count": 13,
     "metadata": {},
     "output_type": "execute_result"
    },
    {
     "name": "stdout",
     "output_type": "stream",
     "text": [
      "No. of unique values: 29\n",
      "No.of Null Values: 0\n"
     ]
    },
    {
     "data": {
      "text/plain": [
       "'VAR_1613'"
      ]
     },
     "execution_count": 13,
     "metadata": {},
     "output_type": "execute_result"
    },
    {
     "name": "stdout",
     "output_type": "stream",
     "text": [
      "No. of unique values: 17\n",
      "No.of Null Values: 0\n"
     ]
    },
    {
     "data": {
      "text/plain": [
       "'VAR_1614'"
      ]
     },
     "execution_count": 13,
     "metadata": {},
     "output_type": "execute_result"
    },
    {
     "name": "stdout",
     "output_type": "stream",
     "text": [
      "No. of unique values: 23\n",
      "No.of Null Values: 0\n"
     ]
    },
    {
     "data": {
      "text/plain": [
       "'VAR_1615'"
      ]
     },
     "execution_count": 13,
     "metadata": {},
     "output_type": "execute_result"
    },
    {
     "name": "stdout",
     "output_type": "stream",
     "text": [
      "No. of unique values: 25\n",
      "No.of Null Values: 0\n"
     ]
    },
    {
     "data": {
      "text/plain": [
       "'VAR_1616'"
      ]
     },
     "execution_count": 13,
     "metadata": {},
     "output_type": "execute_result"
    },
    {
     "name": "stdout",
     "output_type": "stream",
     "text": [
      "No. of unique values: 38\n",
      "No.of Null Values: 0\n"
     ]
    },
    {
     "data": {
      "text/plain": [
       "'VAR_1617'"
      ]
     },
     "execution_count": 13,
     "metadata": {},
     "output_type": "execute_result"
    },
    {
     "name": "stdout",
     "output_type": "stream",
     "text": [
      "No. of unique values: 3920\n",
      "No.of Null Values: 0\n"
     ]
    },
    {
     "data": {
      "text/plain": [
       "'VAR_1618'"
      ]
     },
     "execution_count": 13,
     "metadata": {},
     "output_type": "execute_result"
    },
    {
     "name": "stdout",
     "output_type": "stream",
     "text": [
      "No. of unique values: 3922\n",
      "No.of Null Values: 0\n"
     ]
    },
    {
     "data": {
      "text/plain": [
       "'VAR_1619'"
      ]
     },
     "execution_count": 13,
     "metadata": {},
     "output_type": "execute_result"
    },
    {
     "name": "stdout",
     "output_type": "stream",
     "text": [
      "No. of unique values: 300\n",
      "No.of Null Values: 0\n"
     ]
    },
    {
     "data": {
      "text/plain": [
       "'VAR_1620'"
      ]
     },
     "execution_count": 13,
     "metadata": {},
     "output_type": "execute_result"
    },
    {
     "name": "stdout",
     "output_type": "stream",
     "text": [
      "No. of unique values: 126\n",
      "No.of Null Values: 0\n"
     ]
    },
    {
     "data": {
      "text/plain": [
       "'VAR_1621'"
      ]
     },
     "execution_count": 13,
     "metadata": {},
     "output_type": "execute_result"
    },
    {
     "name": "stdout",
     "output_type": "stream",
     "text": [
      "No. of unique values: 272\n",
      "No.of Null Values: 0\n"
     ]
    },
    {
     "data": {
      "text/plain": [
       "'VAR_1622'"
      ]
     },
     "execution_count": 13,
     "metadata": {},
     "output_type": "execute_result"
    },
    {
     "name": "stdout",
     "output_type": "stream",
     "text": [
      "No. of unique values: 88\n",
      "No.of Null Values: 0\n"
     ]
    },
    {
     "data": {
      "text/plain": [
       "'VAR_1623'"
      ]
     },
     "execution_count": 13,
     "metadata": {},
     "output_type": "execute_result"
    },
    {
     "name": "stdout",
     "output_type": "stream",
     "text": [
      "No. of unique values: 3174\n",
      "No.of Null Values: 0\n"
     ]
    },
    {
     "data": {
      "text/plain": [
       "'VAR_1624'"
      ]
     },
     "execution_count": 13,
     "metadata": {},
     "output_type": "execute_result"
    },
    {
     "name": "stdout",
     "output_type": "stream",
     "text": [
      "No. of unique values: 4255\n",
      "No.of Null Values: 0\n"
     ]
    },
    {
     "data": {
      "text/plain": [
       "'VAR_1625'"
      ]
     },
     "execution_count": 13,
     "metadata": {},
     "output_type": "execute_result"
    },
    {
     "name": "stdout",
     "output_type": "stream",
     "text": [
      "No. of unique values: 3047\n",
      "No.of Null Values: 0\n"
     ]
    },
    {
     "data": {
      "text/plain": [
       "'VAR_1626'"
      ]
     },
     "execution_count": 13,
     "metadata": {},
     "output_type": "execute_result"
    },
    {
     "name": "stdout",
     "output_type": "stream",
     "text": [
      "No. of unique values: 3047\n",
      "No.of Null Values: 0\n"
     ]
    },
    {
     "data": {
      "text/plain": [
       "'VAR_1627'"
      ]
     },
     "execution_count": 13,
     "metadata": {},
     "output_type": "execute_result"
    },
    {
     "name": "stdout",
     "output_type": "stream",
     "text": [
      "No. of unique values: 279\n",
      "No.of Null Values: 0\n"
     ]
    },
    {
     "data": {
      "text/plain": [
       "'VAR_1628'"
      ]
     },
     "execution_count": 13,
     "metadata": {},
     "output_type": "execute_result"
    },
    {
     "name": "stdout",
     "output_type": "stream",
     "text": [
      "No. of unique values: 125\n",
      "No.of Null Values: 0\n"
     ]
    },
    {
     "data": {
      "text/plain": [
       "'VAR_1629'"
      ]
     },
     "execution_count": 13,
     "metadata": {},
     "output_type": "execute_result"
    },
    {
     "name": "stdout",
     "output_type": "stream",
     "text": [
      "No. of unique values: 272\n",
      "No.of Null Values: 0\n"
     ]
    },
    {
     "data": {
      "text/plain": [
       "'VAR_1630'"
      ]
     },
     "execution_count": 13,
     "metadata": {},
     "output_type": "execute_result"
    },
    {
     "name": "stdout",
     "output_type": "stream",
     "text": [
      "No. of unique values: 79\n",
      "No.of Null Values: 0\n"
     ]
    },
    {
     "data": {
      "text/plain": [
       "'VAR_1631'"
      ]
     },
     "execution_count": 13,
     "metadata": {},
     "output_type": "execute_result"
    },
    {
     "name": "stdout",
     "output_type": "stream",
     "text": [
      "No. of unique values: 1804\n",
      "No.of Null Values: 0\n"
     ]
    },
    {
     "data": {
      "text/plain": [
       "'VAR_1632'"
      ]
     },
     "execution_count": 13,
     "metadata": {},
     "output_type": "execute_result"
    },
    {
     "name": "stdout",
     "output_type": "stream",
     "text": [
      "No. of unique values: 9\n",
      "No.of Null Values: 0\n"
     ]
    },
    {
     "data": {
      "text/plain": [
       "'VAR_1633'"
      ]
     },
     "execution_count": 13,
     "metadata": {},
     "output_type": "execute_result"
    },
    {
     "name": "stdout",
     "output_type": "stream",
     "text": [
      "No. of unique values: 8\n",
      "No.of Null Values: 0\n"
     ]
    },
    {
     "data": {
      "text/plain": [
       "'VAR_1634'"
      ]
     },
     "execution_count": 13,
     "metadata": {},
     "output_type": "execute_result"
    },
    {
     "name": "stdout",
     "output_type": "stream",
     "text": [
      "No. of unique values: 9\n",
      "No.of Null Values: 0\n"
     ]
    },
    {
     "data": {
      "text/plain": [
       "'VAR_1635'"
      ]
     },
     "execution_count": 13,
     "metadata": {},
     "output_type": "execute_result"
    },
    {
     "name": "stdout",
     "output_type": "stream",
     "text": [
      "No. of unique values: 10\n",
      "No.of Null Values: 0\n"
     ]
    },
    {
     "data": {
      "text/plain": [
       "'VAR_1636'"
      ]
     },
     "execution_count": 13,
     "metadata": {},
     "output_type": "execute_result"
    },
    {
     "name": "stdout",
     "output_type": "stream",
     "text": [
      "No. of unique values: 10\n",
      "No.of Null Values: 0\n"
     ]
    },
    {
     "data": {
      "text/plain": [
       "'VAR_1637'"
      ]
     },
     "execution_count": 13,
     "metadata": {},
     "output_type": "execute_result"
    },
    {
     "name": "stdout",
     "output_type": "stream",
     "text": [
      "No. of unique values: 10\n",
      "No.of Null Values: 0\n"
     ]
    },
    {
     "data": {
      "text/plain": [
       "'VAR_1638'"
      ]
     },
     "execution_count": 13,
     "metadata": {},
     "output_type": "execute_result"
    },
    {
     "name": "stdout",
     "output_type": "stream",
     "text": [
      "No. of unique values: 10\n",
      "No.of Null Values: 0\n"
     ]
    },
    {
     "data": {
      "text/plain": [
       "'VAR_1639'"
      ]
     },
     "execution_count": 13,
     "metadata": {},
     "output_type": "execute_result"
    },
    {
     "name": "stdout",
     "output_type": "stream",
     "text": [
      "No. of unique values: 37\n",
      "No.of Null Values: 0\n"
     ]
    },
    {
     "data": {
      "text/plain": [
       "'VAR_1640'"
      ]
     },
     "execution_count": 13,
     "metadata": {},
     "output_type": "execute_result"
    },
    {
     "name": "stdout",
     "output_type": "stream",
     "text": [
      "No. of unique values: 43\n",
      "No.of Null Values: 0\n"
     ]
    },
    {
     "data": {
      "text/plain": [
       "'VAR_1641'"
      ]
     },
     "execution_count": 13,
     "metadata": {},
     "output_type": "execute_result"
    },
    {
     "name": "stdout",
     "output_type": "stream",
     "text": [
      "No. of unique values: 36\n",
      "No.of Null Values: 0\n"
     ]
    },
    {
     "data": {
      "text/plain": [
       "'VAR_1642'"
      ]
     },
     "execution_count": 13,
     "metadata": {},
     "output_type": "execute_result"
    },
    {
     "name": "stdout",
     "output_type": "stream",
     "text": [
      "No. of unique values: 37\n",
      "No.of Null Values: 0\n"
     ]
    },
    {
     "data": {
      "text/plain": [
       "'VAR_1643'"
      ]
     },
     "execution_count": 13,
     "metadata": {},
     "output_type": "execute_result"
    },
    {
     "name": "stdout",
     "output_type": "stream",
     "text": [
      "No. of unique values: 40\n",
      "No.of Null Values: 0\n"
     ]
    },
    {
     "data": {
      "text/plain": [
       "'VAR_1644'"
      ]
     },
     "execution_count": 13,
     "metadata": {},
     "output_type": "execute_result"
    },
    {
     "name": "stdout",
     "output_type": "stream",
     "text": [
      "No. of unique values: 43\n",
      "No.of Null Values: 0\n"
     ]
    },
    {
     "data": {
      "text/plain": [
       "'VAR_1645'"
      ]
     },
     "execution_count": 13,
     "metadata": {},
     "output_type": "execute_result"
    },
    {
     "name": "stdout",
     "output_type": "stream",
     "text": [
      "No. of unique values: 41\n",
      "No.of Null Values: 0\n"
     ]
    },
    {
     "data": {
      "text/plain": [
       "'VAR_1646'"
      ]
     },
     "execution_count": 13,
     "metadata": {},
     "output_type": "execute_result"
    },
    {
     "name": "stdout",
     "output_type": "stream",
     "text": [
      "No. of unique values: 40\n",
      "No.of Null Values: 0\n"
     ]
    },
    {
     "data": {
      "text/plain": [
       "'VAR_1647'"
      ]
     },
     "execution_count": 13,
     "metadata": {},
     "output_type": "execute_result"
    },
    {
     "name": "stdout",
     "output_type": "stream",
     "text": [
      "No. of unique values: 37\n",
      "No.of Null Values: 0\n"
     ]
    },
    {
     "data": {
      "text/plain": [
       "'VAR_1648'"
      ]
     },
     "execution_count": 13,
     "metadata": {},
     "output_type": "execute_result"
    },
    {
     "name": "stdout",
     "output_type": "stream",
     "text": [
      "No. of unique values: 280\n",
      "No.of Null Values: 0\n"
     ]
    },
    {
     "data": {
      "text/plain": [
       "'VAR_1649'"
      ]
     },
     "execution_count": 13,
     "metadata": {},
     "output_type": "execute_result"
    },
    {
     "name": "stdout",
     "output_type": "stream",
     "text": [
      "No. of unique values: 85\n",
      "No.of Null Values: 0\n"
     ]
    },
    {
     "data": {
      "text/plain": [
       "'VAR_1650'"
      ]
     },
     "execution_count": 13,
     "metadata": {},
     "output_type": "execute_result"
    },
    {
     "name": "stdout",
     "output_type": "stream",
     "text": [
      "No. of unique values: 85\n",
      "No.of Null Values: 0\n"
     ]
    },
    {
     "data": {
      "text/plain": [
       "'VAR_1651'"
      ]
     },
     "execution_count": 13,
     "metadata": {},
     "output_type": "execute_result"
    },
    {
     "name": "stdout",
     "output_type": "stream",
     "text": [
      "No. of unique values: 84\n",
      "No.of Null Values: 0\n"
     ]
    },
    {
     "data": {
      "text/plain": [
       "'VAR_1652'"
      ]
     },
     "execution_count": 13,
     "metadata": {},
     "output_type": "execute_result"
    },
    {
     "name": "stdout",
     "output_type": "stream",
     "text": [
      "No. of unique values: 81\n",
      "No.of Null Values: 0\n"
     ]
    },
    {
     "data": {
      "text/plain": [
       "'VAR_1653'"
      ]
     },
     "execution_count": 13,
     "metadata": {},
     "output_type": "execute_result"
    },
    {
     "name": "stdout",
     "output_type": "stream",
     "text": [
      "No. of unique values: 82\n",
      "No.of Null Values: 0\n"
     ]
    },
    {
     "data": {
      "text/plain": [
       "'VAR_1654'"
      ]
     },
     "execution_count": 13,
     "metadata": {},
     "output_type": "execute_result"
    },
    {
     "name": "stdout",
     "output_type": "stream",
     "text": [
      "No. of unique values: 347\n",
      "No.of Null Values: 0\n"
     ]
    },
    {
     "data": {
      "text/plain": [
       "'VAR_1655'"
      ]
     },
     "execution_count": 13,
     "metadata": {},
     "output_type": "execute_result"
    },
    {
     "name": "stdout",
     "output_type": "stream",
     "text": [
      "No. of unique values: 288\n",
      "No.of Null Values: 0\n"
     ]
    },
    {
     "data": {
      "text/plain": [
       "'VAR_1656'"
      ]
     },
     "execution_count": 13,
     "metadata": {},
     "output_type": "execute_result"
    },
    {
     "name": "stdout",
     "output_type": "stream",
     "text": [
      "No. of unique values: 9\n",
      "No.of Null Values: 0\n"
     ]
    },
    {
     "data": {
      "text/plain": [
       "'VAR_1657'"
      ]
     },
     "execution_count": 13,
     "metadata": {},
     "output_type": "execute_result"
    },
    {
     "name": "stdout",
     "output_type": "stream",
     "text": [
      "No. of unique values: 11\n",
      "No.of Null Values: 0\n"
     ]
    },
    {
     "data": {
      "text/plain": [
       "'VAR_1658'"
      ]
     },
     "execution_count": 13,
     "metadata": {},
     "output_type": "execute_result"
    },
    {
     "name": "stdout",
     "output_type": "stream",
     "text": [
      "No. of unique values: 12\n",
      "No.of Null Values: 0\n"
     ]
    },
    {
     "data": {
      "text/plain": [
       "'VAR_1659'"
      ]
     },
     "execution_count": 13,
     "metadata": {},
     "output_type": "execute_result"
    },
    {
     "name": "stdout",
     "output_type": "stream",
     "text": [
      "No. of unique values: 13\n",
      "No.of Null Values: 0\n"
     ]
    },
    {
     "data": {
      "text/plain": [
       "'VAR_1660'"
      ]
     },
     "execution_count": 13,
     "metadata": {},
     "output_type": "execute_result"
    },
    {
     "name": "stdout",
     "output_type": "stream",
     "text": [
      "No. of unique values: 8\n",
      "No.of Null Values: 0\n"
     ]
    },
    {
     "data": {
      "text/plain": [
       "'VAR_1661'"
      ]
     },
     "execution_count": 13,
     "metadata": {},
     "output_type": "execute_result"
    },
    {
     "name": "stdout",
     "output_type": "stream",
     "text": [
      "No. of unique values: 17\n",
      "No.of Null Values: 0\n"
     ]
    },
    {
     "data": {
      "text/plain": [
       "'VAR_1662'"
      ]
     },
     "execution_count": 13,
     "metadata": {},
     "output_type": "execute_result"
    },
    {
     "name": "stdout",
     "output_type": "stream",
     "text": [
      "No. of unique values: 9\n",
      "No.of Null Values: 0\n"
     ]
    },
    {
     "data": {
      "text/plain": [
       "'VAR_1663'"
      ]
     },
     "execution_count": 13,
     "metadata": {},
     "output_type": "execute_result"
    },
    {
     "name": "stdout",
     "output_type": "stream",
     "text": [
      "No. of unique values: 4\n",
      "No.of Null Values: 0\n"
     ]
    },
    {
     "data": {
      "text/plain": [
       "'VAR_1664'"
      ]
     },
     "execution_count": 13,
     "metadata": {},
     "output_type": "execute_result"
    },
    {
     "name": "stdout",
     "output_type": "stream",
     "text": [
      "No. of unique values: 15\n",
      "No.of Null Values: 0\n"
     ]
    },
    {
     "data": {
      "text/plain": [
       "'VAR_1665'"
      ]
     },
     "execution_count": 13,
     "metadata": {},
     "output_type": "execute_result"
    },
    {
     "name": "stdout",
     "output_type": "stream",
     "text": [
      "No. of unique values: 11\n",
      "No.of Null Values: 0\n"
     ]
    },
    {
     "data": {
      "text/plain": [
       "'VAR_1666'"
      ]
     },
     "execution_count": 13,
     "metadata": {},
     "output_type": "execute_result"
    },
    {
     "name": "stdout",
     "output_type": "stream",
     "text": [
      "No. of unique values: 10\n",
      "No.of Null Values: 0\n"
     ]
    },
    {
     "data": {
      "text/plain": [
       "'VAR_1667'"
      ]
     },
     "execution_count": 13,
     "metadata": {},
     "output_type": "execute_result"
    },
    {
     "name": "stdout",
     "output_type": "stream",
     "text": [
      "No. of unique values: 11\n",
      "No.of Null Values: 0\n"
     ]
    },
    {
     "data": {
      "text/plain": [
       "'VAR_1668'"
      ]
     },
     "execution_count": 13,
     "metadata": {},
     "output_type": "execute_result"
    },
    {
     "name": "stdout",
     "output_type": "stream",
     "text": [
      "No. of unique values: 10\n",
      "No.of Null Values: 0\n"
     ]
    },
    {
     "data": {
      "text/plain": [
       "'VAR_1669'"
      ]
     },
     "execution_count": 13,
     "metadata": {},
     "output_type": "execute_result"
    },
    {
     "name": "stdout",
     "output_type": "stream",
     "text": [
      "No. of unique values: 7\n",
      "No.of Null Values: 0\n"
     ]
    },
    {
     "data": {
      "text/plain": [
       "'VAR_1670'"
      ]
     },
     "execution_count": 13,
     "metadata": {},
     "output_type": "execute_result"
    },
    {
     "name": "stdout",
     "output_type": "stream",
     "text": [
      "No. of unique values: 7\n",
      "No.of Null Values: 0\n"
     ]
    },
    {
     "data": {
      "text/plain": [
       "'VAR_1671'"
      ]
     },
     "execution_count": 13,
     "metadata": {},
     "output_type": "execute_result"
    },
    {
     "name": "stdout",
     "output_type": "stream",
     "text": [
      "No. of unique values: 5\n",
      "No.of Null Values: 0\n"
     ]
    },
    {
     "data": {
      "text/plain": [
       "'VAR_1672'"
      ]
     },
     "execution_count": 13,
     "metadata": {},
     "output_type": "execute_result"
    },
    {
     "name": "stdout",
     "output_type": "stream",
     "text": [
      "No. of unique values: 5\n",
      "No.of Null Values: 0\n"
     ]
    },
    {
     "data": {
      "text/plain": [
       "'VAR_1673'"
      ]
     },
     "execution_count": 13,
     "metadata": {},
     "output_type": "execute_result"
    },
    {
     "name": "stdout",
     "output_type": "stream",
     "text": [
      "No. of unique values: 6\n",
      "No.of Null Values: 0\n"
     ]
    },
    {
     "data": {
      "text/plain": [
       "'VAR_1674'"
      ]
     },
     "execution_count": 13,
     "metadata": {},
     "output_type": "execute_result"
    },
    {
     "name": "stdout",
     "output_type": "stream",
     "text": [
      "No. of unique values: 6\n",
      "No.of Null Values: 0\n"
     ]
    },
    {
     "data": {
      "text/plain": [
       "'VAR_1675'"
      ]
     },
     "execution_count": 13,
     "metadata": {},
     "output_type": "execute_result"
    },
    {
     "name": "stdout",
     "output_type": "stream",
     "text": [
      "No. of unique values: 5\n",
      "No.of Null Values: 0\n"
     ]
    },
    {
     "data": {
      "text/plain": [
       "'VAR_1676'"
      ]
     },
     "execution_count": 13,
     "metadata": {},
     "output_type": "execute_result"
    },
    {
     "name": "stdout",
     "output_type": "stream",
     "text": [
      "No. of unique values: 6\n",
      "No.of Null Values: 0\n"
     ]
    },
    {
     "data": {
      "text/plain": [
       "'VAR_1677'"
      ]
     },
     "execution_count": 13,
     "metadata": {},
     "output_type": "execute_result"
    },
    {
     "name": "stdout",
     "output_type": "stream",
     "text": [
      "No. of unique values: 6\n",
      "No.of Null Values: 0\n"
     ]
    },
    {
     "data": {
      "text/plain": [
       "'VAR_1678'"
      ]
     },
     "execution_count": 13,
     "metadata": {},
     "output_type": "execute_result"
    },
    {
     "name": "stdout",
     "output_type": "stream",
     "text": [
      "No. of unique values: 6\n",
      "No.of Null Values: 0\n"
     ]
    },
    {
     "data": {
      "text/plain": [
       "'VAR_1679'"
      ]
     },
     "execution_count": 13,
     "metadata": {},
     "output_type": "execute_result"
    },
    {
     "name": "stdout",
     "output_type": "stream",
     "text": [
      "No. of unique values: 6\n",
      "No.of Null Values: 0\n"
     ]
    },
    {
     "data": {
      "text/plain": [
       "'VAR_1680'"
      ]
     },
     "execution_count": 13,
     "metadata": {},
     "output_type": "execute_result"
    },
    {
     "name": "stdout",
     "output_type": "stream",
     "text": [
      "No. of unique values: 6\n",
      "No.of Null Values: 0\n"
     ]
    },
    {
     "data": {
      "text/plain": [
       "'VAR_1681'"
      ]
     },
     "execution_count": 13,
     "metadata": {},
     "output_type": "execute_result"
    },
    {
     "name": "stdout",
     "output_type": "stream",
     "text": [
      "No. of unique values: 6\n",
      "No.of Null Values: 0\n"
     ]
    },
    {
     "data": {
      "text/plain": [
       "'VAR_1682'"
      ]
     },
     "execution_count": 13,
     "metadata": {},
     "output_type": "execute_result"
    },
    {
     "name": "stdout",
     "output_type": "stream",
     "text": [
      "No. of unique values: 6\n",
      "No.of Null Values: 0\n"
     ]
    },
    {
     "data": {
      "text/plain": [
       "'VAR_1683'"
      ]
     },
     "execution_count": 13,
     "metadata": {},
     "output_type": "execute_result"
    },
    {
     "name": "stdout",
     "output_type": "stream",
     "text": [
      "No. of unique values: 6\n",
      "No.of Null Values: 0\n"
     ]
    },
    {
     "data": {
      "text/plain": [
       "'VAR_1684'"
      ]
     },
     "execution_count": 13,
     "metadata": {},
     "output_type": "execute_result"
    },
    {
     "name": "stdout",
     "output_type": "stream",
     "text": [
      "No. of unique values: 39\n",
      "No.of Null Values: 0\n"
     ]
    },
    {
     "data": {
      "text/plain": [
       "'VAR_1685'"
      ]
     },
     "execution_count": 13,
     "metadata": {},
     "output_type": "execute_result"
    },
    {
     "name": "stdout",
     "output_type": "stream",
     "text": [
      "No. of unique values: 3694\n",
      "No.of Null Values: 0\n"
     ]
    },
    {
     "data": {
      "text/plain": [
       "'VAR_1686'"
      ]
     },
     "execution_count": 13,
     "metadata": {},
     "output_type": "execute_result"
    },
    {
     "name": "stdout",
     "output_type": "stream",
     "text": [
      "No. of unique values: 207\n",
      "No.of Null Values: 0\n"
     ]
    },
    {
     "data": {
      "text/plain": [
       "'VAR_1687'"
      ]
     },
     "execution_count": 13,
     "metadata": {},
     "output_type": "execute_result"
    },
    {
     "name": "stdout",
     "output_type": "stream",
     "text": [
      "No. of unique values: 28\n",
      "No.of Null Values: 0\n"
     ]
    },
    {
     "data": {
      "text/plain": [
       "'VAR_1688'"
      ]
     },
     "execution_count": 13,
     "metadata": {},
     "output_type": "execute_result"
    },
    {
     "name": "stdout",
     "output_type": "stream",
     "text": [
      "No. of unique values: 37\n",
      "No.of Null Values: 0\n"
     ]
    },
    {
     "data": {
      "text/plain": [
       "'VAR_1689'"
      ]
     },
     "execution_count": 13,
     "metadata": {},
     "output_type": "execute_result"
    },
    {
     "name": "stdout",
     "output_type": "stream",
     "text": [
      "No. of unique values: 46\n",
      "No.of Null Values: 0\n"
     ]
    },
    {
     "data": {
      "text/plain": [
       "'VAR_1690'"
      ]
     },
     "execution_count": 13,
     "metadata": {},
     "output_type": "execute_result"
    },
    {
     "name": "stdout",
     "output_type": "stream",
     "text": [
      "No. of unique values: 3796\n",
      "No.of Null Values: 0\n"
     ]
    },
    {
     "data": {
      "text/plain": [
       "'VAR_1691'"
      ]
     },
     "execution_count": 13,
     "metadata": {},
     "output_type": "execute_result"
    },
    {
     "name": "stdout",
     "output_type": "stream",
     "text": [
      "No. of unique values: 2984\n",
      "No.of Null Values: 0\n"
     ]
    },
    {
     "data": {
      "text/plain": [
       "'VAR_1692'"
      ]
     },
     "execution_count": 13,
     "metadata": {},
     "output_type": "execute_result"
    },
    {
     "name": "stdout",
     "output_type": "stream",
     "text": [
      "No. of unique values: 111\n",
      "No.of Null Values: 0\n"
     ]
    },
    {
     "data": {
      "text/plain": [
       "'VAR_1693'"
      ]
     },
     "execution_count": 13,
     "metadata": {},
     "output_type": "execute_result"
    },
    {
     "name": "stdout",
     "output_type": "stream",
     "text": [
      "No. of unique values: 133\n",
      "No.of Null Values: 0\n"
     ]
    },
    {
     "data": {
      "text/plain": [
       "'VAR_1694'"
      ]
     },
     "execution_count": 13,
     "metadata": {},
     "output_type": "execute_result"
    },
    {
     "name": "stdout",
     "output_type": "stream",
     "text": [
      "No. of unique values: 156\n",
      "No.of Null Values: 0\n"
     ]
    },
    {
     "data": {
      "text/plain": [
       "'VAR_1695'"
      ]
     },
     "execution_count": 13,
     "metadata": {},
     "output_type": "execute_result"
    },
    {
     "name": "stdout",
     "output_type": "stream",
     "text": [
      "No. of unique values: 189\n",
      "No.of Null Values: 0\n"
     ]
    },
    {
     "data": {
      "text/plain": [
       "'VAR_1696'"
      ]
     },
     "execution_count": 13,
     "metadata": {},
     "output_type": "execute_result"
    },
    {
     "name": "stdout",
     "output_type": "stream",
     "text": [
      "No. of unique values: 228\n",
      "No.of Null Values: 0\n"
     ]
    },
    {
     "data": {
      "text/plain": [
       "'VAR_1697'"
      ]
     },
     "execution_count": 13,
     "metadata": {},
     "output_type": "execute_result"
    },
    {
     "name": "stdout",
     "output_type": "stream",
     "text": [
      "No. of unique values: 249\n",
      "No.of Null Values: 0\n"
     ]
    },
    {
     "data": {
      "text/plain": [
       "'VAR_1698'"
      ]
     },
     "execution_count": 13,
     "metadata": {},
     "output_type": "execute_result"
    },
    {
     "name": "stdout",
     "output_type": "stream",
     "text": [
      "No. of unique values: 271\n",
      "No.of Null Values: 0\n"
     ]
    },
    {
     "data": {
      "text/plain": [
       "'VAR_1699'"
      ]
     },
     "execution_count": 13,
     "metadata": {},
     "output_type": "execute_result"
    },
    {
     "name": "stdout",
     "output_type": "stream",
     "text": [
      "No. of unique values: 316\n",
      "No.of Null Values: 0\n"
     ]
    },
    {
     "data": {
      "text/plain": [
       "'VAR_1700'"
      ]
     },
     "execution_count": 13,
     "metadata": {},
     "output_type": "execute_result"
    },
    {
     "name": "stdout",
     "output_type": "stream",
     "text": [
      "No. of unique values: 3260\n",
      "No.of Null Values: 0\n"
     ]
    },
    {
     "data": {
      "text/plain": [
       "'VAR_1701'"
      ]
     },
     "execution_count": 13,
     "metadata": {},
     "output_type": "execute_result"
    },
    {
     "name": "stdout",
     "output_type": "stream",
     "text": [
      "No. of unique values: 1660\n",
      "No.of Null Values: 0\n"
     ]
    },
    {
     "data": {
      "text/plain": [
       "'VAR_1702'"
      ]
     },
     "execution_count": 13,
     "metadata": {},
     "output_type": "execute_result"
    },
    {
     "name": "stdout",
     "output_type": "stream",
     "text": [
      "No. of unique values: 8\n",
      "No.of Null Values: 0\n"
     ]
    },
    {
     "data": {
      "text/plain": [
       "'VAR_1703'"
      ]
     },
     "execution_count": 13,
     "metadata": {},
     "output_type": "execute_result"
    },
    {
     "name": "stdout",
     "output_type": "stream",
     "text": [
      "No. of unique values: 9\n",
      "No.of Null Values: 0\n"
     ]
    },
    {
     "data": {
      "text/plain": [
       "'VAR_1704'"
      ]
     },
     "execution_count": 13,
     "metadata": {},
     "output_type": "execute_result"
    },
    {
     "name": "stdout",
     "output_type": "stream",
     "text": [
      "No. of unique values: 9\n",
      "No.of Null Values: 0\n"
     ]
    },
    {
     "data": {
      "text/plain": [
       "'VAR_1705'"
      ]
     },
     "execution_count": 13,
     "metadata": {},
     "output_type": "execute_result"
    },
    {
     "name": "stdout",
     "output_type": "stream",
     "text": [
      "No. of unique values: 9\n",
      "No.of Null Values: 0\n"
     ]
    },
    {
     "data": {
      "text/plain": [
       "'VAR_1706'"
      ]
     },
     "execution_count": 13,
     "metadata": {},
     "output_type": "execute_result"
    },
    {
     "name": "stdout",
     "output_type": "stream",
     "text": [
      "No. of unique values: 9\n",
      "No.of Null Values: 0\n"
     ]
    },
    {
     "data": {
      "text/plain": [
       "'VAR_1707'"
      ]
     },
     "execution_count": 13,
     "metadata": {},
     "output_type": "execute_result"
    },
    {
     "name": "stdout",
     "output_type": "stream",
     "text": [
      "No. of unique values: 9\n",
      "No.of Null Values: 0\n"
     ]
    },
    {
     "data": {
      "text/plain": [
       "'VAR_1708'"
      ]
     },
     "execution_count": 13,
     "metadata": {},
     "output_type": "execute_result"
    },
    {
     "name": "stdout",
     "output_type": "stream",
     "text": [
      "No. of unique values: 10\n",
      "No.of Null Values: 0\n"
     ]
    },
    {
     "data": {
      "text/plain": [
       "'VAR_1709'"
      ]
     },
     "execution_count": 13,
     "metadata": {},
     "output_type": "execute_result"
    },
    {
     "name": "stdout",
     "output_type": "stream",
     "text": [
      "No. of unique values: 126\n",
      "No.of Null Values: 0\n"
     ]
    },
    {
     "data": {
      "text/plain": [
       "'VAR_1710'"
      ]
     },
     "execution_count": 13,
     "metadata": {},
     "output_type": "execute_result"
    },
    {
     "name": "stdout",
     "output_type": "stream",
     "text": [
      "No. of unique values: 85\n",
      "No.of Null Values: 0\n"
     ]
    },
    {
     "data": {
      "text/plain": [
       "'VAR_1711'"
      ]
     },
     "execution_count": 13,
     "metadata": {},
     "output_type": "execute_result"
    },
    {
     "name": "stdout",
     "output_type": "stream",
     "text": [
      "No. of unique values: 77\n",
      "No.of Null Values: 0\n"
     ]
    },
    {
     "data": {
      "text/plain": [
       "'VAR_1712'"
      ]
     },
     "execution_count": 13,
     "metadata": {},
     "output_type": "execute_result"
    },
    {
     "name": "stdout",
     "output_type": "stream",
     "text": [
      "No. of unique values: 302\n",
      "No.of Null Values: 0\n"
     ]
    },
    {
     "data": {
      "text/plain": [
       "'VAR_1713'"
      ]
     },
     "execution_count": 13,
     "metadata": {},
     "output_type": "execute_result"
    },
    {
     "name": "stdout",
     "output_type": "stream",
     "text": [
      "No. of unique values: 8\n",
      "No.of Null Values: 0\n"
     ]
    },
    {
     "data": {
      "text/plain": [
       "'VAR_1714'"
      ]
     },
     "execution_count": 13,
     "metadata": {},
     "output_type": "execute_result"
    },
    {
     "name": "stdout",
     "output_type": "stream",
     "text": [
      "No. of unique values: 8\n",
      "No.of Null Values: 0\n"
     ]
    },
    {
     "data": {
      "text/plain": [
       "'VAR_1715'"
      ]
     },
     "execution_count": 13,
     "metadata": {},
     "output_type": "execute_result"
    },
    {
     "name": "stdout",
     "output_type": "stream",
     "text": [
      "No. of unique values: 1772\n",
      "No.of Null Values: 0\n"
     ]
    },
    {
     "data": {
      "text/plain": [
       "'VAR_1716'"
      ]
     },
     "execution_count": 13,
     "metadata": {},
     "output_type": "execute_result"
    },
    {
     "name": "stdout",
     "output_type": "stream",
     "text": [
      "No. of unique values: 1554\n",
      "No.of Null Values: 0\n"
     ]
    },
    {
     "data": {
      "text/plain": [
       "'VAR_1717'"
      ]
     },
     "execution_count": 13,
     "metadata": {},
     "output_type": "execute_result"
    },
    {
     "name": "stdout",
     "output_type": "stream",
     "text": [
      "No. of unique values: 308\n",
      "No.of Null Values: 0\n"
     ]
    },
    {
     "data": {
      "text/plain": [
       "'VAR_1718'"
      ]
     },
     "execution_count": 13,
     "metadata": {},
     "output_type": "execute_result"
    },
    {
     "name": "stdout",
     "output_type": "stream",
     "text": [
      "No. of unique values: 1224\n",
      "No.of Null Values: 0\n"
     ]
    },
    {
     "data": {
      "text/plain": [
       "'VAR_1719'"
      ]
     },
     "execution_count": 13,
     "metadata": {},
     "output_type": "execute_result"
    },
    {
     "name": "stdout",
     "output_type": "stream",
     "text": [
      "No. of unique values: 283\n",
      "No.of Null Values: 0\n"
     ]
    },
    {
     "data": {
      "text/plain": [
       "'VAR_1720'"
      ]
     },
     "execution_count": 13,
     "metadata": {},
     "output_type": "execute_result"
    },
    {
     "name": "stdout",
     "output_type": "stream",
     "text": [
      "No. of unique values: 321\n",
      "No.of Null Values: 0\n"
     ]
    },
    {
     "data": {
      "text/plain": [
       "'VAR_1721'"
      ]
     },
     "execution_count": 13,
     "metadata": {},
     "output_type": "execute_result"
    },
    {
     "name": "stdout",
     "output_type": "stream",
     "text": [
      "No. of unique values: 12\n",
      "No.of Null Values: 0\n"
     ]
    },
    {
     "data": {
      "text/plain": [
       "'VAR_1722'"
      ]
     },
     "execution_count": 13,
     "metadata": {},
     "output_type": "execute_result"
    },
    {
     "name": "stdout",
     "output_type": "stream",
     "text": [
      "No. of unique values: 6\n",
      "No.of Null Values: 0\n"
     ]
    },
    {
     "data": {
      "text/plain": [
       "'VAR_1723'"
      ]
     },
     "execution_count": 13,
     "metadata": {},
     "output_type": "execute_result"
    },
    {
     "name": "stdout",
     "output_type": "stream",
     "text": [
      "No. of unique values: 4\n",
      "No.of Null Values: 0\n"
     ]
    },
    {
     "data": {
      "text/plain": [
       "'VAR_1724'"
      ]
     },
     "execution_count": 13,
     "metadata": {},
     "output_type": "execute_result"
    },
    {
     "name": "stdout",
     "output_type": "stream",
     "text": [
      "No. of unique values: 12\n",
      "No.of Null Values: 0\n"
     ]
    },
    {
     "data": {
      "text/plain": [
       "'VAR_1725'"
      ]
     },
     "execution_count": 13,
     "metadata": {},
     "output_type": "execute_result"
    },
    {
     "name": "stdout",
     "output_type": "stream",
     "text": [
      "No. of unique values: 7\n",
      "No.of Null Values: 0\n"
     ]
    },
    {
     "data": {
      "text/plain": [
       "'VAR_1726'"
      ]
     },
     "execution_count": 13,
     "metadata": {},
     "output_type": "execute_result"
    },
    {
     "name": "stdout",
     "output_type": "stream",
     "text": [
      "No. of unique values: 7\n",
      "No.of Null Values: 0\n"
     ]
    },
    {
     "data": {
      "text/plain": [
       "'VAR_1727'"
      ]
     },
     "execution_count": 13,
     "metadata": {},
     "output_type": "execute_result"
    },
    {
     "name": "stdout",
     "output_type": "stream",
     "text": [
      "No. of unique values: 7\n",
      "No.of Null Values: 0\n"
     ]
    },
    {
     "data": {
      "text/plain": [
       "'VAR_1728'"
      ]
     },
     "execution_count": 13,
     "metadata": {},
     "output_type": "execute_result"
    },
    {
     "name": "stdout",
     "output_type": "stream",
     "text": [
      "No. of unique values: 7\n",
      "No.of Null Values: 0\n"
     ]
    },
    {
     "data": {
      "text/plain": [
       "'VAR_1729'"
      ]
     },
     "execution_count": 13,
     "metadata": {},
     "output_type": "execute_result"
    },
    {
     "name": "stdout",
     "output_type": "stream",
     "text": [
      "No. of unique values: 27\n",
      "No.of Null Values: 0\n"
     ]
    },
    {
     "data": {
      "text/plain": [
       "'VAR_1730'"
      ]
     },
     "execution_count": 13,
     "metadata": {},
     "output_type": "execute_result"
    },
    {
     "name": "stdout",
     "output_type": "stream",
     "text": [
      "No. of unique values: 459\n",
      "No.of Null Values: 0\n"
     ]
    },
    {
     "data": {
      "text/plain": [
       "'VAR_1731'"
      ]
     },
     "execution_count": 13,
     "metadata": {},
     "output_type": "execute_result"
    },
    {
     "name": "stdout",
     "output_type": "stream",
     "text": [
      "No. of unique values: 371\n",
      "No.of Null Values: 0\n"
     ]
    },
    {
     "data": {
      "text/plain": [
       "'VAR_1732'"
      ]
     },
     "execution_count": 13,
     "metadata": {},
     "output_type": "execute_result"
    },
    {
     "name": "stdout",
     "output_type": "stream",
     "text": [
      "No. of unique values: 429\n",
      "No.of Null Values: 0\n"
     ]
    },
    {
     "data": {
      "text/plain": [
       "'VAR_1733'"
      ]
     },
     "execution_count": 13,
     "metadata": {},
     "output_type": "execute_result"
    },
    {
     "name": "stdout",
     "output_type": "stream",
     "text": [
      "No. of unique values: 349\n",
      "No.of Null Values: 0\n"
     ]
    },
    {
     "data": {
      "text/plain": [
       "'VAR_1734'"
      ]
     },
     "execution_count": 13,
     "metadata": {},
     "output_type": "execute_result"
    },
    {
     "name": "stdout",
     "output_type": "stream",
     "text": [
      "No. of unique values: 8\n",
      "No.of Null Values: 0\n"
     ]
    },
    {
     "data": {
      "text/plain": [
       "'VAR_1735'"
      ]
     },
     "execution_count": 13,
     "metadata": {},
     "output_type": "execute_result"
    },
    {
     "name": "stdout",
     "output_type": "stream",
     "text": [
      "No. of unique values: 10\n",
      "No.of Null Values: 0\n"
     ]
    },
    {
     "data": {
      "text/plain": [
       "'VAR_1736'"
      ]
     },
     "execution_count": 13,
     "metadata": {},
     "output_type": "execute_result"
    },
    {
     "name": "stdout",
     "output_type": "stream",
     "text": [
      "No. of unique values: 80\n",
      "No.of Null Values: 0\n"
     ]
    },
    {
     "data": {
      "text/plain": [
       "'VAR_1737'"
      ]
     },
     "execution_count": 13,
     "metadata": {},
     "output_type": "execute_result"
    },
    {
     "name": "stdout",
     "output_type": "stream",
     "text": [
      "No. of unique values: 202\n",
      "No.of Null Values: 0\n"
     ]
    },
    {
     "data": {
      "text/plain": [
       "'VAR_1738'"
      ]
     },
     "execution_count": 13,
     "metadata": {},
     "output_type": "execute_result"
    },
    {
     "name": "stdout",
     "output_type": "stream",
     "text": [
      "No. of unique values: 3916\n",
      "No.of Null Values: 0\n"
     ]
    },
    {
     "data": {
      "text/plain": [
       "'VAR_1739'"
      ]
     },
     "execution_count": 13,
     "metadata": {},
     "output_type": "execute_result"
    },
    {
     "name": "stdout",
     "output_type": "stream",
     "text": [
      "No. of unique values: 1607\n",
      "No.of Null Values: 0\n"
     ]
    },
    {
     "data": {
      "text/plain": [
       "'VAR_1740'"
      ]
     },
     "execution_count": 13,
     "metadata": {},
     "output_type": "execute_result"
    },
    {
     "name": "stdout",
     "output_type": "stream",
     "text": [
      "No. of unique values: 63\n",
      "No.of Null Values: 0\n"
     ]
    },
    {
     "data": {
      "text/plain": [
       "'VAR_1741'"
      ]
     },
     "execution_count": 13,
     "metadata": {},
     "output_type": "execute_result"
    },
    {
     "name": "stdout",
     "output_type": "stream",
     "text": [
      "No. of unique values: 10\n",
      "No.of Null Values: 0\n"
     ]
    },
    {
     "data": {
      "text/plain": [
       "'VAR_1742'"
      ]
     },
     "execution_count": 13,
     "metadata": {},
     "output_type": "execute_result"
    },
    {
     "name": "stdout",
     "output_type": "stream",
     "text": [
      "No. of unique values: 60\n",
      "No.of Null Values: 0\n"
     ]
    },
    {
     "data": {
      "text/plain": [
       "'VAR_1743'"
      ]
     },
     "execution_count": 13,
     "metadata": {},
     "output_type": "execute_result"
    },
    {
     "name": "stdout",
     "output_type": "stream",
     "text": [
      "No. of unique values: 12\n",
      "No.of Null Values: 0\n"
     ]
    },
    {
     "data": {
      "text/plain": [
       "'VAR_1744'"
      ]
     },
     "execution_count": 13,
     "metadata": {},
     "output_type": "execute_result"
    },
    {
     "name": "stdout",
     "output_type": "stream",
     "text": [
      "No. of unique values: 11\n",
      "No.of Null Values: 0\n"
     ]
    },
    {
     "data": {
      "text/plain": [
       "'VAR_1745'"
      ]
     },
     "execution_count": 13,
     "metadata": {},
     "output_type": "execute_result"
    },
    {
     "name": "stdout",
     "output_type": "stream",
     "text": [
      "No. of unique values: 10\n",
      "No.of Null Values: 0\n"
     ]
    },
    {
     "data": {
      "text/plain": [
       "'VAR_1746'"
      ]
     },
     "execution_count": 13,
     "metadata": {},
     "output_type": "execute_result"
    },
    {
     "name": "stdout",
     "output_type": "stream",
     "text": [
      "No. of unique values: 11\n",
      "No.of Null Values: 0\n"
     ]
    },
    {
     "data": {
      "text/plain": [
       "'VAR_1747'"
      ]
     },
     "execution_count": 13,
     "metadata": {},
     "output_type": "execute_result"
    },
    {
     "name": "stdout",
     "output_type": "stream",
     "text": [
      "No. of unique values: 4640\n",
      "No.of Null Values: 0\n"
     ]
    },
    {
     "data": {
      "text/plain": [
       "'VAR_1748'"
      ]
     },
     "execution_count": 13,
     "metadata": {},
     "output_type": "execute_result"
    },
    {
     "name": "stdout",
     "output_type": "stream",
     "text": [
      "No. of unique values: 4133\n",
      "No.of Null Values: 0\n"
     ]
    },
    {
     "data": {
      "text/plain": [
       "'VAR_1749'"
      ]
     },
     "execution_count": 13,
     "metadata": {},
     "output_type": "execute_result"
    },
    {
     "name": "stdout",
     "output_type": "stream",
     "text": [
      "No. of unique values: 8\n",
      "No.of Null Values: 0\n"
     ]
    },
    {
     "data": {
      "text/plain": [
       "'VAR_1750'"
      ]
     },
     "execution_count": 13,
     "metadata": {},
     "output_type": "execute_result"
    },
    {
     "name": "stdout",
     "output_type": "stream",
     "text": [
      "No. of unique values: 214\n",
      "No.of Null Values: 0\n"
     ]
    },
    {
     "data": {
      "text/plain": [
       "'VAR_1751'"
      ]
     },
     "execution_count": 13,
     "metadata": {},
     "output_type": "execute_result"
    },
    {
     "name": "stdout",
     "output_type": "stream",
     "text": [
      "No. of unique values: 292\n",
      "No.of Null Values: 0\n"
     ]
    },
    {
     "data": {
      "text/plain": [
       "'VAR_1752'"
      ]
     },
     "execution_count": 13,
     "metadata": {},
     "output_type": "execute_result"
    },
    {
     "name": "stdout",
     "output_type": "stream",
     "text": [
      "No. of unique values: 12\n",
      "No.of Null Values: 0\n"
     ]
    },
    {
     "data": {
      "text/plain": [
       "'VAR_1753'"
      ]
     },
     "execution_count": 13,
     "metadata": {},
     "output_type": "execute_result"
    },
    {
     "name": "stdout",
     "output_type": "stream",
     "text": [
      "No. of unique values: 10\n",
      "No.of Null Values: 0\n"
     ]
    },
    {
     "data": {
      "text/plain": [
       "'VAR_1754'"
      ]
     },
     "execution_count": 13,
     "metadata": {},
     "output_type": "execute_result"
    },
    {
     "name": "stdout",
     "output_type": "stream",
     "text": [
      "No. of unique values: 1277\n",
      "No.of Null Values: 0\n"
     ]
    },
    {
     "data": {
      "text/plain": [
       "'VAR_1755'"
      ]
     },
     "execution_count": 13,
     "metadata": {},
     "output_type": "execute_result"
    },
    {
     "name": "stdout",
     "output_type": "stream",
     "text": [
      "No. of unique values: 454\n",
      "No.of Null Values: 0\n"
     ]
    },
    {
     "data": {
      "text/plain": [
       "'VAR_1756'"
      ]
     },
     "execution_count": 13,
     "metadata": {},
     "output_type": "execute_result"
    },
    {
     "name": "stdout",
     "output_type": "stream",
     "text": [
      "No. of unique values: 383\n",
      "No.of Null Values: 0\n"
     ]
    },
    {
     "data": {
      "text/plain": [
       "'VAR_1757'"
      ]
     },
     "execution_count": 13,
     "metadata": {},
     "output_type": "execute_result"
    },
    {
     "name": "stdout",
     "output_type": "stream",
     "text": [
      "No. of unique values: 412\n",
      "No.of Null Values: 0\n"
     ]
    },
    {
     "data": {
      "text/plain": [
       "'VAR_1758'"
      ]
     },
     "execution_count": 13,
     "metadata": {},
     "output_type": "execute_result"
    },
    {
     "name": "stdout",
     "output_type": "stream",
     "text": [
      "No. of unique values: 373\n",
      "No.of Null Values: 0\n"
     ]
    },
    {
     "data": {
      "text/plain": [
       "'VAR_1759'"
      ]
     },
     "execution_count": 13,
     "metadata": {},
     "output_type": "execute_result"
    },
    {
     "name": "stdout",
     "output_type": "stream",
     "text": [
      "No. of unique values: 449\n",
      "No.of Null Values: 0\n"
     ]
    },
    {
     "data": {
      "text/plain": [
       "'VAR_1760'"
      ]
     },
     "execution_count": 13,
     "metadata": {},
     "output_type": "execute_result"
    },
    {
     "name": "stdout",
     "output_type": "stream",
     "text": [
      "No. of unique values: 68\n",
      "No.of Null Values: 0\n"
     ]
    },
    {
     "data": {
      "text/plain": [
       "'VAR_1761'"
      ]
     },
     "execution_count": 13,
     "metadata": {},
     "output_type": "execute_result"
    },
    {
     "name": "stdout",
     "output_type": "stream",
     "text": [
      "No. of unique values: 38\n",
      "No.of Null Values: 0\n"
     ]
    },
    {
     "data": {
      "text/plain": [
       "'VAR_1762'"
      ]
     },
     "execution_count": 13,
     "metadata": {},
     "output_type": "execute_result"
    },
    {
     "name": "stdout",
     "output_type": "stream",
     "text": [
      "No. of unique values: 37\n",
      "No.of Null Values: 0\n"
     ]
    },
    {
     "data": {
      "text/plain": [
       "'VAR_1763'"
      ]
     },
     "execution_count": 13,
     "metadata": {},
     "output_type": "execute_result"
    },
    {
     "name": "stdout",
     "output_type": "stream",
     "text": [
      "No. of unique values: 14\n",
      "No.of Null Values: 0\n"
     ]
    },
    {
     "data": {
      "text/plain": [
       "'VAR_1764'"
      ]
     },
     "execution_count": 13,
     "metadata": {},
     "output_type": "execute_result"
    },
    {
     "name": "stdout",
     "output_type": "stream",
     "text": [
      "No. of unique values: 19\n",
      "No.of Null Values: 0\n"
     ]
    },
    {
     "data": {
      "text/plain": [
       "'VAR_1765'"
      ]
     },
     "execution_count": 13,
     "metadata": {},
     "output_type": "execute_result"
    },
    {
     "name": "stdout",
     "output_type": "stream",
     "text": [
      "No. of unique values: 22\n",
      "No.of Null Values: 0\n"
     ]
    },
    {
     "data": {
      "text/plain": [
       "'VAR_1766'"
      ]
     },
     "execution_count": 13,
     "metadata": {},
     "output_type": "execute_result"
    },
    {
     "name": "stdout",
     "output_type": "stream",
     "text": [
      "No. of unique values: 61\n",
      "No.of Null Values: 0\n"
     ]
    },
    {
     "data": {
      "text/plain": [
       "'VAR_1767'"
      ]
     },
     "execution_count": 13,
     "metadata": {},
     "output_type": "execute_result"
    },
    {
     "name": "stdout",
     "output_type": "stream",
     "text": [
      "No. of unique values: 38\n",
      "No.of Null Values: 0\n"
     ]
    },
    {
     "data": {
      "text/plain": [
       "'VAR_1768'"
      ]
     },
     "execution_count": 13,
     "metadata": {},
     "output_type": "execute_result"
    },
    {
     "name": "stdout",
     "output_type": "stream",
     "text": [
      "No. of unique values: 40\n",
      "No.of Null Values: 0\n"
     ]
    },
    {
     "data": {
      "text/plain": [
       "'VAR_1769'"
      ]
     },
     "execution_count": 13,
     "metadata": {},
     "output_type": "execute_result"
    },
    {
     "name": "stdout",
     "output_type": "stream",
     "text": [
      "No. of unique values: 42\n",
      "No.of Null Values: 0\n"
     ]
    },
    {
     "data": {
      "text/plain": [
       "'VAR_1770'"
      ]
     },
     "execution_count": 13,
     "metadata": {},
     "output_type": "execute_result"
    },
    {
     "name": "stdout",
     "output_type": "stream",
     "text": [
      "No. of unique values: 11\n",
      "No.of Null Values: 0\n"
     ]
    },
    {
     "data": {
      "text/plain": [
       "'VAR_1771'"
      ]
     },
     "execution_count": 13,
     "metadata": {},
     "output_type": "execute_result"
    },
    {
     "name": "stdout",
     "output_type": "stream",
     "text": [
      "No. of unique values: 11\n",
      "No.of Null Values: 0\n"
     ]
    },
    {
     "data": {
      "text/plain": [
       "'VAR_1772'"
      ]
     },
     "execution_count": 13,
     "metadata": {},
     "output_type": "execute_result"
    },
    {
     "name": "stdout",
     "output_type": "stream",
     "text": [
      "No. of unique values: 14\n",
      "No.of Null Values: 0\n"
     ]
    },
    {
     "data": {
      "text/plain": [
       "'VAR_1773'"
      ]
     },
     "execution_count": 13,
     "metadata": {},
     "output_type": "execute_result"
    },
    {
     "name": "stdout",
     "output_type": "stream",
     "text": [
      "No. of unique values: 18\n",
      "No.of Null Values: 0\n"
     ]
    },
    {
     "data": {
      "text/plain": [
       "'VAR_1774'"
      ]
     },
     "execution_count": 13,
     "metadata": {},
     "output_type": "execute_result"
    },
    {
     "name": "stdout",
     "output_type": "stream",
     "text": [
      "No. of unique values: 30\n",
      "No.of Null Values: 0\n"
     ]
    },
    {
     "data": {
      "text/plain": [
       "'VAR_1775'"
      ]
     },
     "execution_count": 13,
     "metadata": {},
     "output_type": "execute_result"
    },
    {
     "name": "stdout",
     "output_type": "stream",
     "text": [
      "No. of unique values: 21\n",
      "No.of Null Values: 0\n"
     ]
    },
    {
     "data": {
      "text/plain": [
       "'VAR_1776'"
      ]
     },
     "execution_count": 13,
     "metadata": {},
     "output_type": "execute_result"
    },
    {
     "name": "stdout",
     "output_type": "stream",
     "text": [
      "No. of unique values: 22\n",
      "No.of Null Values: 0\n"
     ]
    },
    {
     "data": {
      "text/plain": [
       "'VAR_1777'"
      ]
     },
     "execution_count": 13,
     "metadata": {},
     "output_type": "execute_result"
    },
    {
     "name": "stdout",
     "output_type": "stream",
     "text": [
      "No. of unique values: 28\n",
      "No.of Null Values: 0\n"
     ]
    },
    {
     "data": {
      "text/plain": [
       "'VAR_1778'"
      ]
     },
     "execution_count": 13,
     "metadata": {},
     "output_type": "execute_result"
    },
    {
     "name": "stdout",
     "output_type": "stream",
     "text": [
      "No. of unique values: 30\n",
      "No.of Null Values: 0\n"
     ]
    },
    {
     "data": {
      "text/plain": [
       "'VAR_1779'"
      ]
     },
     "execution_count": 13,
     "metadata": {},
     "output_type": "execute_result"
    },
    {
     "name": "stdout",
     "output_type": "stream",
     "text": [
      "No. of unique values: 20\n",
      "No.of Null Values: 0\n"
     ]
    },
    {
     "data": {
      "text/plain": [
       "'VAR_1780'"
      ]
     },
     "execution_count": 13,
     "metadata": {},
     "output_type": "execute_result"
    },
    {
     "name": "stdout",
     "output_type": "stream",
     "text": [
      "No. of unique values: 22\n",
      "No.of Null Values: 0\n"
     ]
    },
    {
     "data": {
      "text/plain": [
       "'VAR_1781'"
      ]
     },
     "execution_count": 13,
     "metadata": {},
     "output_type": "execute_result"
    },
    {
     "name": "stdout",
     "output_type": "stream",
     "text": [
      "No. of unique values: 27\n",
      "No.of Null Values: 0\n"
     ]
    },
    {
     "data": {
      "text/plain": [
       "'VAR_1782'"
      ]
     },
     "execution_count": 13,
     "metadata": {},
     "output_type": "execute_result"
    },
    {
     "name": "stdout",
     "output_type": "stream",
     "text": [
      "No. of unique values: 30\n",
      "No.of Null Values: 0\n"
     ]
    },
    {
     "data": {
      "text/plain": [
       "'VAR_1783'"
      ]
     },
     "execution_count": 13,
     "metadata": {},
     "output_type": "execute_result"
    },
    {
     "name": "stdout",
     "output_type": "stream",
     "text": [
      "No. of unique values: 19\n",
      "No.of Null Values: 0\n"
     ]
    },
    {
     "data": {
      "text/plain": [
       "'VAR_1784'"
      ]
     },
     "execution_count": 13,
     "metadata": {},
     "output_type": "execute_result"
    },
    {
     "name": "stdout",
     "output_type": "stream",
     "text": [
      "No. of unique values: 21\n",
      "No.of Null Values: 0\n"
     ]
    },
    {
     "data": {
      "text/plain": [
       "'VAR_1785'"
      ]
     },
     "execution_count": 13,
     "metadata": {},
     "output_type": "execute_result"
    },
    {
     "name": "stdout",
     "output_type": "stream",
     "text": [
      "No. of unique values: 27\n",
      "No.of Null Values: 0\n"
     ]
    },
    {
     "data": {
      "text/plain": [
       "'VAR_1786'"
      ]
     },
     "execution_count": 13,
     "metadata": {},
     "output_type": "execute_result"
    },
    {
     "name": "stdout",
     "output_type": "stream",
     "text": [
      "No. of unique values: 30\n",
      "No.of Null Values: 0\n"
     ]
    },
    {
     "data": {
      "text/plain": [
       "'VAR_1787'"
      ]
     },
     "execution_count": 13,
     "metadata": {},
     "output_type": "execute_result"
    },
    {
     "name": "stdout",
     "output_type": "stream",
     "text": [
      "No. of unique values: 20\n",
      "No.of Null Values: 0\n"
     ]
    },
    {
     "data": {
      "text/plain": [
       "'VAR_1788'"
      ]
     },
     "execution_count": 13,
     "metadata": {},
     "output_type": "execute_result"
    },
    {
     "name": "stdout",
     "output_type": "stream",
     "text": [
      "No. of unique values: 18\n",
      "No.of Null Values: 0\n"
     ]
    },
    {
     "data": {
      "text/plain": [
       "'VAR_1789'"
      ]
     },
     "execution_count": 13,
     "metadata": {},
     "output_type": "execute_result"
    },
    {
     "name": "stdout",
     "output_type": "stream",
     "text": [
      "No. of unique values: 27\n",
      "No.of Null Values: 0\n"
     ]
    },
    {
     "data": {
      "text/plain": [
       "'VAR_1790'"
      ]
     },
     "execution_count": 13,
     "metadata": {},
     "output_type": "execute_result"
    },
    {
     "name": "stdout",
     "output_type": "stream",
     "text": [
      "No. of unique values: 27\n",
      "No.of Null Values: 0\n"
     ]
    },
    {
     "data": {
      "text/plain": [
       "'VAR_1791'"
      ]
     },
     "execution_count": 13,
     "metadata": {},
     "output_type": "execute_result"
    },
    {
     "name": "stdout",
     "output_type": "stream",
     "text": [
      "No. of unique values: 17\n",
      "No.of Null Values: 0\n"
     ]
    },
    {
     "data": {
      "text/plain": [
       "'VAR_1792'"
      ]
     },
     "execution_count": 13,
     "metadata": {},
     "output_type": "execute_result"
    },
    {
     "name": "stdout",
     "output_type": "stream",
     "text": [
      "No. of unique values: 36\n",
      "No.of Null Values: 0\n"
     ]
    },
    {
     "data": {
      "text/plain": [
       "'VAR_1793'"
      ]
     },
     "execution_count": 13,
     "metadata": {},
     "output_type": "execute_result"
    },
    {
     "name": "stdout",
     "output_type": "stream",
     "text": [
      "No. of unique values: 13\n",
      "No.of Null Values: 0\n"
     ]
    },
    {
     "data": {
      "text/plain": [
       "'VAR_1794'"
      ]
     },
     "execution_count": 13,
     "metadata": {},
     "output_type": "execute_result"
    },
    {
     "name": "stdout",
     "output_type": "stream",
     "text": [
      "No. of unique values: 17\n",
      "No.of Null Values: 0\n"
     ]
    },
    {
     "data": {
      "text/plain": [
       "'VAR_1795'"
      ]
     },
     "execution_count": 13,
     "metadata": {},
     "output_type": "execute_result"
    },
    {
     "name": "stdout",
     "output_type": "stream",
     "text": [
      "No. of unique values: 28\n",
      "No.of Null Values: 0\n"
     ]
    },
    {
     "data": {
      "text/plain": [
       "'VAR_1796'"
      ]
     },
     "execution_count": 13,
     "metadata": {},
     "output_type": "execute_result"
    },
    {
     "name": "stdout",
     "output_type": "stream",
     "text": [
      "No. of unique values: 39\n",
      "No.of Null Values: 0\n"
     ]
    },
    {
     "data": {
      "text/plain": [
       "'VAR_1797'"
      ]
     },
     "execution_count": 13,
     "metadata": {},
     "output_type": "execute_result"
    },
    {
     "name": "stdout",
     "output_type": "stream",
     "text": [
      "No. of unique values: 22\n",
      "No.of Null Values: 0\n"
     ]
    },
    {
     "data": {
      "text/plain": [
       "'VAR_1798'"
      ]
     },
     "execution_count": 13,
     "metadata": {},
     "output_type": "execute_result"
    },
    {
     "name": "stdout",
     "output_type": "stream",
     "text": [
      "No. of unique values: 27\n",
      "No.of Null Values: 0\n"
     ]
    },
    {
     "data": {
      "text/plain": [
       "'VAR_1799'"
      ]
     },
     "execution_count": 13,
     "metadata": {},
     "output_type": "execute_result"
    },
    {
     "name": "stdout",
     "output_type": "stream",
     "text": [
      "No. of unique values: 27\n",
      "No.of Null Values: 0\n"
     ]
    },
    {
     "data": {
      "text/plain": [
       "'VAR_1800'"
      ]
     },
     "execution_count": 13,
     "metadata": {},
     "output_type": "execute_result"
    },
    {
     "name": "stdout",
     "output_type": "stream",
     "text": [
      "No. of unique values: 37\n",
      "No.of Null Values: 0\n"
     ]
    },
    {
     "data": {
      "text/plain": [
       "'VAR_1801'"
      ]
     },
     "execution_count": 13,
     "metadata": {},
     "output_type": "execute_result"
    },
    {
     "name": "stdout",
     "output_type": "stream",
     "text": [
      "No. of unique values: 6892\n",
      "No.of Null Values: 0\n"
     ]
    },
    {
     "data": {
      "text/plain": [
       "'VAR_1802'"
      ]
     },
     "execution_count": 13,
     "metadata": {},
     "output_type": "execute_result"
    },
    {
     "name": "stdout",
     "output_type": "stream",
     "text": [
      "No. of unique values: 7261\n",
      "No.of Null Values: 0\n"
     ]
    },
    {
     "data": {
      "text/plain": [
       "'VAR_1803'"
      ]
     },
     "execution_count": 13,
     "metadata": {},
     "output_type": "execute_result"
    },
    {
     "name": "stdout",
     "output_type": "stream",
     "text": [
      "No. of unique values: 707\n",
      "No.of Null Values: 0\n"
     ]
    },
    {
     "data": {
      "text/plain": [
       "'VAR_1804'"
      ]
     },
     "execution_count": 13,
     "metadata": {},
     "output_type": "execute_result"
    },
    {
     "name": "stdout",
     "output_type": "stream",
     "text": [
      "No. of unique values: 348\n",
      "No.of Null Values: 0\n"
     ]
    },
    {
     "data": {
      "text/plain": [
       "'VAR_1805'"
      ]
     },
     "execution_count": 13,
     "metadata": {},
     "output_type": "execute_result"
    },
    {
     "name": "stdout",
     "output_type": "stream",
     "text": [
      "No. of unique values: 512\n",
      "No.of Null Values: 0\n"
     ]
    },
    {
     "data": {
      "text/plain": [
       "'VAR_1806'"
      ]
     },
     "execution_count": 13,
     "metadata": {},
     "output_type": "execute_result"
    },
    {
     "name": "stdout",
     "output_type": "stream",
     "text": [
      "No. of unique values: 511\n",
      "No.of Null Values: 0\n"
     ]
    },
    {
     "data": {
      "text/plain": [
       "'VAR_1807'"
      ]
     },
     "execution_count": 13,
     "metadata": {},
     "output_type": "execute_result"
    },
    {
     "name": "stdout",
     "output_type": "stream",
     "text": [
      "No. of unique values: 3719\n",
      "No.of Null Values: 0\n"
     ]
    },
    {
     "data": {
      "text/plain": [
       "'VAR_1808'"
      ]
     },
     "execution_count": 13,
     "metadata": {},
     "output_type": "execute_result"
    },
    {
     "name": "stdout",
     "output_type": "stream",
     "text": [
      "No. of unique values: 1124\n",
      "No.of Null Values: 0\n"
     ]
    },
    {
     "data": {
      "text/plain": [
       "'VAR_1809'"
      ]
     },
     "execution_count": 13,
     "metadata": {},
     "output_type": "execute_result"
    },
    {
     "name": "stdout",
     "output_type": "stream",
     "text": [
      "No. of unique values: 5364\n",
      "No.of Null Values: 0\n"
     ]
    },
    {
     "data": {
      "text/plain": [
       "'VAR_1810'"
      ]
     },
     "execution_count": 13,
     "metadata": {},
     "output_type": "execute_result"
    },
    {
     "name": "stdout",
     "output_type": "stream",
     "text": [
      "No. of unique values: 5329\n",
      "No.of Null Values: 0\n"
     ]
    },
    {
     "data": {
      "text/plain": [
       "'VAR_1811'"
      ]
     },
     "execution_count": 13,
     "metadata": {},
     "output_type": "execute_result"
    },
    {
     "name": "stdout",
     "output_type": "stream",
     "text": [
      "No. of unique values: 293\n",
      "No.of Null Values: 0\n"
     ]
    },
    {
     "data": {
      "text/plain": [
       "'VAR_1812'"
      ]
     },
     "execution_count": 13,
     "metadata": {},
     "output_type": "execute_result"
    },
    {
     "name": "stdout",
     "output_type": "stream",
     "text": [
      "No. of unique values: 244\n",
      "No.of Null Values: 0\n"
     ]
    },
    {
     "data": {
      "text/plain": [
       "'VAR_1813'"
      ]
     },
     "execution_count": 13,
     "metadata": {},
     "output_type": "execute_result"
    },
    {
     "name": "stdout",
     "output_type": "stream",
     "text": [
      "No. of unique values: 392\n",
      "No.of Null Values: 0\n"
     ]
    },
    {
     "data": {
      "text/plain": [
       "'VAR_1814'"
      ]
     },
     "execution_count": 13,
     "metadata": {},
     "output_type": "execute_result"
    },
    {
     "name": "stdout",
     "output_type": "stream",
     "text": [
      "No. of unique values: 426\n",
      "No.of Null Values: 0\n"
     ]
    },
    {
     "data": {
      "text/plain": [
       "'VAR_1815'"
      ]
     },
     "execution_count": 13,
     "metadata": {},
     "output_type": "execute_result"
    },
    {
     "name": "stdout",
     "output_type": "stream",
     "text": [
      "No. of unique values: 1144\n",
      "No.of Null Values: 0\n"
     ]
    },
    {
     "data": {
      "text/plain": [
       "'VAR_1816'"
      ]
     },
     "execution_count": 13,
     "metadata": {},
     "output_type": "execute_result"
    },
    {
     "name": "stdout",
     "output_type": "stream",
     "text": [
      "No. of unique values: 9\n",
      "No.of Null Values: 0\n"
     ]
    },
    {
     "data": {
      "text/plain": [
       "'VAR_1817'"
      ]
     },
     "execution_count": 13,
     "metadata": {},
     "output_type": "execute_result"
    },
    {
     "name": "stdout",
     "output_type": "stream",
     "text": [
      "No. of unique values: 8\n",
      "No.of Null Values: 0\n"
     ]
    },
    {
     "data": {
      "text/plain": [
       "'VAR_1818'"
      ]
     },
     "execution_count": 13,
     "metadata": {},
     "output_type": "execute_result"
    },
    {
     "name": "stdout",
     "output_type": "stream",
     "text": [
      "No. of unique values: 10\n",
      "No.of Null Values: 0\n"
     ]
    },
    {
     "data": {
      "text/plain": [
       "'VAR_1819'"
      ]
     },
     "execution_count": 13,
     "metadata": {},
     "output_type": "execute_result"
    },
    {
     "name": "stdout",
     "output_type": "stream",
     "text": [
      "No. of unique values: 11\n",
      "No.of Null Values: 0\n"
     ]
    },
    {
     "data": {
      "text/plain": [
       "'VAR_1820'"
      ]
     },
     "execution_count": 13,
     "metadata": {},
     "output_type": "execute_result"
    },
    {
     "name": "stdout",
     "output_type": "stream",
     "text": [
      "No. of unique values: 11\n",
      "No.of Null Values: 0\n"
     ]
    },
    {
     "data": {
      "text/plain": [
       "'VAR_1821'"
      ]
     },
     "execution_count": 13,
     "metadata": {},
     "output_type": "execute_result"
    },
    {
     "name": "stdout",
     "output_type": "stream",
     "text": [
      "No. of unique values: 10\n",
      "No.of Null Values: 0\n"
     ]
    },
    {
     "data": {
      "text/plain": [
       "'VAR_1822'"
      ]
     },
     "execution_count": 13,
     "metadata": {},
     "output_type": "execute_result"
    },
    {
     "name": "stdout",
     "output_type": "stream",
     "text": [
      "No. of unique values: 10\n",
      "No.of Null Values: 0\n"
     ]
    },
    {
     "data": {
      "text/plain": [
       "'VAR_1823'"
      ]
     },
     "execution_count": 13,
     "metadata": {},
     "output_type": "execute_result"
    },
    {
     "name": "stdout",
     "output_type": "stream",
     "text": [
      "No. of unique values: 200\n",
      "No.of Null Values: 0\n"
     ]
    },
    {
     "data": {
      "text/plain": [
       "'VAR_1824'"
      ]
     },
     "execution_count": 13,
     "metadata": {},
     "output_type": "execute_result"
    },
    {
     "name": "stdout",
     "output_type": "stream",
     "text": [
      "No. of unique values: 201\n",
      "No.of Null Values: 0\n"
     ]
    },
    {
     "data": {
      "text/plain": [
       "'VAR_1825'"
      ]
     },
     "execution_count": 13,
     "metadata": {},
     "output_type": "execute_result"
    },
    {
     "name": "stdout",
     "output_type": "stream",
     "text": [
      "No. of unique values: 100\n",
      "No.of Null Values: 0\n"
     ]
    },
    {
     "data": {
      "text/plain": [
       "'VAR_1826'"
      ]
     },
     "execution_count": 13,
     "metadata": {},
     "output_type": "execute_result"
    },
    {
     "name": "stdout",
     "output_type": "stream",
     "text": [
      "No. of unique values: 97\n",
      "No.of Null Values: 0\n"
     ]
    },
    {
     "data": {
      "text/plain": [
       "'VAR_1827'"
      ]
     },
     "execution_count": 13,
     "metadata": {},
     "output_type": "execute_result"
    },
    {
     "name": "stdout",
     "output_type": "stream",
     "text": [
      "No. of unique values: 93\n",
      "No.of Null Values: 0\n"
     ]
    },
    {
     "data": {
      "text/plain": [
       "'VAR_1828'"
      ]
     },
     "execution_count": 13,
     "metadata": {},
     "output_type": "execute_result"
    },
    {
     "name": "stdout",
     "output_type": "stream",
     "text": [
      "No. of unique values: 101\n",
      "No.of Null Values: 0\n"
     ]
    },
    {
     "data": {
      "text/plain": [
       "'VAR_1829'"
      ]
     },
     "execution_count": 13,
     "metadata": {},
     "output_type": "execute_result"
    },
    {
     "name": "stdout",
     "output_type": "stream",
     "text": [
      "No. of unique values: 101\n",
      "No.of Null Values: 0\n"
     ]
    },
    {
     "data": {
      "text/plain": [
       "'VAR_1830'"
      ]
     },
     "execution_count": 13,
     "metadata": {},
     "output_type": "execute_result"
    },
    {
     "name": "stdout",
     "output_type": "stream",
     "text": [
      "No. of unique values: 101\n",
      "No.of Null Values: 0\n"
     ]
    },
    {
     "data": {
      "text/plain": [
       "'VAR_1831'"
      ]
     },
     "execution_count": 13,
     "metadata": {},
     "output_type": "execute_result"
    },
    {
     "name": "stdout",
     "output_type": "stream",
     "text": [
      "No. of unique values: 94\n",
      "No.of Null Values: 0\n"
     ]
    },
    {
     "data": {
      "text/plain": [
       "'VAR_1832'"
      ]
     },
     "execution_count": 13,
     "metadata": {},
     "output_type": "execute_result"
    },
    {
     "name": "stdout",
     "output_type": "stream",
     "text": [
      "No. of unique values: 72\n",
      "No.of Null Values: 0\n"
     ]
    },
    {
     "data": {
      "text/plain": [
       "'VAR_1833'"
      ]
     },
     "execution_count": 13,
     "metadata": {},
     "output_type": "execute_result"
    },
    {
     "name": "stdout",
     "output_type": "stream",
     "text": [
      "No. of unique values: 87\n",
      "No.of Null Values: 0\n"
     ]
    },
    {
     "data": {
      "text/plain": [
       "'VAR_1834'"
      ]
     },
     "execution_count": 13,
     "metadata": {},
     "output_type": "execute_result"
    },
    {
     "name": "stdout",
     "output_type": "stream",
     "text": [
      "No. of unique values: 87\n",
      "No.of Null Values: 0\n"
     ]
    },
    {
     "data": {
      "text/plain": [
       "'VAR_1835'"
      ]
     },
     "execution_count": 13,
     "metadata": {},
     "output_type": "execute_result"
    },
    {
     "name": "stdout",
     "output_type": "stream",
     "text": [
      "No. of unique values: 210\n",
      "No.of Null Values: 0\n"
     ]
    },
    {
     "data": {
      "text/plain": [
       "'VAR_1836'"
      ]
     },
     "execution_count": 13,
     "metadata": {},
     "output_type": "execute_result"
    },
    {
     "name": "stdout",
     "output_type": "stream",
     "text": [
      "No. of unique values: 86\n",
      "No.of Null Values: 0\n"
     ]
    },
    {
     "data": {
      "text/plain": [
       "'VAR_1837'"
      ]
     },
     "execution_count": 13,
     "metadata": {},
     "output_type": "execute_result"
    },
    {
     "name": "stdout",
     "output_type": "stream",
     "text": [
      "No. of unique values: 86\n",
      "No.of Null Values: 0\n"
     ]
    },
    {
     "data": {
      "text/plain": [
       "'VAR_1838'"
      ]
     },
     "execution_count": 13,
     "metadata": {},
     "output_type": "execute_result"
    },
    {
     "name": "stdout",
     "output_type": "stream",
     "text": [
      "No. of unique values: 85\n",
      "No.of Null Values: 0\n"
     ]
    },
    {
     "data": {
      "text/plain": [
       "'VAR_1839'"
      ]
     },
     "execution_count": 13,
     "metadata": {},
     "output_type": "execute_result"
    },
    {
     "name": "stdout",
     "output_type": "stream",
     "text": [
      "No. of unique values: 84\n",
      "No.of Null Values: 0\n"
     ]
    },
    {
     "data": {
      "text/plain": [
       "'VAR_1840'"
      ]
     },
     "execution_count": 13,
     "metadata": {},
     "output_type": "execute_result"
    },
    {
     "name": "stdout",
     "output_type": "stream",
     "text": [
      "No. of unique values: 86\n",
      "No.of Null Values: 0\n"
     ]
    },
    {
     "data": {
      "text/plain": [
       "'VAR_1841'"
      ]
     },
     "execution_count": 13,
     "metadata": {},
     "output_type": "execute_result"
    },
    {
     "name": "stdout",
     "output_type": "stream",
     "text": [
      "No. of unique values: 542\n",
      "No.of Null Values: 0\n"
     ]
    },
    {
     "data": {
      "text/plain": [
       "'VAR_1842'"
      ]
     },
     "execution_count": 13,
     "metadata": {},
     "output_type": "execute_result"
    },
    {
     "name": "stdout",
     "output_type": "stream",
     "text": [
      "No. of unique values: 274\n",
      "No.of Null Values: 0\n"
     ]
    },
    {
     "data": {
      "text/plain": [
       "'VAR_1843'"
      ]
     },
     "execution_count": 13,
     "metadata": {},
     "output_type": "execute_result"
    },
    {
     "name": "stdout",
     "output_type": "stream",
     "text": [
      "No. of unique values: 6\n",
      "No.of Null Values: 0\n"
     ]
    },
    {
     "data": {
      "text/plain": [
       "'VAR_1844'"
      ]
     },
     "execution_count": 13,
     "metadata": {},
     "output_type": "execute_result"
    },
    {
     "name": "stdout",
     "output_type": "stream",
     "text": [
      "No. of unique values: 4\n",
      "No.of Null Values: 0\n"
     ]
    },
    {
     "data": {
      "text/plain": [
       "'VAR_1845'"
      ]
     },
     "execution_count": 13,
     "metadata": {},
     "output_type": "execute_result"
    },
    {
     "name": "stdout",
     "output_type": "stream",
     "text": [
      "No. of unique values: 28\n",
      "No.of Null Values: 0\n"
     ]
    },
    {
     "data": {
      "text/plain": [
       "'VAR_1846'"
      ]
     },
     "execution_count": 13,
     "metadata": {},
     "output_type": "execute_result"
    },
    {
     "name": "stdout",
     "output_type": "stream",
     "text": [
      "No. of unique values: 29\n",
      "No.of Null Values: 0\n"
     ]
    },
    {
     "data": {
      "text/plain": [
       "'VAR_1847'"
      ]
     },
     "execution_count": 13,
     "metadata": {},
     "output_type": "execute_result"
    },
    {
     "name": "stdout",
     "output_type": "stream",
     "text": [
      "No. of unique values: 28\n",
      "No.of Null Values: 0\n"
     ]
    },
    {
     "data": {
      "text/plain": [
       "'VAR_1848'"
      ]
     },
     "execution_count": 13,
     "metadata": {},
     "output_type": "execute_result"
    },
    {
     "name": "stdout",
     "output_type": "stream",
     "text": [
      "No. of unique values: 4\n",
      "No.of Null Values: 0\n"
     ]
    },
    {
     "data": {
      "text/plain": [
       "'VAR_1849'"
      ]
     },
     "execution_count": 13,
     "metadata": {},
     "output_type": "execute_result"
    },
    {
     "name": "stdout",
     "output_type": "stream",
     "text": [
      "No. of unique values: 4\n",
      "No.of Null Values: 0\n"
     ]
    },
    {
     "data": {
      "text/plain": [
       "'VAR_1850'"
      ]
     },
     "execution_count": 13,
     "metadata": {},
     "output_type": "execute_result"
    },
    {
     "name": "stdout",
     "output_type": "stream",
     "text": [
      "No. of unique values: 15\n",
      "No.of Null Values: 0\n"
     ]
    },
    {
     "data": {
      "text/plain": [
       "'VAR_1851'"
      ]
     },
     "execution_count": 13,
     "metadata": {},
     "output_type": "execute_result"
    },
    {
     "name": "stdout",
     "output_type": "stream",
     "text": [
      "No. of unique values: 39\n",
      "No.of Null Values: 0\n"
     ]
    },
    {
     "data": {
      "text/plain": [
       "'VAR_1852'"
      ]
     },
     "execution_count": 13,
     "metadata": {},
     "output_type": "execute_result"
    },
    {
     "name": "stdout",
     "output_type": "stream",
     "text": [
      "No. of unique values: 55\n",
      "No.of Null Values: 0\n"
     ]
    },
    {
     "data": {
      "text/plain": [
       "'VAR_1853'"
      ]
     },
     "execution_count": 13,
     "metadata": {},
     "output_type": "execute_result"
    },
    {
     "name": "stdout",
     "output_type": "stream",
     "text": [
      "No. of unique values: 42\n",
      "No.of Null Values: 0\n"
     ]
    },
    {
     "data": {
      "text/plain": [
       "'VAR_1854'"
      ]
     },
     "execution_count": 13,
     "metadata": {},
     "output_type": "execute_result"
    },
    {
     "name": "stdout",
     "output_type": "stream",
     "text": [
      "No. of unique values: 24\n",
      "No.of Null Values: 0\n"
     ]
    },
    {
     "data": {
      "text/plain": [
       "'VAR_1855'"
      ]
     },
     "execution_count": 13,
     "metadata": {},
     "output_type": "execute_result"
    },
    {
     "name": "stdout",
     "output_type": "stream",
     "text": [
      "No. of unique values: 13\n",
      "No.of Null Values: 0\n"
     ]
    },
    {
     "data": {
      "text/plain": [
       "'VAR_1856'"
      ]
     },
     "execution_count": 13,
     "metadata": {},
     "output_type": "execute_result"
    },
    {
     "name": "stdout",
     "output_type": "stream",
     "text": [
      "No. of unique values: 37\n",
      "No.of Null Values: 0\n"
     ]
    },
    {
     "data": {
      "text/plain": [
       "'VAR_1857'"
      ]
     },
     "execution_count": 13,
     "metadata": {},
     "output_type": "execute_result"
    },
    {
     "name": "stdout",
     "output_type": "stream",
     "text": [
      "No. of unique values: 17\n",
      "No.of Null Values: 0\n"
     ]
    },
    {
     "data": {
      "text/plain": [
       "'VAR_1858'"
      ]
     },
     "execution_count": 13,
     "metadata": {},
     "output_type": "execute_result"
    },
    {
     "name": "stdout",
     "output_type": "stream",
     "text": [
      "No. of unique values: 48\n",
      "No.of Null Values: 0\n"
     ]
    },
    {
     "data": {
      "text/plain": [
       "'VAR_1859'"
      ]
     },
     "execution_count": 13,
     "metadata": {},
     "output_type": "execute_result"
    },
    {
     "name": "stdout",
     "output_type": "stream",
     "text": [
      "No. of unique values: 4096\n",
      "No.of Null Values: 0\n"
     ]
    },
    {
     "data": {
      "text/plain": [
       "'VAR_1860'"
      ]
     },
     "execution_count": 13,
     "metadata": {},
     "output_type": "execute_result"
    },
    {
     "name": "stdout",
     "output_type": "stream",
     "text": [
      "No. of unique values: 2696\n",
      "No.of Null Values: 0\n"
     ]
    },
    {
     "data": {
      "text/plain": [
       "'VAR_1861'"
      ]
     },
     "execution_count": 13,
     "metadata": {},
     "output_type": "execute_result"
    },
    {
     "name": "stdout",
     "output_type": "stream",
     "text": [
      "No. of unique values: 559\n",
      "No.of Null Values: 0\n"
     ]
    },
    {
     "data": {
      "text/plain": [
       "'VAR_1862'"
      ]
     },
     "execution_count": 13,
     "metadata": {},
     "output_type": "execute_result"
    },
    {
     "name": "stdout",
     "output_type": "stream",
     "text": [
      "No. of unique values: 8\n",
      "No.of Null Values: 0\n"
     ]
    },
    {
     "data": {
      "text/plain": [
       "'VAR_1863'"
      ]
     },
     "execution_count": 13,
     "metadata": {},
     "output_type": "execute_result"
    },
    {
     "name": "stdout",
     "output_type": "stream",
     "text": [
      "No. of unique values: 10\n",
      "No.of Null Values: 0\n"
     ]
    },
    {
     "data": {
      "text/plain": [
       "'VAR_1864'"
      ]
     },
     "execution_count": 13,
     "metadata": {},
     "output_type": "execute_result"
    },
    {
     "name": "stdout",
     "output_type": "stream",
     "text": [
      "No. of unique values: 86\n",
      "No.of Null Values: 0\n"
     ]
    },
    {
     "data": {
      "text/plain": [
       "'VAR_1865'"
      ]
     },
     "execution_count": 13,
     "metadata": {},
     "output_type": "execute_result"
    },
    {
     "name": "stdout",
     "output_type": "stream",
     "text": [
      "No. of unique values: 339\n",
      "No.of Null Values: 0\n"
     ]
    },
    {
     "data": {
      "text/plain": [
       "'VAR_1866'"
      ]
     },
     "execution_count": 13,
     "metadata": {},
     "output_type": "execute_result"
    },
    {
     "name": "stdout",
     "output_type": "stream",
     "text": [
      "No. of unique values: 22\n",
      "No.of Null Values: 0\n"
     ]
    },
    {
     "data": {
      "text/plain": [
       "'VAR_1867'"
      ]
     },
     "execution_count": 13,
     "metadata": {},
     "output_type": "execute_result"
    },
    {
     "name": "stdout",
     "output_type": "stream",
     "text": [
      "No. of unique values: 5\n",
      "No.of Null Values: 0\n"
     ]
    },
    {
     "data": {
      "text/plain": [
       "'VAR_1868'"
      ]
     },
     "execution_count": 13,
     "metadata": {},
     "output_type": "execute_result"
    },
    {
     "name": "stdout",
     "output_type": "stream",
     "text": [
      "No. of unique values: 25\n",
      "No.of Null Values: 0\n"
     ]
    },
    {
     "data": {
      "text/plain": [
       "'VAR_1869'"
      ]
     },
     "execution_count": 13,
     "metadata": {},
     "output_type": "execute_result"
    },
    {
     "name": "stdout",
     "output_type": "stream",
     "text": [
      "No. of unique values: 575\n",
      "No.of Null Values: 0\n"
     ]
    },
    {
     "data": {
      "text/plain": [
       "'VAR_1870'"
      ]
     },
     "execution_count": 13,
     "metadata": {},
     "output_type": "execute_result"
    },
    {
     "name": "stdout",
     "output_type": "stream",
     "text": [
      "No. of unique values: 578\n",
      "No.of Null Values: 0\n"
     ]
    },
    {
     "data": {
      "text/plain": [
       "'VAR_1871'"
      ]
     },
     "execution_count": 13,
     "metadata": {},
     "output_type": "execute_result"
    },
    {
     "name": "stdout",
     "output_type": "stream",
     "text": [
      "No. of unique values: 260\n",
      "No.of Null Values: 0\n"
     ]
    },
    {
     "data": {
      "text/plain": [
       "'VAR_1872'"
      ]
     },
     "execution_count": 13,
     "metadata": {},
     "output_type": "execute_result"
    },
    {
     "name": "stdout",
     "output_type": "stream",
     "text": [
      "No. of unique values: 41\n",
      "No.of Null Values: 0\n"
     ]
    },
    {
     "data": {
      "text/plain": [
       "'VAR_1873'"
      ]
     },
     "execution_count": 13,
     "metadata": {},
     "output_type": "execute_result"
    },
    {
     "name": "stdout",
     "output_type": "stream",
     "text": [
      "No. of unique values: 24\n",
      "No.of Null Values: 0\n"
     ]
    },
    {
     "data": {
      "text/plain": [
       "'VAR_1874'"
      ]
     },
     "execution_count": 13,
     "metadata": {},
     "output_type": "execute_result"
    },
    {
     "name": "stdout",
     "output_type": "stream",
     "text": [
      "No. of unique values: 13\n",
      "No.of Null Values: 0\n"
     ]
    },
    {
     "data": {
      "text/plain": [
       "'VAR_1875'"
      ]
     },
     "execution_count": 13,
     "metadata": {},
     "output_type": "execute_result"
    },
    {
     "name": "stdout",
     "output_type": "stream",
     "text": [
      "No. of unique values: 16\n",
      "No.of Null Values: 0\n"
     ]
    },
    {
     "data": {
      "text/plain": [
       "'VAR_1876'"
      ]
     },
     "execution_count": 13,
     "metadata": {},
     "output_type": "execute_result"
    },
    {
     "name": "stdout",
     "output_type": "stream",
     "text": [
      "No. of unique values: 18\n",
      "No.of Null Values: 0\n"
     ]
    },
    {
     "data": {
      "text/plain": [
       "'VAR_1877'"
      ]
     },
     "execution_count": 13,
     "metadata": {},
     "output_type": "execute_result"
    },
    {
     "name": "stdout",
     "output_type": "stream",
     "text": [
      "No. of unique values: 38\n",
      "No.of Null Values: 0\n"
     ]
    },
    {
     "data": {
      "text/plain": [
       "'VAR_1878'"
      ]
     },
     "execution_count": 13,
     "metadata": {},
     "output_type": "execute_result"
    },
    {
     "name": "stdout",
     "output_type": "stream",
     "text": [
      "No. of unique values: 29\n",
      "No.of Null Values: 0\n"
     ]
    },
    {
     "data": {
      "text/plain": [
       "'VAR_1879'"
      ]
     },
     "execution_count": 13,
     "metadata": {},
     "output_type": "execute_result"
    },
    {
     "name": "stdout",
     "output_type": "stream",
     "text": [
      "No. of unique values: 20\n",
      "No.of Null Values: 0\n"
     ]
    },
    {
     "data": {
      "text/plain": [
       "'VAR_1880'"
      ]
     },
     "execution_count": 13,
     "metadata": {},
     "output_type": "execute_result"
    },
    {
     "name": "stdout",
     "output_type": "stream",
     "text": [
      "No. of unique values: 18\n",
      "No.of Null Values: 0\n"
     ]
    },
    {
     "data": {
      "text/plain": [
       "'VAR_1881'"
      ]
     },
     "execution_count": 13,
     "metadata": {},
     "output_type": "execute_result"
    },
    {
     "name": "stdout",
     "output_type": "stream",
     "text": [
      "No. of unique values: 17\n",
      "No.of Null Values: 0\n"
     ]
    },
    {
     "data": {
      "text/plain": [
       "'VAR_1882'"
      ]
     },
     "execution_count": 13,
     "metadata": {},
     "output_type": "execute_result"
    },
    {
     "name": "stdout",
     "output_type": "stream",
     "text": [
      "No. of unique values: 19\n",
      "No.of Null Values: 0\n"
     ]
    },
    {
     "data": {
      "text/plain": [
       "'VAR_1883'"
      ]
     },
     "execution_count": 13,
     "metadata": {},
     "output_type": "execute_result"
    },
    {
     "name": "stdout",
     "output_type": "stream",
     "text": [
      "No. of unique values: 17\n",
      "No.of Null Values: 0\n"
     ]
    },
    {
     "data": {
      "text/plain": [
       "'VAR_1884'"
      ]
     },
     "execution_count": 13,
     "metadata": {},
     "output_type": "execute_result"
    },
    {
     "name": "stdout",
     "output_type": "stream",
     "text": [
      "No. of unique values: 19\n",
      "No.of Null Values: 0\n"
     ]
    },
    {
     "data": {
      "text/plain": [
       "'VAR_1885'"
      ]
     },
     "execution_count": 13,
     "metadata": {},
     "output_type": "execute_result"
    },
    {
     "name": "stdout",
     "output_type": "stream",
     "text": [
      "No. of unique values: 6\n",
      "No.of Null Values: 0\n"
     ]
    },
    {
     "data": {
      "text/plain": [
       "'VAR_1886'"
      ]
     },
     "execution_count": 13,
     "metadata": {},
     "output_type": "execute_result"
    },
    {
     "name": "stdout",
     "output_type": "stream",
     "text": [
      "No. of unique values: 16\n",
      "No.of Null Values: 0\n"
     ]
    },
    {
     "data": {
      "text/plain": [
       "'VAR_1887'"
      ]
     },
     "execution_count": 13,
     "metadata": {},
     "output_type": "execute_result"
    },
    {
     "name": "stdout",
     "output_type": "stream",
     "text": [
      "No. of unique values: 24\n",
      "No.of Null Values: 0\n"
     ]
    },
    {
     "data": {
      "text/plain": [
       "'VAR_1888'"
      ]
     },
     "execution_count": 13,
     "metadata": {},
     "output_type": "execute_result"
    },
    {
     "name": "stdout",
     "output_type": "stream",
     "text": [
      "No. of unique values: 11\n",
      "No.of Null Values: 0\n"
     ]
    },
    {
     "data": {
      "text/plain": [
       "'VAR_1889'"
      ]
     },
     "execution_count": 13,
     "metadata": {},
     "output_type": "execute_result"
    },
    {
     "name": "stdout",
     "output_type": "stream",
     "text": [
      "No. of unique values: 3888\n",
      "No.of Null Values: 0\n"
     ]
    },
    {
     "data": {
      "text/plain": [
       "'VAR_1890'"
      ]
     },
     "execution_count": 13,
     "metadata": {},
     "output_type": "execute_result"
    },
    {
     "name": "stdout",
     "output_type": "stream",
     "text": [
      "No. of unique values: 2213\n",
      "No.of Null Values: 0\n"
     ]
    },
    {
     "data": {
      "text/plain": [
       "'VAR_1891'"
      ]
     },
     "execution_count": 13,
     "metadata": {},
     "output_type": "execute_result"
    },
    {
     "name": "stdout",
     "output_type": "stream",
     "text": [
      "No. of unique values: 793\n",
      "No.of Null Values: 0\n"
     ]
    },
    {
     "data": {
      "text/plain": [
       "'VAR_1892'"
      ]
     },
     "execution_count": 13,
     "metadata": {},
     "output_type": "execute_result"
    },
    {
     "name": "stdout",
     "output_type": "stream",
     "text": [
      "No. of unique values: 2079\n",
      "No.of Null Values: 0\n"
     ]
    },
    {
     "data": {
      "text/plain": [
       "'VAR_1893'"
      ]
     },
     "execution_count": 13,
     "metadata": {},
     "output_type": "execute_result"
    },
    {
     "name": "stdout",
     "output_type": "stream",
     "text": [
      "No. of unique values: 3955\n",
      "No.of Null Values: 0\n"
     ]
    },
    {
     "data": {
      "text/plain": [
       "'VAR_1894'"
      ]
     },
     "execution_count": 13,
     "metadata": {},
     "output_type": "execute_result"
    },
    {
     "name": "stdout",
     "output_type": "stream",
     "text": [
      "No. of unique values: 3911\n",
      "No.of Null Values: 0\n"
     ]
    },
    {
     "data": {
      "text/plain": [
       "'VAR_1895'"
      ]
     },
     "execution_count": 13,
     "metadata": {},
     "output_type": "execute_result"
    },
    {
     "name": "stdout",
     "output_type": "stream",
     "text": [
      "No. of unique values: 543\n",
      "No.of Null Values: 0\n"
     ]
    },
    {
     "data": {
      "text/plain": [
       "'VAR_1896'"
      ]
     },
     "execution_count": 13,
     "metadata": {},
     "output_type": "execute_result"
    },
    {
     "name": "stdout",
     "output_type": "stream",
     "text": [
      "No. of unique values: 8\n",
      "No.of Null Values: 0\n"
     ]
    },
    {
     "data": {
      "text/plain": [
       "'VAR_1897'"
      ]
     },
     "execution_count": 13,
     "metadata": {},
     "output_type": "execute_result"
    },
    {
     "name": "stdout",
     "output_type": "stream",
     "text": [
      "No. of unique values: 10\n",
      "No.of Null Values: 0\n"
     ]
    },
    {
     "data": {
      "text/plain": [
       "'VAR_1898'"
      ]
     },
     "execution_count": 13,
     "metadata": {},
     "output_type": "execute_result"
    },
    {
     "name": "stdout",
     "output_type": "stream",
     "text": [
      "No. of unique values: 198\n",
      "No.of Null Values: 0\n"
     ]
    },
    {
     "data": {
      "text/plain": [
       "'VAR_1899'"
      ]
     },
     "execution_count": 13,
     "metadata": {},
     "output_type": "execute_result"
    },
    {
     "name": "stdout",
     "output_type": "stream",
     "text": [
      "No. of unique values: 199\n",
      "No.of Null Values: 0\n"
     ]
    },
    {
     "data": {
      "text/plain": [
       "'VAR_1900'"
      ]
     },
     "execution_count": 13,
     "metadata": {},
     "output_type": "execute_result"
    },
    {
     "name": "stdout",
     "output_type": "stream",
     "text": [
      "No. of unique values: 324\n",
      "No.of Null Values: 0\n"
     ]
    },
    {
     "data": {
      "text/plain": [
       "'VAR_1901'"
      ]
     },
     "execution_count": 13,
     "metadata": {},
     "output_type": "execute_result"
    },
    {
     "name": "stdout",
     "output_type": "stream",
     "text": [
      "No. of unique values: 513\n",
      "No.of Null Values: 0\n"
     ]
    },
    {
     "data": {
      "text/plain": [
       "'VAR_1902'"
      ]
     },
     "execution_count": 13,
     "metadata": {},
     "output_type": "execute_result"
    },
    {
     "name": "stdout",
     "output_type": "stream",
     "text": [
      "No. of unique values: 344\n",
      "No.of Null Values: 0\n"
     ]
    },
    {
     "data": {
      "text/plain": [
       "'VAR_1903'"
      ]
     },
     "execution_count": 13,
     "metadata": {},
     "output_type": "execute_result"
    },
    {
     "name": "stdout",
     "output_type": "stream",
     "text": [
      "No. of unique values: 32\n",
      "No.of Null Values: 0\n"
     ]
    },
    {
     "data": {
      "text/plain": [
       "'VAR_1904'"
      ]
     },
     "execution_count": 13,
     "metadata": {},
     "output_type": "execute_result"
    },
    {
     "name": "stdout",
     "output_type": "stream",
     "text": [
      "No. of unique values: 23\n",
      "No.of Null Values: 0\n"
     ]
    },
    {
     "data": {
      "text/plain": [
       "'VAR_1905'"
      ]
     },
     "execution_count": 13,
     "metadata": {},
     "output_type": "execute_result"
    },
    {
     "name": "stdout",
     "output_type": "stream",
     "text": [
      "No. of unique values: 7\n",
      "No.of Null Values: 0\n"
     ]
    },
    {
     "data": {
      "text/plain": [
       "'VAR_1906'"
      ]
     },
     "execution_count": 13,
     "metadata": {},
     "output_type": "execute_result"
    },
    {
     "name": "stdout",
     "output_type": "stream",
     "text": [
      "No. of unique values: 51\n",
      "No.of Null Values: 0\n"
     ]
    },
    {
     "data": {
      "text/plain": [
       "'VAR_1907'"
      ]
     },
     "execution_count": 13,
     "metadata": {},
     "output_type": "execute_result"
    },
    {
     "name": "stdout",
     "output_type": "stream",
     "text": [
      "No. of unique values: 33\n",
      "No.of Null Values: 0\n"
     ]
    },
    {
     "data": {
      "text/plain": [
       "'VAR_1908'"
      ]
     },
     "execution_count": 13,
     "metadata": {},
     "output_type": "execute_result"
    },
    {
     "name": "stdout",
     "output_type": "stream",
     "text": [
      "No. of unique values: 25\n",
      "No.of Null Values: 0\n"
     ]
    },
    {
     "data": {
      "text/plain": [
       "'VAR_1909'"
      ]
     },
     "execution_count": 13,
     "metadata": {},
     "output_type": "execute_result"
    },
    {
     "name": "stdout",
     "output_type": "stream",
     "text": [
      "No. of unique values: 32\n",
      "No.of Null Values: 0\n"
     ]
    },
    {
     "data": {
      "text/plain": [
       "'VAR_1910'"
      ]
     },
     "execution_count": 13,
     "metadata": {},
     "output_type": "execute_result"
    },
    {
     "name": "stdout",
     "output_type": "stream",
     "text": [
      "No. of unique values: 25\n",
      "No.of Null Values: 0\n"
     ]
    },
    {
     "data": {
      "text/plain": [
       "'VAR_1911'"
      ]
     },
     "execution_count": 13,
     "metadata": {},
     "output_type": "execute_result"
    },
    {
     "name": "stdout",
     "output_type": "stream",
     "text": [
      "No. of unique values: 60\n",
      "No.of Null Values: 0\n"
     ]
    },
    {
     "data": {
      "text/plain": [
       "'VAR_1912'"
      ]
     },
     "execution_count": 13,
     "metadata": {},
     "output_type": "execute_result"
    },
    {
     "name": "stdout",
     "output_type": "stream",
     "text": [
      "No. of unique values: 2102\n",
      "No.of Null Values: 0\n"
     ]
    },
    {
     "data": {
      "text/plain": [
       "'VAR_1913'"
      ]
     },
     "execution_count": 13,
     "metadata": {},
     "output_type": "execute_result"
    },
    {
     "name": "stdout",
     "output_type": "stream",
     "text": [
      "No. of unique values: 3320\n",
      "No.of Null Values: 0\n"
     ]
    },
    {
     "data": {
      "text/plain": [
       "'VAR_1914'"
      ]
     },
     "execution_count": 13,
     "metadata": {},
     "output_type": "execute_result"
    },
    {
     "name": "stdout",
     "output_type": "stream",
     "text": [
      "No. of unique values: 1868\n",
      "No.of Null Values: 0\n"
     ]
    },
    {
     "data": {
      "text/plain": [
       "'VAR_1915'"
      ]
     },
     "execution_count": 13,
     "metadata": {},
     "output_type": "execute_result"
    },
    {
     "name": "stdout",
     "output_type": "stream",
     "text": [
      "No. of unique values: 538\n",
      "No.of Null Values: 0\n"
     ]
    },
    {
     "data": {
      "text/plain": [
       "'VAR_1916'"
      ]
     },
     "execution_count": 13,
     "metadata": {},
     "output_type": "execute_result"
    },
    {
     "name": "stdout",
     "output_type": "stream",
     "text": [
      "No. of unique values: 8\n",
      "No.of Null Values: 0\n"
     ]
    },
    {
     "data": {
      "text/plain": [
       "'VAR_1917'"
      ]
     },
     "execution_count": 13,
     "metadata": {},
     "output_type": "execute_result"
    },
    {
     "name": "stdout",
     "output_type": "stream",
     "text": [
      "No. of unique values: 10\n",
      "No.of Null Values: 0\n"
     ]
    },
    {
     "data": {
      "text/plain": [
       "'VAR_1918'"
      ]
     },
     "execution_count": 13,
     "metadata": {},
     "output_type": "execute_result"
    },
    {
     "name": "stdout",
     "output_type": "stream",
     "text": [
      "No. of unique values: 85\n",
      "No.of Null Values: 0\n"
     ]
    },
    {
     "data": {
      "text/plain": [
       "'VAR_1919'"
      ]
     },
     "execution_count": 13,
     "metadata": {},
     "output_type": "execute_result"
    },
    {
     "name": "stdout",
     "output_type": "stream",
     "text": [
      "No. of unique values: 287\n",
      "No.of Null Values: 0\n"
     ]
    },
    {
     "data": {
      "text/plain": [
       "'VAR_1920'"
      ]
     },
     "execution_count": 13,
     "metadata": {},
     "output_type": "execute_result"
    },
    {
     "name": "stdout",
     "output_type": "stream",
     "text": [
      "No. of unique values: 17\n",
      "No.of Null Values: 0\n"
     ]
    },
    {
     "data": {
      "text/plain": [
       "'VAR_1921'"
      ]
     },
     "execution_count": 13,
     "metadata": {},
     "output_type": "execute_result"
    },
    {
     "name": "stdout",
     "output_type": "stream",
     "text": [
      "No. of unique values: 16\n",
      "No.of Null Values: 0\n"
     ]
    },
    {
     "data": {
      "text/plain": [
       "'VAR_1922'"
      ]
     },
     "execution_count": 13,
     "metadata": {},
     "output_type": "execute_result"
    },
    {
     "name": "stdout",
     "output_type": "stream",
     "text": [
      "No. of unique values: 1285\n",
      "No.of Null Values: 0\n"
     ]
    },
    {
     "data": {
      "text/plain": [
       "'VAR_1923'"
      ]
     },
     "execution_count": 13,
     "metadata": {},
     "output_type": "execute_result"
    },
    {
     "name": "stdout",
     "output_type": "stream",
     "text": [
      "No. of unique values: 505\n",
      "No.of Null Values: 0\n"
     ]
    },
    {
     "data": {
      "text/plain": [
       "'VAR_1924'"
      ]
     },
     "execution_count": 13,
     "metadata": {},
     "output_type": "execute_result"
    },
    {
     "name": "stdout",
     "output_type": "stream",
     "text": [
      "No. of unique values: 414\n",
      "No.of Null Values: 0\n"
     ]
    },
    {
     "data": {
      "text/plain": [
       "'VAR_1925'"
      ]
     },
     "execution_count": 13,
     "metadata": {},
     "output_type": "execute_result"
    },
    {
     "name": "stdout",
     "output_type": "stream",
     "text": [
      "No. of unique values: 8\n",
      "No.of Null Values: 0\n"
     ]
    },
    {
     "data": {
      "text/plain": [
       "'VAR_1926'"
      ]
     },
     "execution_count": 13,
     "metadata": {},
     "output_type": "execute_result"
    },
    {
     "name": "stdout",
     "output_type": "stream",
     "text": [
      "No. of unique values: 4\n",
      "No.of Null Values: 0\n"
     ]
    },
    {
     "data": {
      "text/plain": [
       "'VAR_1927'"
      ]
     },
     "execution_count": 13,
     "metadata": {},
     "output_type": "execute_result"
    },
    {
     "name": "stdout",
     "output_type": "stream",
     "text": [
      "No. of unique values: 8\n",
      "No.of Null Values: 0\n"
     ]
    },
    {
     "data": {
      "text/plain": [
       "'VAR_1928'"
      ]
     },
     "execution_count": 13,
     "metadata": {},
     "output_type": "execute_result"
    },
    {
     "name": "stdout",
     "output_type": "stream",
     "text": [
      "No. of unique values: 22\n",
      "No.of Null Values: 0\n"
     ]
    },
    {
     "data": {
      "text/plain": [
       "'VAR_1929'"
      ]
     },
     "execution_count": 13,
     "metadata": {},
     "output_type": "execute_result"
    },
    {
     "name": "stdout",
     "output_type": "stream",
     "text": [
      "No. of unique values: 115\n",
      "No.of Null Values: 0\n"
     ]
    },
    {
     "data": {
      "text/plain": [
       "'VAR_1930'"
      ]
     },
     "execution_count": 13,
     "metadata": {},
     "output_type": "execute_result"
    },
    {
     "name": "stdout",
     "output_type": "stream",
     "text": [
      "No. of unique values: 8\n",
      "No.of Null Values: 0\n"
     ]
    },
    {
     "data": {
      "text/plain": [
       "'VAR_1931'"
      ]
     },
     "execution_count": 13,
     "metadata": {},
     "output_type": "execute_result"
    },
    {
     "name": "stdout",
     "output_type": "stream",
     "text": [
      "No. of unique values: 10\n",
      "No.of Null Values: 0\n"
     ]
    },
    {
     "data": {
      "text/plain": [
       "'VAR_1932'"
      ]
     },
     "execution_count": 13,
     "metadata": {},
     "output_type": "execute_result"
    },
    {
     "name": "stdout",
     "output_type": "stream",
     "text": [
      "No. of unique values: 41\n",
      "No.of Null Values: 0\n"
     ]
    },
    {
     "data": {
      "text/plain": [
       "'VAR_1933'"
      ]
     },
     "execution_count": 13,
     "metadata": {},
     "output_type": "execute_result"
    },
    {
     "name": "stdout",
     "output_type": "stream",
     "text": [
      "No. of unique values: 209\n",
      "No.of Null Values: 0\n"
     ]
    },
    {
     "data": {
      "text/plain": [
       "'VAR_1934'"
      ]
     },
     "execution_count": 13,
     "metadata": {},
     "output_type": "execute_result"
    },
    {
     "name": "stdout",
     "output_type": "stream",
     "text": [
      "No. of unique values: 5\n",
      "No.of Null Values: 0\n"
     ]
    }
   ],
   "source": [
    "for column in df_traincp:\n",
    "    column\n",
    "    print(\"No. of unique values:\", df_traincp[column].nunique())\n",
    "    print(\"No.of Null Values:\", df_traincp[column].isnull().sum())\n",
    "    \n",
    "    if df_traincp[column].nunique()==1:\n",
    "        df_traincp.drop(column, axis='columns', inplace=True)\n",
    "    elif df_traincp[column].isnull().sum()/len(df_traincp[column])>=0.6:\n",
    "        df_traincp.drop(column, axis='columns', inplace=True)"
   ]
  },
  {
   "cell_type": "code",
   "execution_count": null,
   "metadata": {},
   "outputs": [],
   "source": [
    "df_traincp.shape\n",
    "df_traincp.head()\n",
    "df_traincp"
   ]
  },
  {
   "cell_type": "code",
   "execution_count": null,
   "metadata": {},
   "outputs": [],
   "source": [
    "#df1_train.drop(column, axis='columns', inplace=True)\n",
    "df_train.shape\n",
    "Target=df_traincp.pop('target')\n",
    "df_traincp.shape"
   ]
  },
  {
   "cell_type": "code",
   "execution_count": null,
   "metadata": {},
   "outputs": [],
   "source": [
    "df_traincp.dtypes.value_counts()"
   ]
  },
  {
   "cell_type": "code",
   "execution_count": null,
   "metadata": {},
   "outputs": [],
   "source": [
    "cat_cols2 = df_traincp.select_dtypes(include=[np.object]).columns\n",
    "cat_cols2 = cat_cols2.tolist()\n",
    "len(cat_cols2)"
   ]
  },
  {
   "cell_type": "code",
   "execution_count": null,
   "metadata": {},
   "outputs": [],
   "source": [
    "cl1 = (df_traincp.nunique()<=30)\n",
    "cat_cols3 = cl1[cl1==True].index.tolist()\n",
    "len(cat_cols3)\n",
    "cat_cols3.extend(cat_cols2)\n",
    "len(cat_cols3)"
   ]
  },
  {
   "cell_type": "code",
   "execution_count": null,
   "metadata": {},
   "outputs": [],
   "source": [
    "cat_cols4=[]\n",
    "for i in cat_cols3:\n",
    "    if i not in cat_cols4:\n",
    "        cat_cols4.append(i)\n",
    "len(cat_cols4)\n",
    "cat_cols4"
   ]
  },
  {
   "cell_type": "code",
   "execution_count": null,
   "metadata": {},
   "outputs": [],
   "source": [
    "num_cols1 = df_traincp.select_dtypes(include=[np.number]).columns\n",
    "num_cols1 = num_cols1.tolist()\n",
    "len(num_cols1)"
   ]
  },
  {
   "cell_type": "code",
   "execution_count": null,
   "metadata": {},
   "outputs": [],
   "source": [
    "for element in cat_cols4:\n",
    "    if element in num_cols1:\n",
    "        num_cols1.remove(element)\n",
    "\n",
    "len(num_cols1)\n",
    "num_cols1"
   ]
  },
  {
   "cell_type": "code",
   "execution_count": null,
   "metadata": {},
   "outputs": [],
   "source": [
    "print(\"No. of Categorical columns: \", len(cat_cols4))\n",
    "print(\"No. of Numerical Columns: \", len(num_cols1))"
   ]
  },
  {
   "cell_type": "code",
   "execution_count": null,
   "metadata": {},
   "outputs": [],
   "source": [
    "X_train,X_test, y_train, y_test = train_test_split(\n",
    "                                                    df_traincp,                   # Data features\n",
    "                                                    Target,                   # Target column\n",
    "                                                    test_size = 0.2      # split-ratio\n",
    "                                                    )"
   ]
  },
  {
   "cell_type": "code",
   "execution_count": null,
   "metadata": {},
   "outputs": [],
   "source": [
    "X_train.shape"
   ]
  },
  {
   "cell_type": "code",
   "execution_count": null,
   "metadata": {},
   "outputs": [],
   "source": [
    "num_cols_mean = num_cols1\n",
    "cat_cols_mf = cat_cols4\n",
    "num_cols_mean\n",
    "cat_cols_mf"
   ]
  },
  {
   "cell_type": "code",
   "execution_count": null,
   "metadata": {},
   "outputs": [],
   "source": [
    "X_train[num_cols_mean] # Num dataset, impute by 'mean' strategy\n",
    "print()\n",
    "X_train[num_cols_mean].dtypes.value_counts()\n",
    "print('No. of null values in numerical coulmns: ', X_train[num_cols_mean].isnull().sum().sum())\n",
    "len(X_train[num_cols_mean])\n",
    "X_train[num_cols_mean].shape\n",
    "\n",
    "\n",
    "X_train[cat_cols_mf] # Cat dataset, impute by 'most_frequent' strategy\n",
    "print()\n",
    "X_train[cat_cols_mf].dtypes.value_counts()\n",
    "print('No. of null values in categorical coulmns: ', X_train[cat_cols_mf].isnull().sum().sum())\n",
    "len(X_train[cat_cols_mf])\n",
    "X_train[cat_cols_mf].shape\n",
    "\n"
   ]
  },
  {
   "cell_type": "code",
   "execution_count": null,
   "metadata": {},
   "outputs": [],
   "source": [
    "X_train.dtypes.value_counts()"
   ]
  },
  {
   "cell_type": "code",
   "execution_count": null,
   "metadata": {},
   "outputs": [],
   "source": [
    "X_train_c = X_train.copy()\n",
    "X_test_c  = X_test.copy()"
   ]
  },
  {
   "cell_type": "code",
   "execution_count": null,
   "metadata": {},
   "outputs": [],
   "source": [
    "for col in X_train[num_cols_mean]:\n",
    "    X_train[col].fillna(X_train[col].mean(), inplace=True)\n",
    "\n",
    "for col in X_train[cat_cols_mf]:\n",
    "    X_train[col].fillna(X_train[col].mode(), inplace=True)\n",
    "\n",
    "X_train.shape"
   ]
  },
  {
   "cell_type": "code",
   "execution_count": null,
   "metadata": {},
   "outputs": [],
   "source": [
    "X_train.dropna(axis=0, inplace=True)\n",
    "X_train.shape"
   ]
  },
  {
   "cell_type": "code",
   "execution_count": null,
   "metadata": {},
   "outputs": [],
   "source": [
    "for col in X_test:\n",
    "    if X_test[col].dtypes=='uint16':\n",
    "        X_test[col].fillna(X_test[col].mean(), inplace=True)\n",
    "\n",
    "for col in X_test:        \n",
    "    if X_test[col].dtypes=='float16':\n",
    "        X_test[col].fillna(X_test[col].mean(), inplace=True)\n",
    "\n",
    "for col in X_train[cat_cols_mf]:\n",
    "    if X_test[col].dtypes=='object':\n",
    "        X_train[col].fillna(X_train[col].mode(), inplace=True)\n",
    "\n",
    "X_test.shape\n",
    "\n",
    "X_test.dropna(axis=0, inplace=True)\n",
    "X_test.shape"
   ]
  },
  {
   "cell_type": "code",
   "execution_count": null,
   "metadata": {},
   "outputs": [],
   "source": [
    "X_train[cat_cols_mf]"
   ]
  },
  {
   "cell_type": "code",
   "execution_count": null,
   "metadata": {},
   "outputs": [],
   "source": [
    "X_train[cat_cols_mf].describe()"
   ]
  },
  {
   "cell_type": "code",
   "execution_count": null,
   "metadata": {},
   "outputs": [],
   "source": [
    "X_train[['VAR_0404', 'VAR_0466', 'VAR_0467', 'VAR_0493']].nunique(dropna=False)"
   ]
  },
  {
   "cell_type": "code",
   "execution_count": null,
   "metadata": {},
   "outputs": [],
   "source": [
    "X_train['VAR_0466'].value_counts() / X_train.shape[0]\n",
    "X_train['VAR_0467'].value_counts() / X_train.shape[0]"
   ]
  },
  {
   "cell_type": "code",
   "execution_count": null,
   "metadata": {},
   "outputs": [],
   "source": [
    "dates = ['VAR_0075', 'VAR_0204', 'VAR_0217']\n",
    "locations = ['VAR_200', 'VAR_0237', 'VAR_274']\n",
    "\n",
    "date1 = pd.to_datetime(X_train[\"VAR_0075\"],format = '%d%b%y:%H:%M:%S')\n",
    "date2 = pd.to_datetime(X_train[\"VAR_0217\"],format = '%d%b%y:%H:%M:%S')\n",
    "np.all(date2 > date1)"
   ]
  },
  {
   "cell_type": "code",
   "execution_count": null,
   "metadata": {},
   "outputs": [],
   "source": [
    "from datetime import datetime\n",
    "year_func = lambda x: datetime.strptime(x, \"%d%b%y:%H:%M:%S\" ).year\n",
    "month_func = lambda x: datetime.strptime(x, \"%d%b%y:%H:%M:%S\" ).month\n",
    "day_func = lambda x: datetime.strptime(x, \"%d%b%y:%H:%M:%S\" ).day\n",
    "hour_func = lambda x: datetime.strptime(x, \"%d%b%y:%H:%M:%S\" ).hour\n",
    "minute_func = lambda x: datetime.strptime(x, \"%d%b%y:%H:%M:%S\" ).minute\n",
    "\n",
    "enc_data =  pd.DataFrame(index=X_train.index)\n",
    "for col in X_train[cat_cols_mf]:\n",
    "    enc_data[col] = X_train[col].factorize()[0]\n",
    "    if col in dates:\n",
    "        enc_data[col + '_year'] = X_train[col].map(year_func)\n",
    "        enc_data[col + '_month'] = X_train[col].map(month_func)\n",
    "        enc_data[col + '_day'] = X_train[col].map(day_func)\n",
    "        enc_data[col + '_hour'] = X_train[col].map(hour_func)\n",
    "        enc_data[col + '_minute'] = X_train[col].map(minute_func)\n",
    "expanded_categoricals = list(enc_data.columns) # saving which variables are categorical for possible one hot encoding \n",
    "enc_data[\"target\"] = Target\n",
    "# finding correlation and looking at it\n",
    "corrmat = enc_data.corr()\n",
    "corrmat[\"target\"].sort_values(ascending=False)"
   ]
  },
  {
   "cell_type": "code",
   "execution_count": null,
   "metadata": {},
   "outputs": [],
   "source": [
    "list(expanded_categoricals)"
   ]
  },
  {
   "cell_type": "code",
   "execution_count": null,
   "metadata": {},
   "outputs": [],
   "source": [
    "enc_data.drop(['VAR_0075_hour', 'VAR_0075_minute', 'VAR_0204_year', 'VAR_0217_hour', 'VAR_0217_minute'], axis=1, inplace=True)\n",
    "corrmat = enc_data.corr()\n",
    "f, ax = plt.subplots(figsize=(12, 9))\n",
    "sns.heatmap(corrmat, vmax=1, square=True)"
   ]
  },
  {
   "cell_type": "code",
   "execution_count": null,
   "metadata": {},
   "outputs": [],
   "source": [
    "print(round(sampledf.target.value_counts() *100/ sampledf.target.count(),2))"
   ]
  },
  {
   "cell_type": "code",
   "execution_count": null,
   "metadata": {},
   "outputs": [],
   "source": [
    "from sklearn.manifold import TSNE\n",
    "from sklearn.decomposition import PCA"
   ]
  },
  {
   "cell_type": "code",
   "execution_count": null,
   "metadata": {},
   "outputs": [],
   "source": [
    "num_samples = 500 # number of samples to use from each class of target for dimensionality reduction, reduce this if you are impatient!\n",
    "numerical_feats = X_train[num_cols_mean]\n",
    "new_data = pd.concat([numerical_feats, enc_data], axis=1)\n",
    "positive_samples = new_data[new_data['target']    == 1].sample(num_samples)\n",
    "negative_samples = new_data[new_data['target'] == 0].sample(num_samples)\n",
    "to_transform = pd.concat([positive_samples, negative_samples]).sample(frac=1).reset_index(drop=True)\n",
    "to_transform.head(20)"
   ]
  },
  {
   "cell_type": "code",
   "execution_count": null,
   "metadata": {},
   "outputs": [],
   "source": [
    "features = to_transform.drop(['target'], axis=1, inplace=False)\n",
    "labels = to_transform['target']"
   ]
  },
  {
   "cell_type": "code",
   "execution_count": null,
   "metadata": {},
   "outputs": [],
   "source": [
    "pca_embedding =  PCA(n_components=2) \n",
    "pca_emb_data = pca_embedding.fit_transform(features.values)\n",
    "plt.figure(figsize=(15,15))\n",
    "plt.scatter(pca_emb_data[labels == 1, 0], pca_emb_data[labels == 1, 1], color='red', label='positive samples')\n",
    "plt.scatter(pca_emb_data[labels == 0, 0], pca_emb_data[labels == 0, 1], color='blue', label='negative samples')\n",
    "plt.legend()"
   ]
  },
  {
   "cell_type": "code",
   "execution_count": null,
   "metadata": {},
   "outputs": [],
   "source": [
    "tsne_embedding =  TSNE(n_components=2) \n",
    "tsne_emb_data = tsne_embedding.fit_transform(features.values)\n",
    "plt.figure(figsize=(15,15))\n",
    "plt.title('Reduced data with tSNE')\n",
    "plt.scatter(tsne_emb_data[labels == 1, 0], tsne_emb_data[labels == 1, 1], color='red', label='positive samples')\n",
    "plt.scatter(tsne_emb_data[labels == 0, 0], tsne_emb_data[labels == 0, 1], color='blue', label='negative samples')\n",
    "plt.legend()"
   ]
  },
  {
   "cell_type": "code",
   "execution_count": null,
   "metadata": {},
   "outputs": [],
   "source": [
    "import pandas as pd\n",
    "import numpy as np\n",
    "import matplotlib.pylab as plt\n",
    "from scipy import stats,sparse\n",
    "from sklearn.base import TransformerMixin\n",
    "from datetime import datetime as dt\n",
    "from math import isnan\n",
    "from numpy import ma\n",
    "import pickle as pickle\n",
    "import xgboost as xgb\n",
    "import time\n",
    "from pandas import *\n",
    "from sklearn.preprocessing import LabelEncoder\n",
    "from sklearn.ensemble import RandomForestClassifier \n",
    "\n",
    "import json\n",
    "from sklearn.metrics import roc_curve, auc\n",
    "from re import sub\n",
    "from collections import defaultdict\n",
    "import scipy as sp\n",
    "\n",
    "from sklearn.cross_validation import StratifiedKFold,cross_val_score\n",
    "from sklearn.grid_search import GridSearchCV\n",
    "from sklearn.metrics import classification_report,confusion_matrix\n",
    "from sklearn import linear_model\n",
    "from sklearn import metrics\n",
    "from sklearn.preprocessing import OneHotEncoder,StandardScaler\n",
    "\n",
    "from sklearn.datasets import load_iris\n",
    "from sklearn.feature_selection import SelectKBest\n",
    "from sklearn.feature_selection import chi2\n",
    "from scipy import sparse"
   ]
  }
 ],
 "metadata": {
  "kernelspec": {
   "display_name": "Python 3",
   "language": "python",
   "name": "python3"
  },
  "language_info": {
   "codemirror_mode": {
    "name": "ipython",
    "version": 3
   },
   "file_extension": ".py",
   "mimetype": "text/x-python",
   "name": "python",
   "nbconvert_exporter": "python",
   "pygments_lexer": "ipython3",
   "version": "3.8.8"
  }
 },
 "nbformat": 4,
 "nbformat_minor": 4
}
